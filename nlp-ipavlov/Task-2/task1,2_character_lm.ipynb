{
  "nbformat": 4,
  "nbformat_minor": 0,
  "metadata": {
    "kernelspec": {
      "display_name": "Python 3",
      "language": "python",
      "name": "python3"
    },
    "language_info": {
      "codemirror_mode": {
        "name": "ipython",
        "version": 3
      },
      "file_extension": ".py",
      "mimetype": "text/x-python",
      "name": "python",
      "nbconvert_exporter": "python",
      "pygments_lexer": "ipython3",
      "version": "3.6.9"
    },
    "colab": {
      "name": "task1,2_character_lm.ipynb",
      "provenance": []
    }
  },
  "cells": [
    {
      "cell_type": "code",
      "metadata": {
        "id": "IVBpzGzF6icO",
        "colab_type": "code",
        "outputId": "55aaf7ed-2f77-4585-b2a0-03597e7763be",
        "colab": {
          "base_uri": "https://localhost:8080/",
          "height": 35
        }
      },
      "source": [
        "try:\n",
        "    import google.colab\n",
        "    USE_COLAB = True\n",
        "except:\n",
        "    USE_COLAB = False\n",
        "print(\"Use colab - \", USE_COLAB)"
      ],
      "execution_count": 1,
      "outputs": [
        {
          "output_type": "stream",
          "text": [
            "Use colab -  True\n"
          ],
          "name": "stdout"
        }
      ]
    },
    {
      "cell_type": "code",
      "metadata": {
        "id": "WBbWPRe7Bt9q",
        "colab_type": "code",
        "outputId": "89a5adb0-7950-419b-c5e5-75f49e07e602",
        "colab": {
          "base_uri": "https://localhost:8080/",
          "height": 865
        }
      },
      "source": [
        "if USE_COLAB:\n",
        "    !pip install --user deeppavlov"
      ],
      "execution_count": 2,
      "outputs": [
        {
          "output_type": "stream",
          "text": [
            "Requirement already satisfied: deeppavlov in /root/.local/lib/python3.6/site-packages (0.8.0)\n",
            "Requirement already satisfied: scikit-learn==0.21.2 in /root/.local/lib/python3.6/site-packages (from deeppavlov) (0.21.2)\n",
            "Requirement already satisfied: pydantic==1.3 in /root/.local/lib/python3.6/site-packages (from deeppavlov) (1.3)\n",
            "Requirement already satisfied: scipy==1.4.1 in /usr/local/lib/python3.6/dist-packages (from deeppavlov) (1.4.1)\n",
            "Requirement already satisfied: Cython==0.29.14 in /root/.local/lib/python3.6/site-packages (from deeppavlov) (0.29.14)\n",
            "Requirement already satisfied: h5py==2.10.0 in /usr/local/lib/python3.6/dist-packages (from deeppavlov) (2.10.0)\n",
            "Requirement already satisfied: tqdm==4.41.1 in /root/.local/lib/python3.6/site-packages (from deeppavlov) (4.41.1)\n",
            "Requirement already satisfied: pymorphy2==0.8 in /root/.local/lib/python3.6/site-packages (from deeppavlov) (0.8)\n",
            "Requirement already satisfied: pymorphy2-dicts-ru in /root/.local/lib/python3.6/site-packages (from deeppavlov) (2.4.404381.4453942)\n",
            "Requirement already satisfied: nltk==3.4.5 in /root/.local/lib/python3.6/site-packages (from deeppavlov) (3.4.5)\n",
            "Requirement already satisfied: pyopenssl==19.1.0 in /root/.local/lib/python3.6/site-packages (from deeppavlov) (19.1.0)\n",
            "Requirement already satisfied: pytelegrambotapi==3.6.7 in /root/.local/lib/python3.6/site-packages (from deeppavlov) (3.6.7)\n",
            "Requirement already satisfied: overrides==2.7.0 in /root/.local/lib/python3.6/site-packages (from deeppavlov) (2.7.0)\n",
            "Requirement already satisfied: pandas==0.25.3 in /usr/local/lib/python3.6/dist-packages (from deeppavlov) (0.25.3)\n",
            "Requirement already satisfied: uvicorn==0.11.1 in /root/.local/lib/python3.6/site-packages (from deeppavlov) (0.11.1)\n",
            "Requirement already satisfied: numpy==1.18.0 in /root/.local/lib/python3.6/site-packages (from deeppavlov) (1.18.0)\n",
            "Requirement already satisfied: rusenttokenize==0.0.5 in /root/.local/lib/python3.6/site-packages (from deeppavlov) (0.0.5)\n",
            "Requirement already satisfied: requests==2.22.0 in /root/.local/lib/python3.6/site-packages (from deeppavlov) (2.22.0)\n",
            "Requirement already satisfied: fastapi==0.47.1 in /root/.local/lib/python3.6/site-packages (from deeppavlov) (0.47.1)\n",
            "Requirement already satisfied: aio-pika==6.4.1 in /root/.local/lib/python3.6/site-packages (from deeppavlov) (6.4.1)\n",
            "Requirement already satisfied: fuzzywuzzy==0.17.0 in /root/.local/lib/python3.6/site-packages (from deeppavlov) (0.17.0)\n",
            "Requirement already satisfied: joblib>=0.11 in /usr/local/lib/python3.6/dist-packages (from scikit-learn==0.21.2->deeppavlov) (0.14.1)\n",
            "Requirement already satisfied: dataclasses>=0.6; python_version < \"3.7\" in /usr/local/lib/python3.6/dist-packages (from pydantic==1.3->deeppavlov) (0.7)\n",
            "Requirement already satisfied: six in /usr/local/lib/python3.6/dist-packages (from h5py==2.10.0->deeppavlov) (1.12.0)\n",
            "Requirement already satisfied: pymorphy2-dicts<3.0,>=2.4 in /root/.local/lib/python3.6/site-packages (from pymorphy2==0.8->deeppavlov) (2.4.393442.3710985)\n",
            "Requirement already satisfied: dawg-python>=0.7 in /root/.local/lib/python3.6/site-packages (from pymorphy2==0.8->deeppavlov) (0.7.2)\n",
            "Requirement already satisfied: docopt>=0.6 in /usr/local/lib/python3.6/dist-packages (from pymorphy2==0.8->deeppavlov) (0.6.2)\n",
            "Requirement already satisfied: cryptography>=2.8 in /root/.local/lib/python3.6/site-packages (from pyopenssl==19.1.0->deeppavlov) (2.8)\n",
            "Requirement already satisfied: python-dateutil>=2.6.1 in /usr/local/lib/python3.6/dist-packages (from pandas==0.25.3->deeppavlov) (2.8.1)\n",
            "Requirement already satisfied: pytz>=2017.2 in /usr/local/lib/python3.6/dist-packages (from pandas==0.25.3->deeppavlov) (2018.9)\n",
            "Requirement already satisfied: h11<0.10,>=0.8 in /root/.local/lib/python3.6/site-packages (from uvicorn==0.11.1->deeppavlov) (0.9.0)\n",
            "Requirement already satisfied: httptools==0.0.13; sys_platform != \"win32\" and sys_platform != \"cygwin\" and platform_python_implementation != \"pypy\" in /root/.local/lib/python3.6/site-packages (from uvicorn==0.11.1->deeppavlov) (0.0.13)\n",
            "Requirement already satisfied: click==7.* in /usr/local/lib/python3.6/dist-packages (from uvicorn==0.11.1->deeppavlov) (7.1.1)\n",
            "Requirement already satisfied: websockets==8.* in /root/.local/lib/python3.6/site-packages (from uvicorn==0.11.1->deeppavlov) (8.1)\n",
            "Requirement already satisfied: uvloop>=0.14.0; sys_platform != \"win32\" and sys_platform != \"cygwin\" and platform_python_implementation != \"pypy\" in /root/.local/lib/python3.6/site-packages (from uvicorn==0.11.1->deeppavlov) (0.14.0)\n",
            "Requirement already satisfied: urllib3!=1.25.0,!=1.25.1,<1.26,>=1.21.1 in /usr/local/lib/python3.6/dist-packages (from requests==2.22.0->deeppavlov) (1.24.3)\n",
            "Requirement already satisfied: certifi>=2017.4.17 in /usr/local/lib/python3.6/dist-packages (from requests==2.22.0->deeppavlov) (2019.11.28)\n",
            "Requirement already satisfied: idna<2.9,>=2.5 in /usr/local/lib/python3.6/dist-packages (from requests==2.22.0->deeppavlov) (2.8)\n",
            "Requirement already satisfied: chardet<3.1.0,>=3.0.2 in /usr/local/lib/python3.6/dist-packages (from requests==2.22.0->deeppavlov) (3.0.4)\n",
            "Requirement already satisfied: starlette<=0.12.9,>=0.12.9 in /root/.local/lib/python3.6/site-packages (from fastapi==0.47.1->deeppavlov) (0.12.9)\n",
            "Requirement already satisfied: yarl in /root/.local/lib/python3.6/site-packages (from aio-pika==6.4.1->deeppavlov) (1.4.2)\n",
            "Requirement already satisfied: aiormq<4,>=3.2.0 in /root/.local/lib/python3.6/site-packages (from aio-pika==6.4.1->deeppavlov) (3.2.1)\n",
            "Requirement already satisfied: cffi!=1.11.3,>=1.8 in /usr/local/lib/python3.6/dist-packages (from cryptography>=2.8->pyopenssl==19.1.0->deeppavlov) (1.14.0)\n",
            "Requirement already satisfied: multidict>=4.0 in /root/.local/lib/python3.6/site-packages (from yarl->aio-pika==6.4.1->deeppavlov) (4.7.5)\n",
            "Requirement already satisfied: pamqp==2.3.0 in /root/.local/lib/python3.6/site-packages (from aiormq<4,>=3.2.0->aio-pika==6.4.1->deeppavlov) (2.3.0)\n",
            "Requirement already satisfied: pycparser in /usr/local/lib/python3.6/dist-packages (from cffi!=1.11.3,>=1.8->cryptography>=2.8->pyopenssl==19.1.0->deeppavlov) (2.20)\n"
          ],
          "name": "stdout"
        }
      ]
    },
    {
      "cell_type": "markdown",
      "metadata": {
        "id": "dXKbKjTB6gsY",
        "colab_type": "text"
      },
      "source": [
        "# Assignment 2. Language modeling.\n",
        "\n",
        "This task is devoted to language modeling. Its goal is to write in PyTorch an RNN-based language model. Since word-based language modeling requires long training and is memory-consuming due to large vocabulary, we start with character-based language modeling. We are going to train the model to generate words as sequence of characters. During training we teach it to predict characters of the words in the training set.\n",
        "\n",
        "\n",
        "\n",
        "## Task 1. Character-based language modeling: data preparation (15 points)."
      ]
    },
    {
      "cell_type": "markdown",
      "metadata": {
        "id": "JuDXcqhP6gsZ",
        "colab_type": "text"
      },
      "source": [
        "We train the language models on the materials of **Sigmorphon 2018 Shared Task**. First, download the Russian datasets."
      ]
    },
    {
      "cell_type": "code",
      "metadata": {
        "id": "GjvyqV-f6gsa",
        "colab_type": "code",
        "outputId": "077fe431-c2e0-4391-b386-b837714079a5",
        "colab": {
          "base_uri": "https://localhost:8080/",
          "height": 611
        }
      },
      "source": [
        "!wget https://raw.githubusercontent.com/sigmorphon/conll2018/master/task1/surprise/russian-train-high\n",
        "!wget https://raw.githubusercontent.com/sigmorphon/conll2018/master/task1/surprise/russian-dev\n",
        "!wget https://raw.githubusercontent.com/sigmorphon/conll2018/master/task1/surprise/russian-test"
      ],
      "execution_count": 3,
      "outputs": [
        {
          "output_type": "stream",
          "text": [
            "--2020-03-31 09:36:57--  https://raw.githubusercontent.com/sigmorphon/conll2018/master/task1/surprise/russian-train-high\n",
            "Resolving raw.githubusercontent.com (raw.githubusercontent.com)... 151.101.0.133, 151.101.64.133, 151.101.128.133, ...\n",
            "Connecting to raw.githubusercontent.com (raw.githubusercontent.com)|151.101.0.133|:443... connected.\n",
            "HTTP request sent, awaiting response... 200 OK\n",
            "Length: 533309 (521K) [text/plain]\n",
            "Saving to: ‘russian-train-high.1’\n",
            "\n",
            "\rrussian-train-high.   0%[                    ]       0  --.-KB/s               \rrussian-train-high. 100%[===================>] 520.81K  --.-KB/s    in 0.07s   \n",
            "\n",
            "2020-03-31 09:36:57 (7.47 MB/s) - ‘russian-train-high.1’ saved [533309/533309]\n",
            "\n",
            "--2020-03-31 09:36:58--  https://raw.githubusercontent.com/sigmorphon/conll2018/master/task1/surprise/russian-dev\n",
            "Resolving raw.githubusercontent.com (raw.githubusercontent.com)... 151.101.0.133, 151.101.64.133, 151.101.128.133, ...\n",
            "Connecting to raw.githubusercontent.com (raw.githubusercontent.com)|151.101.0.133|:443... connected.\n",
            "HTTP request sent, awaiting response... 200 OK\n",
            "Length: 53671 (52K) [text/plain]\n",
            "Saving to: ‘russian-dev.1’\n",
            "\n",
            "russian-dev.1       100%[===================>]  52.41K  --.-KB/s    in 0.02s   \n",
            "\n",
            "2020-03-31 09:36:58 (2.09 MB/s) - ‘russian-dev.1’ saved [53671/53671]\n",
            "\n",
            "--2020-03-31 09:37:00--  https://raw.githubusercontent.com/sigmorphon/conll2018/master/task1/surprise/russian-test\n",
            "Resolving raw.githubusercontent.com (raw.githubusercontent.com)... 151.101.0.133, 151.101.64.133, 151.101.128.133, ...\n",
            "Connecting to raw.githubusercontent.com (raw.githubusercontent.com)|151.101.0.133|:443... connected.\n",
            "HTTP request sent, awaiting response... 200 OK\n",
            "Length: 53514 (52K) [text/plain]\n",
            "Saving to: ‘russian-test.1’\n",
            "\n",
            "russian-test.1      100%[===================>]  52.26K  --.-KB/s    in 0.03s   \n",
            "\n",
            "2020-03-31 09:37:00 (2.00 MB/s) - ‘russian-test.1’ saved [53514/53514]\n",
            "\n"
          ],
          "name": "stdout"
        }
      ]
    },
    {
      "cell_type": "markdown",
      "metadata": {
        "id": "rL0asATP6gsd",
        "colab_type": "text"
      },
      "source": [
        "**1.1 (1 points)**\n",
        "All the files contain tab-separated triples ```<lemma>-<form>-<tags>```, where ```<form>``` may contain spaces (*будете соответствовать*). Write a function that loads a list of all word forms, that do not contain spaces.  "
      ]
    },
    {
      "cell_type": "code",
      "metadata": {
        "id": "94IFwAeN6gse",
        "colab_type": "code",
        "colab": {}
      },
      "source": [
        "def read_infile(infile):\n",
        "    forms = []\n",
        "    with open(infile, 'r') as f:\n",
        "        for line in f:\n",
        "            lemma, form, tags = line.split('\\t')\n",
        "            if ' ' in form.strip():\n",
        "                continue\n",
        "            forms.append(form.lower())\n",
        "    return forms"
      ],
      "execution_count": 0,
      "outputs": []
    },
    {
      "cell_type": "code",
      "metadata": {
        "id": "Pqhf39-w6gsg",
        "colab_type": "code",
        "outputId": "7301a444-a089-49b0-ce28-382517dc17c9",
        "colab": {
          "base_uri": "https://localhost:8080/",
          "height": 53
        }
      },
      "source": [
        "train_words = read_infile(\"russian-train-high\")\n",
        "dev_words = read_infile(\"russian-dev\")\n",
        "test_words = read_infile(\"russian-test\")\n",
        "print(len(train_words), len(dev_words), len(test_words))\n",
        "print(*train_words[:10])"
      ],
      "execution_count": 5,
      "outputs": [
        {
          "output_type": "stream",
          "text": [
            "9213 917 922\n",
            "валлонскому незаконченным истрёпывав личного серьгам необоснованным тюти заросла идеальна гулкой\n"
          ],
          "name": "stdout"
        }
      ]
    },
    {
      "cell_type": "markdown",
      "metadata": {
        "id": "Xy7FPqgZ6gsj",
        "colab_type": "text"
      },
      "source": [
        "**1.2 (2 points)** Write a **Vocabulary** class that allows to transform symbols into their indexes. The class should have the method ```__call__``` that applies this transformation to sequences of symbols and batches of sequences as well. You can also use [SimpleVocabulary](https://github.com/deepmipt/DeepPavlov/blob/c10b079b972493220c82a643d47d718d5358c7f4/deeppavlov/core/data/simple_vocab.py#L31) from DeepPavlov. Fit an instance of this class on the training data."
      ]
    },
    {
      "cell_type": "code",
      "metadata": {
        "id": "dSyUwp9P6gsj",
        "colab_type": "code",
        "outputId": "c7cdd327-a26e-4b3f-c922-c895a965e3d8",
        "colab": {
          "base_uri": "https://localhost:8080/",
          "height": 73
        }
      },
      "source": [
        "from deeppavlov.core.data.simple_vocab import SimpleVocabulary\n",
        "\n",
        "\n",
        "vocab = SimpleVocabulary(special_tokens=[\"BEGIN\", \"END\"], save_path='.')\n",
        "vocab.fit([list(x) for x in train_words])\n",
        "print(len(vocab))"
      ],
      "execution_count": 24,
      "outputs": [
        {
          "output_type": "stream",
          "text": [
            "2020-03-31 09:54:20.365 WARNING in 'deeppavlov.core.models.serializable'['serializable'] at line 49: No load path is set for SimpleVocabulary in 'infer' mode. Using save path instead\n"
          ],
          "name": "stderr"
        },
        {
          "output_type": "stream",
          "text": [
            "36\n"
          ],
          "name": "stdout"
        }
      ]
    },
    {
      "cell_type": "code",
      "metadata": {
        "id": "HVn-CovH_Y7n",
        "colab_type": "code",
        "colab": {
          "base_uri": "https://localhost:8080/",
          "height": 35
        },
        "outputId": "ba75d8bc-120b-4d6f-f3fd-b78326677c79"
      },
      "source": [
        "vocab(['BEGIN', 'END'])"
      ],
      "execution_count": 29,
      "outputs": [
        {
          "output_type": "execute_result",
          "data": {
            "text/plain": [
              "[0, 1]"
            ]
          },
          "metadata": {
            "tags": []
          },
          "execution_count": 29
        }
      ]
    },
    {
      "cell_type": "markdown",
      "metadata": {
        "id": "3dhKqdNt6gsm",
        "colab_type": "text"
      },
      "source": [
        "**1.3 (2 points)** Write a **Dataset** class, which should be inherited from ```torch.utils.data.Dataset```. It should take a list of words and the ```vocab``` as initialization arguments."
      ]
    },
    {
      "cell_type": "code",
      "metadata": {
        "id": "ctpsRix86gso",
        "colab_type": "code",
        "colab": {}
      },
      "source": [
        "import torch\n",
        "from torch.utils.data import Dataset as TorchDataset\n",
        "\n",
        "class Dataset(TorchDataset):\n",
        "    \n",
        "    \"\"\"Custom data.Dataset compatible with data.DataLoader.\"\"\"\n",
        "    def __init__(self, data, vocab):\n",
        "        self.data = data\n",
        "        self.vocab = vocab\n",
        "\n",
        "    def __getitem__(self, index):\n",
        "        \"\"\"\n",
        "        Returns one tensor pair (source and target). The source tensor corresponds to the input word,\n",
        "        with \"BEGIN\" and \"END\" symbols attached. The target tensor should contain the answers\n",
        "        for the language model that obtain these word as input.        \n",
        "        \"\"\"\n",
        "        source = [\"BEGIN\", *self.data[index]]\n",
        "        target = [*self.data[index], \"END\"]\n",
        "\n",
        "        source_transformed = self.vocab(source)\n",
        "        target_transformed = self.vocab(target)\n",
        "\n",
        "        return torch.tensor(source_transformed), torch.tensor(target_transformed)\n",
        "\n",
        "\n",
        "    def __len__(self):\n",
        "        return len(self.data)"
      ],
      "execution_count": 0,
      "outputs": []
    },
    {
      "cell_type": "code",
      "metadata": {
        "id": "OMSc__gA6gsr",
        "colab_type": "code",
        "colab": {}
      },
      "source": [
        "train_dataset = Dataset(train_words, vocab)\n",
        "dev_dataset = Dataset(dev_words, vocab)\n",
        "test_dataset = Dataset(test_words, vocab)"
      ],
      "execution_count": 0,
      "outputs": []
    },
    {
      "cell_type": "code",
      "metadata": {
        "id": "jgeLcu8M_2Y7",
        "colab_type": "code",
        "colab": {
          "base_uri": "https://localhost:8080/",
          "height": 53
        },
        "outputId": "2b12b143-6b8c-4c7b-c919-3342b1bdb7cf"
      },
      "source": [
        "train_dataset[0]"
      ],
      "execution_count": 67,
      "outputs": [
        {
          "output_type": "execute_result",
          "data": {
            "text/plain": [
              "(tensor([ 0, 10,  3, 11, 11,  2,  6,  8, 13,  2, 12, 15]),\n",
              " tensor([10,  3, 11, 11,  2,  6,  8, 13,  2, 12, 15,  1]))"
            ]
          },
          "metadata": {
            "tags": []
          },
          "execution_count": 67
        }
      ]
    },
    {
      "cell_type": "markdown",
      "metadata": {
        "id": "dqfZAnvK6gsu",
        "colab_type": "text"
      },
      "source": [
        "**1.4 (3 points)** Use a standard ```torch.utils.data.DataLoader``` to obtain an iterable over batches. Print the shape of first 10 input batches with ```batch_size=1```."
      ]
    },
    {
      "cell_type": "code",
      "metadata": {
        "id": "tNkqpms-6gsu",
        "colab_type": "code",
        "colab": {
          "base_uri": "https://localhost:8080/",
          "height": 557
        },
        "outputId": "dfc859da-89ed-431c-bd18-0d450de4e407"
      },
      "source": [
        "from torch.utils.data import DataLoader\n",
        "\n",
        "train_dataloader = DataLoader(train_dataset, batch_size=1)\n",
        "for i, (source, target) in enumerate(train_dataloader):\n",
        "    if i == 10:\n",
        "        break\n",
        "\n",
        "    print(f'Butch number {i}:')\n",
        "    print(source, target, sep='\\n')"
      ],
      "execution_count": 68,
      "outputs": [
        {
          "output_type": "stream",
          "text": [
            "Butch number 0:\n",
            "tensor([[ 0, 10,  3, 11, 11,  2,  6,  8, 13,  2, 12, 15]])\n",
            "tensor([[10,  3, 11, 11,  2,  6,  8, 13,  2, 12, 15,  1]])\n",
            "Butch number 1:\n",
            "tensor([[ 0,  6,  4, 21,  3, 13,  2,  6, 24,  4,  6,  6, 16, 12]])\n",
            "tensor([[ 6,  4, 21,  3, 13,  2,  6, 24,  4,  6,  6, 16, 12,  1]])\n",
            "Butch number 2:\n",
            "tensor([[ 0,  5,  8,  9,  7, 32, 14, 16, 10,  3, 10]])\n",
            "tensor([[ 5,  8,  9,  7, 32, 14, 16, 10,  3, 10,  1]])\n",
            "Butch number 3:\n",
            "tensor([[ 0, 11,  5, 24,  6,  2, 19,  2]])\n",
            "tensor([[11,  5, 24,  6,  2, 19,  2,  1]])\n",
            "Butch number 4:\n",
            "tensor([[ 0,  8,  4,  7, 22, 19,  3, 12]])\n",
            "tensor([[ 8,  4,  7, 22, 19,  3, 12,  1]])\n",
            "Butch number 5:\n",
            "tensor([[ 0,  6,  4,  2, 23,  2,  8,  6,  2, 10,  3,  6,  6, 16, 12]])\n",
            "tensor([[ 6,  4,  2, 23,  2,  8,  6,  2, 10,  3,  6,  6, 16, 12,  1]])\n",
            "Butch number 6:\n",
            "tensor([[ 0,  9, 27,  9,  5]])\n",
            "tensor([[ 9, 27,  9,  5,  1]])\n",
            "Butch number 7:\n",
            "tensor([[ 0, 21,  3,  7,  2,  8, 11,  3]])\n",
            "tensor([[21,  3,  7,  2,  8, 11,  3,  1]])\n",
            "Butch number 8:\n",
            "tensor([[ 0,  5, 17,  4,  3, 11, 22,  6,  3]])\n",
            "tensor([[ 5, 17,  4,  3, 11, 22,  6,  3,  1]])\n",
            "Butch number 9:\n",
            "tensor([[ 0, 19, 15, 11, 13,  2, 20]])\n",
            "tensor([[19, 15, 11, 13,  2, 20,  1]])\n"
          ],
          "name": "stdout"
        }
      ]
    },
    {
      "cell_type": "markdown",
      "metadata": {
        "id": "yPbl8j876gsy",
        "colab_type": "text"
      },
      "source": [
        "**(1.5) 1 point** Explain, why this does not work with larger batch size."
      ]
    },
    {
      "cell_type": "markdown",
      "metadata": {
        "id": "XWq7MUanB2Z8",
        "colab_type": "text"
      },
      "source": [
        "Это происходит из-за того, что слова могут иметь разную длина, а тенсзоры поддерживают только равные длины по всем осям"
      ]
    },
    {
      "cell_type": "markdown",
      "metadata": {
        "id": "cCxEW1Ly6gsz",
        "colab_type": "text"
      },
      "source": [
        "**(1.6) 5 points** Write a function **collate** that allows you to deal with batches of greater size. See [discussion](https://discuss.pytorch.org/t/dataloader-for-various-length-of-data/6418/8) for an example. Implement your function as a class ```__call__``` method to make it more flexible."
      ]
    },
    {
      "cell_type": "code",
      "metadata": {
        "id": "D7c4FHnP6gsz",
        "colab_type": "code",
        "colab": {}
      },
      "source": [
        "def pad_tensor(vec, length, dim, pad_symbol):\n",
        "    \"\"\"\n",
        "    Pads a vector ``vec`` up to length ``length`` along axis ``dim`` with pad symbol ``pad_symbol``.\n",
        "    \"\"\"\n",
        "    pad_shape = list(vec.shape)\n",
        "    pad_shape[dim] = length - pad_shape[dim]\n",
        "    pad_vec = torch.zeros(pad_shape, dtype=vec.dtype) + pad_symbol\n",
        "    return torch.cat([vec, pad_vec], dim=dim)\n",
        "\n",
        "class Padder:\n",
        "    def __init__(self, dim=0, pad_symbol=0):\n",
        "        self.dim = dim\n",
        "        self.pad_symbol = pad_symbol\n",
        "    \n",
        "    def __call__(self, batch):\n",
        "        max_len = -1\n",
        "        for single_batch in batch:\n",
        "            for row in single_batch:\n",
        "                max_len = max(max_len, row.shape[self.dim])\n",
        "        \n",
        "        batches = [[] for _ in range(len(batch[0]))]\n",
        "        for single_batch in batch:\n",
        "            for i, row in enumerate(single_batch):\n",
        "                batches[i].append(pad_tensor(row, max_len, self.dim, self.pad_symbol))\n",
        "\n",
        "        for i in range(len(batches)):\n",
        "            batches[i] = torch.cat(batches[i])\n",
        "        return batches"
      ],
      "execution_count": 0,
      "outputs": []
    },
    {
      "cell_type": "code",
      "metadata": {
        "id": "fdE9FA35D-8z",
        "colab_type": "code",
        "colab": {
          "base_uri": "https://localhost:8080/",
          "height": 35
        },
        "outputId": "a2829e86-7d5c-49a3-82db-72beda817e0e"
      },
      "source": [
        "pad_tensor(torch.tensor([1, 2, 3]), 5, 0, 0)"
      ],
      "execution_count": 70,
      "outputs": [
        {
          "output_type": "execute_result",
          "data": {
            "text/plain": [
              "tensor([1, 2, 3, 0, 0])"
            ]
          },
          "metadata": {
            "tags": []
          },
          "execution_count": 70
        }
      ]
    },
    {
      "cell_type": "markdown",
      "metadata": {
        "id": "kPR6zNtJ6gs2",
        "colab_type": "text"
      },
      "source": [
        "**(1.7) 1 points** Again, use ```torch.utils.data.DataLoader``` to obtain an iterable over batches. Print the shape of first 10 input batches with the batch size you like."
      ]
    },
    {
      "cell_type": "code",
      "metadata": {
        "id": "U6W7Tt2o6gs2",
        "colab_type": "code",
        "colab": {
          "base_uri": "https://localhost:8080/",
          "height": 809
        },
        "outputId": "fba4a55c-420a-42a8-857d-e27321dfae37"
      },
      "source": [
        "from torch.utils.data import DataLoader\n",
        "\n",
        "train_dataloader = DataLoader(train_dataset, batch_size=2, collate_fn=Padder(pad_symbol=vocab('END')))\n",
        "for i, (source, target) in enumerate(train_dataloader):\n",
        "    if i == 10:\n",
        "        break\n",
        "\n",
        "    print(f'Butch number {i}:')\n",
        "    print(source, target, sep='\\n')"
      ],
      "execution_count": 71,
      "outputs": [
        {
          "output_type": "stream",
          "text": [
            "Butch number 0:\n",
            "tensor([ 0, 10,  3, 11, 11,  2,  6,  8, 13,  2, 12, 15,  1,  1,  0,  6,  4, 21,\n",
            "         3, 13,  2,  6, 24,  4,  6,  6, 16, 12])\n",
            "tensor([10,  3, 11, 11,  2,  6,  8, 13,  2, 12, 15,  1,  1,  1,  6,  4, 21,  3,\n",
            "        13,  2,  6, 24,  4,  6,  6, 16, 12,  1])\n",
            "Butch number 1:\n",
            "tensor([ 0,  5,  8,  9,  7, 32, 14, 16, 10,  3, 10,  0, 11,  5, 24,  6,  2, 19,\n",
            "         2,  1,  1,  1])\n",
            "tensor([ 5,  8,  9,  7, 32, 14, 16, 10,  3, 10,  1, 11,  5, 24,  6,  2, 19,  2,\n",
            "         1,  1,  1,  1])\n",
            "Butch number 2:\n",
            "tensor([ 0,  8,  4,  7, 22, 19,  3, 12,  1,  1,  1,  1,  1,  1,  1,  0,  6,  4,\n",
            "         2, 23,  2,  8,  6,  2, 10,  3,  6,  6, 16, 12])\n",
            "tensor([ 8,  4,  7, 22, 19,  3, 12,  1,  1,  1,  1,  1,  1,  1,  1,  6,  4,  2,\n",
            "        23,  2,  8,  6,  2, 10,  3,  6,  6, 16, 12,  1])\n",
            "Butch number 3:\n",
            "tensor([ 0,  9, 27,  9,  5,  1,  1,  1,  0, 21,  3,  7,  2,  8, 11,  3])\n",
            "tensor([ 9, 27,  9,  5,  1,  1,  1,  1, 21,  3,  7,  2,  8, 11,  3,  1])\n",
            "Butch number 4:\n",
            "tensor([ 0,  5, 17,  4,  3, 11, 22,  6,  3,  0, 19, 15, 11, 13,  2, 20,  1,  1])\n",
            "tensor([ 5, 17,  4,  3, 11, 22,  6,  3,  1, 19, 15, 11, 13,  2, 20,  1,  1,  1])\n",
            "Butch number 5:\n",
            "tensor([ 0, 11,  4,  8,  2, 14,  5, 11, 22,  6,  2,  0, 21,  3,  7,  2,  8, 26,\n",
            "         4,  4,  1,  1])\n",
            "tensor([11,  4,  8,  2, 14,  5, 11, 22,  6,  2,  1, 21,  3,  7,  2,  8, 26,  4,\n",
            "         4,  1,  1,  1])\n",
            "Butch number 6:\n",
            "tensor([ 0, 23,  7,  2,  6,  4, 14,  2,  4, 21, 17,  4,  1,  1,  1,  0, 14,  7,\n",
            "         2, 23, 11,  4, 12,  3,  9,  5, 24,  6, 16, 25])\n",
            "tensor([23,  7,  2,  6,  4, 14,  2,  4, 21, 17,  4,  1,  1,  1,  1, 14,  7,  2,\n",
            "        23, 11,  4, 12,  3,  9,  5, 24,  6, 16, 25,  1])\n",
            "Butch number 7:\n",
            "tensor([ 0,  9, 15, 26, 32,  6,  2,  4,  1,  0,  9, 13,  6, 15, 11,  5,  8, 22])\n",
            "tensor([ 9, 15, 26, 32,  6,  2,  4,  1,  1,  9, 13,  6, 15, 11,  5,  8, 22,  1])\n",
            "Butch number 8:\n",
            "tensor([ 0,  8, 14,  3,  8,  5,  9,  4, 11,  5,  1,  0, 13,  2,  8, 12,  2,  6,\n",
            "         3, 10,  9, 15])\n",
            "tensor([ 8, 14,  3,  8,  5,  9,  4, 11,  5,  1,  1, 13,  2,  8, 12,  2,  6,  3,\n",
            "        10,  9, 15,  1])\n",
            "Butch number 9:\n",
            "tensor([ 0,  7,  3,  8, 13, 11,  3,  6, 18, 10, 26,  5,  8, 22,  0,  5,  8, 25,\n",
            "         2, 17,  3, 12,  5,  1,  1,  1,  1,  1])\n",
            "tensor([ 7,  3,  8, 13, 11,  3,  6, 18, 10, 26,  5,  8, 22,  1,  5,  8, 25,  2,\n",
            "        17,  3, 12,  5,  1,  1,  1,  1,  1,  1])\n"
          ],
          "name": "stdout"
        }
      ]
    },
    {
      "cell_type": "markdown",
      "metadata": {
        "id": "KUW4o15z6gs5",
        "colab_type": "text"
      },
      "source": [
        "## Task 2. Character-based language modeling. (35 points)"
      ]
    },
    {
      "cell_type": "markdown",
      "metadata": {
        "id": "4iGwVrBB6gs5",
        "colab_type": "text"
      },
      "source": [
        "**2.1 (5 points)** Write a network that performs language modeling. It should include three layers:\n",
        "1. **Embedding** layer that transforms input symbols into vectors.\n",
        "2. An **RNN** layer that outputs a sequence of hidden states (you may use https://pytorch.org/docs/stable/nn.html#gru).\n",
        "3. A **Linear** layer with ``softmax`` activation that produces the output distribution for each symbol."
      ]
    },
    {
      "cell_type": "code",
      "metadata": {
        "id": "42f7Bd3P6gs6",
        "colab_type": "code",
        "colab": {}
      },
      "source": [
        "import torch.nn as nn\n",
        "\n",
        "class RNNLM(nn.Module):\n",
        "    def __init__(self, vocab_size, embeddings_dim, hidden_size):\n",
        "        super(RNNLM, self).__init__()\n",
        "        \"\"\"\n",
        "        == YOUR CODE HERE ==\n",
        "        \"\"\"\n",
        "        \n",
        "    def forward(self, inputs, hidden=None):\n",
        "        \"\"\"\n",
        "        == YOUR CODE HERE ==\n",
        "        \"\"\""
      ],
      "execution_count": 0,
      "outputs": []
    },
    {
      "cell_type": "markdown",
      "metadata": {
        "id": "RRXgMJFF6gs8",
        "colab_type": "text"
      },
      "source": [
        "**2.2 (1 points)** Write a function ``validate_on_batch`` that takes as input a model, a batch of inputs and a batch of outputs, and the loss criterion, and outputs the loss tensor for the whole batch. This loss should not be normalized."
      ]
    },
    {
      "cell_type": "code",
      "metadata": {
        "id": "WGagp3_y6gs8",
        "colab_type": "code",
        "colab": {}
      },
      "source": [
        "def validate_on_batch(model, criterion, x, y):\n",
        "    \"\"\"\n",
        "    == YOUR CODE HERE ==\n",
        "    \"\"\""
      ],
      "execution_count": 0,
      "outputs": []
    },
    {
      "cell_type": "markdown",
      "metadata": {
        "id": "J9HBeoap6gs-",
        "colab_type": "text"
      },
      "source": [
        "**2.3 (1 points)** Write a function ``train_on_batch`` that accepts all the arguments of ``validate_on_batch`` and also an optimizer, calculates loss and makes a single step of gradient optimization. This function should call ``validate_on_batch`` inside."
      ]
    },
    {
      "cell_type": "code",
      "metadata": {
        "id": "tc_BwsRr6gs_",
        "colab_type": "code",
        "colab": {}
      },
      "source": [
        "def train_on_batch(model, criterion, x, y, optimizer):\n",
        "    \"\"\"\n",
        "    == YOUR CODE HERE ==\n",
        "    \"\"\""
      ],
      "execution_count": 0,
      "outputs": []
    },
    {
      "cell_type": "markdown",
      "metadata": {
        "id": "IUkc_97q6gtC",
        "colab_type": "text"
      },
      "source": [
        "**2.4 (3 points)** Write a training loop. You should define your ``RNNLM`` model, the criterion, the optimizer and the hyperparameters (number of epochs and batch size). Then train the model for a required number of epochs. On each epoch evaluate the average training loss and the average loss on the validation set. \n",
        "\n",
        "**2.5 (3 points)** Do not forget to average your loss over only non-padding symbols, otherwise it will be too optimistic."
      ]
    },
    {
      "cell_type": "code",
      "metadata": {
        "id": "4F22OxjK6gtC",
        "colab_type": "code",
        "colab": {}
      },
      "source": [
        "\"\"\"\n",
        "== YOUR CODE HERE ==\n",
        "\"\"\""
      ],
      "execution_count": 0,
      "outputs": []
    },
    {
      "cell_type": "markdown",
      "metadata": {
        "id": "oEBiV4PF6gtE",
        "colab_type": "text"
      },
      "source": [
        "**2.6 (5 points)** Write a function **predict_on_batch** that outputs letter probabilities of all words in the batch."
      ]
    },
    {
      "cell_type": "code",
      "metadata": {
        "id": "fPN4mopV6gtF",
        "colab_type": "code",
        "colab": {}
      },
      "source": [
        "\"\"\"\n",
        "== YOUR CODE HERE ==\n",
        "\"\"\""
      ],
      "execution_count": 0,
      "outputs": []
    },
    {
      "cell_type": "markdown",
      "metadata": {
        "id": "YyFZQDK56gtI",
        "colab_type": "text"
      },
      "source": [
        "**2.7 (1 points)** Calculate the letter probabilities for all words in the test dataset. Print them for 20 last words. Do not forget to disable shuffling in the ``DataLoader``."
      ]
    },
    {
      "cell_type": "code",
      "metadata": {
        "id": "Vc8qjXL66gtI",
        "colab_type": "code",
        "colab": {}
      },
      "source": [
        "\"\"\"\n",
        "== YOUR CODE HERE ==\n",
        "\"\"\""
      ],
      "execution_count": 0,
      "outputs": []
    },
    {
      "cell_type": "markdown",
      "metadata": {
        "id": "KWkB4GRE6gtK",
        "colab_type": "text"
      },
      "source": [
        "**2.8 (5 points)** Write a function that generates a single word (sequence of indexes) given the model. Do not forget about the hidden state! Be careful about start and end symbol indexes. Use ``torch.multinomial`` for sampling."
      ]
    },
    {
      "cell_type": "code",
      "metadata": {
        "id": "qT3p4yme6gtL",
        "colab_type": "code",
        "colab": {}
      },
      "source": [
        "def generate(model, max_length=20, start_index=1, end_index=2):\n",
        "    \"\"\"\n",
        "    == YOUR CODE HERE ==\n",
        "    \"\"\""
      ],
      "execution_count": 0,
      "outputs": []
    },
    {
      "cell_type": "markdown",
      "metadata": {
        "id": "jDnJ7GXl6gtN",
        "colab_type": "text"
      },
      "source": [
        "**2.9 (1 points)** Use ``generate`` to sample 20 pseudowords. Do not forget to transform indexes to letters."
      ]
    },
    {
      "cell_type": "code",
      "metadata": {
        "id": "2jxoIQ8K6gtN",
        "colab_type": "code",
        "colab": {}
      },
      "source": [
        "for i in range(20):\n",
        "    \"\"\"\n",
        "    == YOUR CODE HERE ==\n",
        "    \"\"\""
      ],
      "execution_count": 0,
      "outputs": []
    },
    {
      "cell_type": "markdown",
      "metadata": {
        "id": "8dYwtzuo6gtP",
        "colab_type": "text"
      },
      "source": [
        "**(2.10) 5 points** Write a batched version of the generation function. You should sample the following symbol only for the words that are not finished yet, so apply a boolean mask to trace active words."
      ]
    },
    {
      "cell_type": "code",
      "metadata": {
        "id": "9825WPZd6gtQ",
        "colab_type": "code",
        "colab": {}
      },
      "source": [
        "def generate_batch(model, batch_size, max_length = 20, start_index=1, end_index=2):\n",
        "    \"\"\"\n",
        "    == YOUR CODE HERE ==\n",
        "    \"\"\""
      ],
      "execution_count": 0,
      "outputs": []
    },
    {
      "cell_type": "code",
      "metadata": {
        "id": "A16PTqBk6gtS",
        "colab_type": "code",
        "colab": {}
      },
      "source": [
        "generated = []\n",
        "for _ in range(2):\n",
        "    generated += generate_batch(model, batch_size=10)\n",
        "\"\"\"\n",
        "== YOUR CODE HERE ==\n",
        "\"\"\"\n",
        "for elem in transformed:\n",
        "    print(\"\".join(elem))"
      ],
      "execution_count": 0,
      "outputs": []
    },
    {
      "cell_type": "markdown",
      "metadata": {
        "id": "8dtpBFyI6gtU",
        "colab_type": "text"
      },
      "source": [
        "**(2.11) 5 points** Experiment with the type of RNN, number of layers, units and/or dropout to improve the perplexity of the model."
      ]
    },
    {
      "cell_type": "code",
      "metadata": {
        "id": "cl8bgJT76gtU",
        "colab_type": "code",
        "colab": {}
      },
      "source": [
        ""
      ],
      "execution_count": 0,
      "outputs": []
    }
  ]
}