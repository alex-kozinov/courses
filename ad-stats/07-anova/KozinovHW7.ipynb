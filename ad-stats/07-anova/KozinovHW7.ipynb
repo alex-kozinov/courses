{
 "cells": [
  {
   "cell_type": "markdown",
   "metadata": {},
   "source": [
    "# Описание\n",
    "Этот ноутбук содержит решение первого домашнего задания \"Оценки и доверительные интервалы\"\n",
    "\n",
    "## Результаты\n",
    "1. Написана полностью\n",
    "2. -\n",
    "3. -\n",
    "4. -\n",
    "5. -\n",
    "6. -\n",
    "\n",
    "## Материалы:\n",
    "\n",
    "* [Условие задач](mspsdz7.pdf)\n",
    "* [Седьмая лекция](MSPS_2018_7.pdf)"
   ]
  },
  {
   "cell_type": "markdown",
   "metadata": {},
   "source": [
    "# Setup\n",
    "\n",
    "## Library import\n",
    "We import all the required Python libraries"
   ]
  },
  {
   "cell_type": "code",
   "execution_count": 1,
   "metadata": {},
   "outputs": [],
   "source": [
    "# Data manipulation\n",
    "import pandas as pd\n",
    "import numpy as np\n",
    "\n",
    "import scipy.stats as sps\n",
    "from scipy.optimize import minimize\n",
    "\n",
    "import matplotlib.pyplot as plt"
   ]
  },
  {
   "cell_type": "markdown",
   "metadata": {},
   "source": [
    "# Решения"
   ]
  },
  {
   "cell_type": "markdown",
   "metadata": {},
   "source": [
    "## Задача 1"
   ]
  },
  {
   "cell_type": "markdown",
   "metadata": {},
   "source": [
    "**Основные понятия**\n",
    "\n",
    "* $R_{i,j}$ – ранг $j$-того элемента в $i$-той строке\n",
    "\n",
    "* $R_j = \\sum\\limits_{i} R_{i,j}$\n",
    "\n",
    "* Статистика критерия Пейджа $L = \\sum\\limits_{j=1}^{k}jR_j$\n",
    "\n",
    "* По условию коэффициент корреляции Спирмена $\\rho_i = 1 - \\frac{6}{k(k-1)(k+1)}\\sum\\limits_{j=1}^{k}(R_{i, j}-j)^2$\n",
    "\n",
    "* $\\overline{\\rho_S} = \\frac{1}{n}\\sum\\limits_{i=1}^{n}\\rho_i$"
   ]
  },
  {
   "cell_type": "markdown",
   "metadata": {},
   "source": [
    "**Вывод формулы**:\n",
    "\n",
    "* Для начала перепишем коэффициент корреляции Спирмена:\n",
    "\n",
    "$$\\rho_i = 1 - \\frac{6}{k(k-1)(k+1)}\\sum\\limits_{j=1}^{k}(R_{i, j}-j)^2\n",
    "= 1 - \\frac{6}{k(k-1)(k+1)}\\sum\\limits_{j=1}^{k}(R^2_{i, j}-2R_{i, j}j+j^2) \n",
    "= \\left[ \\{R_{i, j}\\}_{j} = \\{j\\}_{j}\\right]\n",
    "= 1 - \\frac{6}{k(k-1)(k+1)}\\sum\\limits_{j=1}^{k}(2j^2-2R_{i, j}j) \n",
    "= 1 - \\frac{6}{k(k-1)(k+1)} \\left( \\frac{k(k+1)(2k+1)}{3} - \\sum\\limits_{j=1}^{k}2R_{i, j}j  \\right)\n",
    "= -\\frac{3(k+1)}{k-1} + \\frac{12}{k(k-1)(k+1)}\\sum\\limits_{j=1}^{k}R_{i, j}j$$\n",
    "\n",
    "* Распишем средний коэффициент корреляции:\n",
    "$$\\overline{\\rho_S} = \\frac{1}{n}\\sum\\limits_{i=1}^{n}\\rho_i \n",
    "= \\frac{1}{n}\\sum\\limits_{i=1}^{n} \\left( -\\frac{3(k+1)}{k-1} + \\frac{12}{k(k-1)(k+1)}\\sum\\limits_{j=1}^{k}R_{i, j}j \\right)\n",
    "= -\\frac{3(k+1)}{k-1} + \\frac{12}{nk(k-1)(k+1)}\\sum\\limits_{i,j}^{k}R_{i, j}j \\\\\n",
    "= -\\frac{3(k+1)}{k-1} + \\frac{12L}{nk(k-1)(k+1)}$$"
   ]
  }
 ],
 "metadata": {
  "kernelspec": {
   "display_name": "Python 3",
   "language": "python",
   "name": "python3"
  },
  "language_info": {
   "codemirror_mode": {
    "name": "ipython",
    "version": 3
   },
   "file_extension": ".py",
   "mimetype": "text/x-python",
   "name": "python",
   "nbconvert_exporter": "python",
   "pygments_lexer": "ipython3",
   "version": "3.6.9"
  }
 },
 "nbformat": 4,
 "nbformat_minor": 2
}
