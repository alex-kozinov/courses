{
 "cells": [
  {
   "cell_type": "markdown",
   "metadata": {},
   "source": [
    "# Описание\n",
    "Этот ноутбук содержит решение девятого домашнего задания \"Регрессионный анализ\"\n",
    "\n",
    "## Результаты\n",
    "1. Написана полностью\n",
    "2. Написана полностью\n",
    "3. Написана полностью\n",
    "4. Написана полностью\n",
    "5. Написана полностью\n",
    "\n",
    "## Материалы:\n",
    "\n",
    "* [Условие задач](mspsdz9.pdf)\n",
    "* [лекция](msps20208.pdf)"
   ]
  },
  {
   "cell_type": "markdown",
   "metadata": {},
   "source": [
    "# Setup\n",
    "\n",
    "## Library import\n",
    "We import all the required Python libraries"
   ]
  },
  {
   "cell_type": "code",
   "execution_count": 1,
   "metadata": {},
   "outputs": [],
   "source": [
    "# Data manipulation\n",
    "import pandas as pd\n",
    "import numpy as np\n",
    "\n",
    "import scipy.stats as sps\n",
    "from scipy.optimize import minimize\n",
    "\n",
    "import matplotlib.pyplot as plt"
   ]
  },
  {
   "cell_type": "markdown",
   "metadata": {},
   "source": [
    "# Решения"
   ]
  },
  {
   "cell_type": "markdown",
   "metadata": {},
   "source": [
    "## Задача 1"
   ]
  },
  {
   "cell_type": "markdown",
   "metadata": {},
   "source": [
    "* Нам нужно решить задачу поиска условного экстремума при условии связи:\n",
    "\n",
    "$$\\begin{cases}\n",
    "   ||Y-\\theta||\\rightarrow \\min \\\\\n",
    "   A\\theta = 0\n",
    "\\end{cases}\n",
    "$$\n",
    "\n",
    "* Запишем Лагранжиан для данной задачи:\n",
    "\n",
    "$$\n",
    "L(\\theta, \\lambda) = ||Y-\\theta|| + \\lambda^T A\\theta, \\text{ где } \\lambda \\in \\mathbb{R}^q \n",
    "$$\n",
    "\n",
    "* Составим систему из производной Лагранжиана и условия связи:\n",
    "\n",
    "$$\\begin{cases}\n",
    "    2(Y-\\theta)+A^T\\lambda =0\\\\\n",
    "    A\\theta = 0\n",
    "\\end{cases}\n",
    "=\n",
    "\\begin{cases}\n",
    "    A^T\\lambda = 2\\theta-2Y=0    & |A\\cdot\\\\\n",
    "    A\\theta = 0\n",
    "\\end{cases}\n",
    "=\n",
    "\\begin{cases}\n",
    "    {AA}^T\\lambda = 2A\\theta-2AY\\\\\n",
    "    A\\theta = 0\n",
    "\\end{cases}\n",
    "=\n",
    "\\begin{cases}\n",
    "    {AA}^T\\lambda = -2AY\\\\\n",
    "    2(Y-\\theta)+A^T\\lambda =0\n",
    "\\end{cases}\n",
    "=\n",
    "\\begin{cases}\n",
    "    \\lambda = -2({AA}^T)^{-1}AY\\\\\n",
    "    2(Y-\\theta)+A^T\\lambda =0\n",
    "\\end{cases}\n",
    "=\n",
    "\\begin{cases}\n",
    "    \\lambda = -2({AA}^T)^{-1}AY\\\\\n",
    "    2Y-2A^T({AA}^T)^{-1}AY =2\\theta\n",
    "\\end{cases}\n",
    "=\n",
    "\\begin{cases}\n",
    "    \\lambda = -2({AA}^T)^{-1}AY\\\\\n",
    "    \\theta = (I-A^T({AA}^T)^{-1}A)Y\n",
    "\\end{cases}\n",
    "$$"
   ]
  },
  {
   "cell_type": "markdown",
   "metadata": {},
   "source": [
    "* Стоит сказать, что по методу множетелей лагранжа мы нашли точку возможного экстремума, но так она одна и функция непрерывна, то это точка локального минимума"
   ]
  },
  {
   "cell_type": "markdown",
   "metadata": {},
   "source": [
    "## Задача 2"
   ]
  },
  {
   "cell_type": "code",
   "execution_count": null,
   "metadata": {},
   "outputs": [],
   "source": []
  },
  {
   "cell_type": "markdown",
   "metadata": {},
   "source": [
    "## Задача 3"
   ]
  },
  {
   "cell_type": "markdown",
   "metadata": {},
   "source": [
    "## Задача 4"
   ]
  },
  {
   "cell_type": "markdown",
   "metadata": {},
   "source": [
    "## Задача 5"
   ]
  },
  {
   "cell_type": "code",
   "execution_count": null,
   "metadata": {},
   "outputs": [],
   "source": []
  }
 ],
 "metadata": {
  "kernelspec": {
   "display_name": "Python 3",
   "language": "python",
   "name": "python3"
  },
  "language_info": {
   "codemirror_mode": {
    "name": "ipython",
    "version": 3
   },
   "file_extension": ".py",
   "mimetype": "text/x-python",
   "name": "python",
   "nbconvert_exporter": "python",
   "pygments_lexer": "ipython3",
   "version": "3.6.10"
  }
 },
 "nbformat": 4,
 "nbformat_minor": 2
}
