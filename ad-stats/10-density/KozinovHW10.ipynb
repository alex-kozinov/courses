{
 "cells": [
  {
   "cell_type": "markdown",
   "metadata": {},
   "source": [
    "# Описание\n",
    "Этот ноутбук содержит решение десятного домашнего задания \"Оценивание плотностей. Непараметрическая регрессия\"\n",
    "\n",
    "## Результаты\n",
    "1. Написана полностью\n",
    "2. Написана полностью\n",
    "3. Написана полностью\n",
    "4. Написана полностью\n",
    "5. Написана полностью\n",
    "\n",
    "## Материалы:\n",
    "\n",
    "* [Условие задач](mspsdz101.pdf)\n",
    "* [лекция](msps201810.pdf)"
   ]
  },
  {
   "cell_type": "markdown",
   "metadata": {},
   "source": [
    "# Setup\n",
    "\n",
    "## Library import\n",
    "We import all the required Python libraries"
   ]
  },
  {
   "cell_type": "code",
   "execution_count": 406,
   "metadata": {},
   "outputs": [],
   "source": [
    "import pandas as pd\n",
    "\n",
    "import numpy as np\n",
    "\n",
    "import scipy.stats as sps\n",
    "\n",
    "import matplotlib.pyplot as plt\n",
    "\n",
    "from statsmodels.nonparametric.kde import KDEUnivariate\n",
    "from statsmodels.nonparametric.kernel_regression import KernelReg\n",
    "\n",
    "from scipy.interpolate import UnivariateSpline\n",
    "\n",
    "from sklearn.linear_model import LinearRegression, Lasso, Ridge\n",
    "from sklearn.metrics.pairwise import pairwise_kernels\n",
    "from sklearn.base import BaseEstimator, RegressorMixin\n",
    "from sklearn.utils import shuffle\n",
    "from sklearn.model_selection import train_test_split, GridSearchCV, KFold, RandomizedSearchCV\n",
    "from sklearn.preprocessing import StandardScaler"
   ]
  },
  {
   "cell_type": "markdown",
   "metadata": {},
   "source": [
    "# Решения"
   ]
  },
  {
   "cell_type": "markdown",
   "metadata": {},
   "source": [
    "## Задача 1"
   ]
  },
  {
   "cell_type": "markdown",
   "metadata": {},
   "source": [
    "Исходная постановка задачи выглядит следующим образом:"
   ]
  },
  {
   "cell_type": "markdown",
   "metadata": {},
   "source": [
    "$$\n",
    "\\widehat{a}(x),\\ \\widehat{b}(x) = \\arg\\min_{a(x),\\ b(x)}\\sum\\limits_{i=1}^{n}q_{h(x)}(X_i-x)\\left(Y_i-a(x)-b(x)(X_i-x)\\right)^2\n",
    "$$"
   ]
  },
  {
   "cell_type": "markdown",
   "metadata": {},
   "source": [
    "**План решения:** сначала сведём минимизацию к матричному виду, а далее решим задачу оптимизации, как в случае обычной линейной регресии"
   ]
  },
  {
   "cell_type": "markdown",
   "metadata": {},
   "source": [
    "Для начала сделаем следующие замены:\n",
    "\n",
    "$K_{h(x)} = diag(q_{h(x)}(X_1-x), q_{h(x)}(X_2-x), \\dots, q_{h(x)}(X_n-x))$\n",
    "\n",
    "$K_{h(x)}^{\\frac{1}{2}} = diag(q_{h(x)}^{\\frac{1}{2}}(X_1-x), q_{h(x)}^{\\frac{1}{2}}(X_2-x), \\dots, q_{h(x)}^{\\frac{1}{2}}(X_n-x))$\n",
    "\n",
    "$Y$ - вектор $(Y_1, Y_2, \\dots, Y_n)$\n",
    "\n",
    "$X_x$ - вектор $(X_1-x, X_2-x, \\dots, X_n-x)$\n",
    "\n",
    "$X$ - матрица $\\left[1, X_x\\right]$ размера $n\\times2$, где в первом столбце одни единицы, а во втором вектор $X_x$\n",
    "\n",
    "$w$ - вектор $(a(x), b(x))$\n",
    "\n",
    "\n",
    "Очевидны следующие свойства:\n",
    "\n",
    "$K_{h(x)}^{\\frac{1}{2}} \\times K_{h(x)}^{\\frac{1}{2}} = K_{h(x)}$"
   ]
  },
  {
   "cell_type": "markdown",
   "metadata": {},
   "source": [
    "Тогда:\n",
    "\n",
    "$\n",
    "\\arg\\min\\limits_{a(x),\\ b(x)}\\sum\\limits_{i=1}^{n}q_{h(x)}(X_i-x)\\left(Y_i-a(x)-b(x)(X_i-x)\\right)^2\n",
    "= \\arg\\min\\limits_{a(x),\\ b(x)}||K_{h(x)}^{\\frac{1}{2}}\\times(Y-Xw)||^2_2\n",
    "= \\arg\\min\\limits_{a(x),\\ b(x)}||K_{h(x)}^{\\frac{1}{2}}Y-K_{h(x)}^{\\frac{1}{2}}Xw||^2_2\n",
    "$"
   ]
  },
  {
   "cell_type": "markdown",
   "metadata": {},
   "source": [
    "Выразим аналитически решение для $w$:\n",
    "\n",
    "$w = ((K_{h(x)}^{\\frac{1}{2}}X)^T(K_{h(x)}^{\\frac{1}{2}}X))^{-1}(K_{h(x)}^{\\frac{1}{2}}X)^T(K_{h(x)}^{\\frac{1}{2}}Y)\n",
    "= (X^T K_{h(x)}X))^{-1}X^T K_{h(x)}Y)$"
   ]
  },
  {
   "cell_type": "markdown",
   "metadata": {},
   "source": [
    "## Задача 2"
   ]
  },
  {
   "cell_type": "markdown",
   "metadata": {},
   "source": [
    "* Загрузим выборку"
   ]
  },
  {
   "cell_type": "code",
   "execution_count": 29,
   "metadata": {},
   "outputs": [
    {
     "name": "stderr",
     "output_type": "stream",
     "text": [
      "/Users/alex-kozinov/opt/anaconda3/lib/python3.6/site-packages/pandas/io/parsers.py:2420: FutureWarning: split() requires a non-empty pattern match.\n",
      "  yield pat.split(line.strip())\n",
      "/Users/alex-kozinov/opt/anaconda3/lib/python3.6/site-packages/pandas/io/parsers.py:2423: FutureWarning: split() requires a non-empty pattern match.\n",
      "  yield pat.split(line.strip())\n"
     ]
    }
   ],
   "source": [
    "X = pd.read_csv('./data/glass.dat', sep='\\\\s*', engine='python')['RI'].values"
   ]
  },
  {
   "cell_type": "code",
   "execution_count": 31,
   "metadata": {},
   "outputs": [
    {
     "data": {
      "text/plain": [
       "(214,)"
      ]
     },
     "execution_count": 31,
     "metadata": {},
     "output_type": "execute_result"
    }
   ],
   "source": [
    "X.shape"
   ]
  },
  {
   "cell_type": "markdown",
   "metadata": {},
   "source": [
    "* Построим гистограму из 14 бинов"
   ]
  },
  {
   "cell_type": "code",
   "execution_count": 37,
   "metadata": {},
   "outputs": [
    {
     "data": {
      "image/png": "[encoded data removed]",
      "text/plain": [
       "<Figure size 432x288 with 1 Axes>"
      ]
     },
     "metadata": {
      "needs_background": "light"
     },
     "output_type": "display_data"
    }
   ],
   "source": [
    "plt.hist(X, bins=14)\n",
    "plt.show()"
   ]
  },
  {
   "cell_type": "markdown",
   "metadata": {},
   "source": [
    "* Опишим **план** решения"
   ]
  },
  {
   "cell_type": "markdown",
   "metadata": {},
   "source": [
    "1. Найдём *bandwidth* по формуле $\\frac{1}{n}\\sum\\limits_{i=1}^{n}d_{iK}$, где $d_{iK}$ – расстояние от $X_i$ до $K$-того ближайшего. K положем равным 7\n",
    "2. Далее при помощи бутстрепа оценим доверительный интервал \n",
    "3. Отобразим результат на графике"
   ]
  },
  {
   "cell_type": "markdown",
   "metadata": {},
   "source": [
    "* Найдём *bandwidth*"
   ]
  },
  {
   "cell_type": "code",
   "execution_count": 119,
   "metadata": {},
   "outputs": [
    {
     "name": "stdout",
     "output_type": "stream",
     "text": [
      "bandwidth is 0.38710280373831785\n"
     ]
    }
   ],
   "source": [
    "def count_d(item, X, k=7):\n",
    "    return np.sort(np.abs(item - X))[k]\n",
    "\n",
    "bandwidth = np.mean([count_d(item, X) for item in X])\n",
    "print(f'bandwidth is {bandwidth}')"
   ]
  },
  {
   "cell_type": "markdown",
   "metadata": {},
   "source": [
    "* Оценим грацицы доверительного интервала"
   ]
  },
  {
   "cell_type": "code",
   "execution_count": 121,
   "metadata": {},
   "outputs": [],
   "source": [
    "class CI_Estimator:\n",
    "    def __init__(self, niter=2000):\n",
    "        self.niter = niter\n",
    "        self.kde_list = []\n",
    "\n",
    "    def fit(self, sample, bandwidth):\n",
    "        n = len(sample)\n",
    "        for _ in range(self.niter):\n",
    "            bootstrap_sample = np.random.choice(sample, n, replace=True)\n",
    "            kde = KDEUnivariate(bootstrap_sample)\n",
    "            kde.fit(bw=bandwidth)\n",
    "            self.kde_list.append(kde)            \n",
    "    \n",
    "    def get_bounds(self, grid, alpha):\n",
    "        density = np.array([kde.evaluate(grid) for kde in self.kde_list])\n",
    "        density = np.sort(density, axis=0)\n",
    "        left_pos = int(self.niter * alpha / 2)\n",
    "        right_pos = self.niter - left_pos\n",
    "\n",
    "        return density[left_pos], density[right_pos]"
   ]
  },
  {
   "cell_type": "code",
   "execution_count": 122,
   "metadata": {},
   "outputs": [
    {
     "data": {
      "image/png": "[encoded data removed]",
      "text/plain": [
       "<Figure size 432x288 with 1 Axes>"
      ]
     },
     "metadata": {
      "needs_background": "light"
     },
     "output_type": "display_data"
    }
   ],
   "source": [
    "ci_e = CI_Estimator()\n",
    "ci_e.fit(X, bandwidth)\n",
    "\n",
    "grid = np.linspace(-6, 15, 500)\n",
    "l, r = ci_e.get_bounds(grid, 0.05)\n",
    "\n",
    "plt.plot(grid, l)\n",
    "plt.plot(grid, r)\n",
    "plt.show()"
   ]
  },
  {
   "cell_type": "markdown",
   "metadata": {},
   "source": [
    "* Соберём всё вместе"
   ]
  },
  {
   "cell_type": "code",
   "execution_count": 123,
   "metadata": {},
   "outputs": [],
   "source": [
    "kde = KDEUnivariate(X)\n",
    "kde.fit(bw=bandwidth)\n",
    "\n",
    "ci_e = CI_Estimator()\n",
    "ci_e.fit(X, bandwidth)"
   ]
  },
  {
   "cell_type": "code",
   "execution_count": 146,
   "metadata": {},
   "outputs": [
    {
     "data": {
      "image/png": "[encoded data removed]",
      "text/plain": [
       "<Figure size 1069.2x756 with 1 Axes>"
      ]
     },
     "metadata": {
      "needs_background": "light"
     },
     "output_type": "display_data"
    }
   ],
   "source": [
    "grid = np.linspace(-7, 17)\n",
    "alpha = 0.05\n",
    "density = kde.evaluate(grid)\n",
    "l_ci, r_ci = ci_e.get_bounds(grid, alpha)\n",
    "\n",
    "plt.figure(figsize=(29.7/2, 21.0/2))\n",
    "\n",
    "plt.hist(X, bins=40, density=True, alpha=0.7, label='hist density')\n",
    "plt.plot(grid, density, color='r', label='density estimation')\n",
    "plt.fill_between(grid, l_ci, r_ci, alpha=0.4, color='orange', label=f'confedence interval with level {alpha}')\n",
    "\n",
    "plt.legend()\n",
    "plt.show()"
   ]
  },
  {
   "cell_type": "markdown",
   "metadata": {},
   "source": [
    "* **Вывод** Можно заметить, что нам удалось оценить плотность довольно гладко. А так же что гистограмма попадает в доверительный интервал"
   ]
  },
  {
   "cell_type": "markdown",
   "metadata": {},
   "source": [
    "## Задача 3"
   ]
  },
  {
   "cell_type": "markdown",
   "metadata": {},
   "source": [
    "* Загрузим данные:"
   ]
  },
  {
   "cell_type": "code",
   "execution_count": 251,
   "metadata": {},
   "outputs": [
    {
     "data": {
      "text/html": [
       "<div>\n",
       "<style scoped>\n",
       "    .dataframe tbody tr th:only-of-type {\n",
       "        vertical-align: middle;\n",
       "    }\n",
       "\n",
       "    .dataframe tbody tr th {\n",
       "        vertical-align: top;\n",
       "    }\n",
       "\n",
       "    .dataframe thead th {\n",
       "        text-align: right;\n",
       "    }\n",
       "</style>\n",
       "<table border=\"1\" class=\"dataframe\">\n",
       "  <thead>\n",
       "    <tr style=\"text-align: right;\">\n",
       "      <th></th>\n",
       "      <th>Unnamed: 0</th>\n",
       "      <th>y</th>\n",
       "      <th>x</th>\n",
       "    </tr>\n",
       "  </thead>\n",
       "  <tbody>\n",
       "    <tr>\n",
       "      <th>0</th>\n",
       "      <td>0</td>\n",
       "      <td>0.064771</td>\n",
       "      <td>0.180249</td>\n",
       "    </tr>\n",
       "    <tr>\n",
       "      <th>1</th>\n",
       "      <td>1</td>\n",
       "      <td>-0.683449</td>\n",
       "      <td>-0.811201</td>\n",
       "    </tr>\n",
       "    <tr>\n",
       "      <th>2</th>\n",
       "      <td>2</td>\n",
       "      <td>0.501485</td>\n",
       "      <td>-0.616333</td>\n",
       "    </tr>\n",
       "    <tr>\n",
       "      <th>3</th>\n",
       "      <td>3</td>\n",
       "      <td>0.263588</td>\n",
       "      <td>-0.749556</td>\n",
       "    </tr>\n",
       "    <tr>\n",
       "      <th>4</th>\n",
       "      <td>4</td>\n",
       "      <td>-0.323165</td>\n",
       "      <td>-0.414561</td>\n",
       "    </tr>\n",
       "  </tbody>\n",
       "</table>\n",
       "</div>"
      ],
      "text/plain": [
       "   Unnamed: 0         y         x\n",
       "0           0  0.064771  0.180249\n",
       "1           1 -0.683449 -0.811201\n",
       "2           2  0.501485 -0.616333\n",
       "3           3  0.263588 -0.749556\n",
       "4           4 -0.323165 -0.414561"
      ]
     },
     "execution_count": 251,
     "metadata": {},
     "output_type": "execute_result"
    }
   ],
   "source": [
    "data = pd.read_csv('./data/hw10t3.csv')\n",
    "X = data.x\n",
    "y = data.y\n",
    "X, y = np.array(sorted(list(zip(list(X), list(y))), key=lambda x: x[0])).T\n",
    "data.head()"
   ]
  },
  {
   "cell_type": "markdown",
   "metadata": {},
   "source": [
    "* Взглянем на данные"
   ]
  },
  {
   "cell_type": "code",
   "execution_count": 252,
   "metadata": {},
   "outputs": [
    {
     "data": {
      "image/png": "[encoded data removed]",
      "text/plain": [
       "<Figure size 1069.2x756 with 1 Axes>"
      ]
     },
     "metadata": {
      "needs_background": "light"
     },
     "output_type": "display_data"
    }
   ],
   "source": [
    "plt.figure(figsize=(29.7/2, 21.0/2))\n",
    "plt.scatter(X, y)\n",
    "plt.show()"
   ]
  },
  {
   "cell_type": "markdown",
   "metadata": {},
   "source": [
    "* Обучим модель Надарайа-Ватсона. С поиском оптимального *bandwidth* при помощи кросс-валидации"
   ]
  },
  {
   "cell_type": "code",
   "execution_count": 297,
   "metadata": {},
   "outputs": [],
   "source": [
    "\"\"\"\n",
    "FROM:\n",
    "https://github.com/jmetzen/kernel_regression\n",
    "\"\"\"\n",
    "\n",
    "\n",
    "class KernelRegression(BaseEstimator, RegressorMixin):\n",
    "    \"\"\"Nadaraya-Watson kernel regression with automatic bandwidth selection.\n",
    "    This implements Nadaraya-Watson kernel regression with (optional) automatic\n",
    "    bandwith selection of the kernel via leave-one-out cross-validation. Kernel\n",
    "    regression is a simple non-parametric kernelized technique for learning\n",
    "    a non-linear relationship between input variable(s) and a target variable.\n",
    "    Parameters\n",
    "    ----------\n",
    "    kernel : string or callable, default=\"rbf\"\n",
    "        Kernel map to be approximated. A callable should accept two arguments\n",
    "        and the keyword arguments passed to this object as kernel_params, and\n",
    "        should return a floating point number.\n",
    "    gamma : float, default=None\n",
    "        Gamma parameter for the RBF (\"bandwidth\"), polynomial,\n",
    "        exponential chi2 and sigmoid kernels. Interpretation of the default\n",
    "        value is left to the kernel; see the documentation for\n",
    "        sklearn.metrics.pairwise. Ignored by other kernels. If a sequence of\n",
    "        values is given, one of these values is selected which minimizes\n",
    "        the mean-squared-error of leave-one-out cross-validation.\n",
    "    See also\n",
    "    --------\n",
    "    sklearn.metrics.pairwise.kernel_metrics : List of built-in kernels.\n",
    "    \"\"\"\n",
    "\n",
    "    def __init__(self, kernel=\"rbf\", gamma=None):\n",
    "        self.kernel = kernel\n",
    "        self.gamma = gamma\n",
    "\n",
    "    def fit(self, X, y):\n",
    "        \"\"\"Fit the model\n",
    "        Parameters\n",
    "        ----------\n",
    "        X : array-like of shape = [n_samples, n_features]\n",
    "            The training input samples.\n",
    "        y : array-like, shape = [n_samples]\n",
    "            The target values\n",
    "        Returns\n",
    "        -------\n",
    "        self : object\n",
    "            Returns self.\n",
    "        \"\"\"\n",
    "        self.X = X\n",
    "        self.y = y\n",
    "\n",
    "        if hasattr(self.gamma, \"__iter__\"):\n",
    "            self.gamma = self._optimize_gamma(self.gamma)\n",
    "\n",
    "        return self\n",
    "\n",
    "    def predict(self, X):\n",
    "        \"\"\"Predict target values for X.\n",
    "        Parameters\n",
    "        ----------\n",
    "        X : array-like of shape = [n_samples, n_features]\n",
    "            The input samples.\n",
    "        Returns\n",
    "        -------\n",
    "        y : array of shape = [n_samples]\n",
    "            The predicted target value.\n",
    "        \"\"\"\n",
    "        K = pairwise_kernels(self.X, X, metric=self.kernel, gamma=self.gamma)\n",
    "        return (K * self.y[:, None]).sum(axis=0) / K.sum(axis=0)\n",
    "\n",
    "    def _optimize_gamma(self, gamma_values):\n",
    "        # Select specific value of gamma from the range of given gamma_values\n",
    "        # by minimizing mean-squared error in leave-one-out cross validation\n",
    "        mse = np.empty_like(gamma_values, dtype=np.float)\n",
    "        for i, gamma in enumerate(gamma_values):\n",
    "            K = pairwise_kernels(self.X, self.X, metric=self.kernel,\n",
    "                                 gamma=gamma)\n",
    "            np.fill_diagonal(K, 0)  # leave-one-out\n",
    "            Ky = K * self.y[:, np.newaxis]\n",
    "            y_pred = Ky.sum(axis=0) / K.sum(axis=0)\n",
    "            mse[i] = ((y_pred - self.y) ** 2).mean()\n",
    "\n",
    "        return gamma_values[np.nanargmin(mse)]"
   ]
  },
  {
   "cell_type": "code",
   "execution_count": 320,
   "metadata": {},
   "outputs": [
    {
     "data": {
      "text/plain": [
       "KernelRegression(gamma=174.89110680051573, kernel='rbf')"
      ]
     },
     "execution_count": 320,
     "metadata": {},
     "output_type": "execute_result"
    }
   ],
   "source": [
    "gs = RandomizedSearchCV(\n",
    "    KernelRegression(),\n",
    "    param_distributions={'gamma': sps.uniform(loc=0, scale=500)},\n",
    "    cv=KFold(20),\n",
    "    scoring='neg_mean_squared_error',\n",
    "    n_jobs=4,\n",
    "    random_state=13,\n",
    "    n_iter=500\n",
    ").fit(X.reshape(-1, 1), y)\n",
    "\n",
    "kr = gs.best_estimator_\n",
    "kr"
   ]
  },
  {
   "cell_type": "markdown",
   "metadata": {},
   "source": [
    "* Обучим модель метода сглаживающего сплайна. Количество узлов (взвешивающий фактор $h$ подбирается эмперически)"
   ]
  },
  {
   "cell_type": "code",
   "execution_count": 321,
   "metadata": {},
   "outputs": [],
   "source": [
    "ss = UnivariateSpline(X, y, k=2, s=50)"
   ]
  },
  {
   "cell_type": "markdown",
   "metadata": {},
   "source": [
    "* Соберём всё вместе и отобразим на графике"
   ]
  },
  {
   "cell_type": "code",
   "execution_count": 322,
   "metadata": {
    "scrolled": false
   },
   "outputs": [
    {
     "data": {
      "image/png": "[encoded data removed]",
      "text/plain": [
       "<Figure size 1069.2x756 with 1 Axes>"
      ]
     },
     "metadata": {
      "needs_background": "light"
     },
     "output_type": "display_data"
    }
   ],
   "source": [
    "grid = np.linspace(np.min(X), np.max(X), 300)\n",
    "# y_nw = kr.fit(grid)[0]\n",
    "y_nw = kr.predict(grid.reshape(-1, 1))\n",
    "y_ss = ss(grid)\n",
    "\n",
    "plt.figure(figsize=(29.7/2, 21.0/2))\n",
    "\n",
    "plt.plot(grid, y_nw, alpha=0.7, color='g', label='Nadaraya-Watson')\n",
    "plt.plot(grid, y_ss, alpha=0.7, color='b', label='Smooth Spline')\n",
    "plt.scatter(X, y, alpha=0.3, color='r', label='Выборка')\n",
    "\n",
    "plt.legend()\n",
    "plt.show()"
   ]
  },
  {
   "cell_type": "markdown",
   "metadata": {},
   "source": [
    "* **Ответы на воросы**"
   ]
  },
  {
   "attachments": {},
   "cell_type": "markdown",
   "metadata": {},
   "source": [
    "> Зачем, на ваш взгляд, добавлять в выражение суммы квадратов интеграл от квадрата второй производной функции $m$?\n",
    "\n",
    "Мне кажется, это сделано для того, чтобы сгладить интерполирующий график. Это похоже на регуляризацию, которая помогает бороться с переобучением\n",
    "\n",
    "> Какой выбор $h$, на ваш взгляд, является оптимальным\n",
    "\n",
    "Я выбирал коэффициент сглаживания опираясь на то, на сколько график получается острым. Хотелось учесть два аспекта: чтобы график угадывал тренд данных и чтобы он не изгибался к отдалёным элементам выборки, так как это могут быть выбросы. Например, как здесь:\n",
    "\n",
    "<img src=\"./img_src/example1.png\" alt=\"drawing\" width=\"100\"/>\n",
    "\n",
    "> Где отличаются графики оценки Надаря-Ватсона и сглаживающего сплайна?\n",
    "\n",
    "Больше всего различия заметны в центре:\n",
    "\n",
    "<img src=\"./img_src/example2.png\" alt=\"drawing\" width=\"300\"/>\n",
    "\n",
    "Причём сглаживающий сплайн даже при сильно меньших коэффициентах сглаживания не вёл себя так\n",
    "\n",
    "> и как вы это объясните?\n",
    "\n",
    "Мне кажется, что интегральный остаток в формуле сглаживающего сплайна весит много, чтобы позволять так метаться вверх-вниз"
   ]
  },
  {
   "cell_type": "markdown",
   "metadata": {},
   "source": [
    "## Задача 4"
   ]
  },
  {
   "cell_type": "markdown",
   "metadata": {},
   "source": [
    "* Загрузим данные"
   ]
  },
  {
   "cell_type": "code",
   "execution_count": 339,
   "metadata": {},
   "outputs": [
    {
     "data": {
      "text/html": [
       "<div>\n",
       "<style scoped>\n",
       "    .dataframe tbody tr th:only-of-type {\n",
       "        vertical-align: middle;\n",
       "    }\n",
       "\n",
       "    .dataframe tbody tr th {\n",
       "        vertical-align: top;\n",
       "    }\n",
       "\n",
       "    .dataframe thead th {\n",
       "        text-align: right;\n",
       "    }\n",
       "</style>\n",
       "<table border=\"1\" class=\"dataframe\">\n",
       "  <thead>\n",
       "    <tr style=\"text-align: right;\">\n",
       "      <th></th>\n",
       "      <th>Unnamed: 0</th>\n",
       "      <th>Andrew</th>\n",
       "      <th>Bernard</th>\n",
       "      <th>Carle</th>\n",
       "      <th>Davide</th>\n",
       "      <th>Eugene</th>\n",
       "      <th>Fred</th>\n",
       "      <th>George</th>\n",
       "      <th>Marmaduke</th>\n",
       "    </tr>\n",
       "  </thead>\n",
       "  <tbody>\n",
       "    <tr>\n",
       "      <th>0</th>\n",
       "      <td>0</td>\n",
       "      <td>-36.944209</td>\n",
       "      <td>7.115482</td>\n",
       "      <td>3.076607</td>\n",
       "      <td>1.832458</td>\n",
       "      <td>2.059673</td>\n",
       "      <td>0.112941</td>\n",
       "      <td>-0.706182</td>\n",
       "      <td>5.409550</td>\n",
       "    </tr>\n",
       "    <tr>\n",
       "      <th>1</th>\n",
       "      <td>1</td>\n",
       "      <td>-76.268155</td>\n",
       "      <td>9.871361</td>\n",
       "      <td>1.854843</td>\n",
       "      <td>1.628231</td>\n",
       "      <td>2.818672</td>\n",
       "      <td>0.061049</td>\n",
       "      <td>-0.595321</td>\n",
       "      <td>4.869631</td>\n",
       "    </tr>\n",
       "    <tr>\n",
       "      <th>2</th>\n",
       "      <td>2</td>\n",
       "      <td>-45.020962</td>\n",
       "      <td>7.772921</td>\n",
       "      <td>1.019105</td>\n",
       "      <td>1.595419</td>\n",
       "      <td>-0.906164</td>\n",
       "      <td>0.236599</td>\n",
       "      <td>-1.759698</td>\n",
       "      <td>3.493061</td>\n",
       "    </tr>\n",
       "    <tr>\n",
       "      <th>3</th>\n",
       "      <td>3</td>\n",
       "      <td>-31.935210</td>\n",
       "      <td>6.670168</td>\n",
       "      <td>2.117598</td>\n",
       "      <td>-1.274111</td>\n",
       "      <td>1.835605</td>\n",
       "      <td>0.270813</td>\n",
       "      <td>1.996759</td>\n",
       "      <td>4.904334</td>\n",
       "    </tr>\n",
       "    <tr>\n",
       "      <th>4</th>\n",
       "      <td>4</td>\n",
       "      <td>-40.738145</td>\n",
       "      <td>7.432577</td>\n",
       "      <td>0.048449</td>\n",
       "      <td>-0.865901</td>\n",
       "      <td>2.321549</td>\n",
       "      <td>0.086520</td>\n",
       "      <td>1.720531</td>\n",
       "      <td>3.247345</td>\n",
       "    </tr>\n",
       "  </tbody>\n",
       "</table>\n",
       "</div>"
      ],
      "text/plain": [
       "   Unnamed: 0     Andrew   Bernard     Carle    Davide    Eugene      Fred  \\\n",
       "0           0 -36.944209  7.115482  3.076607  1.832458  2.059673  0.112941   \n",
       "1           1 -76.268155  9.871361  1.854843  1.628231  2.818672  0.061049   \n",
       "2           2 -45.020962  7.772921  1.019105  1.595419 -0.906164  0.236599   \n",
       "3           3 -31.935210  6.670168  2.117598 -1.274111  1.835605  0.270813   \n",
       "4           4 -40.738145  7.432577  0.048449 -0.865901  2.321549  0.086520   \n",
       "\n",
       "     George  Marmaduke  \n",
       "0 -0.706182   5.409550  \n",
       "1 -0.595321   4.869631  \n",
       "2 -1.759698   3.493061  \n",
       "3  1.996759   4.904334  \n",
       "4  1.720531   3.247345  "
      ]
     },
     "execution_count": 339,
     "metadata": {},
     "output_type": "execute_result"
    }
   ],
   "source": [
    "data = pd.read_csv('./data/hw10t4.csv')\n",
    "\n",
    "X = data[data.columns[1:-1]].values\n",
    "y = data.Marmaduke.values\n",
    "data.head()"
   ]
  },
  {
   "cell_type": "markdown",
   "metadata": {},
   "source": [
    "* Изучим их"
   ]
  },
  {
   "cell_type": "code",
   "execution_count": 340,
   "metadata": {},
   "outputs": [
    {
     "data": {
      "image/png": "[encoded data removed]",
      "text/plain": [
       "<Figure size 1069.2x756 with 1 Axes>"
      ]
     },
     "metadata": {
      "needs_background": "light"
     },
     "output_type": "display_data"
    }
   ],
   "source": [
    "plt.figure(figsize=(29.7/2, 21.0/2))\n",
    "plt.hist(y)\n",
    "plt.show()"
   ]
  },
  {
   "cell_type": "markdown",
   "metadata": {},
   "source": [
    "* Найдём оптимальную оценку Надарайа-Ватсона"
   ]
  },
  {
   "cell_type": "code",
   "execution_count": 359,
   "metadata": {},
   "outputs": [
    {
     "name": "stdout",
     "output_type": "stream",
     "text": [
      "Best score is  -1.920560622706318\n"
     ]
    },
    {
     "data": {
      "text/plain": [
       "KernelRegression(gamma=0.41015757793906793, kernel='rbf')"
      ]
     },
     "execution_count": 359,
     "metadata": {},
     "output_type": "execute_result"
    }
   ],
   "source": [
    "gs = RandomizedSearchCV(\n",
    "    KernelRegression(),\n",
    "    param_distributions={'gamma': sps.uniform(loc=0.1, scale=2)},\n",
    "    cv=KFold(20),\n",
    "    scoring='neg_mean_squared_error',\n",
    "    n_jobs=4,\n",
    "    random_state=13,\n",
    "    n_iter=500\n",
    ").fit(X, y)\n",
    "\n",
    "kr = gs.best_estimator_\n",
    "print(\"Best score is \", gs.best_score_)\n",
    "kr"
   ]
  },
  {
   "cell_type": "markdown",
   "metadata": {},
   "source": [
    "* Найдём оптимальную линейную регрессию\n",
    "\n",
    "В этом задинии линейная регрессия нужно лишь просто для демонстрации бейзлайна. Но после прошлого дз в качестве бейзлайна решил взять гребневую регрессию"
   ]
  },
  {
   "cell_type": "code",
   "execution_count": 365,
   "metadata": {},
   "outputs": [
    {
     "name": "stdout",
     "output_type": "stream",
     "text": [
      "Best score is  -1.7437368929157788\n"
     ]
    },
    {
     "data": {
      "text/plain": [
       "Ridge(alpha=8.452930539549639, copy_X=True, fit_intercept=True, max_iter=None,\n",
       "      normalize=False, random_state=None, solver='auto', tol=0.001)"
      ]
     },
     "execution_count": 365,
     "metadata": {},
     "output_type": "execute_result"
    }
   ],
   "source": [
    "gs = RandomizedSearchCV(\n",
    "    Ridge(),\n",
    "    param_distributions={'alpha': sps.uniform(loc=0.01, scale=10)},\n",
    "    cv=KFold(20),\n",
    "    scoring='neg_mean_squared_error',\n",
    "    n_jobs=4,\n",
    "    n_iter=100\n",
    ").fit(X, y)\n",
    "\n",
    "lr = gs.best_estimator_\n",
    "print(\"Best score is \", gs.best_score_)\n",
    "lr"
   ]
  },
  {
   "attachments": {},
   "cell_type": "markdown",
   "metadata": {},
   "source": [
    "* Найдём оптимальную модель алгоритма настройки с возвращением\n",
    "\n",
    "В стандартных библиотеках такого метода не нашёл. Поэтому реализую по алгоритму из лекции\n",
    "\n",
    "<img src=\"./img_src/example3.png\" alt=\"drawing\" width=\"450\"/>"
   ]
  },
  {
   "cell_type": "code",
   "execution_count": 383,
   "metadata": {},
   "outputs": [],
   "source": [
    "class ConfigureReturn(BaseEstimator):\n",
    "    def __init__(self, gamma=None, niter=1):\n",
    "        self.gamma = gamma\n",
    "        self.niter = niter\n",
    "    \n",
    "    def initialize_phi(self, X, y):\n",
    "        lr = LinearRegression()\n",
    "        lr.fit(X, y)\n",
    "        self.phi = [lambda x: coef * x.flatten() for coef in lr.coef_]\n",
    "    \n",
    "    def step(self, X, y):\n",
    "        n, k = X.shape\n",
    "        for j in range(k):\n",
    "            z = y\n",
    "            for j1 in range(k):\n",
    "                if j1 == j:\n",
    "                    continue\n",
    "                    \n",
    "                z = z - self.phi[j1](X.T[j1].reshape(-1, 1))\n",
    "\n",
    "            kr = KernelRegression(gamma=self.gamma)\n",
    "            kr.fit(X.T[j].reshape(-1, 1), z)\n",
    "            self.phi[j] = kr.predict\n",
    "\n",
    "    def fit(self, X, y):\n",
    "        assert len(X.shape) == 2\n",
    "\n",
    "        self.initialize_phi(X, y)\n",
    "        for _ in range(self.niter):\n",
    "            self.step(X, y)\n",
    "            \n",
    "    def predict(self, X):\n",
    "        n, k = X.shape\n",
    "        z = np.zeros(n)\n",
    "        for j in range(k):\n",
    "            z += self.phi[j](X.T[j].reshape(-1, 1))\n",
    "        return z"
   ]
  },
  {
   "cell_type": "code",
   "execution_count": 387,
   "metadata": {},
   "outputs": [
    {
     "name": "stdout",
     "output_type": "stream",
     "text": [
      "Best score is  -0.43581927407770155\n"
     ]
    },
    {
     "data": {
      "text/plain": [
       "ConfigureReturn(gamma=5.105706097213753, niter=3)"
      ]
     },
     "execution_count": 387,
     "metadata": {},
     "output_type": "execute_result"
    }
   ],
   "source": [
    "gs = RandomizedSearchCV(\n",
    "    ConfigureReturn(niter=3),\n",
    "    param_distributions={'gamma': sps.uniform(loc=0.1, scale=20)},\n",
    "    cv=KFold(20),\n",
    "    scoring='neg_mean_squared_error',\n",
    "    n_jobs=4,\n",
    "    n_iter=40\n",
    ").fit(X, y)\n",
    "\n",
    "cr = gs.best_estimator_\n",
    "print(\"Best score is \", gs.best_score_)\n",
    "cr"
   ]
  },
  {
   "cell_type": "markdown",
   "metadata": {},
   "source": [
    "* **Вывод** Можно заметить, что настройка с возвращением отработала лучше всего. В то время как оценка Надарайа-Ватсона хуже регрессии"
   ]
  },
  {
   "cell_type": "markdown",
   "metadata": {},
   "source": [
    "## Задача 5"
   ]
  },
  {
   "cell_type": "markdown",
   "metadata": {},
   "source": [
    "* Загрузим данные"
   ]
  },
  {
   "cell_type": "code",
   "execution_count": 397,
   "metadata": {},
   "outputs": [],
   "source": [
    "data = pd.read_csv('./data/hw10t5_train.csv')\n",
    "data = data[data.columns[4:]] # get rid of categorical columns\n",
    "\n",
    "test_mask = data.y.isnull()\n",
    "train_mask = ~test_mask\n",
    "\n",
    "train = shuffle(data[train_mask])\n",
    "test = data[test_mask]\n",
    "\n",
    "X_train = train[train.columns[:-1]]\n",
    "y_train = train[train.columns[-1]]\n",
    "\n",
    "X_test = test[test.columns[:-1]]"
   ]
  },
  {
   "cell_type": "markdown",
   "metadata": {},
   "source": [
    "* Изучим поближе данные"
   ]
  },
  {
   "cell_type": "code",
   "execution_count": 401,
   "metadata": {},
   "outputs": [
    {
     "data": {
      "text/html": [
       "<div>\n",
       "<style scoped>\n",
       "    .dataframe tbody tr th:only-of-type {\n",
       "        vertical-align: middle;\n",
       "    }\n",
       "\n",
       "    .dataframe tbody tr th {\n",
       "        vertical-align: top;\n",
       "    }\n",
       "\n",
       "    .dataframe thead th {\n",
       "        text-align: right;\n",
       "    }\n",
       "</style>\n",
       "<table border=\"1\" class=\"dataframe\">\n",
       "  <thead>\n",
       "    <tr style=\"text-align: right;\">\n",
       "      <th></th>\n",
       "      <th>3</th>\n",
       "      <th>4</th>\n",
       "      <th>5</th>\n",
       "      <th>6</th>\n",
       "      <th>7</th>\n",
       "      <th>8</th>\n",
       "      <th>9</th>\n",
       "      <th>10</th>\n",
       "      <th>11</th>\n",
       "      <th>12</th>\n",
       "      <th>13</th>\n",
       "      <th>y</th>\n",
       "    </tr>\n",
       "  </thead>\n",
       "  <tbody>\n",
       "    <tr>\n",
       "      <th>0</th>\n",
       "      <td>-3.639</td>\n",
       "      <td>0.418</td>\n",
       "      <td>-0.670</td>\n",
       "      <td>1.779</td>\n",
       "      <td>-0.168</td>\n",
       "      <td>1.627</td>\n",
       "      <td>-0.388</td>\n",
       "      <td>0.529</td>\n",
       "      <td>-0.874</td>\n",
       "      <td>-0.814</td>\n",
       "      <td>0</td>\n",
       "      <td>5.238254</td>\n",
       "    </tr>\n",
       "    <tr>\n",
       "      <th>1</th>\n",
       "      <td>-3.327</td>\n",
       "      <td>0.496</td>\n",
       "      <td>-0.694</td>\n",
       "      <td>1.365</td>\n",
       "      <td>-0.265</td>\n",
       "      <td>1.933</td>\n",
       "      <td>-0.363</td>\n",
       "      <td>0.510</td>\n",
       "      <td>-0.621</td>\n",
       "      <td>-0.488</td>\n",
       "      <td>1</td>\n",
       "      <td>7.474420</td>\n",
       "    </tr>\n",
       "    <tr>\n",
       "      <th>2</th>\n",
       "      <td>-2.120</td>\n",
       "      <td>0.894</td>\n",
       "      <td>-1.576</td>\n",
       "      <td>0.147</td>\n",
       "      <td>-0.707</td>\n",
       "      <td>1.559</td>\n",
       "      <td>-0.579</td>\n",
       "      <td>0.676</td>\n",
       "      <td>-0.809</td>\n",
       "      <td>-0.049</td>\n",
       "      <td>2</td>\n",
       "      <td>7.011719</td>\n",
       "    </tr>\n",
       "    <tr>\n",
       "      <th>3</th>\n",
       "      <td>-2.287</td>\n",
       "      <td>1.809</td>\n",
       "      <td>-1.498</td>\n",
       "      <td>1.012</td>\n",
       "      <td>-1.053</td>\n",
       "      <td>1.060</td>\n",
       "      <td>-0.567</td>\n",
       "      <td>0.235</td>\n",
       "      <td>-0.091</td>\n",
       "      <td>-0.795</td>\n",
       "      <td>3</td>\n",
       "      <td>2.288058</td>\n",
       "    </tr>\n",
       "    <tr>\n",
       "      <th>4</th>\n",
       "      <td>-2.598</td>\n",
       "      <td>1.938</td>\n",
       "      <td>-0.846</td>\n",
       "      <td>1.062</td>\n",
       "      <td>-1.633</td>\n",
       "      <td>0.764</td>\n",
       "      <td>0.394</td>\n",
       "      <td>-0.150</td>\n",
       "      <td>0.277</td>\n",
       "      <td>-0.396</td>\n",
       "      <td>4</td>\n",
       "      <td>3.391995</td>\n",
       "    </tr>\n",
       "  </tbody>\n",
       "</table>\n",
       "</div>"
      ],
      "text/plain": [
       "       3      4      5      6      7      8      9     10     11     12  13  \\\n",
       "0 -3.639  0.418 -0.670  1.779 -0.168  1.627 -0.388  0.529 -0.874 -0.814   0   \n",
       "1 -3.327  0.496 -0.694  1.365 -0.265  1.933 -0.363  0.510 -0.621 -0.488   1   \n",
       "2 -2.120  0.894 -1.576  0.147 -0.707  1.559 -0.579  0.676 -0.809 -0.049   2   \n",
       "3 -2.287  1.809 -1.498  1.012 -1.053  1.060 -0.567  0.235 -0.091 -0.795   3   \n",
       "4 -2.598  1.938 -0.846  1.062 -1.633  0.764  0.394 -0.150  0.277 -0.396   4   \n",
       "\n",
       "          y  \n",
       "0  5.238254  \n",
       "1  7.474420  \n",
       "2  7.011719  \n",
       "3  2.288058  \n",
       "4  3.391995  "
      ]
     },
     "execution_count": 401,
     "metadata": {},
     "output_type": "execute_result"
    }
   ],
   "source": [
    "data.head()"
   ]
  },
  {
   "cell_type": "code",
   "execution_count": 402,
   "metadata": {},
   "outputs": [
    {
     "data": {
      "text/html": [
       "<div>\n",
       "<style scoped>\n",
       "    .dataframe tbody tr th:only-of-type {\n",
       "        vertical-align: middle;\n",
       "    }\n",
       "\n",
       "    .dataframe tbody tr th {\n",
       "        vertical-align: top;\n",
       "    }\n",
       "\n",
       "    .dataframe thead th {\n",
       "        text-align: right;\n",
       "    }\n",
       "</style>\n",
       "<table border=\"1\" class=\"dataframe\">\n",
       "  <thead>\n",
       "    <tr style=\"text-align: right;\">\n",
       "      <th></th>\n",
       "      <th>3</th>\n",
       "      <th>4</th>\n",
       "      <th>5</th>\n",
       "      <th>6</th>\n",
       "      <th>7</th>\n",
       "      <th>8</th>\n",
       "      <th>9</th>\n",
       "      <th>10</th>\n",
       "      <th>11</th>\n",
       "      <th>12</th>\n",
       "      <th>13</th>\n",
       "      <th>y</th>\n",
       "    </tr>\n",
       "  </thead>\n",
       "  <tbody>\n",
       "    <tr>\n",
       "      <th>count</th>\n",
       "      <td>989.000000</td>\n",
       "      <td>989.000000</td>\n",
       "      <td>989.000000</td>\n",
       "      <td>989.000000</td>\n",
       "      <td>989.000000</td>\n",
       "      <td>989.000000</td>\n",
       "      <td>989.000000</td>\n",
       "      <td>989.000000</td>\n",
       "      <td>989.000000</td>\n",
       "      <td>989.000000</td>\n",
       "      <td>989.000000</td>\n",
       "      <td>800.000000</td>\n",
       "    </tr>\n",
       "    <tr>\n",
       "      <th>mean</th>\n",
       "      <td>-3.203652</td>\n",
       "      <td>1.881316</td>\n",
       "      <td>-0.507597</td>\n",
       "      <td>0.515716</td>\n",
       "      <td>-0.306413</td>\n",
       "      <td>0.630319</td>\n",
       "      <td>-0.004140</td>\n",
       "      <td>0.336777</td>\n",
       "      <td>-0.302004</td>\n",
       "      <td>-0.072116</td>\n",
       "      <td>4.994944</td>\n",
       "      <td>4.917089</td>\n",
       "    </tr>\n",
       "    <tr>\n",
       "      <th>std</th>\n",
       "      <td>0.869422</td>\n",
       "      <td>1.175782</td>\n",
       "      <td>0.712288</td>\n",
       "      <td>0.759610</td>\n",
       "      <td>0.664514</td>\n",
       "      <td>0.604172</td>\n",
       "      <td>0.462106</td>\n",
       "      <td>0.573549</td>\n",
       "      <td>0.570077</td>\n",
       "      <td>0.603796</td>\n",
       "      <td>3.161473</td>\n",
       "      <td>2.398512</td>\n",
       "    </tr>\n",
       "    <tr>\n",
       "      <th>min</th>\n",
       "      <td>-5.211000</td>\n",
       "      <td>-1.274000</td>\n",
       "      <td>-2.487000</td>\n",
       "      <td>-1.409000</td>\n",
       "      <td>-2.127000</td>\n",
       "      <td>-0.836000</td>\n",
       "      <td>-1.537000</td>\n",
       "      <td>-1.293000</td>\n",
       "      <td>-1.613000</td>\n",
       "      <td>-1.680000</td>\n",
       "      <td>0.000000</td>\n",
       "      <td>-6.058885</td>\n",
       "    </tr>\n",
       "    <tr>\n",
       "      <th>25%</th>\n",
       "      <td>-3.888000</td>\n",
       "      <td>1.050000</td>\n",
       "      <td>-0.976000</td>\n",
       "      <td>-0.066000</td>\n",
       "      <td>-0.769000</td>\n",
       "      <td>0.195000</td>\n",
       "      <td>-0.307000</td>\n",
       "      <td>-0.096000</td>\n",
       "      <td>-0.704000</td>\n",
       "      <td>-0.548000</td>\n",
       "      <td>2.000000</td>\n",
       "      <td>3.446049</td>\n",
       "    </tr>\n",
       "    <tr>\n",
       "      <th>50%</th>\n",
       "      <td>-3.145000</td>\n",
       "      <td>1.873000</td>\n",
       "      <td>-0.572000</td>\n",
       "      <td>0.434000</td>\n",
       "      <td>-0.299000</td>\n",
       "      <td>0.550000</td>\n",
       "      <td>0.022000</td>\n",
       "      <td>0.328000</td>\n",
       "      <td>-0.302000</td>\n",
       "      <td>-0.157000</td>\n",
       "      <td>5.000000</td>\n",
       "      <td>4.975193</td>\n",
       "    </tr>\n",
       "    <tr>\n",
       "      <th>75%</th>\n",
       "      <td>-2.601000</td>\n",
       "      <td>2.739000</td>\n",
       "      <td>-0.068000</td>\n",
       "      <td>1.098000</td>\n",
       "      <td>0.168000</td>\n",
       "      <td>1.029000</td>\n",
       "      <td>0.297000</td>\n",
       "      <td>0.771000</td>\n",
       "      <td>0.094000</td>\n",
       "      <td>0.371000</td>\n",
       "      <td>8.000000</td>\n",
       "      <td>6.336053</td>\n",
       "    </tr>\n",
       "    <tr>\n",
       "      <th>max</th>\n",
       "      <td>-0.941000</td>\n",
       "      <td>5.074000</td>\n",
       "      <td>1.431000</td>\n",
       "      <td>2.377000</td>\n",
       "      <td>1.831000</td>\n",
       "      <td>2.327000</td>\n",
       "      <td>1.403000</td>\n",
       "      <td>2.039000</td>\n",
       "      <td>1.309000</td>\n",
       "      <td>1.396000</td>\n",
       "      <td>10.000000</td>\n",
       "      <td>26.979337</td>\n",
       "    </tr>\n",
       "  </tbody>\n",
       "</table>\n",
       "</div>"
      ],
      "text/plain": [
       "                3           4           5           6           7           8  \\\n",
       "count  989.000000  989.000000  989.000000  989.000000  989.000000  989.000000   \n",
       "mean    -3.203652    1.881316   -0.507597    0.515716   -0.306413    0.630319   \n",
       "std      0.869422    1.175782    0.712288    0.759610    0.664514    0.604172   \n",
       "min     -5.211000   -1.274000   -2.487000   -1.409000   -2.127000   -0.836000   \n",
       "25%     -3.888000    1.050000   -0.976000   -0.066000   -0.769000    0.195000   \n",
       "50%     -3.145000    1.873000   -0.572000    0.434000   -0.299000    0.550000   \n",
       "75%     -2.601000    2.739000   -0.068000    1.098000    0.168000    1.029000   \n",
       "max     -0.941000    5.074000    1.431000    2.377000    1.831000    2.327000   \n",
       "\n",
       "                9          10          11          12          13           y  \n",
       "count  989.000000  989.000000  989.000000  989.000000  989.000000  800.000000  \n",
       "mean    -0.004140    0.336777   -0.302004   -0.072116    4.994944    4.917089  \n",
       "std      0.462106    0.573549    0.570077    0.603796    3.161473    2.398512  \n",
       "min     -1.537000   -1.293000   -1.613000   -1.680000    0.000000   -6.058885  \n",
       "25%     -0.307000   -0.096000   -0.704000   -0.548000    2.000000    3.446049  \n",
       "50%      0.022000    0.328000   -0.302000   -0.157000    5.000000    4.975193  \n",
       "75%      0.297000    0.771000    0.094000    0.371000    8.000000    6.336053  \n",
       "max      1.403000    2.039000    1.309000    1.396000   10.000000   26.979337  "
      ]
     },
     "execution_count": 402,
     "metadata": {},
     "output_type": "execute_result"
    }
   ],
   "source": [
    "data.describe()"
   ]
  },
  {
   "cell_type": "code",
   "execution_count": 400,
   "metadata": {},
   "outputs": [
    {
     "data": {
      "image/png": "[encoded data removed]",
      "text/plain": [
       "<Figure size 1069.2x756 with 1 Axes>"
      ]
     },
     "metadata": {
      "needs_background": "light"
     },
     "output_type": "display_data"
    }
   ],
   "source": [
    "plt.figure(figsize=(29.7/2, 21.0/2))\n",
    "plt.hist(y_train)\n",
    "plt.show()"
   ]
  },
  {
   "cell_type": "markdown",
   "metadata": {},
   "source": [
    "* Попытаемся найти оптимальную оценку Надарайа-Ватсона"
   ]
  },
  {
   "cell_type": "code",
   "execution_count": 403,
   "metadata": {},
   "outputs": [
    {
     "name": "stdout",
     "output_type": "stream",
     "text": [
      "Best score is  -3.4595683241552764\n"
     ]
    },
    {
     "data": {
      "text/plain": [
       "KernelRegression(gamma=0.8843813258258434, kernel='rbf')"
      ]
     },
     "execution_count": 403,
     "metadata": {},
     "output_type": "execute_result"
    }
   ],
   "source": [
    "gs = RandomizedSearchCV(\n",
    "    KernelRegression(),\n",
    "    param_distributions={'gamma': sps.uniform(loc=0.1, scale=2)},\n",
    "    cv=KFold(20),\n",
    "    scoring='neg_mean_squared_error',\n",
    "    n_jobs=4,\n",
    "    random_state=13,\n",
    "    n_iter=500\n",
    ").fit(X_train, y_train)\n",
    "\n",
    "kr = gs.best_estimator_\n",
    "print(\"Best score is \", gs.best_score_)\n",
    "kr"
   ]
  },
  {
   "cell_type": "markdown",
   "metadata": {},
   "source": [
    "* Найдём оптимальную линейную регрессию"
   ]
  },
  {
   "cell_type": "code",
   "execution_count": 412,
   "metadata": {},
   "outputs": [
    {
     "name": "stdout",
     "output_type": "stream",
     "text": [
      "Best score is  -3.8039058641075227\n"
     ]
    },
    {
     "data": {
      "text/plain": [
       "Ridge(alpha=14.37859747422873, copy_X=True, fit_intercept=True, max_iter=None,\n",
       "      normalize=False, random_state=None, solver='auto', tol=0.001)"
      ]
     },
     "execution_count": 412,
     "metadata": {},
     "output_type": "execute_result"
    }
   ],
   "source": [
    "scaler = StandardScaler()\n",
    "X_train_scaled = scaler.fit_transform(X_train)\n",
    "gs = RandomizedSearchCV(\n",
    "    Ridge(),\n",
    "    param_distributions={'alpha': sps.uniform(loc=0.01, scale=20)},\n",
    "    cv=KFold(20),\n",
    "    scoring='neg_mean_squared_error',\n",
    "    n_jobs=4,\n",
    "    n_iter=300\n",
    ").fit(X_train_scaled, y_train)\n",
    "\n",
    "lr = gs.best_estimator_\n",
    "print(\"Best score is \", gs.best_score_)\n",
    "lr"
   ]
  },
  {
   "cell_type": "markdown",
   "metadata": {},
   "source": [
    "* Найдём оптимальную модель алгоритма настройки с возвращением"
   ]
  },
  {
   "cell_type": "code",
   "execution_count": 416,
   "metadata": {},
   "outputs": [
    {
     "name": "stdout",
     "output_type": "stream",
     "text": [
      "Best score is  -3.2666867797474035\n",
      "CPU times: user 7.39 s, sys: 173 ms, total: 7.56 s\n",
      "Wall time: 6min 14s\n"
     ]
    },
    {
     "data": {
      "text/plain": [
       "ConfigureReturn(gamma=9.636989491127961, niter=3)"
      ]
     },
     "execution_count": 416,
     "metadata": {},
     "output_type": "execute_result"
    }
   ],
   "source": [
    "%%time\n",
    "gs = RandomizedSearchCV(\n",
    "    ConfigureReturn(niter=3),\n",
    "    param_distributions={'gamma': sps.uniform(loc=0.1, scale=20)},\n",
    "    cv=KFold(20),\n",
    "    scoring='neg_mean_squared_error',\n",
    "    n_jobs=4,\n",
    "    n_iter=20\n",
    ").fit(X_train.values, y_train.values)\n",
    "\n",
    "cr = gs.best_estimator_\n",
    "print(\"Best score is \", gs.best_score_)\n",
    "cr"
   ]
  },
  {
   "cell_type": "markdown",
   "metadata": {},
   "source": [
    "* **Вывод:**\n",
    "\n",
    "Так как б`ольшая часть работы уже проделана в 4-ом задании. То здесь я так же поэксперементировал с тремя моделями\n",
    "Настройка с возвращением так же показала лучший результат. Для предсказания на X_train я использовал бы этот метод"
   ]
  },
  {
   "cell_type": "code",
   "execution_count": null,
   "metadata": {},
   "outputs": [],
   "source": []
  }
 ],
 "metadata": {
  "kernelspec": {
   "display_name": "Python 3",
   "language": "python",
   "name": "python3"
  },
  "language_info": {
   "codemirror_mode": {
    "name": "ipython",
    "version": 3
   },
   "file_extension": ".py",
   "mimetype": "text/x-python",
   "name": "python",
   "nbconvert_exporter": "python",
   "pygments_lexer": "ipython3",
   "version": "3.6.10"
  }
 },
 "nbformat": 4,
 "nbformat_minor": 2
}
