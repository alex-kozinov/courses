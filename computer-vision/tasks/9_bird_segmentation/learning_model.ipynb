{
  "nbformat": 4,
  "nbformat_minor": 0,
  "metadata": {
    "kernelspec": {
      "display_name": "Python 3",
      "language": "python",
      "name": "python3"
    },
    "language_info": {
      "codemirror_mode": {
        "name": "ipython",
        "version": 3
      },
      "file_extension": ".py",
      "mimetype": "text/x-python",
      "name": "python",
      "nbconvert_exporter": "python",
      "pygments_lexer": "ipython3",
      "version": "3.6.10"
    },
    "colab": {
      "name": "learning_model.ipynb",
      "provenance": []
    },
    "accelerator": "GPU"
  },
  "cells": [
    {
      "cell_type": "markdown",
      "metadata": {
        "id": "XeFIOnDtNcdD"
      },
      "source": [
        "# Дополнительная установка"
      ]
    },
    {
      "cell_type": "code",
      "metadata": {
        "id": "zIoY3fN4OFjV"
      },
      "source": [
        "MODEL_SAVE_DIR = \"models/CV/bird_segmentation\"\n",
        "MOUNT_DIR = '/content/drive' # In case Colab Usage"
      ],
      "execution_count": 8,
      "outputs": []
    },
    {
      "cell_type": "code",
      "metadata": {
        "id": "hfQgsXEiNj8S",
        "outputId": "f3505f28-c09e-420a-febd-1365978c4947",
        "colab": {
          "base_uri": "https://localhost:8080/"
        }
      },
      "source": [
        "!wget https://raw.githubusercontent.com/alex-kozinov/courses/master/computer-vision/tasks/9_bird_segmentation/segmentation.py?token=AC5LOYGIJFCCMPKTNNGWEY3AEAIPC -O segmentation.py"
      ],
      "execution_count": 2,
      "outputs": [
        {
          "output_type": "stream",
          "text": [
            "--2021-01-31 16:36:49--  https://raw.githubusercontent.com/alex-kozinov/courses/master/computer-vision/tasks/9_bird_segmentation/segmentation.py?token=AC5LOYGIJFCCMPKTNNGWEY3AEAIPC\n",
            "Resolving raw.githubusercontent.com (raw.githubusercontent.com)... 151.101.0.133, 151.101.64.133, 151.101.128.133, ...\n",
            "Connecting to raw.githubusercontent.com (raw.githubusercontent.com)|151.101.0.133|:443... connected.\n",
            "HTTP request sent, awaiting response... 200 OK\n",
            "Length: 4241 (4.1K) [text/plain]\n",
            "Saving to: ‘segmentation.py’\n",
            "\n",
            "\rsegmentation.py       0%[                    ]       0  --.-KB/s               \rsegmentation.py     100%[===================>]   4.14K  --.-KB/s    in 0s      \n",
            "\n",
            "2021-01-31 16:36:49 (47.1 MB/s) - ‘segmentation.py’ saved [4241/4241]\n",
            "\n"
          ],
          "name": "stdout"
        }
      ]
    },
    {
      "cell_type": "markdown",
      "metadata": {
        "id": "csvfON2mNHmP"
      },
      "source": [
        "# Подключение библиотек"
      ]
    },
    {
      "cell_type": "code",
      "metadata": {
        "id": "OdSn26o2N--e",
        "outputId": "060da2b8-38b3-4811-81f0-160a925590be",
        "colab": {
          "base_uri": "https://localhost:8080/"
        }
      },
      "source": [
        "from segmentation import train_model\n",
        "import os\n",
        "\n",
        "try:\n",
        "    from google.colab import files, drive\n",
        "    \n",
        "    USE_COLAB = True\n",
        "except:\n",
        "    USE_COLAB = False\n",
        "\n",
        "if USE_COLAB:\n",
        "    print(\"Don't forget to avoid disconnections:\")\n",
        "    print(\"\"\"\n",
        "function ClickConnect(){\n",
        "    console.log(\"Clicking\"); \n",
        "    document.querySelector(\"colab-connect-button\").click() \n",
        "}\n",
        "setInterval(ClickConnect,60000)\n",
        "    \"\"\")"
      ],
      "execution_count": 3,
      "outputs": [
        {
          "output_type": "stream",
          "text": [
            "Don't forget to avoid disconnections:\n",
            "\n",
            "function ClickConnect(){\n",
            "    console.log(\"Clicking\"); \n",
            "    document.querySelector(\"colab-connect-button\").click() \n",
            "}\n",
            "setInterval(ClickConnect,60000)\n",
            "    \n"
          ],
          "name": "stdout"
        }
      ]
    },
    {
      "cell_type": "markdown",
      "metadata": {
        "id": "E1wNANlIN_TQ"
      },
      "source": [
        "# Загрузка данных"
      ]
    },
    {
      "cell_type": "code",
      "metadata": {
        "id": "KLtoLCvaOBmt",
        "outputId": "0b7c98c4-5199-4b45-f955-aa011222e49f",
        "colab": {
          "base_uri": "https://localhost:8080/"
        }
      },
      "source": [
        "if USE_COLAB:\n",
        "    drive.mount(MOUNT_DIR)\n",
        "    DRIVE_DIR = os.path.join(MOUNT_DIR, 'My Drive')\n",
        "    print(f\"Drive directory is {DRIVE_DIR}\")"
      ],
      "execution_count": 4,
      "outputs": [
        {
          "output_type": "stream",
          "text": [
            "Drive already mounted at /content/drive; to attempt to forcibly remount, call drive.mount(\"/content/drive\", force_remount=True).\n",
            "Drive directory is /content/drive/My Drive\n"
          ],
          "name": "stdout"
        }
      ]
    },
    {
      "cell_type": "code",
      "metadata": {
        "id": "IUgnPONzPBWZ"
      },
      "source": [
        "data_archive_path = os.path.join(DRIVE_DIR, 'datasets/CV2020/segmentation/public_tests.zip')"
      ],
      "execution_count": 5,
      "outputs": []
    },
    {
      "cell_type": "code",
      "metadata": {
        "id": "TPXLtD6WXvna"
      },
      "source": [
        "!rm -r ./public_tests"
      ],
      "execution_count": 31,
      "outputs": []
    },
    {
      "cell_type": "code",
      "metadata": {
        "id": "mWkVtxqSO1i2"
      },
      "source": [
        "\n",
        "!unzip -o \"$data_archive_path\" -d \"./public_tests\" > /dev/null"
      ],
      "execution_count": 32,
      "outputs": []
    },
    {
      "cell_type": "code",
      "metadata": {
        "id": "IACyoBC0S6P4",
        "outputId": "730b4e44-2864-4c6c-b4f0-bc9c8f318c38",
        "colab": {
          "base_uri": "https://localhost:8080/"
        }
      },
      "source": [
        "!ls"
      ],
      "execution_count": 7,
      "outputs": [
        {
          "output_type": "stream",
          "text": [
            " 00_test_img_gt      sample_data\n",
            " 00_test_img_input   segmentation.py\n",
            " drive\t\t    'segmentation.py?token=AC5LOYGIJFCCMPKTNNGWEY3AEAIPC'\n",
            " public_tests\t    'segmentation.py?token=AC5LOYGIJFCCMPKTNNGWEY3AEAIPC.1'\n",
            " __pycache__\n"
          ],
          "name": "stdout"
        }
      ]
    },
    {
      "cell_type": "markdown",
      "metadata": {
        "id": "CVOV5SDiS_Bq"
      },
      "source": [
        "# Обучение модели "
      ]
    },
    {
      "cell_type": "code",
      "metadata": {
        "id": "F0t-TLL5TITm",
        "outputId": "4e19de75-33b0-48f7-bcf7-df2443b25186",
        "colab": {
          "base_uri": "https://localhost:8080/"
        }
      },
      "source": [
        "train_model('./public_tests/00_test_val_input/train', os.path.join(DRIVE_DIR, MODEL_SAVE_DIR))"
      ],
      "execution_count": null,
      "outputs": [
        {
          "output_type": "stream",
          "text": [
            "Found 8382 images belonging to 200 classes.\n",
            "Found 8382 images belonging to 200 classes.\n",
            "Downloading data from https://storage.googleapis.com/tensorflow/keras-applications/resnet/resnet50_weights_tf_dim_ordering_tf_kernels_notop.h5\n",
            "94773248/94765736 [==============================] - 0s 0us/step\n",
            "Epoch 1/210\n",
            " 35/261 [===>..........................] - ETA: 1:38:17 - loss: -0.2213 - get_iou: 0.2213"
          ],
          "name": "stdout"
        }
      ]
    },
    {
      "cell_type": "code",
      "metadata": {
        "id": "Lh70POLaTvnd",
        "outputId": "a4f8348f-b60f-4f3e-e4ed-8aac9ae6ab03",
        "colab": {
          "base_uri": "https://localhost:8080/"
        }
      },
      "source": [
        "!ls public_tests/00_test_img_input/train"
      ],
      "execution_count": 29,
      "outputs": [
        {
          "output_type": "stream",
          "text": [
            "gt.csv\timages\n"
          ],
          "name": "stdout"
        }
      ]
    },
    {
      "cell_type": "code",
      "metadata": {
        "id": "XLZ-GKWbTzMT"
      },
      "source": [
        ""
      ],
      "execution_count": null,
      "outputs": []
    }
  ]
}