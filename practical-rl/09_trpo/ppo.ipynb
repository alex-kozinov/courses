{
 "cells": [
  {
   "cell_type": "code",
   "execution_count": 1,
   "metadata": {},
   "outputs": [],
   "source": [
    "try:\n",
    "    import google.colab\n",
    "    USE_COLAB = True\n",
    "except:\n",
    "    USE_COLAB = False\n",
    "\n",
    "if USE_COLAB:\n",
    "    print(\"Don't forget to avoid disconnections:\")\n",
    "    print(\"\"\"\n",
    "    function ClickConnect(){\n",
    "        console.log(\"Clicking\"); \n",
    "        document.querySelector(\"colab-connect-button\").click() \n",
    "    }\n",
    "    setInterval(ClickConnect,60000)\n",
    "    \n",
    "    \"\"\")"
   ]
  },
  {
   "cell_type": "code",
   "execution_count": 2,
   "metadata": {},
   "outputs": [
    {
     "name": "stdout",
     "output_type": "stream",
     "text": [
      "bash: ../xvfb: No such file or directory\r\n"
     ]
    }
   ],
   "source": [
    "import sys\n",
    "if 'google.colab' in sys.modules:\n",
    "    import os\n",
    "\n",
    "    os.system('apt-get install -y xvfb')\n",
    "    os.system('wget https://raw.githubusercontent.com/yandexdataschool/Practical_DL/fall18/xvfb -O ../xvfb')\n",
    "    os.system('apt-get install -y python-opengl ffmpeg')\n",
    "    os.system('pip install pyglet==1.2.4')\n",
    "    os.system('pip install gym')\n",
    "\n",
    "    prefix = 'https://raw.githubusercontent.com/yandexdataschool/Practical_RL/master/week09_policy_II/'\n",
    "\n",
    "    os.system('wget ' + prefix + 'runners.py')\n",
    "    os.system('wget ' + prefix + 'mujoco_wrappers.py')\n",
    "\n",
    "    print('setup complete')\n",
    "\n",
    "# XVFB will be launched if you run on a server\n",
    "import os\n",
    "if type(os.environ.get(\"DISPLAY\")) is not str or len(os.environ.get(\"DISPLAY\")) == 0:\n",
    "    !bash ../xvfb start\n",
    "    os.environ['DISPLAY'] = ':1'"
   ]
  },
  {
   "cell_type": "markdown",
   "metadata": {},
   "source": [
    "# Implementing Proximal Policy Optimization \n",
    "\n",
    "\n",
    "In this notebook you will be implementing Proximal Policy Optimization algorithm, \n",
    "scaled up version of which was used to train [OpenAI Five](https://openai.com/blog/openai-five/) \n",
    "to [win](https://openai.com/blog/how-to-train-your-openai-five/) against the\n",
    "world champions in Dota 2.\n",
    "You will be solving a continuous control environment on which it may be easier and faster \n",
    "to train an agent, however note that PPO here may not be the best algorithm as, for example,\n",
    "Deep Deterministic Policy Gradient and Soft Actor Critic may be more suited \n",
    "for continuous control environments. To run the environment you will need to install \n",
    "[pybullet-gym](https://github.com/benelot/pybullet-gym) which unlike MuJoCo \n",
    "does not require you to have a license.\n",
    "\n",
    "To install the library:"
   ]
  },
  {
   "cell_type": "code",
   "execution_count": 3,
   "metadata": {},
   "outputs": [],
   "source": [
    "# !git clone https://github.com/benelot/pybullet-gym lib/pybullet-gym\n",
    "# !pip install -e lib/pybullet-gym"
   ]
  },
  {
   "cell_type": "markdown",
   "metadata": {},
   "source": [
    "The overall structure of the code is similar to the one in the A2C optional homework, but don't worry if you haven't done it, it should be relatively easy to figure it out. \n",
    "First, we will create an instance of the environment. \n",
    "We will normalize the observations and rewards, but before that you will need a wrapper that will \n",
    "write summaries, mainly, the total reward during an episode. You can either use one for `TensorFlow` \n",
    "implemented in `atari_wrappers.py` file from the optional A2C homework, or implement your own. "
   ]
  },
  {
   "cell_type": "code",
   "execution_count": 4,
   "metadata": {},
   "outputs": [],
   "source": [
    "import numpy as np\n",
    "from tqdm import trange\n",
    "from torch.autograd import Variable\n",
    "from IPython.display import clear_output\n",
    "import matplotlib.pyplot as plt\n",
    "from pandas import DataFrame\n",
    "from torch.distributions import MultivariateNormal"
   ]
  },
  {
   "cell_type": "code",
   "execution_count": 5,
   "metadata": {},
   "outputs": [
    {
     "name": "stdout",
     "output_type": "stream",
     "text": [
      "current_dir=/Users/alex-kozinov/opt/anaconda3/lib/python3.6/site-packages/pybullet_envs/bullet\n",
      "\u001b[33mWARN: gym.spaces.Box autodetected dtype as <class 'numpy.float32'>. Please provide explicit dtype.\u001b[0m\n",
      "\u001b[33mWARN: gym.spaces.Box autodetected dtype as <class 'numpy.float32'>. Please provide explicit dtype.\u001b[0m\n",
      "WalkerBase::__init__\n",
      "options= \n",
      "observation space:  Box(17,) \n",
      "observations: [ 0.0194237  -0.01371595  0.02267135  0.07935468  0.08586212  0.02884284\n",
      "  0.01284848  0.08143667  0.          0.          0.          0.\n",
      "  0.          0.          0.          0.          0.        ]\n",
      "action space:  Box(6,) \n",
      "action_sample:  [ 0.09762701  0.43037874  0.20552675  0.08976637 -0.1526904   0.29178822]\n"
     ]
    },
    {
     "name": "stderr",
     "output_type": "stream",
     "text": [
      "/Users/alex-kozinov/opt/anaconda3/lib/python3.6/site-packages/gym/envs/registration.py:14: PkgResourcesDeprecationWarning: Parameters to load are deprecated.  Call .resolve and .require separately.\n",
      "  result = entry_point.load(False)\n"
     ]
    }
   ],
   "source": [
    "import gym \n",
    "import pybulletgym\n",
    "\n",
    "env = gym.make(\"HalfCheetahMuJoCoEnv-v0\")\n",
    "print(\"observation space: \", env.observation_space,\n",
    "      \"\\nobservations:\", env.reset())\n",
    "print(\"action space: \", env.action_space, \n",
    "      \"\\naction_sample: \", env.action_space.sample())"
   ]
  },
  {
   "cell_type": "code",
   "execution_count": 6,
   "metadata": {},
   "outputs": [],
   "source": [
    "from collections import defaultdict, deque\n",
    "class SummariesBase(gym.Wrapper):\n",
    "    \"\"\" Env summaries writer base.\"\"\"\n",
    "\n",
    "    def __init__(self, env, prefix=None, running_mean_size=100):\n",
    "        super().__init__(env)\n",
    "        self.episode_counter = 0\n",
    "        self.prefix = prefix or self.env.spec.id\n",
    "\n",
    "        nenvs = getattr(self.env.unwrapped, \"nenvs\", 1)\n",
    "        self.rewards = np.zeros(nenvs)\n",
    "        self.had_ended_episodes = np.zeros(nenvs, dtype=np.bool)\n",
    "        self.episode_lengths = np.zeros(nenvs)\n",
    "        self.reward_queues = [deque([], maxlen=running_mean_size)\n",
    "                              for _ in range(nenvs)]\n",
    "\n",
    "    def should_write_summaries(self):\n",
    "        \"\"\" Returns true if it's time to write summaries. \"\"\"\n",
    "        return np.all(self.had_ended_episodes)\n",
    "\n",
    "    def add_summaries(self):\n",
    "        \"\"\" Writes summaries. \"\"\"\n",
    "        self.add_summary_scalar(\n",
    "            f\"{self.prefix}/total_reward\",\n",
    "            np.mean([q[-1] for q in self.reward_queues]))\n",
    "        self.add_summary_scalar(\n",
    "            f\"{self.prefix}/reward_mean_{self.reward_queues[0].maxlen}\",\n",
    "            np.mean([np.mean(q) for q in self.reward_queues]))\n",
    "        self.add_summary_scalar(\n",
    "            f\"{self.prefix}/episode_length\",\n",
    "            np.mean(self.episode_lengths))\n",
    "        if self.had_ended_episodes.size > 1:\n",
    "            self.add_summary_scalar(\n",
    "                f\"{self.prefix}/min_reward\",\n",
    "                min(q[-1] for q in self.reward_queues))\n",
    "            self.add_summary_scalar(\n",
    "                f\"{self.prefix}/max_reward\",\n",
    "                max(q[-1] for q in self.reward_queues))\n",
    "        self.episode_lengths.fill(0)\n",
    "        self.had_ended_episodes.fill(False)\n",
    "\n",
    "    def step(self, action):\n",
    "        obs, rew, done, info = self.env.step(action)\n",
    "        self.rewards += rew\n",
    "        self.episode_lengths[~self.had_ended_episodes] += 1\n",
    "\n",
    "        info_collection = [info] if isinstance(info, dict) else info\n",
    "        done_collection = [done] if isinstance(done, bool) else done\n",
    "        done_indices = [i for i, info in enumerate(info_collection)\n",
    "                        if info.get(\"real_done\", done_collection[i])]\n",
    "        for i in done_indices:\n",
    "            if not self.had_ended_episodes[i]:\n",
    "                self.had_ended_episodes[i] = True\n",
    "            self.reward_queues[i].append(self.rewards[i])\n",
    "            self.rewards[i] = 0\n",
    "\n",
    "        if self.should_write_summaries():\n",
    "            self.add_summaries()\n",
    "        return obs, rew, done, info\n",
    "\n",
    "    def reset(self, **kwargs):\n",
    "        self.rewards.fill(0)\n",
    "        self.episode_lengths.fill(0)\n",
    "        self.had_ended_episodes.fill(False)\n",
    "        return self.env.reset(**kwargs)\n",
    "\n",
    "\n",
    "class Summaries(SummariesBase):\n",
    "    _summaries = defaultdict(list)\n",
    "    _summary_step = None\n",
    "\n",
    "    @classmethod\n",
    "    def set_step(cls, step):\n",
    "        cls._summary_step = step\n",
    "\n",
    "    @classmethod\n",
    "    def get_values(cls, name):\n",
    "        return cls._summaries[name]\n",
    "\n",
    "    @classmethod\n",
    "    def clear(cls):\n",
    "        cls._summaries = defaultdict(list)\n",
    "\n",
    "    def __init__(self, env, prefix = None, running_mean_size = 100):\n",
    "        super().__init__(env, prefix, running_mean_size)\n",
    "\n",
    "    def add_summary_scalar(self, name, value):\n",
    "        self._summaries[name].append((self._summary_step, value))"
   ]
  },
  {
   "cell_type": "code",
   "execution_count": 7,
   "metadata": {},
   "outputs": [],
   "source": [
    "# ### REMOVE THIS\n",
    "\n",
    "# class Summaries(gym.Wrapper):\n",
    "#     \"\"\" Wrapper to write summaries. \"\"\"\n",
    "#     def __init__(self, env):\n",
    "#         super().__init__(env)\n",
    "#         self.current_reward = 0\n",
    "#         self.reward_last_session = 0\n",
    "\n",
    "#     def step(self, action):\n",
    "\n",
    "#         obs, reward, done, info = self.env.step(action)\n",
    "#         self.current_reward += reward\n",
    "\n",
    "#         if done:\n",
    "#             self.reward_last_session = self.current_reward\n",
    "#             self.current_reward = 0\n",
    "\n",
    "#         return obs, reward, done, info\n",
    "  \n",
    "#     def reset(self, **kwargs):\n",
    "#         self.current_reward = 0\n",
    "#         return self.env.reset(**kwargs)"
   ]
  },
  {
   "cell_type": "markdown",
   "metadata": {},
   "source": [
    "The normalization wrapper will subtract running mean from observations and rewards and divide \n",
    "the resulting quantities by the  running variances."
   ]
  },
  {
   "cell_type": "code",
   "execution_count": 8,
   "metadata": {},
   "outputs": [
    {
     "name": "stdout",
     "output_type": "stream",
     "text": [
      "\u001b[33mWARN: gym.spaces.Box autodetected dtype as <class 'numpy.float32'>. Please provide explicit dtype.\u001b[0m\n",
      "\u001b[33mWARN: gym.spaces.Box autodetected dtype as <class 'numpy.float32'>. Please provide explicit dtype.\u001b[0m\n",
      "WalkerBase::__init__\n"
     ]
    }
   ],
   "source": [
    "from mujoco_wrappers import Normalize\n",
    "\n",
    "env = Normalize(Summaries(gym.make(\"HalfCheetahMuJoCoEnv-v0\")));\n",
    "env.unwrapped.seed(0);"
   ]
  },
  {
   "cell_type": "markdown",
   "metadata": {},
   "source": [
    "Next, you will need to define a model for training. We suggest that you use two separate networks: one for policy\n",
    "and another for value function. Each network should be a 3-layer MLP with 64 hidden units, $\\mathrm{tanh}$ \n",
    "activation function, kernel matrices initialized with orthogonal initializer with parameter $\\sqrt{2}$\n",
    "and biases initialized with zeros. \n",
    "\n",
    "Our policy distribution is going to be multivariate normal with diagonal covariance. \n",
    "The network from above will predict the mean, and the covariance should be represented by a single \n",
    "(learned) vector of size 6 (corresponding to the dimensionality of the action space from above). \n",
    "You should initialize this vector to zero and take the exponent of it to always\n",
    "have a non-negative quantity. \n",
    "\n",
    "Overall the model should return three things: predicted mean of the distribution, variance vector, \n",
    "value function. "
   ]
  },
  {
   "cell_type": "code",
   "execution_count": 9,
   "metadata": {},
   "outputs": [],
   "source": [
    "# import tensorflow as tf\n",
    "import torch\n",
    "from torch import nn\n",
    "\n",
    "def init_weights(m):\n",
    "    if type(m) in (nn.Linear, nn.Conv2d):\n",
    "        nn.init.orthogonal_(m.weight.data, np.sqrt(float(2)))\n",
    "        if m.bias is not None:\n",
    "            m.bias.data.fill_(0)\n",
    "\n",
    "def get_body_network(layers_size):\n",
    "    layers = []\n",
    "    for in_size, out_size in zip(layers_size[:-1], layers_size[1:]):\n",
    "        layers.append(nn.Linear(in_size, out_size))\n",
    "        layers.append(nn.Tanh())\n",
    "    return nn.Sequential(*layers)\n",
    "\n",
    "\n",
    "class PPOAgent(nn.Module):\n",
    "    def __init__(self, state_shape, n_actions, hidden_size=[64, 64, 64]):\n",
    "        '''\n",
    "        Here you should define your model\n",
    "        You should have LOG-PROBABILITIES as output because you will need it to compute loss\n",
    "        We recommend that you start simple: \n",
    "        use 1-2 hidden layers with 100-500 units and relu for the first try\n",
    "        '''\n",
    "        super(PPOAgent, self).__init__()\n",
    "        \n",
    "        layers_size = [state_shape[0]] + hidden_size\n",
    "        \n",
    "        self.policy_body = get_body_network(layers_size).apply(init_weights)\n",
    "        self.mu_head = nn.Linear(hidden_size[-1], n_actions).apply(init_weights)\n",
    "        self.log_std_head = nn.Parameter(torch.zeros(n_actions))\n",
    "        \n",
    "        self.value_body = get_body_network(layers_size).apply(init_weights)\n",
    "        self.value_head = nn.Linear(hidden_size[-1], 1).apply(init_weights)\n",
    "\n",
    "    def forward(self, states):\n",
    "        states = states.float()\n",
    "        policy_features = self.policy_body(states)\n",
    "        value_features = self.value_body(states)\n",
    "        \n",
    "        mu = self.mu_head(policy_features)\n",
    "        log_std = self.log_std_head\n",
    "        std = torch.exp(log_std)\n",
    "        \n",
    "        value = self.value_head(value_features)\n",
    "        \n",
    "        return mu, std, value"
   ]
  },
  {
   "cell_type": "code",
   "execution_count": 10,
   "metadata": {},
   "outputs": [],
   "source": [
    "# # REMOVE THIS \n",
    "\n",
    "# # import tensorflow as tf\n",
    "# import torch\n",
    "# from torch import nn\n",
    "\n",
    "# def init_weights(m):\n",
    "#     if type(m) in (nn.Linear, nn.Conv2d):\n",
    "#         nn.init.orthogonal_(m.weight.data, np.sqrt(float(2)))\n",
    "#         if m.bias is not None:\n",
    "#             m.bias.data.fill_(0)\n",
    "\n",
    "# def get_body_network(layers_size):\n",
    "#     layers = []\n",
    "#     for in_size, out_size in zip(layers_size[:-1], layers_size[1:]):\n",
    "#         layers.append(nn.Linear(in_size, out_size))\n",
    "#         layers.append(nn.Tanh())\n",
    "#     return nn.Sequential(*layers)\n",
    "\n",
    "\n",
    "# class PPOAgent(nn.Module):\n",
    "#     def __init__(self, hidden_size=[64, 64, 64]):\n",
    "#         '''\n",
    "#         Here you should define your model\n",
    "#         You should have LOG-PROBABILITIES as output because you will need it to compute loss\n",
    "#         We recommend that you start simple: \n",
    "#         use 1-2 hidden layers with 100-500 units and relu for the first try\n",
    "#         '''\n",
    "#         super(PPOAgent, self).__init__()\n",
    "#         state_shape = env.observation_space.shape\n",
    "#         n_actions = env.action_space.shape[0]\n",
    "#         layers_size = [state_shape[0]] + hidden_size\n",
    "        \n",
    "#         self.policy_body = get_body_network(layers_size).apply(init_weights)\n",
    "#         self.mu_head = nn.Linear(hidden_size[-1], n_actions).apply(init_weights)\n",
    "#         self.log_std_head = nn.Parameter(torch.zeros(n_actions))\n",
    "        \n",
    "#         self.value_body = get_body_network(layers_size).apply(init_weights)\n",
    "#         self.value_head = nn.Linear(hidden_size[-1], 1).apply(init_weights)\n",
    "\n",
    "#     def forward(self, states):\n",
    "#         states = states.float()\n",
    "#         policy_features = self.policy_body(states)\n",
    "#         value_features = self.value_body(states)\n",
    "        \n",
    "#         mu = self.mu_head(policy_features)\n",
    "#         log_std = self.log_std_head\n",
    "#         std = torch.exp(log_std)\n",
    "        \n",
    "#         value = self.value_head(value_features)\n",
    "        \n",
    "#         return mu, std, value"
   ]
  },
  {
   "cell_type": "markdown",
   "metadata": {},
   "source": [
    "This model will be wrapped by a `Policy`. The policy can work in two modes, but in either case \n",
    "it is going to return dictionary with string-type keys. The first mode is when the policy is \n",
    "used to sample actions for a trajectory which will later be used for training. In this case \n",
    "the flag `training` passed to `act` method is `False` and the method should return \n",
    "a `dict` with the following keys: \n",
    "\n",
    "* `\"actions\"`: actions to pass to the environment\n",
    "* `\"log_probs\"`: log-probabilities of sampled actions\n",
    "* `\"values\"`: value function $V^\\pi(s)$ predictions.\n",
    "\n",
    "We don't need to use the values under these keys for training, so all of them should be of type `np.ndarray`.\n",
    "\n",
    "When `training` is `True`, the model is training on a given batch of observations. In this\n",
    "case it should return a `dict` with the following keys\n",
    "\n",
    "* `\"distribution\"`: an instance of multivariate normal distribution (`torch.distributions.MultivariateNormal` or `tf.distributions.MultivariateNormalDiag`)\n",
    "* `\"values\"`: value function $V^\\pi(s)$ prediction.\n",
    "\n",
    "The distinction about the modes comes into play depending on where the policy is used: if it is called from `EnvRunner`, \n",
    "the `training` flag is `False`, if it is called from `PPO`, the `training` flag is `True`. These classed \n",
    "will be described below. "
   ]
  },
  {
   "cell_type": "code",
   "execution_count": 11,
   "metadata": {},
   "outputs": [],
   "source": [
    "from torch.distributions.multivariate_normal import MultivariateNormal\n",
    "\n",
    "\n",
    "class Policy:\n",
    "    def __init__(self, model):\n",
    "        self.model = model\n",
    "    \n",
    "    def act(self, inputs, training=False):\n",
    "        inputs = Variable(torch.FloatTensor(inputs))\n",
    "        if training:\n",
    "            mean, scale, values = self.model(inputs)\n",
    "        else:\n",
    "            with torch.no_grad():\n",
    "                mean, scale, values = self.model(inputs)\n",
    "\n",
    "        distribution = MultivariateNormal(mean, torch.diag(scale))\n",
    "\n",
    "        if training:\n",
    "            return {\n",
    "                \"distribution\" : distribution,\n",
    "                \"values\" : values\n",
    "            }\n",
    "        else:\n",
    "            actions = distribution.sample()\n",
    "            log_probs = distribution.log_prob(actions)\n",
    "\n",
    "            return {\n",
    "                \"actions\" : actions.numpy(),\n",
    "                \"log_probs\" : log_probs.numpy(),\n",
    "                \"values\" : values.numpy()\n",
    "            }"
   ]
  },
  {
   "cell_type": "markdown",
   "metadata": {},
   "source": [
    "We will use `EnvRunner` to perform interactions with an environment with a policy for a fixed number of timesteps. Calling `.get_next()` on a runner will return a trajectory &mdash; dictionary \n",
    "containing keys\n",
    "\n",
    "* `\"observations\"`\n",
    "* `\"rewards\"` \n",
    "* `\"resets\"`\n",
    "* `\"actions\"`\n",
    "* all other keys that you defined in `Policy`,\n",
    "\n",
    "under each of these keys there is a `np.ndarray` of specified length $T$ &mdash; the size of partial trajectory. \n",
    "\n",
    "Additionally, before returning a trajectory this runner can apply a list of transformations. \n",
    "Each transformation is simply a callable that should modify passed trajectory in-place."
   ]
  },
  {
   "cell_type": "code",
   "execution_count": 12,
   "metadata": {},
   "outputs": [],
   "source": [
    "class AsArray:\n",
    "    \"\"\" \n",
    "    Converts lists of interactions to ndarray.\n",
    "    \"\"\"\n",
    "    def __call__(self, trajectory):\n",
    "        # Modify trajectory inplace. \n",
    "        for k, v in filter(lambda kv: kv[0] != \"state\", trajectory.items()):\n",
    "            trajectory[k] = np.asarray(v)"
   ]
  },
  {
   "cell_type": "code",
   "execution_count": 13,
   "metadata": {},
   "outputs": [
    {
     "name": "stdout",
     "output_type": "stream",
     "text": [
      "options= \n"
     ]
    },
    {
     "data": {
      "text/plain": [
       "{'actions': (3, 6),\n",
       " 'values': (3,),\n",
       " 'observations': (3, 17),\n",
       " 'rewards': (3,),\n",
       " 'resets': (3,)}"
      ]
     },
     "execution_count": 13,
     "metadata": {},
     "output_type": "execute_result"
    }
   ],
   "source": [
    "import numpy as np\n",
    "from runners import EnvRunner\n",
    "\n",
    "class DummyPolicy:\n",
    "    def act(self, inputs, training=False):\n",
    "        assert not training\n",
    "        return {\"actions\": np.random.randn(6), \"values\": np.nan}\n",
    "\n",
    "\n",
    "runner = EnvRunner(env, DummyPolicy(), 3,\n",
    "                   transforms=[AsArray()])\n",
    "trajectory = runner.get_next()\n",
    "\n",
    "{k: v.shape for k, v in trajectory.items() if k != \"state\"}"
   ]
  },
  {
   "cell_type": "markdown",
   "metadata": {},
   "source": [
    "You will need to implement the following two transformations. \n",
    "\n",
    "The first is `GAE` that implements [Generalized Advantage Estimator](https://arxiv.org/abs/1506.02438).\n",
    "In it you should add two keys to the trajectory: `\"advantages\"` and `\"value_targets\"`. In GAE the advantages\n",
    "$A_t^{\\mathrm{GAE}(\\gamma,\\lambda)}$ are essentially defined as the exponential \n",
    "moving average with parameter $\\lambda$ of the regular advantages \n",
    "$\\hat{A}^{(n)}(s_t) = \\sum_{l=0}^{T-1} \\gamma^l r_{t+l} + \\gamma^{T} V^\\pi(s_{t+l}) - V^\\pi(s_t)$. \n",
    "The exact formula for the computation is the following\n",
    "\n",
    "$$\n",
    "A_t^{\\mathrm{GAE}(\\gamma,\\lambda)} = \\sum_{l=0}^{T-1} (\\gamma\\lambda)^l\\delta_{t + l}^V,\n",
    "$$\n",
    "where $\\delta_{t+l}^V = r_{t+l} + \\gamma V^\\pi(s_{t+l+1}) - V^\\pi(s_{t+l})$. You can look at the \n",
    "derivation (formulas 11-16) in the paper. Don't forget to reset the summation on terminal\n",
    "states as determined by the flags `trajectory[\"resets\"]`. You can use `trajectory[\"values\"]`\n",
    "to get values of all observations except the most recent which is stored under \n",
    " `trajectory[\"state\"][\"latest_observation\"]`. For this observation you will need to call the policy \n",
    " to get the value prediction.\n",
    "\n",
    "Once you computed the advantages, you can get the targets for training the value function by adding \n",
    "back values:\n",
    "$$\n",
    "\\hat{V}(s_{t+l}) = A_{t+l}^{\\mathrm{GAE}(\\gamma,\\lambda)} + V(s_{t + l}),\n",
    "$$\n",
    "where $\\hat{V}$ is a tensor of value targets that are used to train the value function. "
   ]
  },
  {
   "cell_type": "code",
   "execution_count": 14,
   "metadata": {},
   "outputs": [],
   "source": [
    "class GAE:\n",
    "    \"\"\" Generalized Advantage Estimator. \"\"\"\n",
    "    def __init__(self, policy, gamma=0.99, lambda_=0.95):\n",
    "        self.policy = policy\n",
    "        self.gamma = gamma\n",
    "        self.lambda_ = lambda_\n",
    "    \n",
    "    def __call__(self, trajectory):\n",
    "        resets = trajectory[\"resets\"]\n",
    "        values = trajectory[\"values\"]\n",
    "        rewards = trajectory[\"rewards\"]\n",
    "        last_observation = trajectory[\"state\"][\"latest_observation\"]\n",
    "        T = len(resets)\n",
    "        curr_value = self.policy.act(last_observation, training=False)[\"values\"]\n",
    "        curr_advantage = 0\n",
    "        \n",
    "        advantages = []\n",
    "        value_targets = []\n",
    "        for i in reversed(range(T)):\n",
    "            if resets[i]:\n",
    "                curr_value = 0\n",
    "                curr_advantage = 0\n",
    "            \n",
    "            delta = rewards[i] + curr_value*self.gamma - values[i]\n",
    "            curr_advantage = delta + curr_advantage*self.gamma*self.lambda_\n",
    "            \n",
    "            advantages.append(curr_advantage)\n",
    "            curr_value = values[i]\n",
    "            \n",
    "        trajectory['advantages'] = np.concatenate(advantages[::-1])\n",
    "        trajectory['value_targets'] = trajectory['advantages'] + values.squeeze(1)\n",
    "        return trajectory"
   ]
  },
  {
   "cell_type": "markdown",
   "metadata": {},
   "source": [
    "The main advantage of PPO over simpler policy based methods like A2C is that it is possible\n",
    "to train on the same trajectory for multiple gradient steps. The following class wraps \n",
    "an `EnvRunner`. It should call the runner to get a trajectory, then return minibatches \n",
    "from it for a number of epochs, shuffling the data before each epoch."
   ]
  },
  {
   "cell_type": "code",
   "execution_count": 15,
   "metadata": {},
   "outputs": [],
   "source": [
    "class TrajectorySampler:\n",
    "    \"\"\" Samples minibatches from trajectory for a number of epochs. \"\"\"\n",
    "    def __init__(self, runner, num_epochs, num_minibatches, transforms=None):\n",
    "        self.runner = runner\n",
    "        self.num_epochs = num_epochs\n",
    "        self.num_minibatches = num_minibatches\n",
    "        self.transforms = transforms or []\n",
    "        self.minibatch_count = 0\n",
    "        self.epoch_count = 0\n",
    "        self.shuffle_trajectory(resample=True)\n",
    "    \n",
    "    def shuffle_trajectory(self, resample=False):\n",
    "        \"\"\" Shuffles all elements in trajectory.\n",
    "        Should be called at the beginning of each epoch.\n",
    "        \"\"\"\n",
    "        if resample:\n",
    "            self.trajectory = self.runner.get_next()\n",
    "            \n",
    "        self.num_runner_steps = list(self.trajectory.values())[0].shape[0]\n",
    "        indxs = np.arange(self.num_runner_steps)\n",
    "        np.random.shuffle(indxs)\n",
    "        for k, v in filter(lambda kv: kv[0] != \"state\", self.trajectory.items()):\n",
    "            self.trajectory[k] = v[indxs]\n",
    "    \n",
    "    def get_sub_trajectory(self, l, r):\n",
    "        new_trajectory = self.trajectory.copy()\n",
    "        for k, v in filter(lambda kv: kv[0] != \"state\", self.trajectory.items()):\n",
    "            new_trajectory[k] = v[l:r]\n",
    "        return new_trajectory\n",
    "\n",
    "    def get_next(self):\n",
    "        \"\"\" Returns next minibatch.  \"\"\"\n",
    "        if self.minibatch_count == self.num_minibatches:\n",
    "            self.epoch_count += 1\n",
    "            self.minibatch_count = 0\n",
    "            \n",
    "            if self.epoch_count == self.num_epochs:\n",
    "                self.epoch_count = 0\n",
    "                self.shuffle_trajectory(resample=True)\n",
    "            else:\n",
    "                self.shuffle_trajectory()\n",
    "        \n",
    "        sample_step = self.num_runner_steps // self.num_minibatches\n",
    "        sample_pos = sample_step * self.minibatch_count\n",
    "        self.minibatch_count += 1\n",
    "        return self.get_sub_trajectory(sample_pos, sample_pos + sample_step)"
   ]
  },
  {
   "cell_type": "markdown",
   "metadata": {},
   "source": [
    "A common trick to use with GAE is to normalize advantages, the following transformation does that. "
   ]
  },
  {
   "cell_type": "code",
   "execution_count": 16,
   "metadata": {},
   "outputs": [],
   "source": [
    "class NormalizeAdvantages:\n",
    "    \"\"\" Normalizes advantages to have zero mean and variance 1. \"\"\"\n",
    "    def __call__(self, trajectory):\n",
    "        adv = trajectory[\"advantages\"]\n",
    "        adv = (adv - adv.mean()) / (adv.std() + 1e-8)\n",
    "        trajectory[\"advantages\"] = adv"
   ]
  },
  {
   "cell_type": "markdown",
   "metadata": {},
   "source": [
    "Finally, we can create our PPO runner. "
   ]
  },
  {
   "cell_type": "code",
   "execution_count": 17,
   "metadata": {},
   "outputs": [],
   "source": [
    "def make_ppo_runner(env, policy, num_runner_steps=2048,\n",
    "                    gamma=0.99, lambda_=0.95, \n",
    "                    num_epochs=10, num_minibatches=32):\n",
    "    \"\"\" Creates runner for PPO algorithm. \"\"\"\n",
    "    runner_transforms = [AsArray(),\n",
    "                       GAE(policy, gamma=gamma, lambda_=lambda_)]\n",
    "    runner = EnvRunner(env, policy, num_runner_steps, \n",
    "                     transforms=runner_transforms)\n",
    "\n",
    "    sampler_transforms = [NormalizeAdvantages()]\n",
    "    sampler = TrajectorySampler(runner, num_epochs=num_epochs, \n",
    "                              num_minibatches=num_minibatches,\n",
    "                              transforms=sampler_transforms)\n",
    "    return sampler"
   ]
  },
  {
   "cell_type": "markdown",
   "metadata": {},
   "source": [
    "In the next cell you will need to implement Proximal Policy Optimization algorithm itself. The algorithm\n",
    "modifies the typical policy gradient loss in the following way:\n",
    "\n",
    "$$\n",
    "L_{\\pi} = \\frac{1}{T}\\sum_{l=0}^{T-1}\n",
    "\\frac{\\pi_\\theta(a_{t+l}|s_{t+l})}{\\pi_\\theta^{\\text{old}}(a_{t+l}|s_{t+l})}\n",
    "A^{\\mathrm{GAE}(\\gamma,\\lambda)}_{t+l}\\\\\n",
    "L_{\\pi}^{\\text{clipped}} = \\frac{1}{T}\\sum_{l=0}^{T-1}\\mathrm{clip}\\left(\n",
    "\\frac{\\pi_\\theta(a_{t+l}|s_{t+l})}{\\pi_{\\theta^{\\text{old}}}(a_{t+l}|s_{t+l})}\n",
    "\\cdot A^{\\mathrm{GAE(\\gamma, \\lambda)}}_{t+l},\n",
    "1 - \\text{cliprange}, 1 + \\text{cliprange}\\right)\\\\\n",
    "L_{\\text{policy}} = -\\min\\left(L_\\pi, L_{\\pi}^{\\text{clipped}}\\right).\n",
    "$$\n",
    "\n",
    "Additionally, the value loss is modified in the following way:\n",
    "\n",
    "$$\n",
    "L_V = \\frac{1}{T}\\sum_{l=0}^{T-1}(V_\\theta(s_{t+l}) - \\hat{V}(s_{t+l}))^2\\\\\n",
    "L_{V}^{\\text{clipped}} = \\frac{1}{T}\\sum_{l=0}^{T-1}\n",
    "V_{\\theta^{\\text{old}}}(s_{t+l}) +\n",
    "\\text{clip}\\left(\n",
    "V_\\theta(s_{t+l}) - V_{\\theta^\\text{old}}(s_{t+l}),\n",
    "-\\text{cliprange}, \\text{cliprange}\n",
    "\\right)\\\\\n",
    "L_{\\text{value}} = -\\min\\left(L_V, L_V^{\\text{clipped}}\\right).\n",
    "$$"
   ]
  },
  {
   "cell_type": "code",
   "execution_count": 18,
   "metadata": {},
   "outputs": [],
   "source": [
    "class PPO:\n",
    "    def __init__(self, policy, optimizer,\n",
    "               cliprange=0.2,\n",
    "               value_loss_coef=0.25,\n",
    "               max_grad_norm=0.5):\n",
    "        self.policy = policy\n",
    "        self.optimizer = optimizer\n",
    "        self.cliprange = cliprange\n",
    "        self.value_loss_coef = value_loss_coef\n",
    "        # Note that we don't need entropy regularization for this env.\n",
    "        self.max_grad_norm = max_grad_norm\n",
    "\n",
    "        self.logger = {\n",
    "            'value_loss': [],\n",
    "            'policy_loss': [],\n",
    "            'value_targets': [],\n",
    "            'value_predictions': [],\n",
    "            'gradient_norm': [],\n",
    "            'advantages': []\n",
    "        }\n",
    "    \n",
    "    def policy_loss(self, trajectory, act):\n",
    "        \"\"\" Computes and returns policy loss on a given trajectory. \"\"\"\n",
    "        actions = Variable(torch.tensor(trajectory[\"actions\"]))\n",
    "        \n",
    "        old_log_probs = Variable(torch.tensor(trajectory[\"log_probs\"]))\n",
    "        cur_log_probs = act[\"distribution\"].log_prob(actions)\n",
    "        values = act[\"values\"]\n",
    "        value_targets = Variable(torch.tensor(trajectory[\"value_targets\"]))\n",
    "        advantages = (value_targets - values).detach()\n",
    "        \n",
    "        policy_ratio = torch.exp(cur_log_probs - old_log_probs)\n",
    "        loss = policy_ratio * advantages\n",
    "        loss_clipped = torch.clamp(policy_ratio, 1 - self.cliprange, 1 + self.cliprange) * advantages\n",
    "        loss = -torch.mean(torch.min(loss, loss_clipped))\n",
    "        \n",
    "        return loss\n",
    "      \n",
    "    def value_loss(self, trajectory, act):\n",
    "        \"\"\" Computes and returns value loss on a given trajectory. \"\"\"\n",
    "        values = act[\"values\"]\n",
    "        values_old = Variable(torch.tensor(trajectory[\"values\"]))\n",
    "        value_targets = Variable(torch.tensor(trajectory[\"value_targets\"]))\n",
    "        \n",
    "        values_clipped = values_old + torch.clamp(values - values_old, -self.cliprange, self.cliprange)\n",
    "        \n",
    "        # Unclipped value\n",
    "        loss1 = (values - value_targets).pow(2)\n",
    "        # Clipped value\n",
    "        loss2 = (values_clipped - value_targets).pow(2)\n",
    "\n",
    "        loss = torch.mean(torch.max(loss1, loss2))\n",
    "        return loss\n",
    "\n",
    "    def loss(self, trajectory):\n",
    "        act = self.policy.act(trajectory[\"observations\"], training=True)\n",
    "        policy_loss = self.policy_loss(trajectory, act)\n",
    "        value_loss = self.value_loss(trajectory, act)\n",
    "        return policy_loss + self.value_loss_coef*value_loss, value_loss, policy_loss\n",
    "\n",
    "    def step(self, trajectory):\n",
    "        \"\"\" Computes the loss function and performs a single gradient step. \"\"\"\n",
    "        loss, value_loss, policy_loss = self.loss(trajectory)\n",
    "        \n",
    "        loss.backward()\n",
    "        grad_norm = nn.utils.clip_grad_norm_(self.policy.model.parameters(), self.max_grad_norm)\n",
    "        self.optimizer.step()\n",
    "        self.optimizer.zero_grad()\n",
    "        \n",
    "        return loss, value_loss, policy_loss, grad_norm"
   ]
  },
  {
   "cell_type": "markdown",
   "metadata": {},
   "source": [
    "Now everything is ready to do training. In one million of interactions it should be possible to \n",
    "achieve the total raw reward of about 1500. You should plot this quantity with respect to \n",
    "`runner.step_var` &mdash; the number of interactions with the environment. It is highly \n",
    "encouraged to also provide plots of the following quantities (these are useful for debugging as well):\n",
    "\n",
    "* [Coefficient of Determination](https://en.wikipedia.org/wiki/Coefficient_of_determination) between \n",
    "value targets and value predictions\n",
    "* Entropy of the policy $\\pi$\n",
    "* Value loss\n",
    "* Policy loss\n",
    "* Value targets\n",
    "* Value predictions\n",
    "* Gradient norm\n",
    "* Advantages\n",
    "\n",
    "For optimization it is suggested to use Adam optimizer with linearly annealing learning rate \n",
    "from 3e-4 to 0 and epsilon 1e-5."
   ]
  },
  {
   "cell_type": "markdown",
   "metadata": {},
   "source": [
    "### **Define parameters**"
   ]
  },
  {
   "cell_type": "code",
   "execution_count": 19,
   "metadata": {},
   "outputs": [],
   "source": [
    "LAST_EPOCH = 0\n",
    "TOTAL_EPOCH = 1000000\n",
    "DROW_STEP = 5000\n",
    "FIG_SIZE = 17, 8\n",
    "\n",
    "SAVE_STEP = 100000\n",
    "MODEL_MASK = (MOUNT_DIR + 'My Drive/models/rl/ppo/' if USE_COLAB else 'models/') + 'ppo_{last_epoch}_epoch'\n",
    "\n",
    "START_LR = 3e-4\n",
    "EPSILON = 1e-5\n",
    "GAME_NAME = \"HalfCheetahMuJoCoEnv-v0\""
   ]
  },
  {
   "cell_type": "markdown",
   "metadata": {},
   "source": [
    "### Set up env"
   ]
  },
  {
   "cell_type": "code",
   "execution_count": 20,
   "metadata": {},
   "outputs": [
    {
     "name": "stdout",
     "output_type": "stream",
     "text": [
      "\u001b[33mWARN: gym.spaces.Box autodetected dtype as <class 'numpy.float32'>. Please provide explicit dtype.\u001b[0m\n",
      "\u001b[33mWARN: gym.spaces.Box autodetected dtype as <class 'numpy.float32'>. Please provide explicit dtype.\u001b[0m\n",
      "WalkerBase::__init__\n",
      "options= \n"
     ]
    }
   ],
   "source": [
    "env = Normalize(Summaries(gym.make(GAME_NAME)))\n",
    "obs = env.reset()"
   ]
  },
  {
   "cell_type": "markdown",
   "metadata": {},
   "source": [
    "### Define model"
   ]
  },
  {
   "cell_type": "code",
   "execution_count": 21,
   "metadata": {
    "scrolled": true
   },
   "outputs": [
    {
     "data": {
      "text/plain": [
       "PPOAgent(\n",
       "  (policy_body): Sequential(\n",
       "    (0): Linear(in_features=17, out_features=64, bias=True)\n",
       "    (1): Tanh()\n",
       "    (2): Linear(in_features=64, out_features=64, bias=True)\n",
       "    (3): Tanh()\n",
       "    (4): Linear(in_features=64, out_features=64, bias=True)\n",
       "    (5): Tanh()\n",
       "  )\n",
       "  (mu_head): Linear(in_features=64, out_features=6, bias=True)\n",
       "  (value_body): Sequential(\n",
       "    (0): Linear(in_features=17, out_features=64, bias=True)\n",
       "    (1): Tanh()\n",
       "    (2): Linear(in_features=64, out_features=64, bias=True)\n",
       "    (3): Tanh()\n",
       "    (4): Linear(in_features=64, out_features=64, bias=True)\n",
       "    (5): Tanh()\n",
       "  )\n",
       "  (value_head): Linear(in_features=64, out_features=1, bias=True)\n",
       ")"
      ]
     },
     "execution_count": 21,
     "metadata": {},
     "output_type": "execute_result"
    }
   ],
   "source": [
    "agent = PPOAgent(obs.shape, env.action_space.shape[0])\n",
    "agent"
   ]
  },
  {
   "cell_type": "markdown",
   "metadata": {},
   "source": [
    "### Define linear schediler"
   ]
  },
  {
   "cell_type": "code",
   "execution_count": 22,
   "metadata": {},
   "outputs": [],
   "source": [
    "class LinearDecayScheduler:\n",
    "    def __init__(self, optimizer, base_lr, min_lr, num_iters):\n",
    "        self.optimizer = optimizer\n",
    "        self.base_lr = base_lr\n",
    "        self.num_iters = num_iters\n",
    "        self.min_lr = min_lr\n",
    "        self.single_step = (base_lr - min_lr) / num_iters\n",
    "        self.i = 0\n",
    "\n",
    "    def step(self):\n",
    "        lr = self.base_lr - self.single_step*self.i\n",
    "        self.i += 1\n",
    "\n",
    "        for param_group in self.optimizer.param_groups:\n",
    "            param_group['lr'] = lr"
   ]
  },
  {
   "cell_type": "markdown",
   "metadata": {},
   "source": [
    "### Define stuff"
   ]
  },
  {
   "cell_type": "code",
   "execution_count": 23,
   "metadata": {},
   "outputs": [],
   "source": [
    "policy = Policy(agent)\n",
    "sampler = make_ppo_runner(env, policy)\n",
    "optimizer = torch.optim.Adam(agent.parameters(), lr=3e-4, eps=1e-5)\n",
    "scheduler = LinearDecayScheduler(optimizer, START_LR, 0.0, TOTAL_EPOCH)\n",
    "     \n",
    "ppo = PPO(policy, optimizer)"
   ]
  },
  {
   "cell_type": "markdown",
   "metadata": {},
   "source": [
    "### Learning"
   ]
  },
  {
   "cell_type": "code",
   "execution_count": 24,
   "metadata": {},
   "outputs": [],
   "source": [
    "def moving_average(x, span=100): return DataFrame(\n",
    "    {'x': np.asarray(x)}).x.ewm(span=span).mean().values"
   ]
  },
  {
   "cell_type": "code",
   "execution_count": 25,
   "metadata": {
    "scrolled": false
   },
   "outputs": [
    {
     "data": {
      "image/png": "[encoded data removed]",
      "text/plain": [
       "<Figure size 1224x576 with 6 Axes>"
      ]
     },
     "metadata": {
      "needs_background": "light"
     },
     "output_type": "display_data"
    },
    {
     "name": "stderr",
     "output_type": "stream",
     "text": [
      " 24%|██▍       | 238388/1000000 [1:11:38<1:18:48, 161.06it/s]"
     ]
    },
    {
     "ename": "KeyboardInterrupt",
     "evalue": "",
     "output_type": "error",
     "traceback": [
      "\u001b[0;31m---------------------------------------------------------------------------\u001b[0m",
      "\u001b[0;31mKeyboardInterrupt\u001b[0m                         Traceback (most recent call last)",
      "\u001b[0;32m<timed exec>\u001b[0m in \u001b[0;36m<module>\u001b[0;34m\u001b[0m\n",
      "\u001b[0;32m<ipython-input-15-14b950d04545>\u001b[0m in \u001b[0;36mget_next\u001b[0;34m(self)\u001b[0m\n\u001b[1;32m     37\u001b[0m             \u001b[0;32mif\u001b[0m \u001b[0mself\u001b[0m\u001b[0;34m.\u001b[0m\u001b[0mepoch_count\u001b[0m \u001b[0;34m==\u001b[0m \u001b[0mself\u001b[0m\u001b[0;34m.\u001b[0m\u001b[0mnum_epochs\u001b[0m\u001b[0;34m:\u001b[0m\u001b[0;34m\u001b[0m\u001b[0;34m\u001b[0m\u001b[0m\n\u001b[1;32m     38\u001b[0m                 \u001b[0mself\u001b[0m\u001b[0;34m.\u001b[0m\u001b[0mepoch_count\u001b[0m \u001b[0;34m=\u001b[0m \u001b[0;36m0\u001b[0m\u001b[0;34m\u001b[0m\u001b[0;34m\u001b[0m\u001b[0m\n\u001b[0;32m---> 39\u001b[0;31m                 \u001b[0mself\u001b[0m\u001b[0;34m.\u001b[0m\u001b[0mshuffle_trajectory\u001b[0m\u001b[0;34m(\u001b[0m\u001b[0mresample\u001b[0m\u001b[0;34m=\u001b[0m\u001b[0;32mTrue\u001b[0m\u001b[0;34m)\u001b[0m\u001b[0;34m\u001b[0m\u001b[0;34m\u001b[0m\u001b[0m\n\u001b[0m\u001b[1;32m     40\u001b[0m             \u001b[0;32melse\u001b[0m\u001b[0;34m:\u001b[0m\u001b[0;34m\u001b[0m\u001b[0;34m\u001b[0m\u001b[0m\n\u001b[1;32m     41\u001b[0m                 \u001b[0mself\u001b[0m\u001b[0;34m.\u001b[0m\u001b[0mshuffle_trajectory\u001b[0m\u001b[0;34m(\u001b[0m\u001b[0;34m)\u001b[0m\u001b[0;34m\u001b[0m\u001b[0;34m\u001b[0m\u001b[0m\n",
      "\u001b[0;32m<ipython-input-15-14b950d04545>\u001b[0m in \u001b[0;36mshuffle_trajectory\u001b[0;34m(self, resample)\u001b[0m\n\u001b[1;32m     15\u001b[0m         \"\"\"\n\u001b[1;32m     16\u001b[0m         \u001b[0;32mif\u001b[0m \u001b[0mresample\u001b[0m\u001b[0;34m:\u001b[0m\u001b[0;34m\u001b[0m\u001b[0;34m\u001b[0m\u001b[0m\n\u001b[0;32m---> 17\u001b[0;31m             \u001b[0mself\u001b[0m\u001b[0;34m.\u001b[0m\u001b[0mtrajectory\u001b[0m \u001b[0;34m=\u001b[0m \u001b[0mself\u001b[0m\u001b[0;34m.\u001b[0m\u001b[0mrunner\u001b[0m\u001b[0;34m.\u001b[0m\u001b[0mget_next\u001b[0m\u001b[0;34m(\u001b[0m\u001b[0;34m)\u001b[0m\u001b[0;34m\u001b[0m\u001b[0;34m\u001b[0m\u001b[0m\n\u001b[0m\u001b[1;32m     18\u001b[0m \u001b[0;34m\u001b[0m\u001b[0m\n\u001b[1;32m     19\u001b[0m         \u001b[0mself\u001b[0m\u001b[0;34m.\u001b[0m\u001b[0mnum_runner_steps\u001b[0m \u001b[0;34m=\u001b[0m \u001b[0mlist\u001b[0m\u001b[0;34m(\u001b[0m\u001b[0mself\u001b[0m\u001b[0;34m.\u001b[0m\u001b[0mtrajectory\u001b[0m\u001b[0;34m.\u001b[0m\u001b[0mvalues\u001b[0m\u001b[0;34m(\u001b[0m\u001b[0;34m)\u001b[0m\u001b[0;34m)\u001b[0m\u001b[0;34m[\u001b[0m\u001b[0;36m0\u001b[0m\u001b[0;34m]\u001b[0m\u001b[0;34m.\u001b[0m\u001b[0mshape\u001b[0m\u001b[0;34m[\u001b[0m\u001b[0;36m0\u001b[0m\u001b[0;34m]\u001b[0m\u001b[0;34m\u001b[0m\u001b[0;34m\u001b[0m\u001b[0m\n",
      "\u001b[0;32m~/dl/courses/practical-rl/09_trpo/runners.py\u001b[0m in \u001b[0;36mget_next\u001b[0;34m(self)\u001b[0m\n\u001b[1;32m     43\u001b[0m                 \u001b[0mtrajectory\u001b[0m\u001b[0;34m[\u001b[0m\u001b[0mkey\u001b[0m\u001b[0;34m]\u001b[0m\u001b[0;34m.\u001b[0m\u001b[0mappend\u001b[0m\u001b[0;34m(\u001b[0m\u001b[0mval\u001b[0m\u001b[0;34m)\u001b[0m\u001b[0;34m\u001b[0m\u001b[0;34m\u001b[0m\u001b[0m\n\u001b[1;32m     44\u001b[0m \u001b[0;34m\u001b[0m\u001b[0m\n\u001b[0;32m---> 45\u001b[0;31m             \u001b[0mobs\u001b[0m\u001b[0;34m,\u001b[0m \u001b[0mrew\u001b[0m\u001b[0;34m,\u001b[0m \u001b[0mdone\u001b[0m\u001b[0;34m,\u001b[0m \u001b[0m_\u001b[0m \u001b[0;34m=\u001b[0m \u001b[0mself\u001b[0m\u001b[0;34m.\u001b[0m\u001b[0menv\u001b[0m\u001b[0;34m.\u001b[0m\u001b[0mstep\u001b[0m\u001b[0;34m(\u001b[0m\u001b[0mtrajectory\u001b[0m\u001b[0;34m[\u001b[0m\u001b[0;34m\"actions\"\u001b[0m\u001b[0;34m]\u001b[0m\u001b[0;34m[\u001b[0m\u001b[0;34m-\u001b[0m\u001b[0;36m1\u001b[0m\u001b[0;34m]\u001b[0m\u001b[0;34m)\u001b[0m\u001b[0;34m\u001b[0m\u001b[0;34m\u001b[0m\u001b[0m\n\u001b[0m\u001b[1;32m     46\u001b[0m             \u001b[0mself\u001b[0m\u001b[0;34m.\u001b[0m\u001b[0mstate\u001b[0m\u001b[0;34m[\u001b[0m\u001b[0;34m\"latest_observation\"\u001b[0m\u001b[0;34m]\u001b[0m \u001b[0;34m=\u001b[0m \u001b[0mobs\u001b[0m\u001b[0;34m\u001b[0m\u001b[0;34m\u001b[0m\u001b[0m\n\u001b[1;32m     47\u001b[0m             \u001b[0mrewards\u001b[0m\u001b[0;34m.\u001b[0m\u001b[0mappend\u001b[0m\u001b[0;34m(\u001b[0m\u001b[0mrew\u001b[0m\u001b[0;34m)\u001b[0m\u001b[0;34m\u001b[0m\u001b[0;34m\u001b[0m\u001b[0m\n",
      "\u001b[0;32m~/dl/courses/practical-rl/09_trpo/mujoco_wrappers.py\u001b[0m in \u001b[0;36mstep\u001b[0;34m(self, action)\u001b[0m\n\u001b[1;32m     84\u001b[0m \u001b[0;34m\u001b[0m\u001b[0m\n\u001b[1;32m     85\u001b[0m     \u001b[0;32mdef\u001b[0m \u001b[0mstep\u001b[0m\u001b[0;34m(\u001b[0m\u001b[0mself\u001b[0m\u001b[0;34m,\u001b[0m \u001b[0maction\u001b[0m\u001b[0;34m)\u001b[0m\u001b[0;34m:\u001b[0m\u001b[0;34m\u001b[0m\u001b[0;34m\u001b[0m\u001b[0m\n\u001b[0;32m---> 86\u001b[0;31m         \u001b[0mobs\u001b[0m\u001b[0;34m,\u001b[0m \u001b[0mrews\u001b[0m\u001b[0;34m,\u001b[0m \u001b[0mresets\u001b[0m\u001b[0;34m,\u001b[0m \u001b[0minfo\u001b[0m \u001b[0;34m=\u001b[0m \u001b[0mself\u001b[0m\u001b[0;34m.\u001b[0m\u001b[0menv\u001b[0m\u001b[0;34m.\u001b[0m\u001b[0mstep\u001b[0m\u001b[0;34m(\u001b[0m\u001b[0maction\u001b[0m\u001b[0;34m)\u001b[0m\u001b[0;34m\u001b[0m\u001b[0;34m\u001b[0m\u001b[0m\n\u001b[0m\u001b[1;32m     87\u001b[0m         \u001b[0mself\u001b[0m\u001b[0;34m.\u001b[0m\u001b[0mret\u001b[0m \u001b[0;34m=\u001b[0m \u001b[0mself\u001b[0m\u001b[0;34m.\u001b[0m\u001b[0mret\u001b[0m \u001b[0;34m*\u001b[0m \u001b[0mself\u001b[0m\u001b[0;34m.\u001b[0m\u001b[0mgamma\u001b[0m \u001b[0;34m+\u001b[0m \u001b[0mrews\u001b[0m\u001b[0;34m\u001b[0m\u001b[0;34m\u001b[0m\u001b[0m\n\u001b[1;32m     88\u001b[0m         \u001b[0mobs\u001b[0m \u001b[0;34m=\u001b[0m \u001b[0mself\u001b[0m\u001b[0;34m.\u001b[0m\u001b[0mobservation\u001b[0m\u001b[0;34m(\u001b[0m\u001b[0mobs\u001b[0m\u001b[0;34m)\u001b[0m\u001b[0;34m\u001b[0m\u001b[0;34m\u001b[0m\u001b[0m\n",
      "\u001b[0;32m<ipython-input-6-30f2fc2c552c>\u001b[0m in \u001b[0;36mstep\u001b[0;34m(self, action)\u001b[0m\n\u001b[1;32m     41\u001b[0m \u001b[0;34m\u001b[0m\u001b[0m\n\u001b[1;32m     42\u001b[0m     \u001b[0;32mdef\u001b[0m \u001b[0mstep\u001b[0m\u001b[0;34m(\u001b[0m\u001b[0mself\u001b[0m\u001b[0;34m,\u001b[0m \u001b[0maction\u001b[0m\u001b[0;34m)\u001b[0m\u001b[0;34m:\u001b[0m\u001b[0;34m\u001b[0m\u001b[0;34m\u001b[0m\u001b[0m\n\u001b[0;32m---> 43\u001b[0;31m         \u001b[0mobs\u001b[0m\u001b[0;34m,\u001b[0m \u001b[0mrew\u001b[0m\u001b[0;34m,\u001b[0m \u001b[0mdone\u001b[0m\u001b[0;34m,\u001b[0m \u001b[0minfo\u001b[0m \u001b[0;34m=\u001b[0m \u001b[0mself\u001b[0m\u001b[0;34m.\u001b[0m\u001b[0menv\u001b[0m\u001b[0;34m.\u001b[0m\u001b[0mstep\u001b[0m\u001b[0;34m(\u001b[0m\u001b[0maction\u001b[0m\u001b[0;34m)\u001b[0m\u001b[0;34m\u001b[0m\u001b[0;34m\u001b[0m\u001b[0m\n\u001b[0m\u001b[1;32m     44\u001b[0m         \u001b[0mself\u001b[0m\u001b[0;34m.\u001b[0m\u001b[0mrewards\u001b[0m \u001b[0;34m+=\u001b[0m \u001b[0mrew\u001b[0m\u001b[0;34m\u001b[0m\u001b[0;34m\u001b[0m\u001b[0m\n\u001b[1;32m     45\u001b[0m         \u001b[0mself\u001b[0m\u001b[0;34m.\u001b[0m\u001b[0mepisode_lengths\u001b[0m\u001b[0;34m[\u001b[0m\u001b[0;34m~\u001b[0m\u001b[0mself\u001b[0m\u001b[0;34m.\u001b[0m\u001b[0mhad_ended_episodes\u001b[0m\u001b[0;34m]\u001b[0m \u001b[0;34m+=\u001b[0m \u001b[0;36m1\u001b[0m\u001b[0;34m\u001b[0m\u001b[0;34m\u001b[0m\u001b[0m\n",
      "\u001b[0;32m~/opt/anaconda3/lib/python3.6/site-packages/gym/wrappers/time_limit.py\u001b[0m in \u001b[0;36mstep\u001b[0;34m(self, action)\u001b[0m\n\u001b[1;32m     29\u001b[0m     \u001b[0;32mdef\u001b[0m \u001b[0mstep\u001b[0m\u001b[0;34m(\u001b[0m\u001b[0mself\u001b[0m\u001b[0;34m,\u001b[0m \u001b[0maction\u001b[0m\u001b[0;34m)\u001b[0m\u001b[0;34m:\u001b[0m\u001b[0;34m\u001b[0m\u001b[0;34m\u001b[0m\u001b[0m\n\u001b[1;32m     30\u001b[0m         \u001b[0;32massert\u001b[0m \u001b[0mself\u001b[0m\u001b[0;34m.\u001b[0m\u001b[0m_episode_started_at\u001b[0m \u001b[0;32mis\u001b[0m \u001b[0;32mnot\u001b[0m \u001b[0;32mNone\u001b[0m\u001b[0;34m,\u001b[0m \u001b[0;34m\"Cannot call env.step() before calling reset()\"\u001b[0m\u001b[0;34m\u001b[0m\u001b[0;34m\u001b[0m\u001b[0m\n\u001b[0;32m---> 31\u001b[0;31m         \u001b[0mobservation\u001b[0m\u001b[0;34m,\u001b[0m \u001b[0mreward\u001b[0m\u001b[0;34m,\u001b[0m \u001b[0mdone\u001b[0m\u001b[0;34m,\u001b[0m \u001b[0minfo\u001b[0m \u001b[0;34m=\u001b[0m \u001b[0mself\u001b[0m\u001b[0;34m.\u001b[0m\u001b[0menv\u001b[0m\u001b[0;34m.\u001b[0m\u001b[0mstep\u001b[0m\u001b[0;34m(\u001b[0m\u001b[0maction\u001b[0m\u001b[0;34m)\u001b[0m\u001b[0;34m\u001b[0m\u001b[0;34m\u001b[0m\u001b[0m\n\u001b[0m\u001b[1;32m     32\u001b[0m         \u001b[0mself\u001b[0m\u001b[0;34m.\u001b[0m\u001b[0m_elapsed_steps\u001b[0m \u001b[0;34m+=\u001b[0m \u001b[0;36m1\u001b[0m\u001b[0;34m\u001b[0m\u001b[0;34m\u001b[0m\u001b[0m\n\u001b[1;32m     33\u001b[0m \u001b[0;34m\u001b[0m\u001b[0m\n",
      "\u001b[0;32m~/dl/courses/practical-rl/09_trpo/lib/pybullet-gym/pybulletgym/envs/mujoco/envs/locomotion/half_cheetah_env.py\u001b[0m in \u001b[0;36mstep\u001b[0;34m(self, a)\u001b[0m\n\u001b[1;32m     12\u001b[0m         \u001b[0;32mif\u001b[0m \u001b[0;32mnot\u001b[0m \u001b[0mself\u001b[0m\u001b[0;34m.\u001b[0m\u001b[0mscene\u001b[0m\u001b[0;34m.\u001b[0m\u001b[0mmultiplayer\u001b[0m\u001b[0;34m:\u001b[0m  \u001b[0;31m# if multiplayer, action first applied to all robots, then global step() called, then _step() for all robots with the same actions\u001b[0m\u001b[0;34m\u001b[0m\u001b[0;34m\u001b[0m\u001b[0m\n\u001b[1;32m     13\u001b[0m             \u001b[0mself\u001b[0m\u001b[0;34m.\u001b[0m\u001b[0mrobot\u001b[0m\u001b[0;34m.\u001b[0m\u001b[0mapply_action\u001b[0m\u001b[0;34m(\u001b[0m\u001b[0ma\u001b[0m\u001b[0;34m)\u001b[0m\u001b[0;34m\u001b[0m\u001b[0;34m\u001b[0m\u001b[0m\n\u001b[0;32m---> 14\u001b[0;31m             \u001b[0mself\u001b[0m\u001b[0;34m.\u001b[0m\u001b[0mscene\u001b[0m\u001b[0;34m.\u001b[0m\u001b[0mglobal_step\u001b[0m\u001b[0;34m(\u001b[0m\u001b[0;34m)\u001b[0m\u001b[0;34m\u001b[0m\u001b[0;34m\u001b[0m\u001b[0m\n\u001b[0m\u001b[1;32m     15\u001b[0m \u001b[0;34m\u001b[0m\u001b[0m\n\u001b[1;32m     16\u001b[0m         \u001b[0mpotential\u001b[0m \u001b[0;34m=\u001b[0m \u001b[0mself\u001b[0m\u001b[0;34m.\u001b[0m\u001b[0mrobot\u001b[0m\u001b[0;34m.\u001b[0m\u001b[0mcalc_potential\u001b[0m\u001b[0;34m(\u001b[0m\u001b[0;34m)\u001b[0m\u001b[0;34m\u001b[0m\u001b[0;34m\u001b[0m\u001b[0m\n",
      "\u001b[0;32m~/dl/courses/practical-rl/09_trpo/lib/pybullet-gym/pybulletgym/envs/roboschool/scenes/scene_bases.py\u001b[0m in \u001b[0;36mglobal_step\u001b[0;34m(self)\u001b[0m\n\u001b[1;32m     50\u001b[0m         \u001b[0mobservations\u001b[0m \u001b[0;32mfrom\u001b[0m \u001b[0mrobots\u001b[0m \u001b[0musing\u001b[0m \u001b[0mstep\u001b[0m\u001b[0;34m(\u001b[0m\u001b[0;34m)\u001b[0m \u001b[0;32mwith\u001b[0m \u001b[0mthe\u001b[0m \u001b[0msame\u001b[0m \u001b[0maction\u001b[0m\u001b[0;34m.\u001b[0m\u001b[0;34m\u001b[0m\u001b[0;34m\u001b[0m\u001b[0m\n\u001b[1;32m     51\u001b[0m         \"\"\"\n\u001b[0;32m---> 52\u001b[0;31m         \u001b[0mself\u001b[0m\u001b[0;34m.\u001b[0m\u001b[0mcpp_world\u001b[0m\u001b[0;34m.\u001b[0m\u001b[0mstep\u001b[0m\u001b[0;34m(\u001b[0m\u001b[0mself\u001b[0m\u001b[0;34m.\u001b[0m\u001b[0mframe_skip\u001b[0m\u001b[0;34m)\u001b[0m\u001b[0;34m\u001b[0m\u001b[0;34m\u001b[0m\u001b[0m\n\u001b[0m\u001b[1;32m     53\u001b[0m \u001b[0;34m\u001b[0m\u001b[0m\n\u001b[1;32m     54\u001b[0m \u001b[0;32mclass\u001b[0m \u001b[0mSingleRobotEmptyScene\u001b[0m\u001b[0;34m(\u001b[0m\u001b[0mScene\u001b[0m\u001b[0;34m)\u001b[0m\u001b[0;34m:\u001b[0m\u001b[0;34m\u001b[0m\u001b[0;34m\u001b[0m\u001b[0m\n",
      "\u001b[0;32m~/dl/courses/practical-rl/09_trpo/lib/pybullet-gym/pybulletgym/envs/roboschool/scenes/scene_bases.py\u001b[0m in \u001b[0;36mstep\u001b[0;34m(self, frame_skip)\u001b[0m\n\u001b[1;32m     74\u001b[0m \u001b[0;34m\u001b[0m\u001b[0m\n\u001b[1;32m     75\u001b[0m         \u001b[0;32mdef\u001b[0m \u001b[0mstep\u001b[0m\u001b[0;34m(\u001b[0m\u001b[0mself\u001b[0m\u001b[0;34m,\u001b[0m \u001b[0mframe_skip\u001b[0m\u001b[0;34m)\u001b[0m\u001b[0;34m:\u001b[0m\u001b[0;34m\u001b[0m\u001b[0;34m\u001b[0m\u001b[0m\n\u001b[0;32m---> 76\u001b[0;31m                 \u001b[0mself\u001b[0m\u001b[0;34m.\u001b[0m\u001b[0m_p\u001b[0m\u001b[0;34m.\u001b[0m\u001b[0mstepSimulation\u001b[0m\u001b[0;34m(\u001b[0m\u001b[0;34m)\u001b[0m\u001b[0;34m\u001b[0m\u001b[0;34m\u001b[0m\u001b[0m\n\u001b[0m\u001b[1;32m     77\u001b[0m \u001b[0;34m\u001b[0m\u001b[0m\n\u001b[1;32m     78\u001b[0m \u001b[0;34m\u001b[0m\u001b[0m\n",
      "\u001b[0;31mKeyboardInterrupt\u001b[0m: "
     ]
    }
   ],
   "source": [
    "%%time\n",
    "curves_names = ['loss', 'value_loss', 'policy_loss', 'grad_norm', 'Reward']\n",
    "curves = [[], [], [], [], []]\n",
    "\n",
    "for i in trange(LAST_EPOCH, TOTAL_EPOCH):\n",
    "    trajectory = sampler.get_next()\n",
    "    losses = ppo.step(trajectory)\n",
    "    scheduler.step()\n",
    "    for j, loss in enumerate(losses):\n",
    "        curves[j].append(loss)\n",
    "    mean_reward = env.env.get_values(GAME_NAME + \"/reward_mean_100\") or [(None, 0)]\n",
    "    curves[-1].append(mean_reward[-1][1])\n",
    "    if mean_reward[-1][1] > 1500:\n",
    "        print(\"TASK PASSED!\")\n",
    "\n",
    "    if i and i % DROW_STEP == 0:\n",
    "        clear_output(True)\n",
    "        fig1, axs = plt.subplots(3, 2, figsize=FIG_SIZE, constrained_layout=True)\n",
    "        for j, curve in enumerate(curves):\n",
    "#             axs[j // 2][j % 2].set_ylim(ylims[j])\n",
    "            axs[j // 2][j % 2].set_title(curves_names[j])\n",
    "            smoth_curve = moving_average(curve, span=100) if j != 5 else curve\n",
    "            axs[j // 2][j % 2].plot(smoth_curve, label=f'{curves_names[j]}= {smoth_curve[-1]}')\n",
    "        fig1.legend()\n",
    "        plt.show()\n",
    "    \n",
    "    if i != LAST_EPOCH and i % SAVE_STEP == 0:\n",
    "        torch.save(agent, MODEL_MASK.format(last_epoch=i))\n"
   ]
  }
 ],
 "metadata": {
  "kernelspec": {
   "display_name": "Python 3",
   "language": "python",
   "name": "python3"
  },
  "language_info": {
   "codemirror_mode": {
    "name": "ipython",
    "version": 3
   },
   "file_extension": ".py",
   "mimetype": "text/x-python",
   "name": "python",
   "nbconvert_exporter": "python",
   "pygments_lexer": "ipython3",
   "version": "3.6.10"
  }
 },
 "nbformat": 4,
 "nbformat_minor": 2
}
