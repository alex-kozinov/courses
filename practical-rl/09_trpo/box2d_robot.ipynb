{
 "cells": [
  {
   "cell_type": "markdown",
   "metadata": {},
   "source": [
    "# Requirements"
   ]
  },
  {
   "cell_type": "code",
   "execution_count": 1,
   "metadata": {},
   "outputs": [],
   "source": [
    "try:\n",
    "    import google.colab\n",
    "    USE_COLAB = True\n",
    "except:\n",
    "    USE_COLAB = False\n",
    "\n",
    "RUN_TESTS = True\n",
    "\n",
    "if USE_COLAB:\n",
    "    print(\"Don't forget to avoid disconnections:\")\n",
    "    print(\"\"\"\n",
    "    function ClickConnect(){\n",
    "        console.log(\"Clicking\"); \n",
    "        document.querySelector(\"colab-connect-button\").click() \n",
    "    }\n",
    "    setInterval(ClickConnect,60000)\n",
    "    \n",
    "    \"\"\")"
   ]
  },
  {
   "cell_type": "code",
   "execution_count": 2,
   "metadata": {},
   "outputs": [],
   "source": [
    "import numpy as np\n",
    "from numpy.linalg import inv\n",
    "\n",
    "import scipy.signal\n",
    "\n",
    "import torch\n",
    "import torch.nn as nn\n",
    "import torch.nn.functional as F\n",
    "from torch.autograd import Variable\n",
    "from torch.distributions import Normal\n",
    "\n",
    "import gym\n",
    "\n",
    "import matplotlib.pyplot as plt\n",
    "\n",
    "import time\n",
    "from itertools import count\n",
    "from collections import OrderedDict"
   ]
  },
  {
   "cell_type": "markdown",
   "metadata": {},
   "source": [
    "# Description"
   ]
  },
  {
   "cell_type": "markdown",
   "metadata": {},
   "source": [
    "Let's use TRPO to train evil robots! (pick any of two)\n",
    "* [MuJoCo robots](https://gym.openai.com/envs#mujoco)\n",
    "* [Box2d robot](https://gym.openai.com/envs/BipedalWalker-v2)\n",
    "\n",
    "The catch here is that those environments have continuous action spaces. \n",
    "\n",
    "Luckily, TRPO is a policy gradient method, so it's gonna work for any parametric $\\pi_\\theta(a|s)$. We recommend starting with gaussian policy:\n",
    "\n",
    "$$\\pi_\\theta(a|s) = N(\\mu_\\theta(s),\\sigma^2_\\theta(s)) = {1 \\over \\sqrt { 2 \\pi {\\sigma^2}_\\theta(s) } } e^{ (a - \n",
    "\\mu_\\theta(s))^2 \\over 2 {\\sigma^2}_\\theta(s) } $$\n",
    "\n",
    "In the $\\sqrt { 2 \\pi {\\sigma^2}_\\theta(s) }$ clause, $\\pi$ means ~3.1415926, not agent's policy.\n",
    "\n",
    "This essentially means that you will need two output layers:\n",
    "* $\\mu_\\theta(s)$, a dense layer with linear activation\n",
    "* ${\\sigma^2}_\\theta(s)$, a dense layer with activation tf.exp (to make it positive; like rho from bandits)\n",
    "\n",
    "For multidimensional actions, you can use fully factorized gaussian (basically a vector of gaussians).\n",
    "\n",
    "__bonus task__: compare performance of continuous action space method to action space discretization"
   ]
  },
  {
   "cell_type": "markdown",
   "metadata": {},
   "source": [
    "# Data Exploration\n",
    "\n",
    "Explore given environment"
   ]
  },
  {
   "cell_type": "code",
   "execution_count": 3,
   "metadata": {},
   "outputs": [
    {
     "name": "stdout",
     "output_type": "stream",
     "text": [
      "\u001b[33mWARN: gym.spaces.Box autodetected dtype as <class 'numpy.float32'>. Please provide explicit dtype.\u001b[0m\n",
      "\u001b[33mWARN: gym.spaces.Box autodetected dtype as <class 'numpy.float32'>. Please provide explicit dtype.\u001b[0m\n"
     ]
    },
    {
     "name": "stderr",
     "output_type": "stream",
     "text": [
      "/Users/alex-kozinov/opt/anaconda3/lib/python3.6/site-packages/gym/envs/registration.py:14: PkgResourcesDeprecationWarning: Parameters to load are deprecated.  Call .resolve and .require separately.\n",
      "  result = entry_point.load(False)\n"
     ]
    }
   ],
   "source": [
    "test_env = gym.make(\"BipedalWalker-v2\")\n",
    "test_obs = test_env.reset()"
   ]
  },
  {
   "cell_type": "code",
   "execution_count": 4,
   "metadata": {},
   "outputs": [
    {
     "name": "stdout",
     "output_type": "stream",
     "text": [
      "(24,)\n",
      "Box(4,)\n"
     ]
    }
   ],
   "source": [
    "print(test_obs.shape)\n",
    "print(test_env.action_space)"
   ]
  },
  {
   "cell_type": "markdown",
   "metadata": {},
   "source": [
    "There are 4 possible actions: for all 4 Joints. Each parameter in range [-1, 1]. \n",
    "\n",
    "Let model learn it by **iteslf**"
   ]
  },
  {
   "cell_type": "markdown",
   "metadata": {},
   "source": [
    "# Define functional"
   ]
  },
  {
   "cell_type": "markdown",
   "metadata": {},
   "source": [
    "---\n",
    "## 1. model"
   ]
  },
  {
   "cell_type": "markdown",
   "metadata": {},
   "source": [
    "### defenition"
   ]
  },
  {
   "cell_type": "code",
   "execution_count": 5,
   "metadata": {},
   "outputs": [],
   "source": [
    "class TRPOAgent(nn.Module):\n",
    "    def __init__(self, state_shape, n_actions, hidden_size=[64, 32]):\n",
    "        '''\n",
    "        Here you should define your model\n",
    "        You should have LOG-PROBABILITIES as output because you will need it to compute loss\n",
    "        We recommend that you start simple: \n",
    "        use 1-2 hidden layers with 100-500 units and relu for the first try\n",
    "        '''\n",
    "        nn.Module.__init__(self)\n",
    "\n",
    "        self.body = nn.Sequential(\n",
    "            nn.Linear(state_shape[0], hidden_size[0]),\n",
    "            nn.ReLU(),\n",
    "            nn.Linear(hidden_size[0], hidden_size[1]),\n",
    "            nn.ReLU(),\n",
    "        )\n",
    "        self.mu_head = nn.Sequential(\n",
    "            nn.Linear(hidden_size[1], n_actions),\n",
    "            nn.ReLU()\n",
    "        )\n",
    "        self.std_head = nn.Sequential(\n",
    "            nn.Linear(hidden_size[1], n_actions),\n",
    "        )\n",
    "\n",
    "    def forward(self, states):\n",
    "        \"\"\"\n",
    "        takes agent's observation (Variable), returns gaussian distribution parameters\n",
    "        :param states: a batch of states, shape = [batch_size, state_shape]\n",
    "        \"\"\"\n",
    "        hidden_state = self.body(states)\n",
    "        return self.mu_head(hidden_state), torch.exp(self.std_head(hidden_state))\n",
    "    \n",
    "    def get_prob_dist(self, obs):\n",
    "        \"\"\"\n",
    "        takes agent's observation (Variable), returns gaussian distribution\n",
    "        :param states: a batch of states, shape = [batch_size, state_shape]\n",
    "        \"\"\"\n",
    "\n",
    "        mu, std = self.forward(Variable(torch.FloatTensor(obs)))\n",
    "        dist = Normal(mu, std)\n",
    "        return dist\n",
    "\n",
    "    def act(self, obs):\n",
    "        '''\n",
    "        Samples action from policy distribution\n",
    "        :param: obs - single observation vector\n",
    "        :returns: action (single integer) and probabilities class for all actions\n",
    "        '''\n",
    "        \n",
    "        with torch.no_grad():\n",
    "            dist = self.get_prob_dist(obs)\n",
    "            \n",
    "        action = dist.sample().numpy()\n",
    "        return action, dist"
   ]
  },
  {
   "cell_type": "markdown",
   "metadata": {},
   "source": [
    "### testing"
   ]
  },
  {
   "cell_type": "code",
   "execution_count": 6,
   "metadata": {},
   "outputs": [
    {
     "name": "stdout",
     "output_type": "stream",
     "text": [
      "Test passed\n"
     ]
    }
   ],
   "source": [
    "test_model = TRPOAgent(test_obs.shape, test_env.action_space.shape[0])\n",
    "test_input = torch.ones((24))\n",
    "test_next_action, test_dist = test_model.act(test_obs)\n",
    "assert (type(test_next_action) == np.ndarray)\n",
    "assert (test_next_action.shape == (4,))\n",
    "assert (test_dist.mean.shape == (4,))\n",
    "\n",
    "print('Test passed')"
   ]
  },
  {
   "cell_type": "markdown",
   "metadata": {},
   "source": [
    "---\n",
    "## 2. flat parameters operations"
   ]
  },
  {
   "cell_type": "markdown",
   "metadata": {},
   "source": [
    "### definition"
   ]
  },
  {
   "cell_type": "code",
   "execution_count": 7,
   "metadata": {},
   "outputs": [],
   "source": [
    "def get_flat_params_from(model):\n",
    "    params = []\n",
    "    for param in model.parameters():\n",
    "        params.append(param.data.view(-1))\n",
    "\n",
    "    flat_params = torch.cat(params)\n",
    "    return flat_params\n",
    "\n",
    "\n",
    "def set_flat_params_to(model, flat_params):\n",
    "    prev_ind = 0\n",
    "    for param in model.parameters():\n",
    "        flat_size = int(np.prod(list(param.size())))\n",
    "        param.data.copy_(\n",
    "            flat_params[prev_ind:prev_ind + flat_size].view(param.size()))\n",
    "        prev_ind += flat_size"
   ]
  },
  {
   "cell_type": "markdown",
   "metadata": {},
   "source": [
    "---\n",
    "## 3. count cummulative"
   ]
  },
  {
   "cell_type": "markdown",
   "metadata": {},
   "source": [
    "### definition\n",
    "\n"
   ]
  },
  {
   "cell_type": "code",
   "execution_count": 8,
   "metadata": {},
   "outputs": [],
   "source": [
    "def get_cummulative_returns(r, gamma=1):\n",
    "    \"\"\"\n",
    "    Computes cummulative discounted rewards given immediate rewards\n",
    "    G_i = r_i + gamma*r_{i+1} + gamma^2*r_{i+2} + ...\n",
    "    Also known as R(s,a).\n",
    "    \"\"\"\n",
    "    r = np.array(r)\n",
    "    assert r.ndim >= 1\n",
    "    return scipy.signal.lfilter([1], [1, -gamma], r[::-1], axis=0)[::-1]"
   ]
  },
  {
   "cell_type": "markdown",
   "metadata": {},
   "source": [
    "### test"
   ]
  },
  {
   "cell_type": "code",
   "execution_count": 9,
   "metadata": {},
   "outputs": [
    {
     "name": "stdout",
     "output_type": "stream",
     "text": [
      "Tests passed\n"
     ]
    }
   ],
   "source": [
    "# simple demo on rewards [0,0,1,0,0,1]\n",
    "assert (get_cummulative_returns([0, 0, 1, 0, 0, 1], gamma=1.) == np.array([2., 2., 2., 1., 1., 1.])).all()\n",
    "print('Tests passed')"
   ]
  },
  {
   "cell_type": "markdown",
   "metadata": {},
   "source": [
    "## 4. transformation list of distributions to one multidimensial distribution"
   ]
  },
  {
   "cell_type": "markdown",
   "metadata": {},
   "source": [
    "### definition"
   ]
  },
  {
   "cell_type": "code",
   "execution_count": 10,
   "metadata": {},
   "outputs": [],
   "source": [
    "def cat_normal(normals):\n",
    "    \"\"\"\n",
    "    cat list of Normal distributions to single distribution\n",
    "    :param: normals - list of Normal distributions\n",
    "    \"\"\"\n",
    "    mu_s = [dist.mean for dist in normals]\n",
    "    std_s = [dist.stddev for dist in normals]\n",
    "    if len(mu_s[0].shape) == 1:\n",
    "        return Normal(torch.stack(mu_s), torch.stack(std_s))\n",
    "    else:\n",
    "        return Normal(torch.cat(mu_s), torch.cat(std_s))"
   ]
  },
  {
   "cell_type": "markdown",
   "metadata": {},
   "source": [
    "### testing\n"
   ]
  },
  {
   "cell_type": "code",
   "execution_count": 11,
   "metadata": {},
   "outputs": [
    {
     "name": "stdout",
     "output_type": "stream",
     "text": [
      "Test passed\n"
     ]
    }
   ],
   "source": [
    "A = Normal(torch.tensor([0., 0.]), torch.tensor([1., 1.]))\n",
    "B = Normal(torch.tensor([2., 2.]), torch.tensor([3., 3.]))\n",
    "AB = cat_normal([A, B])\n",
    "ABAB = cat_normal([AB, AB])\n",
    "\n",
    "assert (AB.mean == torch.tensor([[0., 0.], [2., 2.]])).all()\n",
    "assert (AB.stddev == torch.tensor([[1., 1.], [3., 3.]])).all()\n",
    "assert (ABAB.mean.shape == torch.Size([4, 2]))\n",
    "print('Test passed')"
   ]
  },
  {
   "cell_type": "markdown",
   "metadata": {},
   "source": [
    "---\n",
    "## 5. rollout"
   ]
  },
  {
   "cell_type": "markdown",
   "metadata": {},
   "source": [
    "### definition"
   ]
  },
  {
   "cell_type": "code",
   "execution_count": 12,
   "metadata": {},
   "outputs": [],
   "source": [
    "def rollout(env, agent, max_pathlength=2500, n_timesteps=50000):\n",
    "    \"\"\"\n",
    "    Generate rollouts for training.\n",
    "    :param: env - environment in which we will make actions to generate rollouts.\n",
    "    :param: act - the function that can return policy and action given observation.\n",
    "    :param: max_pathlength - maximum size of one path that we generate.\n",
    "    :param: n_timesteps - total sum of sizes of all pathes we generate.\n",
    "    \"\"\"\n",
    "    paths = []\n",
    "\n",
    "    total_timesteps = 0\n",
    "    while total_timesteps < n_timesteps:\n",
    "        obervations, actions, rewards, probs_dist = [], [], [], []\n",
    "        obervation = env.reset()\n",
    "        for _ in range(max_pathlength):\n",
    "            action, prob_dist = agent.act(obervation)\n",
    "            obervations.append(obervation)\n",
    "            actions.append(action)\n",
    "            probs_dist.append(prob_dist)\n",
    "            obervation, reward, done, _ = env.step(action)\n",
    "            rewards.append(reward)\n",
    "            total_timesteps += 1\n",
    "            if done or total_timesteps == n_timesteps:\n",
    "                path = {\"observations\": np.array(obervations),\n",
    "                        \"policy\": cat_normal(probs_dist),\n",
    "                        \"actions\": np.array(actions),\n",
    "                        \"rewards\": np.array(rewards),\n",
    "                        \"cumulative_returns\": get_cummulative_returns(rewards, gamma=0.99),\n",
    "                        }\n",
    "                paths.append(path)\n",
    "                break\n",
    "    return paths"
   ]
  },
  {
   "cell_type": "markdown",
   "metadata": {},
   "source": [
    "### testing"
   ]
  },
  {
   "cell_type": "code",
   "execution_count": 13,
   "metadata": {},
   "outputs": [
    {
     "name": "stdout",
     "output_type": "stream",
     "text": [
      "{'observations': array([[ 2.74687400e-03,  4.21241100e-06, -5.49243987e-04,\n",
      "        -1.60000253e-02,  9.22860801e-02,  1.27502775e-03,\n",
      "         8.60011801e-01,  3.89398929e-04,  1.00000000e+00,\n",
      "         3.26558985e-02,  1.27499446e-03,  8.53638798e-01,\n",
      "        -8.67553909e-04,  1.00000000e+00,  4.40813661e-01,\n",
      "         4.45819765e-01,  4.61422414e-01,  4.89549786e-01,\n",
      "         5.34102380e-01,  6.02460563e-01,  7.09148288e-01,\n",
      "         8.85931075e-01,  1.00000000e+00,  1.00000000e+00],\n",
      "       [ 1.04732243e-02, -1.21068752e-02,  5.64398959e-03,\n",
      "         2.68419623e-02, -2.76028782e-01, -3.35582793e-01,\n",
      "         1.70778561e+00,  1.03140895e+00,  1.00000000e+00,\n",
      "        -3.75023395e-01, -6.68609977e-01,  1.71342707e+00,\n",
      "         9.91381168e-01,  1.00000000e+00,  4.56697792e-01,\n",
      "         4.61884290e-01,  4.78049159e-01,  5.07190049e-01,\n",
      "         5.53348005e-01,  6.24169409e-01,  7.34701514e-01,\n",
      "         9.17854428e-01,  1.00000000e+00,  1.00000000e+00],\n",
      "       [-3.39294709e-02, -7.79704332e-02, -3.77656281e-02,\n",
      "         2.90496349e-02,  5.61594889e-02,  6.96574748e-01,\n",
      "         1.42857400e+00, -1.51467592e-01,  1.00000000e+00,\n",
      "        -1.65948756e-02,  8.46213102e-01,  1.42735484e+00,\n",
      "         0.00000000e+00,  1.00000000e+00,  4.63360667e-01,\n",
      "         4.68622833e-01,  4.85023528e-01,  5.14589608e-01,\n",
      "         5.61420977e-01,  6.33275568e-01,  7.45420277e-01,\n",
      "         9.31245267e-01,  1.00000000e+00,  1.00000000e+00],\n",
      "       [-7.75364637e-02, -8.21568489e-02, -3.91077554e-02,\n",
      "         8.33953142e-03,  1.62543878e-01,  5.70036054e-01,\n",
      "         1.31759706e+00,  0.00000000e+00,  1.00000000e+00,\n",
      "         6.93503171e-02,  1.00000012e+00,  1.35968354e+00,\n",
      "         1.19209290e-07,  1.00000000e+00,  4.65747029e-01,\n",
      "         4.71036285e-01,  4.87521440e-01,  5.17239749e-01,\n",
      "         5.64312339e-01,  6.36537015e-01,  7.49259293e-01,\n",
      "         9.36041296e-01,  1.00000000e+00,  1.00000000e+00],\n",
      "       [-1.14991471e-01, -7.10478783e-02, -4.94473314e-02,\n",
      "         2.65571070e-02,  2.28514075e-01,  9.98080492e-01,\n",
      "         1.18297274e+00, -6.14616076e-01,  0.00000000e+00,\n",
      "         1.53967381e-01,  1.00047994e+00,  1.25294754e+00,\n",
      "         3.95099322e-04,  1.00000000e+00,  4.68692452e-01,\n",
      "         4.74015146e-01,  4.90604579e-01,  5.20510852e-01,\n",
      "         5.67881107e-01,  6.40562534e-01,  7.53997624e-01,\n",
      "         9.41960871e-01,  1.00000000e+00,  1.00000000e+00]]), 'policy': Normal(loc: torch.Size([5, 4]), scale: torch.Size([5, 4])), 'actions': array([[ 0.5008464 ,  0.79483825, -0.02511657,  0.8266279 ],\n",
      "       [ 0.75546014,  0.00787956,  1.0220839 ,  1.8227305 ],\n",
      "       [-0.17058766,  0.85736865,  2.4668283 ,  1.8365245 ],\n",
      "       [ 1.0639493 , -0.6691558 ,  0.5467179 ,  0.2078236 ],\n",
      "       [-0.055334  ,  0.91107   , -0.77718383, -1.4878999 ]],\n",
      "      dtype=float32), 'rewards': array([-0.03673374, -0.25966863, -0.34567475, -0.30046273, -0.21316104]), 'cumulative_returns': array([-1.12890184, -1.10320009, -0.85205198, -0.51149215, -0.21316104])}\n",
      "Test Passed\n"
     ]
    }
   ],
   "source": [
    "test_agent = TRPOAgent(test_obs.shape, test_env.action_space.shape[0])\n",
    "paths = rollout(test_env, test_agent, max_pathlength=5, n_timesteps=100)\n",
    "print(paths[-1])\n",
    "assert (type(paths[0]['policy']) == torch.distributions.normal.Normal)\n",
    "assert (paths[0]['policy'].mean.shape == (5,test_env.action_space.shape[0]))\n",
    "assert (paths[0]['cumulative_returns'].shape == (5,))\n",
    "assert (paths[0]['rewards'].shape == (5,))\n",
    "assert (paths[0]['observations'].shape == (5,)+test_obs.shape)\n",
    "assert (paths[0]['actions'].shape == (5,test_env.action_space.shape[0]))\n",
    "print('Test Passed')"
   ]
  },
  {
   "cell_type": "markdown",
   "metadata": {},
   "source": [
    "---\n",
    "## 6. Surrogate loss"
   ]
  },
  {
   "cell_type": "markdown",
   "metadata": {},
   "source": [
    "Now let's define the loss functions and something else for actual TRPO training.\n",
    "\n",
    "The surrogate reward should be\n",
    "$$J_{surr}= {1 \\over N} \\sum\\limits_{i=0}^N \\frac{\\pi_{\\theta}(s_i, a_i)}{\\pi_{\\theta_{old}}(s_i, a_i)}A_{\\theta_{old}(s_i, a_i)}$$\n",
    "\n",
    "For simplicity, let's use cummulative returns instead of advantage for now:\n",
    "$$J'_{surr}= {1 \\over N} \\sum\\limits_{i=0}^N \\frac{\\pi_{\\theta}(s_i, a_i)}{\\pi_{\\theta_{old}}(s_i, a_i)}G_{\\theta_{old}(s_i, a_i)}$$\n",
    "\n",
    "Or alternatively, minimize the surrogate loss:\n",
    "$$ L_{surr} = - J'_{surr} $$  \n"
   ]
  },
  {
   "cell_type": "markdown",
   "metadata": {},
   "source": [
    "### definition"
   ]
  },
  {
   "cell_type": "code",
   "execution_count": 14,
   "metadata": {},
   "outputs": [],
   "source": [
    "def get_loss(agent, observations, actions, cummulative_returns, old_prob_dist):\n",
    "    \"\"\"\n",
    "    Computes TRPO objective\n",
    "    :param: observations - batch of observations\n",
    "    :param: actions - batch of actions\n",
    "    :param: cummulative_returns - batch of cummulative returns\n",
    "    :param: old_prob_dist - torch gaussian distribution with shape of actions batch shape.\n",
    "    :returns: scalar value of the objective function\n",
    "    \"\"\"\n",
    "    batch_size, n_actions = actions.shape\n",
    "    \n",
    "    assert old_prob_dist.mean.shape == torch.Size([batch_size, n_actions])\n",
    "    \n",
    "    prob_dist = agent.get_prob_dist(observations)\n",
    "    \n",
    "    probs_for_actions = torch.exp(prob_dist.log_prob(torch.tensor(actions)))\n",
    "    old_probs_for_actions = torch.exp(old_prob_dist.log_prob(torch.tensor(actions)))\n",
    "    \n",
    "    probs_for_actions = torch.prod(probs_for_actions, dim=1)\n",
    "    old_probs_for_actions = torch.prod(old_probs_for_actions, dim=1)\n",
    "\n",
    "    Loss = -torch.mean(probs_for_actions / old_probs_for_actions * cummulative_returns)\n",
    "\n",
    "    assert Loss.shape == torch.Size([])\n",
    "    return Loss"
   ]
  },
  {
   "cell_type": "markdown",
   "metadata": {},
   "source": [
    "### testing"
   ]
  },
  {
   "cell_type": "code",
   "execution_count": 15,
   "metadata": {},
   "outputs": [
    {
     "name": "stdout",
     "output_type": "stream",
     "text": [
      "Test passed\n"
     ]
    }
   ],
   "source": [
    "test_agent = TRPOAgent(test_obs.shape, test_env.action_space.shape[0])\n",
    "paths = rollout(test_env, test_agent, max_pathlength=5, n_timesteps=100)\n",
    "\n",
    "with torch.no_grad():\n",
    "    assert get_loss(\n",
    "        test_agent,\n",
    "        paths[0]['observations'],\n",
    "        paths[0]['actions'],\n",
    "        paths[0]['cumulative_returns'],\n",
    "        paths[0]['policy']\n",
    "    ) > 0\n",
    "print('Test passed')"
   ]
  },
  {
   "cell_type": "markdown",
   "metadata": {},
   "source": [
    "---\n",
    "## 7. KL metric"
   ]
  },
  {
   "cell_type": "markdown",
   "metadata": {},
   "source": [
    "We can ascend these gradients as long as our $pi_\\theta(a|s)$ satisfies the constraint\n",
    "$$E_{s,\\pi_{\\Theta_{t}}}\\Big[KL(\\pi(\\Theta_{t}, s) \\:||\\:\\pi(\\Theta_{t+1}, s))\\Big]< \\alpha$$\n",
    "\n",
    "\n",
    "The Kullback-Leibler divergence between a Gaussian distribution $p$ with mean $\\mu_1$ and variance $\\sigma_1^2$ and a Gaussian distribution $q$ with mean $\\mu_2$ and variance $\\sigma_2^2$ is following: \n",
    "$$\\displaystyle \\text{KL}(p, q) = \\log \\frac{\\sigma_2}{\\sigma_1} + \\frac{\\sigma_1^2 + (\\mu_1 - \\mu_2)^2}{2\\sigma_2^2} - \\frac{1}{2}$$"
   ]
  },
  {
   "cell_type": "markdown",
   "metadata": {},
   "source": [
    "### definition"
   ]
  },
  {
   "cell_type": "code",
   "execution_count": 16,
   "metadata": {},
   "outputs": [],
   "source": [
    "def get_kl(agent, observations, actions, cummulative_returns, old_prob_dist):\n",
    "    \"\"\"\n",
    "    Computes KL-divergence between network policy and old policy\n",
    "    :param: observations - batch of observations\n",
    "    :param: actions - batch of actions\n",
    "    :param: cummulative_returns - batch of cummulative returns (we don't need it actually)\n",
    "    :param: old_prob_dist - torch gaussian distribution with shape of actions batch shape.\n",
    "    :returns: scalar value of the KL-divergence\n",
    "    \"\"\"\n",
    "    batch_size, n_actions = actions.shape\n",
    "    \n",
    "    assert old_prob_dist.mean.shape == torch.Size([batch_size, n_actions])\n",
    "    \n",
    "    prob_dist = agent.get_prob_dist(observations)\n",
    "    \n",
    "    # Compute Kullback-Leibler divergence (see formula above)\n",
    "    # shape [batch_size, n_actions]\n",
    "    kl_s = torch.log(prob_dist.stddev / old_prob_dist.stddev) +\\\n",
    "        (old_prob_dist.stddev ** 2 + (old_prob_dist.mean - prob_dist.mean) ** 2) / (2 * prob_dist.stddev ** 2) - 0.5\n",
    "    kl = torch.mean(kl_s)\n",
    "\n",
    "    assert kl_s.shape == torch.Size([batch_size, n_actions])\n",
    "    assert kl.shape == torch.Size([])\n",
    "    assert (kl > -0.0001).all() and (kl < 10000).all()\n",
    "    return kl"
   ]
  },
  {
   "cell_type": "markdown",
   "metadata": {},
   "source": [
    "### testing"
   ]
  },
  {
   "cell_type": "code",
   "execution_count": 17,
   "metadata": {},
   "outputs": [
    {
     "name": "stdout",
     "output_type": "stream",
     "text": [
      "Test passed\n"
     ]
    }
   ],
   "source": [
    "test_agent = TRPOAgent(test_obs.shape, test_env.action_space.shape[0])\n",
    "paths = rollout(test_env, test_agent, max_pathlength=5, n_timesteps=100)\n",
    "\n",
    "with torch.no_grad():\n",
    "    assert get_kl(\n",
    "        test_agent,\n",
    "        paths[0]['observations'],\n",
    "        paths[0]['actions'],\n",
    "        paths[0]['cumulative_returns'],\n",
    "        paths[0]['policy']\n",
    "    ) < 0.001\n",
    "\n",
    "print('Test passed')"
   ]
  },
  {
   "cell_type": "markdown",
   "metadata": {},
   "source": [
    "---\n",
    "## 8. Entropy"
   ]
  },
  {
   "cell_type": "markdown",
   "metadata": {},
   "source": [
    "### definition"
   ]
  },
  {
   "cell_type": "code",
   "execution_count": 18,
   "metadata": {},
   "outputs": [],
   "source": [
    "def get_entropy(agent, observations):\n",
    "    \"\"\"\n",
    "    Computes entropy of the network policy \n",
    "    :param: observations - batch of observations\n",
    "    :returns: scalar value of the entropy\n",
    "    \"\"\"\n",
    "\n",
    "    probs_dist = agent.get_prob_dist(observations)\n",
    "    entropy = torch.mean(probs_dist.entropy())\n",
    "\n",
    "    assert entropy.shape == torch.Size([])\n",
    "    return entropy"
   ]
  },
  {
   "cell_type": "markdown",
   "metadata": {},
   "source": [
    "### testing"
   ]
  },
  {
   "cell_type": "code",
   "execution_count": 19,
   "metadata": {},
   "outputs": [
    {
     "name": "stdout",
     "output_type": "stream",
     "text": [
      "Test passed\n"
     ]
    }
   ],
   "source": [
    "test_agent = TRPOAgent(test_obs.shape, test_env.action_space.shape[0])\n",
    "assert get_entropy(test_agent, test_obs) > 0\n",
    "print('Test passed')"
   ]
  },
  {
   "cell_type": "markdown",
   "metadata": {},
   "source": [
    "---\n",
    "## 9. Linear search\n",
    "TRPO in its core involves ascending surrogate policy gradient constrained by KL divergence. \n",
    "\n",
    "In order to enforce this constraint, we're gonna use linesearch. You can find out more about it [here](https://en.wikipedia.org/wiki/Linear_search)"
   ]
  },
  {
   "cell_type": "markdown",
   "metadata": {},
   "source": [
    "### definition"
   ]
  },
  {
   "cell_type": "code",
   "execution_count": 20,
   "metadata": {},
   "outputs": [],
   "source": [
    "def linesearch(f, x, fullstep, max_kl):\n",
    "    \"\"\"\n",
    "    Linesearch finds the best parameters of neural networks in the direction of fullstep contrainted by KL divergence.\n",
    "    :param: f - function that returns loss, kl and arbitrary third component.\n",
    "    :param: x - old parameters of neural network.\n",
    "    :param: fullstep - direction in which we make search.\n",
    "    :param: max_kl - constraint of KL divergence.\n",
    "    :returns:\n",
    "    \"\"\"\n",
    "    max_backtracks = 10\n",
    "    loss, _, = f(x)\n",
    "    for stepfrac in .5**np.arange(max_backtracks):\n",
    "        xnew = x + stepfrac * fullstep\n",
    "        new_loss, kl = f(xnew)\n",
    "        actual_improve = new_loss - loss\n",
    "        if kl.data.numpy() <= max_kl and actual_improve.data.numpy() < 0:\n",
    "            x = xnew\n",
    "            loss = new_loss\n",
    "    return x"
   ]
  },
  {
   "cell_type": "markdown",
   "metadata": {},
   "source": [
    "### testing"
   ]
  },
  {
   "cell_type": "markdown",
   "metadata": {},
   "source": [
    "---\n",
    "## 10. Conjugate gradients"
   ]
  },
  {
   "cell_type": "markdown",
   "metadata": {},
   "source": [
    "Since TRPO includes contrainted optimization, we will need to solve Ax=b using conjugate gradients.\n",
    "\n",
    "In general, CG is an algorithm that solves Ax=b where A is positive-defined. A is Hessian matrix so A is positive-defined. You can find out more about them [here](https://en.wikipedia.org/wiki/Conjugate_gradient_method)"
   ]
  },
  {
   "cell_type": "markdown",
   "metadata": {},
   "source": [
    "### definition"
   ]
  },
  {
   "cell_type": "code",
   "execution_count": 21,
   "metadata": {},
   "outputs": [],
   "source": [
    "def conjugate_gradient(f_Ax, b, cg_iters=10, residual_tol=1e-10):\n",
    "    \"\"\"\n",
    "    This method solves system of equation Ax=b using iterative method called conjugate gradients\n",
    "    :f_Ax: function that returns Ax\n",
    "    :b: targets for Ax\n",
    "    :cg_iters: how many iterations this method should do\n",
    "    :residual_tol: epsilon for stability\n",
    "    \"\"\"\n",
    "    p = b.clone()\n",
    "    r = b.clone()\n",
    "    x = torch.zeros(b.size())\n",
    "    rdotr = torch.sum(r*r)\n",
    "    for i in range(cg_iters):\n",
    "        z = f_Ax(p)\n",
    "        v = rdotr / (torch.sum(p*z) + 1e-8)\n",
    "        x += v * p\n",
    "        r -= v * z\n",
    "        newrdotr = torch.sum(r*r)\n",
    "        mu = newrdotr / (rdotr + 1e-8)\n",
    "        p = r + mu * p\n",
    "        rdotr = newrdotr\n",
    "        if rdotr < residual_tol:\n",
    "            break\n",
    "    return x"
   ]
  },
  {
   "cell_type": "markdown",
   "metadata": {},
   "source": [
    "### testing"
   ]
  },
  {
   "cell_type": "code",
   "execution_count": 22,
   "metadata": {},
   "outputs": [
    {
     "name": "stdout",
     "output_type": "stream",
     "text": [
      "[ 0.03856398 -6.38060178  3.14657855  7.48432058  2.39630744 -5.13671443\n",
      " -5.79899611  7.39295898]\n",
      "[ 0.03730226 -6.3783817   3.145097    7.4860563   2.3960571  -5.1406593\n",
      " -5.7969265   7.3925166 ]\n",
      "Test passed\n"
     ]
    }
   ],
   "source": [
    "# This code validates conjugate gradients\n",
    "A = np.random.rand(8, 8)\n",
    "A = np.matmul(np.transpose(A), A)\n",
    "\n",
    "\n",
    "def f_Ax(x):\n",
    "    return torch.matmul(torch.FloatTensor(A), x.view((-1, 1))).view(-1)\n",
    "\n",
    "\n",
    "b = np.random.rand(8)\n",
    "\n",
    "w = np.matmul(np.matmul(inv(np.matmul(np.transpose(A), A)),\n",
    "                        np.transpose(A)), b.reshape((-1, 1))).reshape(-1)\n",
    "print(w)\n",
    "print(conjugate_gradient(f_Ax, torch.FloatTensor(b)).numpy())\n",
    "print('Test passed')"
   ]
  },
  {
   "cell_type": "markdown",
   "metadata": {},
   "source": [
    "---\n",
    "## 11. update_step"
   ]
  },
  {
   "cell_type": "markdown",
   "metadata": {},
   "source": [
    "In this section we construct the whole update step function."
   ]
  },
  {
   "cell_type": "markdown",
   "metadata": {},
   "source": [
    "### definition"
   ]
  },
  {
   "cell_type": "code",
   "execution_count": 23,
   "metadata": {},
   "outputs": [],
   "source": [
    "def update_step(agent, observations, actions, cummulative_returns, old_prob_dist, max_kl):\n",
    "    \"\"\"\n",
    "    This function does the TRPO update step\n",
    "    :param: observations - batch of observations\n",
    "    :param: actions - batch of actions\n",
    "    :param: cummulative_returns - batch of cummulative returns\n",
    "    :param: old_prob_dist - torch gaussian distribution with shape of actions batch shape.\n",
    "    :param: max_kl - controls how big KL divergence may be between old and new policy every step.\n",
    "    :returns: KL between new and old policies and the value of the loss function.\n",
    "    \"\"\"\n",
    "\n",
    "    # Here we prepare the information\n",
    "    actions = torch.LongTensor(actions)\n",
    "    cummulative_returns = Variable(torch.FloatTensor(cummulative_returns))\n",
    "#     old_probs = Variable(torch.FloatTensor(old_probs))\n",
    "\n",
    "    # Here we compute gradient of the loss function\n",
    "    loss = get_loss(agent, observations, actions,\n",
    "                    cummulative_returns, old_prob_dist)\n",
    "    grads = torch.autograd.grad(loss, agent.parameters())\n",
    "    loss_grad = torch.cat([grad.view(-1) for grad in grads]).data\n",
    "\n",
    "    def Fvp(v):\n",
    "        # Here we compute Fx to do solve Fx = g using conjugate gradients\n",
    "        # We actually do here a couple of tricks to compute it efficiently\n",
    "\n",
    "        kl = get_kl(agent, observations, actions,\n",
    "                    cummulative_returns, old_prob_dist)\n",
    "\n",
    "        grads = torch.autograd.grad(kl, agent.parameters(), create_graph=True)\n",
    "        flat_grad_kl = torch.cat([grad.view(-1) for grad in grads])\n",
    "\n",
    "        kl_v = (flat_grad_kl * Variable(v)).sum()\n",
    "        grads = torch.autograd.grad(kl_v, agent.parameters())\n",
    "        flat_grad_grad_kl = torch.cat(\n",
    "            [grad.contiguous().view(-1) for grad in grads]).data\n",
    "\n",
    "        return flat_grad_grad_kl + v * 0.1\n",
    "\n",
    "    # Here we solveolve Fx = g system using conjugate gradients\n",
    "    stepdir = conjugate_gradient(Fvp, -loss_grad, 10)\n",
    "\n",
    "    # Here we compute the initial vector to do linear search\n",
    "    shs = 0.5 * (stepdir * Fvp(stepdir)).sum(0, keepdim=True)\n",
    "\n",
    "    lm = torch.sqrt(shs / max_kl)\n",
    "    fullstep = stepdir / lm[0]\n",
    "\n",
    "    neggdotstepdir = (-loss_grad * stepdir).sum(0, keepdim=True)\n",
    "\n",
    "    # Here we get the start point\n",
    "    prev_params = get_flat_params_from(agent)\n",
    "\n",
    "    def get_loss_kl(params):\n",
    "        # Helper for linear search\n",
    "        set_flat_params_to(agent, params)\n",
    "        return [get_loss(agent, observations, actions, cummulative_returns, old_prob_dist),\n",
    "                get_kl(agent, observations, actions, cummulative_returns, old_prob_dist)]\n",
    "\n",
    "    # Here we find our new parameters\n",
    "    new_params = linesearch(get_loss_kl, prev_params, fullstep, max_kl)\n",
    "\n",
    "    # And we set it to our network\n",
    "    set_flat_params_to(agent, new_params)\n",
    "\n",
    "    return get_loss_kl(new_params)"
   ]
  },
  {
   "cell_type": "markdown",
   "metadata": {},
   "source": [
    "### testing"
   ]
  },
  {
   "cell_type": "markdown",
   "metadata": {},
   "source": [
    "# Learning"
   ]
  },
  {
   "cell_type": "markdown",
   "metadata": {},
   "source": [
    "## 0. Hyperparameters"
   ]
  },
  {
   "cell_type": "code",
   "execution_count": 24,
   "metadata": {},
   "outputs": [],
   "source": [
    "# this is hyperparameter of TRPO. It controls how big KL divergence may be between old and new policy every step.\n",
    "max_kl = 0.01\n",
    "numeptotal = 0  # this is number of episodes that we played."
   ]
  },
  {
   "cell_type": "markdown",
   "metadata": {},
   "source": [
    "## 1. Objects definition"
   ]
  },
  {
   "cell_type": "markdown",
   "metadata": {},
   "source": [
    "### environment"
   ]
  },
  {
   "cell_type": "code",
   "execution_count": 25,
   "metadata": {},
   "outputs": [
    {
     "name": "stdout",
     "output_type": "stream",
     "text": [
      "\u001b[33mWARN: gym.spaces.Box autodetected dtype as <class 'numpy.float32'>. Please provide explicit dtype.\u001b[0m\n",
      "\u001b[33mWARN: gym.spaces.Box autodetected dtype as <class 'numpy.float32'>. Please provide explicit dtype.\u001b[0m\n"
     ]
    }
   ],
   "source": [
    "env = gym.make(\"BipedalWalker-v2\")\n",
    "observation_shape = env.observation_space.shape\n",
    "n_actions = env.action_space.shape[0]"
   ]
  },
  {
   "cell_type": "markdown",
   "metadata": {},
   "source": [
    "### model "
   ]
  },
  {
   "cell_type": "code",
   "execution_count": 26,
   "metadata": {},
   "outputs": [
    {
     "data": {
      "text/plain": [
       "TRPOAgent(\n",
       "  (body): Sequential(\n",
       "    (0): Linear(in_features=24, out_features=64, bias=True)\n",
       "    (1): ReLU()\n",
       "    (2): Linear(in_features=64, out_features=32, bias=True)\n",
       "    (3): ReLU()\n",
       "  )\n",
       "  (mu_head): Sequential(\n",
       "    (0): Linear(in_features=32, out_features=4, bias=True)\n",
       "    (1): ReLU()\n",
       "  )\n",
       "  (std_head): Sequential(\n",
       "    (0): Linear(in_features=32, out_features=4, bias=True)\n",
       "  )\n",
       ")"
      ]
     },
     "execution_count": 26,
     "metadata": {},
     "output_type": "execute_result"
    }
   ],
   "source": [
    "agent = TRPOAgent(observation_shape, n_actions)\n",
    "agent"
   ]
  },
  {
   "cell_type": "markdown",
   "metadata": {},
   "source": [
    "## 1 Main Loop"
   ]
  },
  {
   "cell_type": "code",
   "execution_count": null,
   "metadata": {
    "scrolled": false
   },
   "outputs": [
    {
     "name": "stdout",
     "output_type": "stream",
     "text": [
      "\n",
      "********** Iteration 1 ************\n",
      "Rollout\n",
      "Made rollout\n"
     ]
    },
    {
     "name": "stderr",
     "output_type": "stream",
     "text": [
      "/Users/alex-kozinov/opt/anaconda3/lib/python3.6/site-packages/ipykernel_launcher.py:16: UserWarning: To copy construct from a tensor, it is recommended to use sourceTensor.clone().detach() or sourceTensor.clone().detach().requires_grad_(True), rather than torch.tensor(sourceTensor).\n",
      "  app.launch_new_instance()\n",
      "/Users/alex-kozinov/opt/anaconda3/lib/python3.6/site-packages/ipykernel_launcher.py:17: UserWarning: To copy construct from a tensor, it is recommended to use sourceTensor.clone().detach() or sourceTensor.clone().detach().requires_grad_(True), rather than torch.tensor(sourceTensor).\n"
     ]
    },
    {
     "name": "stdout",
     "output_type": "stream",
     "text": [
      "Total number of episodes:                 92\n",
      "Average sum of rewards per episode:       -110.49455157808742\n",
      "Std of rewards per episode:               8.699661752949737\n",
      "Time elapsed:                             0.70 mins\n",
      "KL between old and new distribution:      0.009974399\n",
      "Entropy:                                  1.5376222\n",
      "Surrogate loss:                           10.355807\n",
      "\n",
      "********** Iteration 2 ************\n",
      "Rollout\n",
      "Made rollout\n",
      "Total number of episodes:                 174\n",
      "Average sum of rewards per episode:       -111.62752920504987\n",
      "Std of rewards per episode:               10.939797486945727\n",
      "Time elapsed:                             1.39 mins\n",
      "KL between old and new distribution:      0.00997244\n",
      "Entropy:                                  1.639484\n",
      "Surrogate loss:                           9.663303\n",
      "\n",
      "********** Iteration 3 ************\n",
      "Rollout\n",
      "Made rollout\n",
      "Total number of episodes:                 252\n",
      "Average sum of rewards per episode:       -115.3731337503246\n",
      "Std of rewards per episode:               12.786699741487366\n",
      "Time elapsed:                             2.08 mins\n",
      "KL between old and new distribution:      0.009969245\n",
      "Entropy:                                  1.7448295\n",
      "Surrogate loss:                           10.058591\n",
      "\n",
      "********** Iteration 4 ************\n",
      "Rollout\n",
      "Made rollout\n",
      "Total number of episodes:                 340\n",
      "Average sum of rewards per episode:       -114.77020632478576\n",
      "Std of rewards per episode:               13.402886962341434\n",
      "Time elapsed:                             2.78 mins\n",
      "KL between old and new distribution:      0.009986894\n",
      "Entropy:                                  1.8479191\n",
      "Surrogate loss:                           11.00122\n",
      "\n",
      "********** Iteration 5 ************\n",
      "Rollout\n",
      "Made rollout\n",
      "Total number of episodes:                 426\n",
      "Average sum of rewards per episode:       -119.58446681100394\n",
      "Std of rewards per episode:               22.168409605852666\n",
      "Time elapsed:                             3.47 mins\n",
      "KL between old and new distribution:      0.00997803\n",
      "Entropy:                                  1.9554403\n",
      "Surrogate loss:                           11.33912\n",
      "\n",
      "********** Iteration 6 ************\n",
      "Rollout\n",
      "Made rollout\n",
      "Total number of episodes:                 527\n",
      "Average sum of rewards per episode:       -122.17183951188085\n",
      "Std of rewards per episode:               27.310932184139574\n",
      "Time elapsed:                             4.18 mins\n",
      "KL between old and new distribution:      0.00997719\n",
      "Entropy:                                  2.0476084\n",
      "Surrogate loss:                           13.935532\n",
      "\n",
      "********** Iteration 7 ************\n",
      "Rollout\n",
      "Made rollout\n",
      "Total number of episodes:                 642\n",
      "Average sum of rewards per episode:       -120.46571742323226\n",
      "Std of rewards per episode:               23.04343033482793\n",
      "Time elapsed:                             4.87 mins\n",
      "KL between old and new distribution:      0.009991363\n",
      "Entropy:                                  2.158864\n",
      "Surrogate loss:                           14.900825\n",
      "\n",
      "********** Iteration 8 ************\n",
      "Rollout\n",
      "Made rollout\n",
      "Total number of episodes:                 739\n",
      "Average sum of rewards per episode:       -121.17311096792166\n",
      "Std of rewards per episode:               20.616357141305823\n",
      "Time elapsed:                             5.60 mins\n",
      "KL between old and new distribution:      0.009964273\n",
      "Entropy:                                  2.2556686\n",
      "Surrogate loss:                           13.443759\n",
      "\n",
      "********** Iteration 9 ************\n",
      "Rollout\n",
      "Made rollout\n",
      "Total number of episodes:                 869\n",
      "Average sum of rewards per episode:       -120.51130137716913\n",
      "Std of rewards per episode:               25.583536279032696\n",
      "Time elapsed:                             6.27 mins\n",
      "KL between old and new distribution:      0.009976123\n",
      "Entropy:                                  2.362313\n",
      "Surrogate loss:                           16.676388\n",
      "\n",
      "********** Iteration 10 ************\n",
      "Rollout\n",
      "Made rollout\n",
      "Total number of episodes:                 988\n",
      "Average sum of rewards per episode:       -123.41413919408646\n",
      "Std of rewards per episode:               26.566859311886194\n",
      "Time elapsed:                             6.97 mins\n",
      "KL between old and new distribution:      0.009982667\n",
      "Entropy:                                  2.4584389\n",
      "Surrogate loss:                           16.431572\n",
      "\n",
      "********** Iteration 11 ************\n",
      "Rollout\n",
      "Made rollout\n",
      "Total number of episodes:                 1110\n",
      "Average sum of rewards per episode:       -119.25537057351357\n",
      "Std of rewards per episode:               22.486704490827442\n",
      "Time elapsed:                             7.70 mins\n",
      "KL between old and new distribution:      0.009977457\n",
      "Entropy:                                  2.5655627\n",
      "Surrogate loss:                           15.954614\n",
      "\n",
      "********** Iteration 12 ************\n",
      "Rollout\n",
      "Made rollout\n",
      "Total number of episodes:                 1229\n",
      "Average sum of rewards per episode:       -122.51997812499634\n",
      "Std of rewards per episode:               20.926828894271978\n",
      "Time elapsed:                             8.47 mins\n",
      "KL between old and new distribution:      0.009985024\n",
      "Entropy:                                  2.659111\n",
      "Surrogate loss:                           16.874962\n",
      "\n",
      "********** Iteration 13 ************\n",
      "Rollout\n",
      "Made rollout\n",
      "Total number of episodes:                 1354\n",
      "Average sum of rewards per episode:       -122.06852389781412\n",
      "Std of rewards per episode:               25.14572126918428\n",
      "Time elapsed:                             9.20 mins\n",
      "KL between old and new distribution:      0.009970223\n",
      "Entropy:                                  2.7539\n",
      "Surrogate loss:                           17.060236\n",
      "\n",
      "********** Iteration 14 ************\n",
      "Rollout\n",
      "Made rollout\n",
      "Total number of episodes:                 1524\n",
      "Average sum of rewards per episode:       -117.27204004032302\n",
      "Std of rewards per episode:               20.079987257837747\n",
      "Time elapsed:                             9.91 mins\n",
      "KL between old and new distribution:      0.009986044\n",
      "Entropy:                                  2.9181933\n",
      "Surrogate loss:                           21.331102\n",
      "\n",
      "********** Iteration 15 ************\n",
      "Rollout\n",
      "Made rollout\n",
      "Total number of episodes:                 1637\n",
      "Average sum of rewards per episode:       -126.51895668700914\n",
      "Std of rewards per episode:               28.6949247936481\n",
      "Time elapsed:                             10.60 mins\n",
      "KL between old and new distribution:      0.009967114\n",
      "Entropy:                                  2.9517686\n",
      "Surrogate loss:                           17.027472\n",
      "\n",
      "********** Iteration 16 ************\n",
      "Rollout\n",
      "Made rollout\n",
      "Total number of episodes:                 1755\n",
      "Average sum of rewards per episode:       -127.29914391491263\n",
      "Std of rewards per episode:               29.484145973994586\n",
      "Time elapsed:                             11.26 mins\n",
      "KL between old and new distribution:      0.009966204\n",
      "Entropy:                                  3.0537016\n",
      "Surrogate loss:                           18.218325\n",
      "\n",
      "********** Iteration 17 ************\n",
      "Rollout\n",
      "Made rollout\n",
      "Total number of episodes:                 1870\n",
      "Average sum of rewards per episode:       -125.47133487565348\n",
      "Std of rewards per episode:               26.724620818476073\n",
      "Time elapsed:                             11.91 mins\n",
      "KL between old and new distribution:      0.009983161\n",
      "Entropy:                                  3.17076\n",
      "Surrogate loss:                           17.325897\n",
      "\n",
      "********** Iteration 18 ************\n",
      "Rollout\n",
      "Made rollout\n",
      "Total number of episodes:                 1996\n",
      "Average sum of rewards per episode:       -125.96983662210478\n",
      "Std of rewards per episode:               24.713672288228892\n",
      "Time elapsed:                             12.57 mins\n",
      "KL between old and new distribution:      0.0099688005\n",
      "Entropy:                                  3.26212\n",
      "Surrogate loss:                           19.064392\n",
      "\n",
      "********** Iteration 19 ************\n",
      "Rollout\n",
      "Made rollout\n",
      "Total number of episodes:                 2120\n",
      "Average sum of rewards per episode:       -125.57637817772708\n",
      "Std of rewards per episode:               26.15658406743399\n",
      "Time elapsed:                             13.23 mins\n",
      "KL between old and new distribution:      0.009968355\n",
      "Entropy:                                  3.3915942\n",
      "Surrogate loss:                           18.93084\n",
      "\n",
      "********** Iteration 20 ************\n",
      "Rollout\n"
     ]
    },
    {
     "name": "stdout",
     "output_type": "stream",
     "text": [
      "Made rollout\n",
      "Total number of episodes:                 2290\n",
      "Average sum of rewards per episode:       -121.75184992044531\n",
      "Std of rewards per episode:               24.981355655395653\n",
      "Time elapsed:                             13.89 mins\n",
      "KL between old and new distribution:      0.009979391\n",
      "Entropy:                                  3.5696425\n",
      "Surrogate loss:                           23.395838\n",
      "\n",
      "********** Iteration 21 ************\n",
      "Rollout\n",
      "Made rollout\n",
      "Total number of episodes:                 2434\n",
      "Average sum of rewards per episode:       -125.69107150444064\n",
      "Std of rewards per episode:               31.19299495132951\n",
      "Time elapsed:                             14.56 mins\n",
      "KL between old and new distribution:      0.009976594\n",
      "Entropy:                                  3.6308494\n",
      "Surrogate loss:                           21.908875\n",
      "\n",
      "********** Iteration 22 ************\n",
      "Rollout\n",
      "Made rollout\n",
      "Total number of episodes:                 2608\n",
      "Average sum of rewards per episode:       -120.90407341757417\n",
      "Std of rewards per episode:               24.575980240778723\n",
      "Time elapsed:                             15.22 mins\n",
      "KL between old and new distribution:      0.009970221\n",
      "Entropy:                                  3.761359\n",
      "Surrogate loss:                           23.697582\n",
      "\n",
      "********** Iteration 23 ************\n",
      "Rollout\n",
      "Made rollout\n",
      "Total number of episodes:                 2728\n",
      "Average sum of rewards per episode:       -131.1559075612837\n",
      "Std of rewards per episode:               34.64841852947569\n",
      "Time elapsed:                             15.88 mins\n",
      "KL between old and new distribution:      0.009990133\n",
      "Entropy:                                  3.7666013\n",
      "Surrogate loss:                           19.725958\n",
      "\n",
      "********** Iteration 24 ************\n",
      "Rollout\n",
      "Made rollout\n",
      "Total number of episodes:                 2878\n",
      "Average sum of rewards per episode:       -122.4502157798488\n",
      "Std of rewards per episode:               28.012885213787627\n",
      "Time elapsed:                             16.54 mins\n",
      "KL between old and new distribution:      0.009982704\n",
      "Entropy:                                  3.9075637\n",
      "Surrogate loss:                           21.163853\n",
      "\n",
      "********** Iteration 25 ************\n",
      "Rollout\n",
      "Made rollout\n",
      "Total number of episodes:                 3020\n",
      "Average sum of rewards per episode:       -126.59041591550996\n",
      "Std of rewards per episode:               32.63356575019134\n",
      "Time elapsed:                             17.20 mins\n",
      "KL between old and new distribution:      0.00998073\n",
      "Entropy:                                  3.9861047\n",
      "Surrogate loss:                           21.181845\n",
      "\n",
      "********** Iteration 26 ************\n",
      "Rollout\n",
      "Made rollout\n",
      "Total number of episodes:                 3173\n",
      "Average sum of rewards per episode:       -125.64757023115841\n",
      "Std of rewards per episode:               31.44629286931742\n",
      "Time elapsed:                             17.87 mins\n",
      "KL between old and new distribution:      0.009977122\n",
      "Entropy:                                  4.132047\n",
      "Surrogate loss:                           22.808773\n",
      "\n",
      "********** Iteration 27 ************\n",
      "Rollout\n",
      "Made rollout\n",
      "Total number of episodes:                 3350\n",
      "Average sum of rewards per episode:       -126.01837503840693\n",
      "Std of rewards per episode:               35.62941305172917\n",
      "Time elapsed:                             18.54 mins\n",
      "KL between old and new distribution:      0.009977137\n",
      "Entropy:                                  4.2406106\n",
      "Surrogate loss:                           26.247927\n",
      "\n",
      "********** Iteration 28 ************\n",
      "Rollout\n",
      "Made rollout\n",
      "Total number of episodes:                 3474\n",
      "Average sum of rewards per episode:       -131.0033498876951\n",
      "Std of rewards per episode:               38.11429281577972\n",
      "Time elapsed:                             19.24 mins\n",
      "KL between old and new distribution:      0.009971402\n",
      "Entropy:                                  4.232753\n",
      "Surrogate loss:                           20.320992\n",
      "\n",
      "********** Iteration 29 ************\n",
      "Rollout\n",
      "Made rollout\n",
      "Total number of episodes:                 3583\n",
      "Average sum of rewards per episode:       -131.35822749045903\n",
      "Std of rewards per episode:               38.73409241388597\n",
      "Time elapsed:                             19.96 mins\n",
      "KL between old and new distribution:      0.0099765165\n",
      "Entropy:                                  4.2734814\n",
      "Surrogate loss:                           18.406546\n",
      "\n",
      "********** Iteration 30 ************\n",
      "Rollout\n",
      "Made rollout\n",
      "Total number of episodes:                 3721\n",
      "Average sum of rewards per episode:       -128.38367432933006\n",
      "Std of rewards per episode:               32.110684920437436\n",
      "Time elapsed:                             20.72 mins\n",
      "KL between old and new distribution:      0.009987248\n",
      "Entropy:                                  4.427072\n",
      "Surrogate loss:                           21.765282\n",
      "\n",
      "********** Iteration 31 ************\n",
      "Rollout\n",
      "Made rollout\n",
      "Total number of episodes:                 3864\n",
      "Average sum of rewards per episode:       -129.6113655836603\n",
      "Std of rewards per episode:               36.430808443714334\n",
      "Time elapsed:                             21.38 mins\n",
      "KL between old and new distribution:      0.009975758\n",
      "Entropy:                                  4.5172887\n",
      "Surrogate loss:                           22.62019\n",
      "\n",
      "********** Iteration 32 ************\n",
      "Rollout\n",
      "Made rollout\n",
      "Total number of episodes:                 3974\n",
      "Average sum of rewards per episode:       -130.04206970895638\n",
      "Std of rewards per episode:               34.83472928487245\n",
      "Time elapsed:                             22.03 mins\n",
      "KL between old and new distribution:      0.009990838\n",
      "Entropy:                                  4.4841485\n",
      "Surrogate loss:                           18.021866\n",
      "\n",
      "********** Iteration 33 ************\n",
      "Rollout\n",
      "Made rollout\n",
      "Total number of episodes:                 4124\n",
      "Average sum of rewards per episode:       -127.31169228366488\n",
      "Std of rewards per episode:               31.76214176409024\n",
      "Time elapsed:                             22.70 mins\n",
      "KL between old and new distribution:      0.009994388\n",
      "Entropy:                                  4.677911\n",
      "Surrogate loss:                           23.398203\n",
      "\n",
      "********** Iteration 34 ************\n",
      "Rollout\n",
      "Made rollout\n",
      "Total number of episodes:                 4270\n",
      "Average sum of rewards per episode:       -126.77981845273247\n",
      "Std of rewards per episode:               35.660994159022195\n",
      "Time elapsed:                             23.36 mins\n",
      "KL between old and new distribution:      0.009998528\n",
      "Entropy:                                  4.73568\n",
      "Surrogate loss:                           22.434595\n",
      "\n",
      "********** Iteration 35 ************\n",
      "Rollout\n",
      "Made rollout\n",
      "Total number of episodes:                 4428\n",
      "Average sum of rewards per episode:       -126.5580478211917\n",
      "Std of rewards per episode:               30.721601695440956\n",
      "Time elapsed:                             24.02 mins\n",
      "KL between old and new distribution:      0.009992611\n",
      "Entropy:                                  4.818613\n",
      "Surrogate loss:                           24.022547\n",
      "\n",
      "********** Iteration 36 ************\n",
      "Rollout\n",
      "Made rollout\n",
      "Total number of episodes:                 4599\n",
      "Average sum of rewards per episode:       -123.82153274684701\n",
      "Std of rewards per episode:               32.43783454818375\n",
      "Time elapsed:                             24.68 mins\n",
      "KL between old and new distribution:      0.009992993\n",
      "Entropy:                                  4.9228463\n",
      "Surrogate loss:                           24.32257\n",
      "\n",
      "********** Iteration 37 ************\n",
      "Rollout\n",
      "Made rollout\n",
      "Total number of episodes:                 4743\n",
      "Average sum of rewards per episode:       -127.19998864986444\n",
      "Std of rewards per episode:               33.03985284260728\n",
      "Time elapsed:                             25.34 mins\n",
      "KL between old and new distribution:      0.009975824\n",
      "Entropy:                                  4.941667\n",
      "Surrogate loss:                           22.142363\n",
      "\n",
      "********** Iteration 38 ************\n",
      "Rollout\n",
      "Made rollout\n",
      "Total number of episodes:                 4899\n",
      "Average sum of rewards per episode:       -126.6245212137205\n",
      "Std of rewards per episode:               36.816210845994355\n",
      "Time elapsed:                             26.00 mins\n",
      "KL between old and new distribution:      0.009970272\n",
      "Entropy:                                  5.031045\n",
      "Surrogate loss:                           23.582504\n",
      "\n",
      "********** Iteration 39 ************\n",
      "Rollout\n"
     ]
    },
    {
     "name": "stdout",
     "output_type": "stream",
     "text": [
      "Made rollout\n",
      "Total number of episodes:                 5042\n",
      "Average sum of rewards per episode:       -131.23004082390872\n",
      "Std of rewards per episode:               37.32373217335336\n",
      "Time elapsed:                             26.66 mins\n",
      "KL between old and new distribution:      0.009974509\n",
      "Entropy:                                  5.0752206\n",
      "Surrogate loss:                           23.308353\n",
      "\n",
      "********** Iteration 40 ************\n",
      "Rollout\n",
      "Made rollout\n",
      "Total number of episodes:                 5161\n",
      "Average sum of rewards per episode:       -136.46407367416066\n",
      "Std of rewards per episode:               44.973369823014814\n",
      "Time elapsed:                             27.32 mins\n",
      "KL between old and new distribution:      0.009975338\n",
      "Entropy:                                  5.116951\n",
      "Surrogate loss:                           21.237057\n",
      "\n",
      "********** Iteration 41 ************\n",
      "Rollout\n",
      "Made rollout\n",
      "Total number of episodes:                 5261\n",
      "Average sum of rewards per episode:       -138.15252060544572\n",
      "Std of rewards per episode:               43.2189871793881\n",
      "Time elapsed:                             27.98 mins\n",
      "KL between old and new distribution:      0.009982431\n",
      "Entropy:                                  5.126819\n",
      "Surrogate loss:                           18.292572\n",
      "\n",
      "********** Iteration 42 ************\n",
      "Rollout\n",
      "Made rollout\n",
      "Total number of episodes:                 5454\n",
      "Average sum of rewards per episode:       -125.63601742308393\n",
      "Std of rewards per episode:               35.13596690382274\n",
      "Time elapsed:                             28.64 mins\n",
      "KL between old and new distribution:      0.009976085\n",
      "Entropy:                                  5.391146\n",
      "Surrogate loss:                           28.031643\n",
      "\n",
      "********** Iteration 43 ************\n",
      "Rollout\n",
      "Made rollout\n",
      "Total number of episodes:                 5604\n",
      "Average sum of rewards per episode:       -129.10826067033148\n",
      "Std of rewards per episode:               37.29249869589974\n",
      "Time elapsed:                             29.30 mins\n",
      "KL between old and new distribution:      0.009995007\n",
      "Entropy:                                  5.3435845\n",
      "Surrogate loss:                           24.094835\n",
      "\n",
      "********** Iteration 44 ************\n",
      "Rollout\n",
      "Made rollout\n",
      "Total number of episodes:                 5763\n",
      "Average sum of rewards per episode:       -127.31324777145181\n",
      "Std of rewards per episode:               32.12745881515155\n",
      "Time elapsed:                             29.96 mins\n",
      "KL between old and new distribution:      0.009998735\n",
      "Entropy:                                  5.342445\n",
      "Surrogate loss:                           24.168947\n",
      "\n",
      "********** Iteration 45 ************\n",
      "Rollout\n",
      "Made rollout\n",
      "Total number of episodes:                 5927\n",
      "Average sum of rewards per episode:       -125.82603143967496\n",
      "Std of rewards per episode:               37.26606026197095\n",
      "Time elapsed:                             30.65 mins\n",
      "KL between old and new distribution:      0.009998464\n",
      "Entropy:                                  5.3957186\n",
      "Surrogate loss:                           24.18515\n",
      "\n",
      "********** Iteration 46 ************\n",
      "Rollout\n",
      "Made rollout\n",
      "Total number of episodes:                 6085\n",
      "Average sum of rewards per episode:       -128.0603736008837\n",
      "Std of rewards per episode:               34.94406365504002\n",
      "Time elapsed:                             31.35 mins\n",
      "KL between old and new distribution:      0.009976324\n",
      "Entropy:                                  5.4240427\n",
      "Surrogate loss:                           24.173988\n",
      "\n",
      "********** Iteration 47 ************\n",
      "Rollout\n",
      "Made rollout\n",
      "Total number of episodes:                 6226\n",
      "Average sum of rewards per episode:       -129.77167349892687\n",
      "Std of rewards per episode:               38.8670657335073\n",
      "Time elapsed:                             32.03 mins\n",
      "KL between old and new distribution:      0.009988567\n",
      "Entropy:                                  5.408545\n",
      "Surrogate loss:                           22.264687\n",
      "\n",
      "********** Iteration 48 ************\n",
      "Rollout\n",
      "Made rollout\n",
      "Total number of episodes:                 6371\n",
      "Average sum of rewards per episode:       -129.8285350978913\n",
      "Std of rewards per episode:               40.00832433739942\n",
      "Time elapsed:                             32.72 mins\n",
      "KL between old and new distribution:      0.00998735\n",
      "Entropy:                                  5.4973693\n",
      "Surrogate loss:                           23.009436\n",
      "\n",
      "********** Iteration 49 ************\n",
      "Rollout\n",
      "Made rollout\n",
      "Total number of episodes:                 6513\n",
      "Average sum of rewards per episode:       -132.41355391694435\n",
      "Std of rewards per episode:               41.882408316229565\n",
      "Time elapsed:                             33.44 mins\n",
      "KL between old and new distribution:      0.009983096\n",
      "Entropy:                                  5.5075426\n",
      "Surrogate loss:                           23.549057\n",
      "\n",
      "********** Iteration 50 ************\n",
      "Rollout\n",
      "Made rollout\n",
      "Total number of episodes:                 6673\n",
      "Average sum of rewards per episode:       -128.66480109156993\n",
      "Std of rewards per episode:               34.167170280208744\n",
      "Time elapsed:                             34.16 mins\n",
      "KL between old and new distribution:      0.0099871745\n",
      "Entropy:                                  5.5723805\n",
      "Surrogate loss:                           25.004147\n",
      "\n",
      "********** Iteration 51 ************\n",
      "Rollout\n",
      "Made rollout\n",
      "Total number of episodes:                 6832\n",
      "Average sum of rewards per episode:       -127.61565064087021\n",
      "Std of rewards per episode:               32.30655523527407\n",
      "Time elapsed:                             34.87 mins\n",
      "KL between old and new distribution:      0.009997185\n",
      "Entropy:                                  5.5692487\n",
      "Surrogate loss:                           24.70851\n",
      "\n",
      "********** Iteration 52 ************\n",
      "Rollout\n",
      "Made rollout\n",
      "Total number of episodes:                 6968\n",
      "Average sum of rewards per episode:       -131.31721774742255\n",
      "Std of rewards per episode:               38.64664450345263\n",
      "Time elapsed:                             35.58 mins\n",
      "KL between old and new distribution:      0.009980556\n",
      "Entropy:                                  5.5940986\n",
      "Surrogate loss:                           22.017618\n",
      "\n",
      "********** Iteration 53 ************\n",
      "Rollout\n",
      "Made rollout\n",
      "Total number of episodes:                 7088\n",
      "Average sum of rewards per episode:       -132.2513768520953\n",
      "Std of rewards per episode:               40.78953982082814\n",
      "Time elapsed:                             36.26 mins\n",
      "KL between old and new distribution:      0.00999842\n",
      "Entropy:                                  5.6101656\n",
      "Surrogate loss:                           20.811146\n",
      "\n",
      "********** Iteration 54 ************\n",
      "Rollout\n",
      "Made rollout\n",
      "Total number of episodes:                 7211\n",
      "Average sum of rewards per episode:       -132.24787329357724\n",
      "Std of rewards per episode:               36.62756273348217\n",
      "Time elapsed:                             36.94 mins\n",
      "KL between old and new distribution:      0.00999346\n",
      "Entropy:                                  5.63895\n",
      "Surrogate loss:                           20.479372\n",
      "\n",
      "********** Iteration 55 ************\n",
      "Rollout\n",
      "Made rollout\n",
      "Total number of episodes:                 7347\n",
      "Average sum of rewards per episode:       -131.14440533130576\n",
      "Std of rewards per episode:               42.77953755065068\n",
      "Time elapsed:                             37.63 mins\n",
      "KL between old and new distribution:      0.009987403\n",
      "Entropy:                                  5.694477\n",
      "Surrogate loss:                           21.970268\n",
      "\n",
      "********** Iteration 56 ************\n",
      "Rollout\n",
      "Made rollout\n",
      "Total number of episodes:                 7512\n",
      "Average sum of rewards per episode:       -128.86434894276772\n",
      "Std of rewards per episode:               39.74655064710391\n",
      "Time elapsed:                             38.33 mins\n",
      "KL between old and new distribution:      0.009988782\n",
      "Entropy:                                  5.814043\n",
      "Surrogate loss:                           25.49702\n",
      "\n",
      "********** Iteration 57 ************\n",
      "Rollout\n",
      "Made rollout\n",
      "Total number of episodes:                 7711\n",
      "Average sum of rewards per episode:       -123.9346295900003\n",
      "Std of rewards per episode:               34.21009061113668\n",
      "Time elapsed:                             39.02 mins\n",
      "KL between old and new distribution:      0.009969191\n",
      "Entropy:                                  5.874345\n",
      "Surrogate loss:                           27.886917\n",
      "\n",
      "********** Iteration 58 ************\n",
      "Rollout\n"
     ]
    },
    {
     "name": "stdout",
     "output_type": "stream",
     "text": [
      "Made rollout\n",
      "Total number of episodes:                 7873\n",
      "Average sum of rewards per episode:       -125.65321890339963\n",
      "Std of rewards per episode:               34.18806989640902\n",
      "Time elapsed:                             39.72 mins\n",
      "KL between old and new distribution:      0.009979739\n",
      "Entropy:                                  5.879926\n",
      "Surrogate loss:                           23.9726\n",
      "\n",
      "********** Iteration 59 ************\n",
      "Rollout\n",
      "Made rollout\n",
      "Total number of episodes:                 8041\n",
      "Average sum of rewards per episode:       -126.93054449038577\n",
      "Std of rewards per episode:               35.71206233005799\n",
      "Time elapsed:                             40.42 mins\n",
      "KL between old and new distribution:      0.0099924905\n",
      "Entropy:                                  5.9550257\n",
      "Surrogate loss:                           25.286335\n",
      "\n",
      "********** Iteration 60 ************\n",
      "Rollout\n",
      "Made rollout\n",
      "Total number of episodes:                 8177\n",
      "Average sum of rewards per episode:       -129.74219456023778\n",
      "Std of rewards per episode:               33.061027851256256\n",
      "Time elapsed:                             41.11 mins\n",
      "KL between old and new distribution:      0.009981001\n",
      "Entropy:                                  5.922126\n",
      "Surrogate loss:                           22.739288\n",
      "\n",
      "********** Iteration 61 ************\n",
      "Rollout\n",
      "Made rollout\n",
      "Total number of episodes:                 8325\n",
      "Average sum of rewards per episode:       -127.50521300928207\n",
      "Std of rewards per episode:               32.6883805048345\n",
      "Time elapsed:                             41.82 mins\n",
      "KL between old and new distribution:      0.009975454\n",
      "Entropy:                                  5.891893\n",
      "Surrogate loss:                           22.393602\n",
      "\n",
      "********** Iteration 62 ************\n",
      "Rollout\n"
     ]
    }
   ],
   "source": [
    "start_time = time.time()\n",
    "\n",
    "for i in count(1):\n",
    "    print(\"\\n********** Iteration %i ************\" % i)\n",
    "\n",
    "    # Generating paths.\n",
    "    print(\"Rollout\")\n",
    "    paths = rollout(env, agent)\n",
    "    print(\"Made rollout\")\n",
    "\n",
    "    # Updating policy.\n",
    "    observations = np.concatenate([path[\"observations\"] for path in paths])\n",
    "    actions = np.concatenate([path[\"actions\"] for path in paths])\n",
    "    returns = np.concatenate([path[\"cumulative_returns\"] for path in paths])\n",
    "    old_prob_dist = cat_normal([path[\"policy\"] for path in paths])\n",
    "\n",
    "    loss, kl = update_step(agent, observations, actions,\n",
    "                           returns, old_prob_dist, max_kl)\n",
    "\n",
    "    # Report current progress\n",
    "    episode_rewards = np.array([path[\"rewards\"].sum() for path in paths])\n",
    "\n",
    "    stats = OrderedDict()\n",
    "    numeptotal += len(episode_rewards)\n",
    "    stats[\"Total number of episodes\"] = numeptotal\n",
    "    stats[\"Average sum of rewards per episode\"] = episode_rewards.mean()\n",
    "    stats[\"Std of rewards per episode\"] = episode_rewards.std()\n",
    "    stats[\"Time elapsed\"] = \"%.2f mins\" % ((time.time() - start_time)/60.)\n",
    "    stats[\"KL between old and new distribution\"] = kl.data.numpy()\n",
    "    stats[\"Entropy\"] = get_entropy(agent, observations).data.numpy()\n",
    "    stats[\"Surrogate loss\"] = loss.data.numpy()\n",
    "    for k, v in stats.items():\n",
    "        print(k + \": \" + \" \" * (40 - len(k)) + str(v))\n",
    "    i += 1"
   ]
  },
  {
   "cell_type": "code",
   "execution_count": null,
   "metadata": {},
   "outputs": [],
   "source": []
  }
 ],
 "metadata": {
  "kernelspec": {
   "display_name": "Python 3",
   "language": "python",
   "name": "python3"
  },
  "language_info": {
   "codemirror_mode": {
    "name": "ipython",
    "version": 3
   },
   "file_extension": ".py",
   "mimetype": "text/x-python",
   "name": "python",
   "nbconvert_exporter": "python",
   "pygments_lexer": "ipython3",
   "version": "3.6.10"
  }
 },
 "nbformat": 4,
 "nbformat_minor": 2
}
