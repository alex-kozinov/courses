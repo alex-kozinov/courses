{
 "cells": [
  {
   "cell_type": "markdown",
   "metadata": {},
   "source": [
    "# Requirements"
   ]
  },
  {
   "cell_type": "code",
   "execution_count": 1,
   "metadata": {},
   "outputs": [],
   "source": [
    "try:\n",
    "    import google.colab\n",
    "    USE_COLAB = True\n",
    "except:\n",
    "    USE_COLAB = False\n",
    "\n",
    "RUN_TESTS = True\n",
    "\n",
    "if USE_COLAB:\n",
    "    print(\"Don't forget to avoid disconnections:\")\n",
    "    print(\"\"\"\n",
    "    function ClickConnect(){\n",
    "        console.log(\"Clicking\"); \n",
    "        document.querySelector(\"colab-connect-button\").click() \n",
    "    }\n",
    "    setInterval(ClickConnect,60000)\n",
    "    \n",
    "    \"\"\")"
   ]
  },
  {
   "cell_type": "code",
   "execution_count": 2,
   "metadata": {},
   "outputs": [],
   "source": [
    "import numpy as np\n",
    "from numpy.linalg import inv\n",
    "\n",
    "import scipy.signal\n",
    "\n",
    "import torch\n",
    "import torch.nn as nn\n",
    "import torch.nn.functional as F\n",
    "from torch.autograd import Variable\n",
    "from torch.distributions import Normal\n",
    "\n",
    "import gym\n",
    "\n",
    "import matplotlib.pyplot as plt\n",
    "\n",
    "import time\n",
    "from itertools import count\n",
    "from collections import OrderedDict"
   ]
  },
  {
   "cell_type": "markdown",
   "metadata": {},
   "source": [
    "# Description"
   ]
  },
  {
   "cell_type": "markdown",
   "metadata": {},
   "source": [
    "Let's use TRPO to train evil robots! (pick any of two)\n",
    "* [MuJoCo robots](https://gym.openai.com/envs#mujoco)\n",
    "* [Box2d robot](https://gym.openai.com/envs/BipedalWalker-v2)\n",
    "\n",
    "The catch here is that those environments have continuous action spaces. \n",
    "\n",
    "Luckily, TRPO is a policy gradient method, so it's gonna work for any parametric $\\pi_\\theta(a|s)$. We recommend starting with gaussian policy:\n",
    "\n",
    "$$\\pi_\\theta(a|s) = N(\\mu_\\theta(s),\\sigma^2_\\theta(s)) = {1 \\over \\sqrt { 2 \\pi {\\sigma^2}_\\theta(s) } } e^{ (a - \n",
    "\\mu_\\theta(s))^2 \\over 2 {\\sigma^2}_\\theta(s) } $$\n",
    "\n",
    "In the $\\sqrt { 2 \\pi {\\sigma^2}_\\theta(s) }$ clause, $\\pi$ means ~3.1415926, not agent's policy.\n",
    "\n",
    "This essentially means that you will need two output layers:\n",
    "* $\\mu_\\theta(s)$, a dense layer with linear activation\n",
    "* ${\\sigma^2}_\\theta(s)$, a dense layer with activation tf.exp (to make it positive; like rho from bandits)\n",
    "\n",
    "For multidimensional actions, you can use fully factorized gaussian (basically a vector of gaussians).\n",
    "\n",
    "__bonus task__: compare performance of continuous action space method to action space discretization"
   ]
  },
  {
   "cell_type": "markdown",
   "metadata": {},
   "source": [
    "# Data Exploration\n",
    "\n",
    "Explore given environment"
   ]
  },
  {
   "cell_type": "code",
   "execution_count": 3,
   "metadata": {},
   "outputs": [
    {
     "name": "stdout",
     "output_type": "stream",
     "text": [
      "\u001b[33mWARN: gym.spaces.Box autodetected dtype as <class 'numpy.float32'>. Please provide explicit dtype.\u001b[0m\n",
      "\u001b[33mWARN: gym.spaces.Box autodetected dtype as <class 'numpy.float32'>. Please provide explicit dtype.\u001b[0m\n"
     ]
    },
    {
     "name": "stderr",
     "output_type": "stream",
     "text": [
      "/Users/alex-kozinov/opt/anaconda3/lib/python3.6/site-packages/gym/envs/registration.py:14: PkgResourcesDeprecationWarning: Parameters to load are deprecated.  Call .resolve and .require separately.\n",
      "  result = entry_point.load(False)\n"
     ]
    }
   ],
   "source": [
    "test_env = gym.make(\"BipedalWalker-v2\")\n",
    "test_obs = test_env.reset()"
   ]
  },
  {
   "cell_type": "code",
   "execution_count": 4,
   "metadata": {},
   "outputs": [
    {
     "name": "stdout",
     "output_type": "stream",
     "text": [
      "(24,)\n",
      "Box(4,)\n"
     ]
    }
   ],
   "source": [
    "print(test_obs.shape)\n",
    "print(test_env.action_space)"
   ]
  },
  {
   "cell_type": "markdown",
   "metadata": {},
   "source": [
    "There are 4 possible actions: for all 4 Joints. Each parameter in range [-1, 1]. \n",
    "\n",
    "Let model learn it by **iteslf**"
   ]
  },
  {
   "cell_type": "markdown",
   "metadata": {},
   "source": [
    "# Define functional"
   ]
  },
  {
   "cell_type": "markdown",
   "metadata": {},
   "source": [
    "---\n",
    "## 1. model"
   ]
  },
  {
   "cell_type": "markdown",
   "metadata": {},
   "source": [
    "### defenition"
   ]
  },
  {
   "cell_type": "code",
   "execution_count": 5,
   "metadata": {},
   "outputs": [],
   "source": [
    "class TRPOAgent(nn.Module):\n",
    "    def __init__(self, state_shape, n_actions, hidden_size=[64, 64]):\n",
    "        '''\n",
    "        Here you should define your model\n",
    "        You should have LOG-PROBABILITIES as output because you will need it to compute loss\n",
    "        We recommend that you start simple: \n",
    "        use 1-2 hidden layers with 100-500 units and relu for the first try\n",
    "        '''\n",
    "        super(TRPOAgent, self).__init__()\n",
    "        \n",
    "        self.body = nn.Sequential(\n",
    "            nn.Linear(state_shape[0], hidden_size[0]),\n",
    "            nn.Tanh(),\n",
    "            nn.Linear(hidden_size[0], hidden_size[1]),\n",
    "            nn.Tanh(),\n",
    "        )\n",
    "        \n",
    "        self.mu_head = nn.Linear(hidden_size[1], n_actions)\n",
    "        self.mu_head.weight.data.mul_(0.1)\n",
    "        self.mu_head.bias.data.mul_(0.0)\n",
    "        \n",
    "        self.log_std_head = nn.Parameter(torch.zeros(n_actions))\n",
    "\n",
    "    def forward(self, states):\n",
    "        \"\"\"\n",
    "        takes agent's observation (Variable), returns gaussian distribution parameters\n",
    "        :param states: a batch of states, shape = [batch_size, state_shape]\n",
    "        \"\"\"\n",
    "        hidden_state = self.body(states)\n",
    "        \n",
    "        mu = self.mu_head(hidden_state)\n",
    "        log_std = self.log_std_head.expand_as(mu)\n",
    "        std = torch.exp(log_std)\n",
    "        return mu, std\n",
    "    \n",
    "    def get_prob_dist(self, obs):\n",
    "        \"\"\"\n",
    "        takes agent's observation (Variable), returns gaussian distribution\n",
    "        :param states: a batch of states, shape = [batch_size, state_shape]\n",
    "        \"\"\"\n",
    "\n",
    "        mu, std = self.forward(Variable(torch.FloatTensor(obs)))\n",
    "        dist = Normal(mu, std)\n",
    "        return dist\n",
    "\n",
    "    def act(self, obs):\n",
    "        '''\n",
    "        Samples action from policy distribution\n",
    "        :param: obs - single observation vector\n",
    "        :returns: action (single integer) and probabilities class for all actions\n",
    "        '''\n",
    "        \n",
    "        with torch.no_grad():\n",
    "            dist = self.get_prob_dist(obs)\n",
    "            \n",
    "        action = dist.sample().numpy()\n",
    "        return action, dist"
   ]
  },
  {
   "cell_type": "markdown",
   "metadata": {},
   "source": [
    "### testing"
   ]
  },
  {
   "cell_type": "code",
   "execution_count": 6,
   "metadata": {},
   "outputs": [
    {
     "name": "stdout",
     "output_type": "stream",
     "text": [
      "Test passed\n"
     ]
    }
   ],
   "source": [
    "test_model = TRPOAgent(test_obs.shape, test_env.action_space.shape[0])\n",
    "test_input = torch.ones((24))\n",
    "test_next_action, test_dist = test_model.act(test_obs)\n",
    "assert (type(test_next_action) == np.ndarray)\n",
    "assert (test_next_action.shape == (4,))\n",
    "assert (test_dist.mean.shape == (4,))\n",
    "\n",
    "print('Test passed')"
   ]
  },
  {
   "cell_type": "markdown",
   "metadata": {},
   "source": [
    "---\n",
    "## 2. flat parameters operations"
   ]
  },
  {
   "cell_type": "markdown",
   "metadata": {},
   "source": [
    "### definition"
   ]
  },
  {
   "cell_type": "code",
   "execution_count": 7,
   "metadata": {},
   "outputs": [],
   "source": [
    "def get_flat_params_from(model):\n",
    "    params = []\n",
    "    for param in model.parameters():\n",
    "        params.append(param.data.view(-1))\n",
    "\n",
    "    flat_params = torch.cat(params)\n",
    "    return flat_params\n",
    "\n",
    "\n",
    "def set_flat_params_to(model, flat_params):\n",
    "    prev_ind = 0\n",
    "    for param in model.parameters():\n",
    "        flat_size = int(np.prod(list(param.size())))\n",
    "        param.data.copy_(\n",
    "            flat_params[prev_ind:prev_ind + flat_size].view(param.size()))\n",
    "        prev_ind += flat_size"
   ]
  },
  {
   "cell_type": "markdown",
   "metadata": {},
   "source": [
    "---\n",
    "## 3. count cummulative"
   ]
  },
  {
   "cell_type": "markdown",
   "metadata": {},
   "source": [
    "### definition\n",
    "\n"
   ]
  },
  {
   "cell_type": "code",
   "execution_count": 8,
   "metadata": {},
   "outputs": [],
   "source": [
    "def get_cummulative_returns(r, gamma=1):\n",
    "    \"\"\"\n",
    "    Computes cummulative discounted rewards given immediate rewards\n",
    "    G_i = r_i + gamma*r_{i+1} + gamma^2*r_{i+2} + ...\n",
    "    Also known as R(s,a).\n",
    "    \"\"\"\n",
    "    r = np.array(r)\n",
    "    assert r.ndim >= 1\n",
    "    return scipy.signal.lfilter([1], [1, -gamma], r[::-1], axis=0)[::-1]"
   ]
  },
  {
   "cell_type": "markdown",
   "metadata": {},
   "source": [
    "### test"
   ]
  },
  {
   "cell_type": "code",
   "execution_count": 9,
   "metadata": {},
   "outputs": [
    {
     "name": "stdout",
     "output_type": "stream",
     "text": [
      "Tests passed\n"
     ]
    }
   ],
   "source": [
    "# simple demo on rewards [0,0,1,0,0,1]\n",
    "assert (get_cummulative_returns([0, 0, 1, 0, 0, 1], gamma=1.) == np.array([2., 2., 2., 1., 1., 1.])).all()\n",
    "print('Tests passed')"
   ]
  },
  {
   "cell_type": "markdown",
   "metadata": {},
   "source": [
    "## 4. transformation list of distributions to one multidimensial distribution"
   ]
  },
  {
   "cell_type": "markdown",
   "metadata": {},
   "source": [
    "### definition"
   ]
  },
  {
   "cell_type": "code",
   "execution_count": 10,
   "metadata": {},
   "outputs": [],
   "source": [
    "def cat_normal(normals):\n",
    "    \"\"\"\n",
    "    cat list of Normal distributions to single distribution\n",
    "    :param: normals - list of Normal distributions\n",
    "    \"\"\"\n",
    "    mu_s = [dist.mean for dist in normals]\n",
    "    std_s = [dist.stddev for dist in normals]\n",
    "    if len(mu_s[0].shape) == 1:\n",
    "        return Normal(torch.stack(mu_s), torch.stack(std_s))\n",
    "    else:\n",
    "        return Normal(torch.cat(mu_s), torch.cat(std_s))"
   ]
  },
  {
   "cell_type": "markdown",
   "metadata": {},
   "source": [
    "### testing\n"
   ]
  },
  {
   "cell_type": "code",
   "execution_count": 11,
   "metadata": {},
   "outputs": [
    {
     "name": "stdout",
     "output_type": "stream",
     "text": [
      "Test passed\n"
     ]
    }
   ],
   "source": [
    "A = Normal(torch.tensor([0., 0.]), torch.tensor([1., 1.]))\n",
    "B = Normal(torch.tensor([2., 2.]), torch.tensor([3., 3.]))\n",
    "AB = cat_normal([A, B])\n",
    "ABAB = cat_normal([AB, AB])\n",
    "\n",
    "assert (AB.mean == torch.tensor([[0., 0.], [2., 2.]])).all()\n",
    "assert (AB.stddev == torch.tensor([[1., 1.], [3., 3.]])).all()\n",
    "assert (ABAB.mean.shape == torch.Size([4, 2]))\n",
    "print('Test passed')"
   ]
  },
  {
   "cell_type": "markdown",
   "metadata": {},
   "source": [
    "---\n",
    "## 5. rollout"
   ]
  },
  {
   "cell_type": "markdown",
   "metadata": {},
   "source": [
    "### definition"
   ]
  },
  {
   "cell_type": "code",
   "execution_count": 12,
   "metadata": {},
   "outputs": [],
   "source": [
    "def rollout(env, agent, max_pathlength=2500, n_timesteps=50000):\n",
    "    \"\"\"\n",
    "    Generate rollouts for training.\n",
    "    :param: env - environment in which we will make actions to generate rollouts.\n",
    "    :param: act - the function that can return policy and action given observation.\n",
    "    :param: max_pathlength - maximum size of one path that we generate.\n",
    "    :param: n_timesteps - total sum of sizes of all pathes we generate.\n",
    "    \"\"\"\n",
    "    paths = []\n",
    "\n",
    "    total_timesteps = 0\n",
    "    while total_timesteps < n_timesteps:\n",
    "        obervations, actions, rewards, probs_dist = [], [], [], []\n",
    "        obervation = env.reset()\n",
    "        for _ in range(max_pathlength):\n",
    "            action, prob_dist = agent.act(obervation)\n",
    "            obervations.append(obervation)\n",
    "            actions.append(action)\n",
    "            probs_dist.append(prob_dist)\n",
    "            obervation, reward, done, _ = env.step(action)\n",
    "            rewards.append(reward)\n",
    "            total_timesteps += 1\n",
    "            if done or total_timesteps == n_timesteps:\n",
    "                path = {\"observations\": np.array(obervations),\n",
    "                        \"policy\": cat_normal(probs_dist),\n",
    "                        \"actions\": np.array(actions),\n",
    "                        \"rewards\": np.array(rewards),\n",
    "                        \"cumulative_returns\": get_cummulative_returns(rewards, gamma=0.99),\n",
    "                        }\n",
    "                paths.append(path)\n",
    "                break\n",
    "    return paths"
   ]
  },
  {
   "cell_type": "markdown",
   "metadata": {},
   "source": [
    "### testing"
   ]
  },
  {
   "cell_type": "code",
   "execution_count": 13,
   "metadata": {},
   "outputs": [
    {
     "name": "stdout",
     "output_type": "stream",
     "text": [
      "{'observations': array([[ 2.74744537e-03, -8.88551760e-06,  6.91183582e-04,\n",
      "        -1.59999430e-02,  9.20273513e-02, -9.12121381e-04,\n",
      "         8.60231563e-01,  2.07711306e-03,  1.00000000e+00,\n",
      "         3.24330889e-02, -9.12062766e-04,  8.53780344e-01,\n",
      "         6.45064788e-04,  1.00000000e+00,  4.40814018e-01,\n",
      "         4.45820123e-01,  4.61422771e-01,  4.89550203e-01,\n",
      "         5.34102798e-01,  6.02461040e-01,  7.09148884e-01,\n",
      "         8.85931849e-01,  1.00000000e+00,  1.00000000e+00],\n",
      "       [ 3.35208252e-02,  3.16303372e-02,  2.76641822e-02,\n",
      "         2.61096764e-02, -3.15657169e-01, -1.00285888e+00,\n",
      "         1.72198951e+00,  1.00305430e+00,  1.00000000e+00,\n",
      "        -4.07797575e-01, -9.96588588e-01,  1.72406101e+00,\n",
      "         9.94789441e-01,  1.00000000e+00,  4.55960721e-01,\n",
      "         4.61138844e-01,  4.77277607e-01,  5.06371498e-01,\n",
      "         5.52454948e-01,  6.23162031e-01,  7.33515799e-01,\n",
      "         9.16373134e-01,  1.00000000e+00,  1.00000000e+00],\n",
      "       [ 3.76685113e-02,  1.72630084e-02,  9.09834020e-04,\n",
      "         5.61219597e-02, -5.02665304e-02,  1.30651087e-01,\n",
      "         1.44005957e+00, -3.32908233e-01,  1.00000000e+00,\n",
      "        -5.10860234e-04, -1.56864628e-01,  1.30703467e+00,\n",
      "         6.34305179e-04,  1.00000000e+00,  4.69941109e-01,\n",
      "         4.75277990e-01,  4.91911620e-01,  5.21897554e-01,\n",
      "         5.69393992e-01,  6.42269075e-01,  7.56006420e-01,\n",
      "         9.44470406e-01,  1.00000000e+00,  1.00000000e+00],\n",
      "       [ 5.42551763e-02,  3.33655596e-02,  1.28705218e-02,\n",
      "         4.14782429e-02, -1.96937956e-02, -4.44530249e-02,\n",
      "         1.01508274e+00,  9.93410746e-09,  1.00000000e+00,\n",
      "        -1.55345559e-01, -7.21494436e-01,  1.02687412e+00,\n",
      "         1.58874214e-01,  1.00000000e+00,  4.74458575e-01,\n",
      "         4.79846776e-01,  4.96640265e-01,  5.26914477e-01,\n",
      "         5.74867487e-01,  6.48443103e-01,  7.63273776e-01,\n",
      "         9.53549445e-01,  1.00000000e+00,  1.00000000e+00],\n",
      "       [ 7.59624466e-02,  4.30814409e-02,  1.33012855e-02,\n",
      "         2.78287983e-02,  1.51436403e-03,  4.40808326e-01,\n",
      "         8.54901403e-01, -9.99945482e-01,  1.00000000e+00,\n",
      "        -2.38993913e-01, -9.99999285e-01,  9.34231691e-01,\n",
      "        -9.13937887e-07,  1.00000000e+00,  4.76241887e-01,\n",
      "         4.81650323e-01,  4.98506963e-01,  5.28894961e-01,\n",
      "         5.77028215e-01,  6.50880337e-01,  7.66142607e-01,\n",
      "         9.57133472e-01,  1.00000000e+00,  1.00000000e+00]]), 'policy': Normal(loc: torch.Size([5, 4]), scale: torch.Size([5, 4])), 'actions': array([[-0.5779347 ,  0.67477405, -1.0674002 ,  2.0972514 ],\n",
      "       [ 0.5982598 , -0.82377684, -0.28993344, -0.21682806],\n",
      "       [ 0.49721187,  0.31234112, -0.9106998 ,  0.05254518],\n",
      "       [ 0.23194468, -1.4443791 , -1.4329894 ,  0.06089736],\n",
      "       [-0.6716848 , -1.5481442 ,  0.46911624,  0.47952762]],\n",
      "      dtype=float32), 'rewards': array([-0.16605369, -0.13193981, -0.13196211, -0.16417114, -0.18762345]), 'cumulative_returns': array([-0.76553559, -0.60553727, -0.47838128, -0.34991835, -0.18762345])}\n",
      "Test Passed\n"
     ]
    }
   ],
   "source": [
    "test_agent = TRPOAgent(test_obs.shape, test_env.action_space.shape[0])\n",
    "paths = rollout(test_env, test_agent, max_pathlength=5, n_timesteps=100)\n",
    "print(paths[-1])\n",
    "assert (type(paths[0]['policy']) == torch.distributions.normal.Normal)\n",
    "assert (paths[0]['policy'].mean.shape == (5,test_env.action_space.shape[0]))\n",
    "assert (paths[0]['cumulative_returns'].shape == (5,))\n",
    "assert (paths[0]['rewards'].shape == (5,))\n",
    "assert (paths[0]['observations'].shape == (5,)+test_obs.shape)\n",
    "assert (paths[0]['actions'].shape == (5,test_env.action_space.shape[0]))\n",
    "print('Test Passed')"
   ]
  },
  {
   "cell_type": "markdown",
   "metadata": {},
   "source": [
    "---\n",
    "## 6. Surrogate loss"
   ]
  },
  {
   "cell_type": "markdown",
   "metadata": {},
   "source": [
    "Now let's define the loss functions and something else for actual TRPO training.\n",
    "\n",
    "The surrogate reward should be\n",
    "$$J_{surr}= {1 \\over N} \\sum\\limits_{i=0}^N \\frac{\\pi_{\\theta}(s_i, a_i)}{\\pi_{\\theta_{old}}(s_i, a_i)}A_{\\theta_{old}(s_i, a_i)}$$\n",
    "\n",
    "For simplicity, let's use cummulative returns instead of advantage for now:\n",
    "$$J'_{surr}= {1 \\over N} \\sum\\limits_{i=0}^N \\frac{\\pi_{\\theta}(s_i, a_i)}{\\pi_{\\theta_{old}}(s_i, a_i)}G_{\\theta_{old}(s_i, a_i)}$$\n",
    "\n",
    "Or alternatively, minimize the surrogate loss:\n",
    "$$ L_{surr} = - J'_{surr} $$  \n"
   ]
  },
  {
   "cell_type": "markdown",
   "metadata": {},
   "source": [
    "### definition"
   ]
  },
  {
   "cell_type": "code",
   "execution_count": 14,
   "metadata": {},
   "outputs": [],
   "source": [
    "def get_loss(agent, observations, actions, cummulative_returns, old_prob_dist):\n",
    "    \"\"\"\n",
    "    Computes TRPO objective\n",
    "    :param: observations - batch of observations\n",
    "    :param: actions - batch of actions\n",
    "    :param: cummulative_returns - batch of cummulative returns\n",
    "    :param: old_prob_dist - torch gaussian distribution with shape of actions batch shape.\n",
    "    :returns: scalar value of the objective function\n",
    "    \"\"\"\n",
    "    batch_size, n_actions = actions.shape\n",
    "    \n",
    "    assert old_prob_dist.mean.shape == torch.Size([batch_size, n_actions])\n",
    "    \n",
    "    prob_dist = agent.get_prob_dist(observations)\n",
    "    \n",
    "    probs_for_actions = torch.exp(prob_dist.log_prob(torch.tensor(actions)))\n",
    "    old_probs_for_actions = torch.exp(old_prob_dist.log_prob(torch.tensor(actions)))\n",
    "    \n",
    "    probs_for_actions = torch.prod(probs_for_actions, dim=1)\n",
    "    old_probs_for_actions = torch.prod(old_probs_for_actions, dim=1)\n",
    "\n",
    "    Loss = -torch.mean(probs_for_actions / old_probs_for_actions * cummulative_returns)\n",
    "\n",
    "    assert Loss.shape == torch.Size([])\n",
    "    return Loss"
   ]
  },
  {
   "cell_type": "markdown",
   "metadata": {},
   "source": [
    "### testing"
   ]
  },
  {
   "cell_type": "code",
   "execution_count": 15,
   "metadata": {},
   "outputs": [
    {
     "name": "stdout",
     "output_type": "stream",
     "text": [
      "Test passed\n"
     ]
    }
   ],
   "source": [
    "test_agent = TRPOAgent(test_obs.shape, test_env.action_space.shape[0])\n",
    "paths = rollout(test_env, test_agent, max_pathlength=5, n_timesteps=100)\n",
    "\n",
    "with torch.no_grad():\n",
    "    assert get_loss(\n",
    "        test_agent,\n",
    "        paths[0]['observations'],\n",
    "        paths[0]['actions'],\n",
    "        paths[0]['cumulative_returns'],\n",
    "        paths[0]['policy']\n",
    "    ) > 0\n",
    "print('Test passed')"
   ]
  },
  {
   "cell_type": "markdown",
   "metadata": {},
   "source": [
    "---\n",
    "## 7. KL metric"
   ]
  },
  {
   "cell_type": "markdown",
   "metadata": {},
   "source": [
    "We can ascend these gradients as long as our $pi_\\theta(a|s)$ satisfies the constraint\n",
    "$$E_{s,\\pi_{\\Theta_{t}}}\\Big[KL(\\pi(\\Theta_{t}, s) \\:||\\:\\pi(\\Theta_{t+1}, s))\\Big]< \\alpha$$\n",
    "\n",
    "\n",
    "The Kullback-Leibler divergence between a Gaussian distribution $p$ with mean $\\mu_1$ and variance $\\sigma_1^2$ and a Gaussian distribution $q$ with mean $\\mu_2$ and variance $\\sigma_2^2$ is following: \n",
    "$$\\displaystyle \\text{KL}(p, q) = \\log \\frac{\\sigma_2}{\\sigma_1} + \\frac{\\sigma_1^2 + (\\mu_1 - \\mu_2)^2}{2\\sigma_2^2} - \\frac{1}{2}$$"
   ]
  },
  {
   "cell_type": "markdown",
   "metadata": {},
   "source": [
    "### definition"
   ]
  },
  {
   "cell_type": "code",
   "execution_count": 16,
   "metadata": {},
   "outputs": [],
   "source": [
    "def get_kl(agent, observations, actions, cummulative_returns, old_prob_dist):\n",
    "    \"\"\"\n",
    "    Computes KL-divergence between network policy and old policy\n",
    "    :param: observations - batch of observations\n",
    "    :param: actions - batch of actions\n",
    "    :param: cummulative_returns - batch of cummulative returns (we don't need it actually)\n",
    "    :param: old_prob_dist - torch gaussian distribution with shape of actions batch shape.\n",
    "    :returns: scalar value of the KL-divergence\n",
    "    \"\"\"\n",
    "    batch_size, n_actions = actions.shape\n",
    "    \n",
    "    assert old_prob_dist.mean.shape == torch.Size([batch_size, n_actions])\n",
    "    \n",
    "    prob_dist = agent.get_prob_dist(observations)\n",
    "    \n",
    "    # Compute Kullback-Leibler divergence (see formula above)\n",
    "    # shape [batch_size, n_actions]\n",
    "    kl_s = torch.log(prob_dist.stddev / old_prob_dist.stddev) +\\\n",
    "        (old_prob_dist.stddev ** 2 + (old_prob_dist.mean - prob_dist.mean) ** 2) / (2 * prob_dist.stddev ** 2) - 0.5\n",
    "    kl = torch.mean(kl_s)\n",
    "\n",
    "    assert kl_s.shape == torch.Size([batch_size, n_actions])\n",
    "    assert kl.shape == torch.Size([])\n",
    "    assert (kl > -0.0001).all() and (kl < 10000).all()\n",
    "    return kl"
   ]
  },
  {
   "cell_type": "markdown",
   "metadata": {},
   "source": [
    "### testing"
   ]
  },
  {
   "cell_type": "code",
   "execution_count": 17,
   "metadata": {},
   "outputs": [
    {
     "name": "stdout",
     "output_type": "stream",
     "text": [
      "Test passed\n"
     ]
    }
   ],
   "source": [
    "test_agent = TRPOAgent(test_obs.shape, test_env.action_space.shape[0])\n",
    "paths = rollout(test_env, test_agent, max_pathlength=5, n_timesteps=100)\n",
    "\n",
    "with torch.no_grad():\n",
    "    assert get_kl(\n",
    "        test_agent,\n",
    "        paths[0]['observations'],\n",
    "        paths[0]['actions'],\n",
    "        paths[0]['cumulative_returns'],\n",
    "        paths[0]['policy']\n",
    "    ) < 0.001\n",
    "\n",
    "print('Test passed')"
   ]
  },
  {
   "cell_type": "markdown",
   "metadata": {},
   "source": [
    "---\n",
    "## 8. Entropy"
   ]
  },
  {
   "cell_type": "markdown",
   "metadata": {},
   "source": [
    "### definition"
   ]
  },
  {
   "cell_type": "code",
   "execution_count": 18,
   "metadata": {},
   "outputs": [],
   "source": [
    "def get_entropy(agent, observations):\n",
    "    \"\"\"\n",
    "    Computes entropy of the network policy \n",
    "    :param: observations - batch of observations\n",
    "    :returns: scalar value of the entropy\n",
    "    \"\"\"\n",
    "\n",
    "    probs_dist = agent.get_prob_dist(observations)\n",
    "    entropy = torch.mean(probs_dist.entropy())\n",
    "\n",
    "    assert entropy.shape == torch.Size([])\n",
    "    return entropy"
   ]
  },
  {
   "cell_type": "markdown",
   "metadata": {},
   "source": [
    "### testing"
   ]
  },
  {
   "cell_type": "code",
   "execution_count": 19,
   "metadata": {},
   "outputs": [
    {
     "name": "stdout",
     "output_type": "stream",
     "text": [
      "tensor(1.4189, grad_fn=<MeanBackward0>)\n",
      "Test passed\n"
     ]
    }
   ],
   "source": [
    "test_agent = TRPOAgent(test_obs.shape, test_env.action_space.shape[0])\n",
    "print(get_entropy(test_agent, test_obs))\n",
    "print('Test passed')"
   ]
  },
  {
   "cell_type": "markdown",
   "metadata": {},
   "source": [
    "---\n",
    "## 9. Linear search\n",
    "TRPO in its core involves ascending surrogate policy gradient constrained by KL divergence. \n",
    "\n",
    "In order to enforce this constraint, we're gonna use linesearch. You can find out more about it [here](https://en.wikipedia.org/wiki/Linear_search)"
   ]
  },
  {
   "cell_type": "markdown",
   "metadata": {},
   "source": [
    "### definition"
   ]
  },
  {
   "cell_type": "code",
   "execution_count": 20,
   "metadata": {},
   "outputs": [],
   "source": [
    "def linesearch(f, x, fullstep, max_kl):\n",
    "    \"\"\"\n",
    "    Linesearch finds the best parameters of neural networks in the direction of fullstep contrainted by KL divergence.\n",
    "    :param: f - function that returns loss, kl and arbitrary third component.\n",
    "    :param: x - old parameters of neural network.\n",
    "    :param: fullstep - direction in which we make search.\n",
    "    :param: max_kl - constraint of KL divergence.\n",
    "    :returns:\n",
    "    \"\"\"\n",
    "    max_backtracks = 10\n",
    "    loss, _, = f(x)\n",
    "    for stepfrac in .5**np.arange(max_backtracks):\n",
    "        xnew = x + stepfrac * fullstep\n",
    "        new_loss, kl = f(xnew)\n",
    "        actual_improve = new_loss - loss\n",
    "        if kl.data.numpy() <= max_kl and actual_improve.data.numpy() < 0:\n",
    "            x = xnew\n",
    "            loss = new_loss\n",
    "    return x"
   ]
  },
  {
   "cell_type": "markdown",
   "metadata": {},
   "source": [
    "### testing"
   ]
  },
  {
   "cell_type": "markdown",
   "metadata": {},
   "source": [
    "---\n",
    "## 10. Conjugate gradients"
   ]
  },
  {
   "cell_type": "markdown",
   "metadata": {},
   "source": [
    "Since TRPO includes contrainted optimization, we will need to solve Ax=b using conjugate gradients.\n",
    "\n",
    "In general, CG is an algorithm that solves Ax=b where A is positive-defined. A is Hessian matrix so A is positive-defined. You can find out more about them [here](https://en.wikipedia.org/wiki/Conjugate_gradient_method)"
   ]
  },
  {
   "cell_type": "markdown",
   "metadata": {},
   "source": [
    "### definition"
   ]
  },
  {
   "cell_type": "code",
   "execution_count": 21,
   "metadata": {},
   "outputs": [],
   "source": [
    "def conjugate_gradient(f_Ax, b, cg_iters=10, residual_tol=1e-10):\n",
    "    \"\"\"\n",
    "    This method solves system of equation Ax=b using iterative method called conjugate gradients\n",
    "    :f_Ax: function that returns Ax\n",
    "    :b: targets for Ax\n",
    "    :cg_iters: how many iterations this method should do\n",
    "    :residual_tol: epsilon for stability\n",
    "    \"\"\"\n",
    "    p = b.clone()\n",
    "    r = b.clone()\n",
    "    x = torch.zeros(b.size())\n",
    "    rdotr = torch.sum(r*r)\n",
    "    for i in range(cg_iters):\n",
    "        z = f_Ax(p)\n",
    "        v = rdotr / (torch.sum(p*z) + 1e-8)\n",
    "        x += v * p\n",
    "        r -= v * z\n",
    "        newrdotr = torch.sum(r*r)\n",
    "        mu = newrdotr / (rdotr + 1e-8)\n",
    "        p = r + mu * p\n",
    "        rdotr = newrdotr\n",
    "        if rdotr < residual_tol:\n",
    "            break\n",
    "    return x"
   ]
  },
  {
   "cell_type": "markdown",
   "metadata": {},
   "source": [
    "### testing"
   ]
  },
  {
   "cell_type": "code",
   "execution_count": 22,
   "metadata": {},
   "outputs": [
    {
     "name": "stdout",
     "output_type": "stream",
     "text": [
      "[-0.76591122  0.08392526 -0.91682948 -0.25390605 -0.37389001  1.15182128\n",
      "  0.97512305  0.19060201]\n",
      "[-0.7642292   0.08325659 -0.9099988  -0.26729178 -0.3777817   1.1485702\n",
      "  0.9761316   0.19883333]\n",
      "Test passed\n"
     ]
    }
   ],
   "source": [
    "# This code validates conjugate gradients\n",
    "A = np.random.rand(8, 8)\n",
    "A = np.matmul(np.transpose(A), A)\n",
    "\n",
    "\n",
    "def f_Ax(x):\n",
    "    return torch.matmul(torch.FloatTensor(A), x.view((-1, 1))).view(-1)\n",
    "\n",
    "\n",
    "b = np.random.rand(8)\n",
    "\n",
    "w = np.matmul(np.matmul(inv(np.matmul(np.transpose(A), A)),\n",
    "                        np.transpose(A)), b.reshape((-1, 1))).reshape(-1)\n",
    "print(w)\n",
    "print(conjugate_gradient(f_Ax, torch.FloatTensor(b)).numpy())\n",
    "print('Test passed')"
   ]
  },
  {
   "cell_type": "markdown",
   "metadata": {},
   "source": [
    "---\n",
    "## 11. update_step"
   ]
  },
  {
   "cell_type": "markdown",
   "metadata": {},
   "source": [
    "In this section we construct the whole update step function."
   ]
  },
  {
   "cell_type": "markdown",
   "metadata": {},
   "source": [
    "### definition"
   ]
  },
  {
   "cell_type": "code",
   "execution_count": 23,
   "metadata": {},
   "outputs": [],
   "source": [
    "def update_step(agent, observations, actions, cummulative_returns, old_prob_dist, max_kl):\n",
    "    \"\"\"\n",
    "    This function does the TRPO update step\n",
    "    :param: observations - batch of observations\n",
    "    :param: actions - batch of actions\n",
    "    :param: cummulative_returns - batch of cummulative returns\n",
    "    :param: old_prob_dist - torch gaussian distribution with shape of actions batch shape.\n",
    "    :param: max_kl - controls how big KL divergence may be between old and new policy every step.\n",
    "    :returns: KL between new and old policies and the value of the loss function.\n",
    "    \"\"\"\n",
    "\n",
    "    # Here we prepare the information\n",
    "    actions = torch.LongTensor(actions)\n",
    "    cummulative_returns = Variable(torch.FloatTensor(cummulative_returns))\n",
    "#     old_probs = Variable(torch.FloatTensor(old_probs))\n",
    "\n",
    "    # Here we compute gradient of the loss function\n",
    "    loss = get_loss(agent, observations, actions,\n",
    "                    cummulative_returns, old_prob_dist)\n",
    "    grads = torch.autograd.grad(loss, agent.parameters())\n",
    "    loss_grad = torch.cat([grad.view(-1) for grad in grads]).data\n",
    "\n",
    "    def Fvp(v):\n",
    "        # Here we compute Fx to do solve Fx = g using conjugate gradients\n",
    "        # We actually do here a couple of tricks to compute it efficiently\n",
    "\n",
    "        kl = get_kl(agent, observations, actions,\n",
    "                    cummulative_returns, old_prob_dist)\n",
    "\n",
    "        grads = torch.autograd.grad(kl, agent.parameters(), create_graph=True)\n",
    "        flat_grad_kl = torch.cat([grad.view(-1) for grad in grads])\n",
    "\n",
    "        kl_v = (flat_grad_kl * Variable(v)).sum()\n",
    "        grads = torch.autograd.grad(kl_v, agent.parameters())\n",
    "        flat_grad_grad_kl = torch.cat(\n",
    "            [grad.contiguous().view(-1) for grad in grads]).data\n",
    "\n",
    "        return flat_grad_grad_kl + v * 0.1\n",
    "\n",
    "    # Here we solveolve Fx = g system using conjugate gradients\n",
    "    stepdir = conjugate_gradient(Fvp, -loss_grad, 10)\n",
    "\n",
    "    # Here we compute the initial vector to do linear search\n",
    "    shs = 0.5 * (stepdir * Fvp(stepdir)).sum(0, keepdim=True)\n",
    "\n",
    "    lm = torch.sqrt(shs / max_kl)\n",
    "    fullstep = stepdir / lm[0]\n",
    "\n",
    "    neggdotstepdir = (-loss_grad * stepdir).sum(0, keepdim=True)\n",
    "\n",
    "    # Here we get the start point\n",
    "    prev_params = get_flat_params_from(agent)\n",
    "\n",
    "    def get_loss_kl(params):\n",
    "        # Helper for linear search\n",
    "        set_flat_params_to(agent, params)\n",
    "        return [get_loss(agent, observations, actions, cummulative_returns, old_prob_dist),\n",
    "                get_kl(agent, observations, actions, cummulative_returns, old_prob_dist)]\n",
    "\n",
    "    # Here we find our new parameters\n",
    "    new_params = linesearch(get_loss_kl, prev_params, fullstep, max_kl)\n",
    "\n",
    "    # And we set it to our network\n",
    "    set_flat_params_to(agent, new_params)\n",
    "\n",
    "    return get_loss_kl(new_params)"
   ]
  },
  {
   "cell_type": "markdown",
   "metadata": {},
   "source": [
    "### testing"
   ]
  },
  {
   "cell_type": "markdown",
   "metadata": {},
   "source": [
    "# Learning"
   ]
  },
  {
   "cell_type": "markdown",
   "metadata": {},
   "source": [
    "---\n",
    "## 0. Hyperparameters"
   ]
  },
  {
   "cell_type": "code",
   "execution_count": 24,
   "metadata": {},
   "outputs": [],
   "source": [
    "# this is hyperparameter of TRPO. It controls how big KL divergence may be between old and new policy every step.\n",
    "max_kl = 0.01\n",
    "numeptotal = 0  # this is number of episodes that we played.\n",
    "\n",
    "rollout_max_pathlength=3000\n",
    "rollout_n_timesteps=200000"
   ]
  },
  {
   "cell_type": "markdown",
   "metadata": {},
   "source": [
    "---\n",
    "## 1. Objects definition"
   ]
  },
  {
   "cell_type": "markdown",
   "metadata": {},
   "source": [
    "### environment"
   ]
  },
  {
   "cell_type": "code",
   "execution_count": 25,
   "metadata": {},
   "outputs": [
    {
     "name": "stdout",
     "output_type": "stream",
     "text": [
      "\u001b[33mWARN: gym.spaces.Box autodetected dtype as <class 'numpy.float32'>. Please provide explicit dtype.\u001b[0m\n",
      "\u001b[33mWARN: gym.spaces.Box autodetected dtype as <class 'numpy.float32'>. Please provide explicit dtype.\u001b[0m\n"
     ]
    }
   ],
   "source": [
    "env = gym.make(\"BipedalWalker-v2\")\n",
    "observation_shape = env.observation_space.shape\n",
    "n_actions = env.action_space.shape[0]"
   ]
  },
  {
   "cell_type": "markdown",
   "metadata": {},
   "source": [
    "### model "
   ]
  },
  {
   "cell_type": "code",
   "execution_count": 26,
   "metadata": {},
   "outputs": [
    {
     "data": {
      "text/plain": [
       "TRPOAgent(\n",
       "  (body): Sequential(\n",
       "    (0): Linear(in_features=24, out_features=64, bias=True)\n",
       "    (1): Tanh()\n",
       "    (2): Linear(in_features=64, out_features=64, bias=True)\n",
       "    (3): Tanh()\n",
       "  )\n",
       "  (mu_head): Linear(in_features=64, out_features=4, bias=True)\n",
       ")"
      ]
     },
     "execution_count": 26,
     "metadata": {},
     "output_type": "execute_result"
    }
   ],
   "source": [
    "agent = TRPOAgent(observation_shape, n_actions)\n",
    "agent"
   ]
  },
  {
   "cell_type": "markdown",
   "metadata": {},
   "source": [
    "---\n",
    "## 2. Main Loop"
   ]
  },
  {
   "cell_type": "code",
   "execution_count": 27,
   "metadata": {
    "scrolled": false
   },
   "outputs": [
    {
     "name": "stdout",
     "output_type": "stream",
     "text": [
      "\n",
      "********** Iteration 1 ************\n",
      "Rollout\n",
      "Made rollout\n"
     ]
    },
    {
     "name": "stderr",
     "output_type": "stream",
     "text": [
      "/Users/alex-kozinov/opt/anaconda3/lib/python3.6/site-packages/ipykernel_launcher.py:16: UserWarning: To copy construct from a tensor, it is recommended to use sourceTensor.clone().detach() or sourceTensor.clone().detach().requires_grad_(True), rather than torch.tensor(sourceTensor).\n",
      "  app.launch_new_instance()\n",
      "/Users/alex-kozinov/opt/anaconda3/lib/python3.6/site-packages/ipykernel_launcher.py:17: UserWarning: To copy construct from a tensor, it is recommended to use sourceTensor.clone().detach() or sourceTensor.clone().detach().requires_grad_(True), rather than torch.tensor(sourceTensor).\n"
     ]
    },
    {
     "name": "stdout",
     "output_type": "stream",
     "text": [
      "Total number of episodes:                 326\n",
      "Average sum of rewards per episode:       -112.23683746807623\n",
      "Std of rewards per episode:               16.047656563399087\n",
      "Time elapsed:                             2.69 mins\n",
      "KL between old and new distribution:      0.009995745\n",
      "Entropy:                                  1.5223634\n",
      "Surrogate loss:                           9.989337\n",
      "Total paths:                              326\n",
      "Mean path length:                         613.4969325153374\n",
      "\n",
      "********** Iteration 2 ************\n",
      "Rollout\n",
      "Made rollout\n",
      "Total number of episodes:                 707\n",
      "Average sum of rewards per episode:       -115.05455611087416\n",
      "Std of rewards per episode:               17.948641793855305\n",
      "Time elapsed:                             5.38 mins\n",
      "KL between old and new distribution:      0.009988286\n",
      "Entropy:                                  1.6254425\n",
      "Surrogate loss:                           11.801085\n",
      "Total paths:                              381\n",
      "Mean path length:                         524.9343832020998\n",
      "\n",
      "********** Iteration 3 ************\n",
      "Rollout\n",
      "Made rollout\n",
      "Total number of episodes:                 1104\n",
      "Average sum of rewards per episode:       -116.35046418531059\n",
      "Std of rewards per episode:               20.13702772887025\n",
      "Time elapsed:                             8.07 mins\n",
      "KL between old and new distribution:      0.00999344\n",
      "Entropy:                                  1.7293155\n",
      "Surrogate loss:                           12.391045\n",
      "Total paths:                              397\n",
      "Mean path length:                         503.77833753148616\n",
      "\n",
      "********** Iteration 4 ************\n",
      "Rollout\n",
      "Made rollout\n",
      "Total number of episodes:                 1539\n",
      "Average sum of rewards per episode:       -117.57048690995357\n",
      "Std of rewards per episode:               23.09378491145643\n",
      "Time elapsed:                             10.75 mins\n",
      "KL between old and new distribution:      0.009997593\n",
      "Entropy:                                  1.8323811\n",
      "Surrogate loss:                           13.622237\n",
      "Total paths:                              435\n",
      "Mean path length:                         459.7701149425287\n",
      "\n",
      "********** Iteration 5 ************\n",
      "Rollout\n",
      "Made rollout\n",
      "Total number of episodes:                 1941\n",
      "Average sum of rewards per episode:       -119.51931888598455\n",
      "Std of rewards per episode:               20.60112215456326\n",
      "Time elapsed:                             13.44 mins\n",
      "KL between old and new distribution:      0.009989475\n",
      "Entropy:                                  1.9358243\n",
      "Surrogate loss:                           13.344725\n",
      "Total paths:                              402\n",
      "Mean path length:                         497.5124378109453\n",
      "\n",
      "********** Iteration 6 ************\n",
      "Rollout\n",
      "Made rollout\n",
      "Total number of episodes:                 2361\n",
      "Average sum of rewards per episode:       -122.18017268080976\n",
      "Std of rewards per episode:               27.139586327922743\n",
      "Time elapsed:                             16.30 mins\n",
      "KL between old and new distribution:      0.0099876225\n",
      "Entropy:                                  2.0389078\n",
      "Surrogate loss:                           14.401426\n",
      "Total paths:                              420\n",
      "Mean path length:                         476.1904761904762\n",
      "\n",
      "********** Iteration 7 ************\n",
      "Rollout\n",
      "Made rollout\n",
      "Total number of episodes:                 2835\n",
      "Average sum of rewards per episode:       -121.9654373015085\n",
      "Std of rewards per episode:               27.82085928519677\n",
      "Time elapsed:                             19.23 mins\n",
      "KL between old and new distribution:      0.009983473\n",
      "Entropy:                                  2.1425874\n",
      "Surrogate loss:                           15.944911\n",
      "Total paths:                              474\n",
      "Mean path length:                         421.9409282700422\n",
      "\n",
      "********** Iteration 8 ************\n",
      "Rollout\n",
      "Made rollout\n",
      "Total number of episodes:                 3281\n",
      "Average sum of rewards per episode:       -123.1828027003441\n",
      "Std of rewards per episode:               26.96812711353581\n",
      "Time elapsed:                             22.16 mins\n",
      "KL between old and new distribution:      0.009989387\n",
      "Entropy:                                  2.2460647\n",
      "Surrogate loss:                           15.690155\n",
      "Total paths:                              446\n",
      "Mean path length:                         448.4304932735426\n",
      "\n",
      "********** Iteration 9 ************\n",
      "Rollout\n",
      "Made rollout\n",
      "Total number of episodes:                 3697\n",
      "Average sum of rewards per episode:       -127.03284972860837\n",
      "Std of rewards per episode:               30.486791822643184\n",
      "Time elapsed:                             25.10 mins\n",
      "KL between old and new distribution:      0.009987563\n",
      "Entropy:                                  2.3489714\n",
      "Surrogate loss:                           15.579051\n",
      "Total paths:                              416\n",
      "Mean path length:                         480.7692307692308\n",
      "\n",
      "********** Iteration 10 ************\n",
      "Rollout\n",
      "Made rollout\n",
      "Total number of episodes:                 4150\n",
      "Average sum of rewards per episode:       -126.13877592789241\n",
      "Std of rewards per episode:               30.308256526907662\n",
      "Time elapsed:                             28.01 mins\n",
      "KL between old and new distribution:      0.009990799\n",
      "Entropy:                                  2.452315\n",
      "Surrogate loss:                           16.793985\n",
      "Total paths:                              453\n",
      "Mean path length:                         441.5011037527594\n",
      "\n",
      "********** Iteration 11 ************\n",
      "Rollout\n",
      "Made rollout\n",
      "Total number of episodes:                 4683\n",
      "Average sum of rewards per episode:       -123.05477520149005\n",
      "Std of rewards per episode:               28.32038809097847\n",
      "Time elapsed:                             30.93 mins\n",
      "KL between old and new distribution:      0.009998978\n",
      "Entropy:                                  2.5554376\n",
      "Surrogate loss:                           18.37911\n",
      "Total paths:                              533\n",
      "Mean path length:                         375.234521575985\n",
      "\n",
      "********** Iteration 12 ************\n",
      "Rollout\n",
      "Made rollout\n",
      "Total number of episodes:                 5138\n",
      "Average sum of rewards per episode:       -127.59073784125552\n",
      "Std of rewards per episode:               31.950372444443936\n",
      "Time elapsed:                             33.87 mins\n",
      "KL between old and new distribution:      0.009993227\n",
      "Entropy:                                  2.6592393\n",
      "Surrogate loss:                           17.569487\n",
      "Total paths:                              455\n",
      "Mean path length:                         439.56043956043953\n",
      "\n",
      "********** Iteration 13 ************\n",
      "Rollout\n",
      "Made rollout\n",
      "Total number of episodes:                 5621\n",
      "Average sum of rewards per episode:       -127.27540301540077\n",
      "Std of rewards per episode:               32.55814776018324\n",
      "Time elapsed:                             36.79 mins\n",
      "KL between old and new distribution:      0.009991099\n",
      "Entropy:                                  2.7629118\n",
      "Surrogate loss:                           18.245369\n",
      "Total paths:                              483\n",
      "Mean path length:                         414.0786749482402\n",
      "\n",
      "********** Iteration 14 ************\n",
      "Rollout\n",
      "Made rollout\n",
      "Total number of episodes:                 6115\n",
      "Average sum of rewards per episode:       -124.26123481319368\n",
      "Std of rewards per episode:               27.5329294609222\n",
      "Time elapsed:                             39.72 mins\n",
      "KL between old and new distribution:      0.009980154\n",
      "Entropy:                                  2.8664494\n",
      "Surrogate loss:                           17.811077\n",
      "Total paths:                              494\n",
      "Mean path length:                         404.8582995951417\n",
      "\n",
      "********** Iteration 15 ************\n",
      "Rollout\n",
      "Made rollout\n",
      "Total number of episodes:                 6640\n",
      "Average sum of rewards per episode:       -126.80133065286597\n",
      "Std of rewards per episode:               32.98158727553952\n",
      "Time elapsed:                             42.62 mins\n",
      "KL between old and new distribution:      0.00998801\n",
      "Entropy:                                  2.9695373\n",
      "Surrogate loss:                           19.602938\n",
      "Total paths:                              525\n",
      "Mean path length:                         380.95238095238096\n",
      "\n",
      "********** Iteration 16 ************\n",
      "Rollout\n",
      "Made rollout\n",
      "Total number of episodes:                 7100\n",
      "Average sum of rewards per episode:       -129.70922369004896\n",
      "Std of rewards per episode:               33.11743615920938\n",
      "Time elapsed:                             45.52 mins\n",
      "KL between old and new distribution:      0.009980266\n",
      "Entropy:                                  3.0725098\n",
      "Surrogate loss:                           18.260963\n",
      "Total paths:                              460\n",
      "Mean path length:                         434.7826086956522\n",
      "\n",
      "********** Iteration 17 ************\n",
      "Rollout\n"
     ]
    },
    {
     "name": "stdout",
     "output_type": "stream",
     "text": [
      "Made rollout\n",
      "Total number of episodes:                 7590\n",
      "Average sum of rewards per episode:       -128.9261108339394\n",
      "Std of rewards per episode:               33.60387365921446\n",
      "Time elapsed:                             48.43 mins\n",
      "KL between old and new distribution:      0.00998804\n",
      "Entropy:                                  3.1760716\n",
      "Surrogate loss:                           19.228624\n",
      "Total paths:                              490\n",
      "Mean path length:                         408.16326530612247\n",
      "\n",
      "********** Iteration 18 ************\n",
      "Rollout\n",
      "Made rollout\n",
      "Total number of episodes:                 8134\n",
      "Average sum of rewards per episode:       -126.55645974489974\n",
      "Std of rewards per episode:               32.475682789243194\n",
      "Time elapsed:                             51.34 mins\n",
      "KL between old and new distribution:      0.009991265\n",
      "Entropy:                                  3.2790775\n",
      "Surrogate loss:                           20.397852\n",
      "Total paths:                              544\n",
      "Mean path length:                         367.6470588235294\n",
      "\n",
      "********** Iteration 19 ************\n",
      "Rollout\n",
      "Made rollout\n",
      "Total number of episodes:                 8587\n",
      "Average sum of rewards per episode:       -132.1510162382029\n",
      "Std of rewards per episode:               37.12711594991107\n",
      "Time elapsed:                             54.28 mins\n",
      "KL between old and new distribution:      0.0099891\n",
      "Entropy:                                  3.3828194\n",
      "Surrogate loss:                           18.687542\n",
      "Total paths:                              453\n",
      "Mean path length:                         441.5011037527594\n",
      "\n",
      "********** Iteration 20 ************\n",
      "Rollout\n",
      "Made rollout\n",
      "Total number of episodes:                 9116\n",
      "Average sum of rewards per episode:       -128.2694278853484\n",
      "Std of rewards per episode:               34.261534388629364\n",
      "Time elapsed:                             57.21 mins\n",
      "KL between old and new distribution:      0.009974741\n",
      "Entropy:                                  3.4859276\n",
      "Surrogate loss:                           20.60985\n",
      "Total paths:                              529\n",
      "Mean path length:                         378.0718336483932\n",
      "\n",
      "********** Iteration 21 ************\n",
      "Rollout\n",
      "Made rollout\n",
      "Total number of episodes:                 9699\n",
      "Average sum of rewards per episode:       -126.1117854343669\n",
      "Std of rewards per episode:               34.337971701479184\n",
      "Time elapsed:                             60.12 mins\n",
      "KL between old and new distribution:      0.009988451\n",
      "Entropy:                                  3.5902061\n",
      "Surrogate loss:                           21.680603\n",
      "Total paths:                              583\n",
      "Mean path length:                         343.0531732418525\n",
      "\n",
      "********** Iteration 22 ************\n",
      "Rollout\n",
      "Made rollout\n",
      "Total number of episodes:                 10177\n",
      "Average sum of rewards per episode:       -130.88133771233916\n",
      "Std of rewards per episode:               36.67961248654618\n",
      "Time elapsed:                             63.05 mins\n",
      "KL between old and new distribution:      0.009972413\n",
      "Entropy:                                  3.6927407\n",
      "Surrogate loss:                           19.831804\n",
      "Total paths:                              478\n",
      "Mean path length:                         418.41004184100416\n",
      "\n",
      "********** Iteration 23 ************\n",
      "Rollout\n",
      "Made rollout\n",
      "Total number of episodes:                 10635\n",
      "Average sum of rewards per episode:       -131.49549490198228\n",
      "Std of rewards per episode:               35.406758951753325\n",
      "Time elapsed:                             65.95 mins\n",
      "KL between old and new distribution:      0.009987574\n",
      "Entropy:                                  3.7962332\n",
      "Surrogate loss:                           19.14093\n",
      "Total paths:                              458\n",
      "Mean path length:                         436.68122270742356\n",
      "\n",
      "********** Iteration 24 ************\n",
      "Rollout\n",
      "Made rollout\n",
      "Total number of episodes:                 11186\n",
      "Average sum of rewards per episode:       -128.4663216519754\n",
      "Std of rewards per episode:               35.03647697154724\n",
      "Time elapsed:                             68.86 mins\n",
      "KL between old and new distribution:      0.009982283\n",
      "Entropy:                                  3.8997018\n",
      "Surrogate loss:                           21.638386\n",
      "Total paths:                              551\n",
      "Mean path length:                         362.9764065335753\n",
      "\n",
      "********** Iteration 25 ************\n",
      "Rollout\n",
      "Made rollout\n",
      "Total number of episodes:                 11782\n",
      "Average sum of rewards per episode:       -126.18544914716733\n",
      "Std of rewards per episode:               31.867692085861407\n",
      "Time elapsed:                             71.81 mins\n",
      "KL between old and new distribution:      0.009994787\n",
      "Entropy:                                  4.002446\n",
      "Surrogate loss:                           22.482016\n",
      "Total paths:                              596\n",
      "Mean path length:                         335.5704697986577\n",
      "\n",
      "********** Iteration 26 ************\n",
      "Rollout\n",
      "Made rollout\n",
      "Total number of episodes:                 12360\n",
      "Average sum of rewards per episode:       -128.61954955477393\n",
      "Std of rewards per episode:               36.401059443287046\n",
      "Time elapsed:                             74.75 mins\n",
      "KL between old and new distribution:      0.009985524\n",
      "Entropy:                                  4.1049943\n",
      "Surrogate loss:                           22.539457\n",
      "Total paths:                              578\n",
      "Mean path length:                         346.02076124567475\n",
      "\n",
      "********** Iteration 27 ************\n",
      "Rollout\n",
      "Made rollout\n",
      "Total number of episodes:                 12886\n",
      "Average sum of rewards per episode:       -132.33192702305766\n",
      "Std of rewards per episode:               41.28334377130993\n",
      "Time elapsed:                             77.68 mins\n",
      "KL between old and new distribution:      0.009979066\n",
      "Entropy:                                  4.209016\n",
      "Surrogate loss:                           21.998737\n",
      "Total paths:                              526\n",
      "Mean path length:                         380.22813688212926\n",
      "\n",
      "********** Iteration 28 ************\n",
      "Rollout\n",
      "Made rollout\n",
      "Total number of episodes:                 13399\n",
      "Average sum of rewards per episode:       -131.5851411692831\n",
      "Std of rewards per episode:               40.249390493356834\n",
      "Time elapsed:                             80.59 mins\n",
      "KL between old and new distribution:      0.009985503\n",
      "Entropy:                                  4.312387\n",
      "Surrogate loss:                           21.53881\n",
      "Total paths:                              513\n",
      "Mean path length:                         389.8635477582846\n",
      "\n",
      "********** Iteration 29 ************\n",
      "Rollout\n",
      "Made rollout\n",
      "Total number of episodes:                 13962\n",
      "Average sum of rewards per episode:       -129.6477437363591\n",
      "Std of rewards per episode:               37.9408169205973\n",
      "Time elapsed:                             83.50 mins\n",
      "KL between old and new distribution:      0.009978092\n",
      "Entropy:                                  4.4150014\n",
      "Surrogate loss:                           22.59666\n",
      "Total paths:                              563\n",
      "Mean path length:                         355.23978685612786\n",
      "\n",
      "********** Iteration 30 ************\n",
      "Rollout\n",
      "Made rollout\n",
      "Total number of episodes:                 14540\n",
      "Average sum of rewards per episode:       -129.86232005882056\n",
      "Std of rewards per episode:               38.15521960957092\n",
      "Time elapsed:                             86.40 mins\n",
      "KL between old and new distribution:      0.009978197\n",
      "Entropy:                                  4.5185575\n",
      "Surrogate loss:                           23.476372\n",
      "Total paths:                              578\n",
      "Mean path length:                         346.02076124567475\n",
      "\n",
      "********** Iteration 31 ************\n",
      "Rollout\n",
      "Made rollout\n",
      "Total number of episodes:                 15091\n",
      "Average sum of rewards per episode:       -133.2353440229474\n",
      "Std of rewards per episode:               42.52182005558825\n",
      "Time elapsed:                             89.32 mins\n",
      "KL between old and new distribution:      0.009985087\n",
      "Entropy:                                  4.6211376\n",
      "Surrogate loss:                           23.50876\n",
      "Total paths:                              551\n",
      "Mean path length:                         362.9764065335753\n",
      "\n",
      "********** Iteration 32 ************\n",
      "Rollout\n",
      "Made rollout\n",
      "Total number of episodes:                 15688\n",
      "Average sum of rewards per episode:       -128.79349890663588\n",
      "Std of rewards per episode:               37.65874314422541\n",
      "Time elapsed:                             92.23 mins\n",
      "KL between old and new distribution:      0.00997523\n",
      "Entropy:                                  4.7244887\n",
      "Surrogate loss:                           23.781675\n",
      "Total paths:                              597\n",
      "Mean path length:                         335.00837520938023\n",
      "\n",
      "********** Iteration 33 ************\n",
      "Rollout\n"
     ]
    },
    {
     "name": "stdout",
     "output_type": "stream",
     "text": [
      "Made rollout\n",
      "Total number of episodes:                 16353\n",
      "Average sum of rewards per episode:       -127.20867113964808\n",
      "Std of rewards per episode:               35.403716032464565\n",
      "Time elapsed:                             95.15 mins\n",
      "KL between old and new distribution:      0.009989176\n",
      "Entropy:                                  4.827463\n",
      "Surrogate loss:                           25.292078\n",
      "Total paths:                              665\n",
      "Mean path length:                         300.7518796992481\n",
      "\n",
      "********** Iteration 34 ************\n",
      "Rollout\n",
      "Made rollout\n",
      "Total number of episodes:                 16932\n",
      "Average sum of rewards per episode:       -129.0524312812069\n",
      "Std of rewards per episode:               35.36287068180176\n",
      "Time elapsed:                             98.09 mins\n",
      "KL between old and new distribution:      0.009998723\n",
      "Entropy:                                  4.9282174\n",
      "Surrogate loss:                           23.083885\n",
      "Total paths:                              579\n",
      "Mean path length:                         345.4231433506045\n",
      "\n",
      "********** Iteration 35 ************\n",
      "Rollout\n",
      "Made rollout\n",
      "Total number of episodes:                 17608\n",
      "Average sum of rewards per episode:       -127.17265765466178\n",
      "Std of rewards per episode:               35.51735679477209\n",
      "Time elapsed:                             101.00 mins\n",
      "KL between old and new distribution:      0.009975851\n",
      "Entropy:                                  5.028261\n",
      "Surrogate loss:                           25.724167\n",
      "Total paths:                              676\n",
      "Mean path length:                         295.85798816568047\n",
      "\n",
      "********** Iteration 36 ************\n",
      "Rollout\n",
      "Made rollout\n",
      "Total number of episodes:                 18215\n",
      "Average sum of rewards per episode:       -128.59244367427854\n",
      "Std of rewards per episode:               36.07816498774954\n",
      "Time elapsed:                             103.94 mins\n",
      "KL between old and new distribution:      0.009986997\n",
      "Entropy:                                  5.1285515\n",
      "Surrogate loss:                           24.085085\n",
      "Total paths:                              607\n",
      "Mean path length:                         329.48929159802304\n",
      "\n",
      "********** Iteration 37 ************\n",
      "Rollout\n",
      "Made rollout\n",
      "Total number of episodes:                 18851\n",
      "Average sum of rewards per episode:       -126.32902311669059\n",
      "Std of rewards per episode:               32.74345934242907\n",
      "Time elapsed:                             106.86 mins\n",
      "KL between old and new distribution:      0.009974617\n",
      "Entropy:                                  5.227789\n",
      "Surrogate loss:                           24.478346\n",
      "Total paths:                              636\n",
      "Mean path length:                         314.4654088050315\n",
      "\n",
      "********** Iteration 38 ************\n",
      "Rollout\n",
      "Made rollout\n",
      "Total number of episodes:                 19480\n",
      "Average sum of rewards per episode:       -128.24012722251135\n",
      "Std of rewards per episode:               37.336348251599276\n",
      "Time elapsed:                             109.76 mins\n",
      "KL between old and new distribution:      0.009976389\n",
      "Entropy:                                  5.3305473\n",
      "Surrogate loss:                           24.584755\n",
      "Total paths:                              629\n",
      "Mean path length:                         317.9650238473768\n",
      "\n",
      "********** Iteration 39 ************\n",
      "Rollout\n",
      "Made rollout\n",
      "Total number of episodes:                 20077\n",
      "Average sum of rewards per episode:       -129.33227837967436\n",
      "Std of rewards per episode:               36.242565515525214\n",
      "Time elapsed:                             112.68 mins\n",
      "KL between old and new distribution:      0.009997091\n",
      "Entropy:                                  5.432988\n",
      "Surrogate loss:                           24.04486\n",
      "Total paths:                              597\n",
      "Mean path length:                         335.00837520938023\n",
      "\n",
      "********** Iteration 40 ************\n",
      "Rollout\n",
      "Made rollout\n",
      "Total number of episodes:                 20633\n",
      "Average sum of rewards per episode:       -130.9386322805381\n",
      "Std of rewards per episode:               38.46876050740467\n",
      "Time elapsed:                             115.59 mins\n",
      "KL between old and new distribution:      0.009994066\n",
      "Entropy:                                  5.532211\n",
      "Surrogate loss:                           23.08302\n",
      "Total paths:                              556\n",
      "Mean path length:                         359.71223021582733\n",
      "\n",
      "********** Iteration 41 ************\n",
      "Rollout\n",
      "Made rollout\n",
      "Total number of episodes:                 21239\n",
      "Average sum of rewards per episode:       -128.8648668779437\n",
      "Std of rewards per episode:               36.65120047977917\n",
      "Time elapsed:                             118.50 mins\n",
      "KL between old and new distribution:      0.0099762\n",
      "Entropy:                                  5.6316624\n",
      "Surrogate loss:                           24.078905\n",
      "Total paths:                              606\n",
      "Mean path length:                         330.03300330033005\n",
      "\n",
      "********** Iteration 42 ************\n",
      "Rollout\n",
      "Made rollout\n",
      "Total number of episodes:                 21791\n",
      "Average sum of rewards per episode:       -130.79324801320425\n",
      "Std of rewards per episode:               36.3046918405853\n",
      "Time elapsed:                             121.44 mins\n",
      "KL between old and new distribution:      0.009975293\n",
      "Entropy:                                  5.733752\n",
      "Surrogate loss:                           22.794325\n",
      "Total paths:                              552\n",
      "Mean path length:                         362.3188405797101\n",
      "\n",
      "********** Iteration 43 ************\n",
      "Rollout\n"
     ]
    },
    {
     "ename": "KeyboardInterrupt",
     "evalue": "",
     "output_type": "error",
     "traceback": [
      "\u001b[0;31m---------------------------------------------------------------------------\u001b[0m",
      "\u001b[0;31mKeyboardInterrupt\u001b[0m                         Traceback (most recent call last)",
      "\u001b[0;32m<ipython-input-27-4cee878df0bc>\u001b[0m in \u001b[0;36m<module>\u001b[0;34m\u001b[0m\n\u001b[1;32m      6\u001b[0m     \u001b[0;31m# Generating paths.\u001b[0m\u001b[0;34m\u001b[0m\u001b[0;34m\u001b[0m\u001b[0;34m\u001b[0m\u001b[0m\n\u001b[1;32m      7\u001b[0m     \u001b[0mprint\u001b[0m\u001b[0;34m(\u001b[0m\u001b[0;34m\"Rollout\"\u001b[0m\u001b[0;34m)\u001b[0m\u001b[0;34m\u001b[0m\u001b[0;34m\u001b[0m\u001b[0m\n\u001b[0;32m----> 8\u001b[0;31m     \u001b[0mpaths\u001b[0m \u001b[0;34m=\u001b[0m \u001b[0mrollout\u001b[0m\u001b[0;34m(\u001b[0m\u001b[0menv\u001b[0m\u001b[0;34m,\u001b[0m \u001b[0magent\u001b[0m\u001b[0;34m,\u001b[0m \u001b[0mmax_pathlength\u001b[0m\u001b[0;34m=\u001b[0m\u001b[0mrollout_max_pathlength\u001b[0m\u001b[0;34m,\u001b[0m \u001b[0mn_timesteps\u001b[0m\u001b[0;34m=\u001b[0m\u001b[0mrollout_n_timesteps\u001b[0m\u001b[0;34m)\u001b[0m\u001b[0;34m\u001b[0m\u001b[0;34m\u001b[0m\u001b[0m\n\u001b[0m\u001b[1;32m      9\u001b[0m     \u001b[0mprint\u001b[0m\u001b[0;34m(\u001b[0m\u001b[0;34m\"Made rollout\"\u001b[0m\u001b[0;34m)\u001b[0m\u001b[0;34m\u001b[0m\u001b[0;34m\u001b[0m\u001b[0m\n\u001b[1;32m     10\u001b[0m \u001b[0;34m\u001b[0m\u001b[0m\n",
      "\u001b[0;32m<ipython-input-12-fcdbf081fbb5>\u001b[0m in \u001b[0;36mrollout\u001b[0;34m(env, agent, max_pathlength, n_timesteps)\u001b[0m\n\u001b[1;32m     14\u001b[0m         \u001b[0mobervation\u001b[0m \u001b[0;34m=\u001b[0m \u001b[0menv\u001b[0m\u001b[0;34m.\u001b[0m\u001b[0mreset\u001b[0m\u001b[0;34m(\u001b[0m\u001b[0;34m)\u001b[0m\u001b[0;34m\u001b[0m\u001b[0;34m\u001b[0m\u001b[0m\n\u001b[1;32m     15\u001b[0m         \u001b[0;32mfor\u001b[0m \u001b[0m_\u001b[0m \u001b[0;32min\u001b[0m \u001b[0mrange\u001b[0m\u001b[0;34m(\u001b[0m\u001b[0mmax_pathlength\u001b[0m\u001b[0;34m)\u001b[0m\u001b[0;34m:\u001b[0m\u001b[0;34m\u001b[0m\u001b[0;34m\u001b[0m\u001b[0m\n\u001b[0;32m---> 16\u001b[0;31m             \u001b[0maction\u001b[0m\u001b[0;34m,\u001b[0m \u001b[0mprob_dist\u001b[0m \u001b[0;34m=\u001b[0m \u001b[0magent\u001b[0m\u001b[0;34m.\u001b[0m\u001b[0mact\u001b[0m\u001b[0;34m(\u001b[0m\u001b[0mobervation\u001b[0m\u001b[0;34m)\u001b[0m\u001b[0;34m\u001b[0m\u001b[0;34m\u001b[0m\u001b[0m\n\u001b[0m\u001b[1;32m     17\u001b[0m             \u001b[0mobervations\u001b[0m\u001b[0;34m.\u001b[0m\u001b[0mappend\u001b[0m\u001b[0;34m(\u001b[0m\u001b[0mobervation\u001b[0m\u001b[0;34m)\u001b[0m\u001b[0;34m\u001b[0m\u001b[0;34m\u001b[0m\u001b[0m\n\u001b[1;32m     18\u001b[0m             \u001b[0mactions\u001b[0m\u001b[0;34m.\u001b[0m\u001b[0mappend\u001b[0m\u001b[0;34m(\u001b[0m\u001b[0maction\u001b[0m\u001b[0;34m)\u001b[0m\u001b[0;34m\u001b[0m\u001b[0;34m\u001b[0m\u001b[0m\n",
      "\u001b[0;32m<ipython-input-5-e274b1ca49d3>\u001b[0m in \u001b[0;36mact\u001b[0;34m(self, obs)\u001b[0m\n\u001b[1;32m     52\u001b[0m \u001b[0;34m\u001b[0m\u001b[0m\n\u001b[1;32m     53\u001b[0m         \u001b[0;32mwith\u001b[0m \u001b[0mtorch\u001b[0m\u001b[0;34m.\u001b[0m\u001b[0mno_grad\u001b[0m\u001b[0;34m(\u001b[0m\u001b[0;34m)\u001b[0m\u001b[0;34m:\u001b[0m\u001b[0;34m\u001b[0m\u001b[0;34m\u001b[0m\u001b[0m\n\u001b[0;32m---> 54\u001b[0;31m             \u001b[0mdist\u001b[0m \u001b[0;34m=\u001b[0m \u001b[0mself\u001b[0m\u001b[0;34m.\u001b[0m\u001b[0mget_prob_dist\u001b[0m\u001b[0;34m(\u001b[0m\u001b[0mobs\u001b[0m\u001b[0;34m)\u001b[0m\u001b[0;34m\u001b[0m\u001b[0;34m\u001b[0m\u001b[0m\n\u001b[0m\u001b[1;32m     55\u001b[0m \u001b[0;34m\u001b[0m\u001b[0m\n\u001b[1;32m     56\u001b[0m         \u001b[0maction\u001b[0m \u001b[0;34m=\u001b[0m \u001b[0mdist\u001b[0m\u001b[0;34m.\u001b[0m\u001b[0msample\u001b[0m\u001b[0;34m(\u001b[0m\u001b[0;34m)\u001b[0m\u001b[0;34m.\u001b[0m\u001b[0mnumpy\u001b[0m\u001b[0;34m(\u001b[0m\u001b[0;34m)\u001b[0m\u001b[0;34m\u001b[0m\u001b[0;34m\u001b[0m\u001b[0m\n",
      "\u001b[0;32m<ipython-input-5-e274b1ca49d3>\u001b[0m in \u001b[0;36mget_prob_dist\u001b[0;34m(self, obs)\u001b[0m\n\u001b[1;32m     40\u001b[0m         \"\"\"\n\u001b[1;32m     41\u001b[0m \u001b[0;34m\u001b[0m\u001b[0m\n\u001b[0;32m---> 42\u001b[0;31m         \u001b[0mmu\u001b[0m\u001b[0;34m,\u001b[0m \u001b[0mstd\u001b[0m \u001b[0;34m=\u001b[0m \u001b[0mself\u001b[0m\u001b[0;34m.\u001b[0m\u001b[0mforward\u001b[0m\u001b[0;34m(\u001b[0m\u001b[0mVariable\u001b[0m\u001b[0;34m(\u001b[0m\u001b[0mtorch\u001b[0m\u001b[0;34m.\u001b[0m\u001b[0mFloatTensor\u001b[0m\u001b[0;34m(\u001b[0m\u001b[0mobs\u001b[0m\u001b[0;34m)\u001b[0m\u001b[0;34m)\u001b[0m\u001b[0;34m)\u001b[0m\u001b[0;34m\u001b[0m\u001b[0;34m\u001b[0m\u001b[0m\n\u001b[0m\u001b[1;32m     43\u001b[0m         \u001b[0mdist\u001b[0m \u001b[0;34m=\u001b[0m \u001b[0mNormal\u001b[0m\u001b[0;34m(\u001b[0m\u001b[0mmu\u001b[0m\u001b[0;34m,\u001b[0m \u001b[0mstd\u001b[0m\u001b[0;34m)\u001b[0m\u001b[0;34m\u001b[0m\u001b[0;34m\u001b[0m\u001b[0m\n\u001b[1;32m     44\u001b[0m         \u001b[0;32mreturn\u001b[0m \u001b[0mdist\u001b[0m\u001b[0;34m\u001b[0m\u001b[0;34m\u001b[0m\u001b[0m\n",
      "\u001b[0;32m<ipython-input-5-e274b1ca49d3>\u001b[0m in \u001b[0;36mforward\u001b[0;34m(self, states)\u001b[0m\n\u001b[1;32m     27\u001b[0m         \u001b[0;34m:\u001b[0m\u001b[0mparam\u001b[0m \u001b[0mstates\u001b[0m\u001b[0;34m:\u001b[0m \u001b[0ma\u001b[0m \u001b[0mbatch\u001b[0m \u001b[0mof\u001b[0m \u001b[0mstates\u001b[0m\u001b[0;34m,\u001b[0m \u001b[0mshape\u001b[0m \u001b[0;34m=\u001b[0m \u001b[0;34m[\u001b[0m\u001b[0mbatch_size\u001b[0m\u001b[0;34m,\u001b[0m \u001b[0mstate_shape\u001b[0m\u001b[0;34m]\u001b[0m\u001b[0;34m\u001b[0m\u001b[0;34m\u001b[0m\u001b[0m\n\u001b[1;32m     28\u001b[0m         \"\"\"\n\u001b[0;32m---> 29\u001b[0;31m         \u001b[0mhidden_state\u001b[0m \u001b[0;34m=\u001b[0m \u001b[0mself\u001b[0m\u001b[0;34m.\u001b[0m\u001b[0mbody\u001b[0m\u001b[0;34m(\u001b[0m\u001b[0mstates\u001b[0m\u001b[0;34m)\u001b[0m\u001b[0;34m\u001b[0m\u001b[0;34m\u001b[0m\u001b[0m\n\u001b[0m\u001b[1;32m     30\u001b[0m \u001b[0;34m\u001b[0m\u001b[0m\n\u001b[1;32m     31\u001b[0m         \u001b[0mmu\u001b[0m \u001b[0;34m=\u001b[0m \u001b[0mself\u001b[0m\u001b[0;34m.\u001b[0m\u001b[0mmu_head\u001b[0m\u001b[0;34m(\u001b[0m\u001b[0mhidden_state\u001b[0m\u001b[0;34m)\u001b[0m\u001b[0;34m\u001b[0m\u001b[0;34m\u001b[0m\u001b[0m\n",
      "\u001b[0;32m~/opt/anaconda3/lib/python3.6/site-packages/torch/nn/modules/module.py\u001b[0m in \u001b[0;36m__getattr__\u001b[0;34m(self, name)\u001b[0m\n\u001b[1;32m    561\u001b[0m \u001b[0;34m\u001b[0m\u001b[0m\n\u001b[1;32m    562\u001b[0m     \u001b[0;32mdef\u001b[0m \u001b[0m__getattr__\u001b[0m\u001b[0;34m(\u001b[0m\u001b[0mself\u001b[0m\u001b[0;34m,\u001b[0m \u001b[0mname\u001b[0m\u001b[0;34m)\u001b[0m\u001b[0;34m:\u001b[0m\u001b[0;34m\u001b[0m\u001b[0;34m\u001b[0m\u001b[0m\n\u001b[0;32m--> 563\u001b[0;31m         \u001b[0;32mif\u001b[0m \u001b[0;34m'_parameters'\u001b[0m \u001b[0;32min\u001b[0m \u001b[0mself\u001b[0m\u001b[0;34m.\u001b[0m\u001b[0m__dict__\u001b[0m\u001b[0;34m:\u001b[0m\u001b[0;34m\u001b[0m\u001b[0;34m\u001b[0m\u001b[0m\n\u001b[0m\u001b[1;32m    564\u001b[0m             \u001b[0m_parameters\u001b[0m \u001b[0;34m=\u001b[0m \u001b[0mself\u001b[0m\u001b[0;34m.\u001b[0m\u001b[0m__dict__\u001b[0m\u001b[0;34m[\u001b[0m\u001b[0;34m'_parameters'\u001b[0m\u001b[0;34m]\u001b[0m\u001b[0;34m\u001b[0m\u001b[0;34m\u001b[0m\u001b[0m\n\u001b[1;32m    565\u001b[0m             \u001b[0;32mif\u001b[0m \u001b[0mname\u001b[0m \u001b[0;32min\u001b[0m \u001b[0m_parameters\u001b[0m\u001b[0;34m:\u001b[0m\u001b[0;34m\u001b[0m\u001b[0;34m\u001b[0m\u001b[0m\n",
      "\u001b[0;31mKeyboardInterrupt\u001b[0m: "
     ]
    }
   ],
   "source": [
    "start_time = time.time()\n",
    "\n",
    "for i in count(1):\n",
    "    print(\"\\n********** Iteration %i ************\" % i)\n",
    "\n",
    "    # Generating paths.\n",
    "    print(\"Rollout\")\n",
    "    paths = rollout(env, agent, max_pathlength=rollout_max_pathlength, n_timesteps=rollout_n_timesteps)\n",
    "    print(\"Made rollout\")\n",
    "\n",
    "    # Updating policy.\n",
    "    observations = np.concatenate([path[\"observations\"] for path in paths])\n",
    "    actions = np.concatenate([path[\"actions\"] for path in paths])\n",
    "    returns = np.concatenate([path[\"cumulative_returns\"] for path in paths])\n",
    "    old_prob_dist = cat_normal([path[\"policy\"] for path in paths])\n",
    "\n",
    "    loss, kl = update_step(agent, observations, actions,\n",
    "                           returns, old_prob_dist, max_kl)\n",
    "\n",
    "    # Report current progress\n",
    "    episode_rewards = np.array([path[\"rewards\"].sum() for path in paths])\n",
    "\n",
    "    stats = OrderedDict()\n",
    "    numeptotal += len(episode_rewards)\n",
    "    stats[\"Total number of episodes\"] = numeptotal\n",
    "    stats[\"Average sum of rewards per episode\"] = episode_rewards.mean()\n",
    "    stats[\"Std of rewards per episode\"] = episode_rewards.std()\n",
    "    stats[\"Time elapsed\"] = \"%.2f mins\" % ((time.time() - start_time)/60.)\n",
    "    stats[\"KL between old and new distribution\"] = kl.data.numpy()\n",
    "    stats[\"Entropy\"] = get_entropy(agent, observations).data.numpy()\n",
    "    stats[\"Surrogate loss\"] = loss.data.numpy()\n",
    "    stats[\"Total paths\"] = len(paths)\n",
    "    stats[\"Mean path length\"] = float(np.mean([paths[i]['observations'].shape[0] for i in range(len(paths))]))\n",
    "    for k, v in stats.items():\n",
    "        print(k + \": \" + \" \" * (40 - len(k)) + str(v))\n",
    "    i += 1"
   ]
  },
  {
   "cell_type": "code",
   "execution_count": null,
   "metadata": {},
   "outputs": [],
   "source": []
  }
 ],
 "metadata": {
  "kernelspec": {
   "display_name": "Python 3",
   "language": "python",
   "name": "python3"
  },
  "language_info": {
   "codemirror_mode": {
    "name": "ipython",
    "version": 3
   },
   "file_extension": ".py",
   "mimetype": "text/x-python",
   "name": "python",
   "nbconvert_exporter": "python",
   "pygments_lexer": "ipython3",
   "version": "3.6.10"
  }
 },
 "nbformat": 4,
 "nbformat_minor": 2
}
