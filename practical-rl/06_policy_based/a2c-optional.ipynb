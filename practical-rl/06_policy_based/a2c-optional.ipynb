{
  "nbformat": 4,
  "nbformat_minor": 0,
  "metadata": {
    "accelerator": "GPU",
    "colab": {
      "name": "a2c-optional.ipynb",
      "provenance": []
    },
    "kernelspec": {
      "display_name": "Python 3",
      "language": "python",
      "name": "python3"
    },
    "language_info": {
      "codemirror_mode": {
        "name": "ipython",
        "version": 3
      },
      "file_extension": ".py",
      "mimetype": "text/x-python",
      "name": "python",
      "nbconvert_exporter": "python",
      "pygments_lexer": "ipython3",
      "version": "3.6.9"
    }
  },
  "cells": [
    {
      "cell_type": "code",
      "metadata": {
        "colab_type": "code",
        "id": "Ymp_uxMWvbEH",
        "colab": {
          "base_uri": "https://localhost:8080/",
          "height": 179
        },
        "outputId": "716dd2d7-8706-4b4f-f1d3-a1a58fff6ddc"
      },
      "source": [
        "try:\n",
        "    import google.colab\n",
        "    USE_COLAB = True\n",
        "except:\n",
        "    USE_COLAB = False\n",
        "\n",
        "RUN_TESTS = True\n",
        "\n",
        "if USE_COLAB:\n",
        "    print(\"Don't forget to avoid disconnections:\")\n",
        "    print(\"\"\"\n",
        "    function ClickConnect(){\n",
        "        console.log(\"Clicking\"); \n",
        "        document.querySelector(\"colab-connect-button\").click() \n",
        "    }\n",
        "    setInterval(ClickConnect,60000)\n",
        "    \n",
        "    \"\"\")"
      ],
      "execution_count": 1,
      "outputs": [
        {
          "output_type": "stream",
          "text": [
            "Don't forget to avoid disconnections:\n",
            "\n",
            "    function ClickConnect(){\n",
            "        console.log(\"Clicking\"); \n",
            "        document.querySelector(\"colab-connect-button\").click() \n",
            "    }\n",
            "    setInterval(ClickConnect,60000)\n",
            "    \n",
            "    \n"
          ],
          "name": "stdout"
        }
      ]
    },
    {
      "cell_type": "code",
      "metadata": {
        "colab_type": "code",
        "id": "5PtvD0sJipzt",
        "outputId": "b3d45164-8649-4d3e-b3b8-adde93199a7a",
        "colab": {
          "base_uri": "https://localhost:8080/",
          "height": 35
        }
      },
      "source": [
        "# in google colab uncomment this\n",
        "if USE_COLAB:\n",
        "    import os\n",
        "\n",
        "    os.system('apt-get install -y xvfb')\n",
        "    os.system('wget https://raw.githubusercontent.com/yandexdataschool/Practical_DL/fall18/xvfb -O ../xvfb')\n",
        "\n",
        "    file_format = 'https://raw.githubusercontent.com/yandexdataschool/Practical_RL/spring20/week06_policy_based/{file} -O {file}'\n",
        "\n",
        "    os.system('wget ' + file_format.format(file='atari_wrappers.py'))\n",
        "    os.system('wget ' + file_format.format(file='env_batch.py'))\n",
        "    os.system('wget ' + file_format.format(file='runners.py'))\n",
        "\n",
        "    os.system('apt-get install -y python-opengl ffmpeg')\n",
        "    os.system('pip install pyglet==1.2.4')\n",
        "\n",
        "    os.system('python -m pip install -U pygame --user')\n",
        "\n",
        "    print('setup complete')\n",
        "\n",
        "    # # XVFB will be launched if you run on a server\n",
        "    # if type(os.environ.get(\"DISPLAY\")) is not str or len(os.environ.get(\"DISPLAY\")) == 0:\n",
        "    #     !bash ../xvfb start\n",
        "    #     os.environ['DISPLAY'] = ':1'"
      ],
      "execution_count": 2,
      "outputs": [
        {
          "output_type": "stream",
          "text": [
            "setup complete\n"
          ],
          "name": "stdout"
        }
      ]
    },
    {
      "cell_type": "markdown",
      "metadata": {
        "colab_type": "text",
        "id": "KbntG0hRipzy"
      },
      "source": [
        "# Implementing Advantage-Actor Critic (A2C)"
      ]
    },
    {
      "cell_type": "markdown",
      "metadata": {
        "colab_type": "text",
        "id": "sVcCkfNVipzz"
      },
      "source": [
        "In this notebook you will implement Advantage Actor Critic algorithm that trains on a batch of Atari 2600 environments running in parallel. \n",
        "\n",
        "Firstly, we will use environment wrappers implemented in file `atari_wrappers.py`. These wrappers preprocess observations (resize, grayscal, take max between frames, skip frames and stack them together) and rewards. Some of the wrappers help to reset the environment and pass `done` flag equal to `True` when agent dies.\n",
        "File `env_batch.py` includes implementation of `ParallelEnvBatch` class that allows to run multiple environments in parallel. To create an environment we can use `nature_dqn_env` function. Note that if you are using \n",
        "PyTorch and not using `tensorboardX` you will need to implement a wrapper that will log **raw** total rewards that the *unwrapped* environment returns and redefine the implemention of `nature_dqn_env` function here. \n",
        "\n"
      ]
    },
    {
      "cell_type": "code",
      "metadata": {
        "colab_type": "code",
        "id": "j2UWAJZEipzz",
        "outputId": "cd85085a-0720-47f5-f658-ad6e46b4af92",
        "colab": {
          "base_uri": "https://localhost:8080/",
          "height": 35
        }
      },
      "source": [
        "if USE_COLAB:\n",
        "    %tensorflow_version 1.x\n",
        "import numpy as np\n",
        "import math\n",
        "import torch\n",
        "import torch.nn as nn\n",
        "from atari_wrappers import nature_dqn_env\n",
        "from atari_wrappers import NumpySummaries\n",
        "import matplotlib.pyplot as plt\n",
        "from IPython.display import clear_output\n",
        "from tqdm import trange\n",
        "from pandas import DataFrame\n",
        "\n",
        "test_env = nature_dqn_env(\"SpaceInvadersNoFrameskip-v4\", nenvs=8, summaries='Numpy')\n",
        "test_obs = test_env.reset()\n",
        "assert test_obs.shape == (8, 84, 84, 4)\n",
        "assert test_obs.dtype == np.uint8"
      ],
      "execution_count": 3,
      "outputs": [
        {
          "output_type": "stream",
          "text": [
            "TensorFlow 1.x selected.\n"
          ],
          "name": "stdout"
        }
      ]
    },
    {
      "cell_type": "markdown",
      "metadata": {
        "colab_type": "text",
        "id": "2DQvP7HIipz2"
      },
      "source": [
        "Next, we will need to implement a model that predicts logits and values. It is suggested that you use the same model as in [Nature DQN paper](https://web.stanford.edu/class/psych209/Readings/MnihEtAlHassibis15NatureControlDeepRL.pdf) with a modification that instead of having a single output layer, it will have two output layers taking as input the output of the last hidden layer. **Note** that this model is different from the model you used in homework where you implemented DQN. You can use your favorite deep learning framework here. We suggest that you use orthogonal initialization with parameter $\\sqrt{2}$ for kernels and initialize biases with zeros. "
      ]
    },
    {
      "cell_type": "code",
      "metadata": {
        "colab_type": "code",
        "id": "6EvTnPMBipz3",
        "colab": {}
      },
      "source": [
        "def init_weights(m):\n",
        "    if type(m) in (nn.Linear, nn.Conv2d):\n",
        "        nn.init.orthogonal_(m.weight.data, math.sqrt(2.0))\n",
        "        if m.bias is not None:\n",
        "            m.bias.data.fill_(0)\n",
        "            \n",
        "def conv2d_size_out(size, kernel_size, stride):\n",
        "    \"\"\"\n",
        "    common use case:\n",
        "    cur_layer_img_w = conv2d_size_out(cur_layer_img_w, kernel_size, stride)\n",
        "    cur_layer_img_h = conv2d_size_out(cur_layer_img_h, kernel_size, stride)\n",
        "    to understand the shape for dense layer's input\n",
        "    \"\"\"\n",
        "    size = np.array(size)\n",
        "    return (size - (kernel_size - 1) - 1) // stride  + 1"
      ],
      "execution_count": 0,
      "outputs": []
    },
    {
      "cell_type": "code",
      "metadata": {
        "colab_type": "code",
        "id": "kc8hcu73ipz5",
        "colab": {}
      },
      "source": [
        "class Agent(nn.Module):\n",
        "    def __init__(self, state_shape, n_actions):\n",
        "        \"\"\"\n",
        "        An actor-critic agent\n",
        "        param: state_shape shape of a single test with shape [h, w, n_channels]\n",
        "        \"\"\"\n",
        "        super().__init__()\n",
        "        \n",
        "        self.n_actions = n_actions\n",
        "        n_features = 512\n",
        "        \n",
        "        self.body_network = self.get_body_network(state_shape, n_features).apply(init_weights)\n",
        "        self.v_head = nn.Linear(n_features, 1).apply(init_weights)\n",
        "        self.logits_head = nn.Linear(n_features, n_actions).apply(init_weights)\n",
        "        self.buffer = None\n",
        "\n",
        "    def set_buffer(self, buffer):\n",
        "        self.buffer = buffer\n",
        "\n",
        "    def get_buffer(self):\n",
        "        return self.buffer\n",
        "\n",
        "    def get_body_network(self, in_shape, out_features):\n",
        "        h, w, in_channels = in_shape\n",
        "        network = nn.Sequential()\n",
        "        \n",
        "        h, w = conv2d_size_out([h, w], 8, 4)\n",
        "        network.add_module('Conv1', nn.Conv2d(in_channels=in_channels, out_channels=32, kernel_size=8, stride=4))\n",
        "        network.add_module('Act1', nn.ReLU())\n",
        "\n",
        "        h, w = conv2d_size_out([h, w], 4, 2)\n",
        "        network.add_module('Conv2', nn.Conv2d(in_channels=32, out_channels=64, kernel_size=4, stride=2))\n",
        "        network.add_module('Act2', nn.ReLU())\n",
        "        \n",
        "        h, w = conv2d_size_out([h, w], 3, 1)\n",
        "        network.add_module('Conv3', nn.Conv2d(in_channels=64, out_channels=64, kernel_size=3, stride=1))\n",
        "        network.add_module('Act3', nn.ReLU())\n",
        "        network.add_module('flatten', nn.Flatten())\n",
        "        \n",
        "        network.add_module('FC1', nn.Linear(in_features=h * w * 64, out_features=out_features))\n",
        "        network.add_module('Act4', nn.ReLU())\n",
        "        return network\n",
        "\n",
        "    def forward(self, state):\n",
        "        \"\"\"\n",
        "        takes agent's observation, returns logits and state value\n",
        "        :param state: a batch of 4-frame buffers, shape = [batch_size, h, w, n_channels]\n",
        "        \"\"\"\n",
        "\n",
        "        state_t = state.permute(0, 3, 1, 2)\n",
        "        state_t = state_t.float() / 255.\n",
        "        state_t = self.body_network(state_t)\n",
        "        logits = self.logits_head(state_t)\n",
        "        state_value = self.v_head(state_t)\n",
        "        \n",
        "        return logits, state_value\n",
        "    \n",
        "    def get_actions(self, state):\n",
        "        logits, state_value = self.forward(state)\n",
        "        probas = nn.functional.softmax(logits).cpu().detach()\n",
        "        \n",
        "        return torch.multinomial(probas, num_samples=1), logits, state_value"
      ],
      "execution_count": 0,
      "outputs": []
    },
    {
      "cell_type": "markdown",
      "metadata": {
        "colab_type": "text",
        "id": "zsriF3anipz8"
      },
      "source": [
        "**Test**"
      ]
    },
    {
      "cell_type": "code",
      "metadata": {
        "colab_type": "code",
        "id": "Ll9rT8E7ipz8",
        "outputId": "839f65c7-f8a7-40fc-92bf-bfa1c965793a",
        "colab": {
          "base_uri": "https://localhost:8080/",
          "height": 35
        }
      },
      "source": [
        "if RUN_TESTS:\n",
        "    test_state = torch.ones((2, 64, 64, 4))\n",
        "    test_n_actions = 4\n",
        "    test_agent = Agent(test_state.shape[1:], test_n_actions)\n",
        "\n",
        "    test_logits, test_state_value = test_agent(test_state)\n",
        "\n",
        "    assert test_logits.shape == torch.Size((test_state.shape[0], test_n_actions))\n",
        "    assert test_state_value.shape == torch.Size((test_state.shape[0], 1))\n",
        "    print('Test passed')"
      ],
      "execution_count": 6,
      "outputs": [
        {
          "output_type": "stream",
          "text": [
            "Test passed\n"
          ],
          "name": "stdout"
        }
      ]
    },
    {
      "cell_type": "markdown",
      "metadata": {
        "colab_type": "text",
        "id": "48aX8g7vip0F"
      },
      "source": [
        "You will also need to define and use a policy that wraps the model. While the model computes logits for all actions, the policy will sample actions and also compute their log probabilities.  `policy.act` should return a dictionary of all the arrays that are needed to interact with an environment and train the model.\n",
        " Note that actions must be an `np.ndarray` while the other\n",
        "tensors need to have the type determined by your deep learning framework. "
      ]
    },
    {
      "cell_type": "code",
      "metadata": {
        "colab_type": "code",
        "id": "7cFEW9-Vip0F",
        "colab": {}
      },
      "source": [
        "class Policy:\n",
        "    def __init__(self, model, device=torch.device('cpu')):\n",
        "        self.model = model\n",
        "        self.device = device\n",
        "    \n",
        "    def act(self, inputs):\n",
        "        \"\"\"\n",
        "        Implementation of policy which calls model, samples actions and computes their log probs\n",
        "        :return dict containing keys ['actions', 'logits', 'log_probs', 'values'].\n",
        "        \"\"\"\n",
        "        \n",
        "        inputs = torch.FloatTensor(inputs).to(self.device)\n",
        "        logits, state_values = self.model.forward(inputs)\n",
        "\n",
        "        probas = nn.functional.softmax(logits, -1)\n",
        "        log_probs = nn.functional.log_softmax(logits, -1)\n",
        "        actions = torch.multinomial(probas, num_samples=1).cpu().detach().numpy().flatten()\n",
        "        return {\n",
        "            'actions': actions,\n",
        "            'logits': logits,\n",
        "            'probas': probas,\n",
        "            'full_log_probas': log_probs,\n",
        "            'log_probs': log_probs[np.arange(len(actions)), actions],\n",
        "            'values': state_values.view(-1)\n",
        "        }"
      ],
      "execution_count": 0,
      "outputs": []
    },
    {
      "cell_type": "markdown",
      "metadata": {
        "colab_type": "text",
        "id": "r4717OOnip0H"
      },
      "source": [
        "**Test**"
      ]
    },
    {
      "cell_type": "code",
      "metadata": {
        "colab_type": "code",
        "id": "dnMFrZC5ip0I",
        "outputId": "aa7b644d-809d-48b5-b63f-f581e54a5289",
        "colab": {
          "base_uri": "https://localhost:8080/",
          "height": 35
        }
      },
      "source": [
        "if RUN_TESTS:\n",
        "    test_state = np.ones((2, 64, 64, 4))\n",
        "    test_n_actions = 4\n",
        "    test_agent = Agent(test_state.shape[1:], test_n_actions)\n",
        "    test_policy = Policy(test_agent)\n",
        "\n",
        "    test_res_dict = test_policy.act(test_state)\n",
        "\n",
        "    assert all(nn.functional.log_softmax(test_res_dict['logits'], -1)[np.arange(2), test_res_dict['actions']] == test_res_dict['log_probs'])\n",
        "    print(\"Test passed\")"
      ],
      "execution_count": 8,
      "outputs": [
        {
          "output_type": "stream",
          "text": [
            "Test passed\n"
          ],
          "name": "stdout"
        }
      ]
    },
    {
      "cell_type": "markdown",
      "metadata": {
        "colab_type": "text",
        "id": "0nR5_R6_ip0K"
      },
      "source": [
        "Next will pass the environment and policy to a runner that collects partial trajectories from the environment. \n",
        "The class that does is is already implemented for you."
      ]
    },
    {
      "cell_type": "code",
      "metadata": {
        "colab_type": "code",
        "id": "JqluG0a7ip0L",
        "colab": {}
      },
      "source": [
        "from runners import EnvRunner"
      ],
      "execution_count": 0,
      "outputs": []
    },
    {
      "cell_type": "markdown",
      "metadata": {
        "colab_type": "text",
        "id": "nieN9dVUip0O"
      },
      "source": [
        "This runner interacts with the environment for a given number of steps and returns a dictionary containing\n",
        "keys \n",
        "\n",
        "* 'observations' \n",
        "* 'rewards' \n",
        "* 'resets'\n",
        "* 'actions'\n",
        "* all other keys that you defined in `Policy`\n",
        "\n",
        "under each of these keys there is a python `list` of interactions with the environment of specified length $T$ &mdash; the size of partial trajectory. "
      ]
    },
    {
      "cell_type": "markdown",
      "metadata": {
        "colab_type": "text",
        "id": "zlSXcGBlip0O"
      },
      "source": [
        "**Test** Runner"
      ]
    },
    {
      "cell_type": "code",
      "metadata": {
        "colab_type": "code",
        "id": "z_O6zdkuip0P",
        "colab": {
          "base_uri": "https://localhost:8080/",
          "height": 181
        },
        "outputId": "3febb609-e123-4814-cea8-eee09e99b6cf"
      },
      "source": [
        "if RUN_TESTS:\n",
        "    test_agent = Agent(test_obs.shape[1:], test_env.action_space.n)\n",
        "    test_trajectory = EnvRunner(test_env, Policy(test_agent), 3).get_next()\n",
        "    print(test_trajectory.keys())\n",
        "    print(test_trajectory['actions'])\n",
        "    print(test_trajectory['values'])\n",
        "    print(test_trajectory['rewards'])\n",
        "    print(test_trajectory['resets'])"
      ],
      "execution_count": 10,
      "outputs": [
        {
          "output_type": "stream",
          "text": [
            "dict_keys(['actions', 'logits', 'probas', 'full_log_probas', 'log_probs', 'values', 'observations', 'rewards', 'resets', 'state'])\n",
            "[array([4, 5, 0, 4, 4, 2, 2, 4]), array([1, 3, 0, 1, 4, 4, 2, 5]), array([3, 0, 1, 1, 3, 4, 3, 2])]\n",
            "[tensor([-0.2773, -0.2773, -0.2773, -0.2773, -0.2773, -0.2773, -0.2773, -0.2773],\n",
            "       grad_fn=<ViewBackward>), tensor([-0.2773, -0.2773, -0.2773, -0.2773, -0.2773, -0.2773, -0.2773, -0.2773],\n",
            "       grad_fn=<ViewBackward>), tensor([-0.2751, -0.2751, -0.2751, -0.2751, -0.2751, -0.2751, -0.2751, -0.2751],\n",
            "       grad_fn=<ViewBackward>)]\n",
            "[array([0., 0., 0., 0., 0., 0., 0., 0.]), array([0., 0., 0., 0., 0., 0., 0., 0.]), array([0., 0., 0., 0., 0., 0., 0., 0.])]\n",
            "[array([False, False, False, False, False, False, False, False]), array([False, False, False, False, False, False, False, False]), array([False, False, False, False, False, False, False, False])]\n"
          ],
          "name": "stdout"
        }
      ]
    },
    {
      "cell_type": "markdown",
      "metadata": {
        "colab_type": "text",
        "id": "ZjYVqIqCip0g"
      },
      "source": [
        "To train the part of the model that predicts state values you will need to compute the value targets. \n",
        "Any callable could be passed to `EnvRunner` to be applied to each partial trajectory after it is collected. \n",
        "Thus, we can implement and use `ComputeValueTargets` callable. \n",
        "The formula for the value targets is simple:\n",
        "\n",
        "$$\n",
        "\\hat v(s_t) = \\sum_{t'=t}^{T - 1}\\gamma^{t'-t}r_{t'}\\prod_{t''=t}^{t'} resets_{t''}{} + resets_{T-1}\\gamma^{T-1-t} \\hat{v}(s_{T-1}),\n",
        "$$\n",
        "\n",
        "In implementation, however, do not forget to use \n",
        "`trajectory['resets']` flags to check if you need to add the value targets at the next step when \n",
        "computing value targets for the current step. You can access `trajectory['state']['latest_observation']`\n",
        "to get last observations in partial trajectory &mdash; $s_{t+T}$."
      ]
    },
    {
      "cell_type": "markdown",
      "metadata": {
        "colab_type": "text",
        "id": "5BGvoBeaip0j"
      },
      "source": [
        "**Test**"
      ]
    },
    {
      "cell_type": "code",
      "metadata": {
        "colab_type": "code",
        "id": "wBoFz8F2ip0l",
        "colab": {}
      },
      "source": [
        "class ComputeValueTargets:\n",
        "    def __init__(self, policy, gamma=0.99):\n",
        "        self.policy = policy\n",
        "        self.gamma = gamma\n",
        "    \n",
        "    def __call__(self, trajectory):\n",
        "        # This method should modify trajectory inplace by adding \n",
        "        # an item with key 'value_targets' to it. \n",
        "        resets = trajectory['resets']\n",
        "        rewards = trajectory['rewards']\n",
        "\n",
        "        curr_value = self.policy.act(trajectory['state']['latest_observation'])['values']\n",
        "        target_values = []\n",
        "        for r, done in reversed(list(zip(rewards, resets))):\n",
        "            r = torch.tensor(r, device=curr_value.device)\n",
        "            done = torch.tensor(done, device=curr_value.device)\n",
        "            curr_value = torch.where(\n",
        "                done,\n",
        "                curr_value*self.gamma + r,\n",
        "                r\n",
        "            )\n",
        "            target_values.append(curr_value)\n",
        "        trajectory['value_targets'] = target_values[::-1]\n",
        "        return trajectory"
      ],
      "execution_count": 0,
      "outputs": []
    },
    {
      "cell_type": "markdown",
      "metadata": {
        "colab_type": "text",
        "id": "_GAKRZw7SWaq"
      },
      "source": [
        "**Test**"
      ]
    },
    {
      "cell_type": "code",
      "metadata": {
        "colab_type": "code",
        "id": "JM1cRAHgMeRO",
        "outputId": "44be5635-f843-425a-8a4c-d73e69caae3a",
        "colab": {
          "base_uri": "https://localhost:8080/",
          "height": 35
        }
      },
      "source": [
        "if RUN_TESTS:\n",
        "    test_obs = test_env.reset()\n",
        "    test_n_actions = test_env.action_space.n\n",
        "    test_agent = Agent(test_obs.shape[1:], test_n_actions)\n",
        "    test_policy = Policy(test_agent)\n",
        "    test_compute_value_targets = ComputeValueTargets(test_policy)\n",
        "\n",
        "    test_trajectory = EnvRunner(test_env, test_policy, 2).get_next()\n",
        "    assert len(test_compute_value_targets(test_trajectory)['value_targets']) == 2\n",
        "    assert len(test_compute_value_targets(test_trajectory)['value_targets'][0]) == 8 \n",
        "    print(\"Test passed\")"
      ],
      "execution_count": 12,
      "outputs": [
        {
          "output_type": "stream",
          "text": [
            "Test passed\n"
          ],
          "name": "stdout"
        }
      ]
    },
    {
      "cell_type": "markdown",
      "metadata": {
        "colab_type": "text",
        "id": "r3AU5R3Pip0q"
      },
      "source": [
        "After computing value targets we will transform lists of interactions into tensors\n",
        "with the first dimension `batch_size` which is equal to `T * nenvs`, i.e. you essentially need\n",
        "to flatten the first two dimensions. "
      ]
    },
    {
      "cell_type": "markdown",
      "metadata": {
        "colab_type": "text",
        "id": "Exxem4w5Tft3"
      },
      "source": [
        "**Test**"
      ]
    },
    {
      "cell_type": "code",
      "metadata": {
        "colab_type": "code",
        "id": "bqeIlc2oip0t",
        "colab": {}
      },
      "source": [
        "class MergeTimeBatch:\n",
        "    \"\"\" Merges first two axes typically representing time and env batch. \"\"\"\n",
        "    def __call__(self, trajectory):\n",
        "        for key, val in trajectory.items():\n",
        "            if key in ['actions', 'observations', 'rewards', 'resets']:\n",
        "                val = torch.tensor(val)\n",
        "            elif key in ['probas', 'full_log_probas', 'logits', 'log_probs', 'values', 'value_targets']:\n",
        "                val = torch.stack(val)\n",
        "            else:\n",
        "                continue\n",
        "\n",
        "            val = val.reshape(-1, *val.shape[2:])\n",
        "            trajectory[key] = val\n",
        "        return trajectory"
      ],
      "execution_count": 0,
      "outputs": []
    },
    {
      "cell_type": "markdown",
      "metadata": {
        "colab_type": "text",
        "id": "CtdCpA0bY04F"
      },
      "source": [
        "**Test**"
      ]
    },
    {
      "cell_type": "code",
      "metadata": {
        "colab_type": "code",
        "id": "VwptwDusVvLW",
        "outputId": "f1b3583a-f68d-4df8-c2c1-0c9b598700a2",
        "colab": {
          "base_uri": "https://localhost:8080/",
          "height": 35
        }
      },
      "source": [
        "if RUN_TESTS:\n",
        "    test_obs = test_env.reset()\n",
        "    test_n_actions = test_env.action_space.n\n",
        "    test_agent = Agent(test_obs.shape[1:], test_n_actions)\n",
        "    test_policy = Policy(test_agent)\n",
        "    test_merge_time_batch = MergeTimeBatch()\n",
        "    test_trajectory = ComputeValueTargets(test_policy)(EnvRunner(test_env, test_policy, 2).get_next())\n",
        "\n",
        "    test_res = test_merge_time_batch(test_trajectory)\n",
        "    for key in ['actions', 'observations', 'rewards', 'resets', 'logits', 'log_probs', 'values', 'value_targets']:\n",
        "        assert test_res[key].shape[0] == 16\n",
        "\n",
        "    print(\"Test passed\")"
      ],
      "execution_count": 14,
      "outputs": [
        {
          "output_type": "stream",
          "text": [
            "Test passed\n"
          ],
          "name": "stdout"
        }
      ]
    },
    {
      "cell_type": "markdown",
      "metadata": {
        "colab_type": "text",
        "id": "llVDB0mzip0z"
      },
      "source": [
        "Now is the time to implement the advantage actor critic algorithm itself. You can look into your lecture,\n",
        "[Mnih et al. 2016](https://arxiv.org/abs/1602.01783) paper, and [lecture](https://www.youtube.com/watch?v=Tol_jw5hWnI&list=PLkFD6_40KJIxJMR-j5A1mkxK26gh_qg37&index=20) by Sergey Levine."
      ]
    },
    {
      "cell_type": "code",
      "metadata": {
        "colab_type": "code",
        "id": "tpibdsDwip0z",
        "colab": {}
      },
      "source": [
        "class A2C:\n",
        "    def __init__(\n",
        "        self,\n",
        "        policy,\n",
        "        optimizer,\n",
        "        value_loss_coef=0.005,\n",
        "        entropy_coef=0.002,\n",
        "        max_grad_norm=0.5\n",
        "    ):\n",
        "        self.policy = policy\n",
        "        self.optimizer = optimizer\n",
        "        self.value_loss_coef = value_loss_coef\n",
        "        self.entropy_coef = entropy_coef\n",
        "        self.max_grad_norm = max_grad_norm\n",
        "    \n",
        "    def policy_loss(self, trajectory):\n",
        "        # You will need to compute advantages here. \n",
        "        advantages = trajectory['value_targets'] - trajectory['values']\n",
        "        return -torch.mean(trajectory['log_probs'] * advantages.detach())\n",
        "    \n",
        "    def value_loss(self, trajectory):\n",
        "        advantages = trajectory['value_targets'].detach() - trajectory['values']\n",
        "        value_loss = advantages.pow(2).mean()\n",
        "        return value_loss\n",
        "    \n",
        "    def entropy_loss(self, trajectory):\n",
        "        entropy = torch.sum(trajectory['probas'] * trajectory['full_log_probas'], -1).mean()\n",
        "        return entropy\n",
        "    \n",
        "    def loss(self, trajectory):\n",
        "        value_loss = self.value_loss(trajectory)\n",
        "        policy_loss = self.policy_loss(trajectory)\n",
        "        entropy_loss = self.entropy_loss(trajectory)\n",
        "        \n",
        "        return self.value_loss_coef*value_loss + policy_loss + self.entropy_coef*entropy_loss, value_loss, policy_loss, entropy_loss\n",
        "\n",
        "    def step(self, trajectory):\n",
        "        loss, value_loss, policy_loss, entropy_loss = self.loss(trajectory)\n",
        "        \n",
        "        loss.backward()\n",
        "        grad_norm = nn.utils.clip_grad_norm_(model.parameters(), self.max_grad_norm)\n",
        "        self.optimizer.step()\n",
        "        self.optimizer.zero_grad()\n",
        "        return loss, value_loss, policy_loss, entropy_loss, grad_norm\n"
      ],
      "execution_count": 0,
      "outputs": []
    },
    {
      "cell_type": "markdown",
      "metadata": {
        "colab_type": "text",
        "id": "pOB9j6onip01"
      },
      "source": [
        "Now you can train your model. With reasonable hyperparameters training on a single GTX1080 for 10 million steps across all batched environments (which translates to about 5 hours of wall clock time)\n",
        "it should be possible to achieve *average raw reward over last 100 episodes* (the average is taken over 100 last \n",
        "episodes in each environment in the batch) of about 600. You should plot this quantity with respect to \n",
        "`runner.step_var` &mdash; the number of interactions with all environments. It is highly \n",
        "encouraged to also provide plots of the following quantities (these are useful for debugging as well):\n",
        "\n",
        "* [Coefficient of Determination](https://en.wikipedia.org/wiki/Coefficient_of_determination) between \n",
        "value targets and value predictions\n",
        "* Entropy of the policy $\\pi$\n",
        "* Value loss\n",
        "* Policy loss\n",
        "* Value targets\n",
        "* Value predictions\n",
        "* Gradient norm\n",
        "* Advantages\n",
        "* A2C loss\n",
        "\n",
        "For optimization we suggest you use RMSProp with learning rate starting from 7e-4 and linearly decayed to 0, smoothing constant (alpha in PyTorch and decay in TensorFlow) equal to 0.99 and epsilon equal to 1e-5."
      ]
    },
    {
      "cell_type": "markdown",
      "metadata": {
        "colab_type": "text",
        "id": "bXnIafYCip02"
      },
      "source": [
        "**Define Parameters**"
      ]
    },
    {
      "cell_type": "code",
      "metadata": {
        "colab_type": "code",
        "id": "ibIjVVIGip02",
        "colab": {}
      },
      "source": [
        "N_ENVS = 8\n",
        "T_STEP = 5\n",
        "\n",
        "USE_CUDA = True\n",
        "LAST_EPOCH = 0\n",
        "TOTAL_EPOCH = 10000000 // N_ENVS // T_STEP\n",
        "\n",
        "DROW_STEP = 1000\n",
        "FIG_SIZE = 17, 8\n",
        "SAVE_STEP = 10000\n",
        "\n",
        "MOUNT_DIR = '/content/drive/'\n",
        "MODEL_MASK = (MOUNT_DIR + 'My Drive/models/rl/a2c/' if USE_COLAB else 'models/') + 'a2c_{last_epoch}_epoch'"
      ],
      "execution_count": 0,
      "outputs": []
    },
    {
      "cell_type": "markdown",
      "metadata": {
        "colab_type": "text",
        "id": "fp2ltx3Yip04"
      },
      "source": [
        "**Mount GDrive**"
      ]
    },
    {
      "cell_type": "code",
      "metadata": {
        "colab_type": "code",
        "id": "q1vP2iFjip05",
        "outputId": "7c0278e8-4720-42ad-8718-3ac7bf4706d2",
        "colab": {
          "base_uri": "https://localhost:8080/",
          "height": 35
        }
      },
      "source": [
        "if USE_COLAB:\n",
        "    from google.colab import files, drive\n",
        "    drive.mount(MOUNT_DIR)"
      ],
      "execution_count": 17,
      "outputs": [
        {
          "output_type": "stream",
          "text": [
            "Drive already mounted at /content/drive/; to attempt to forcibly remount, call drive.mount(\"/content/drive/\", force_remount=True).\n"
          ],
          "name": "stdout"
        }
      ]
    },
    {
      "cell_type": "markdown",
      "metadata": {
        "colab_type": "text",
        "id": "FEw5XB0Qip07"
      },
      "source": [
        "**Select Device**"
      ]
    },
    {
      "cell_type": "code",
      "metadata": {
        "colab_type": "code",
        "id": "JeG-UGypip08",
        "outputId": "74c49330-dc3a-4855-9c0a-ac95cb153553",
        "colab": {
          "base_uri": "https://localhost:8080/",
          "height": 35
        }
      },
      "source": [
        "if USE_CUDA and torch.cuda.is_available():\n",
        "    DEVICE_ID = 0\n",
        "    device = torch.device('cuda:%d' % DEVICE_ID)\n",
        "else:\n",
        "    device = torch.device('cpu')\n",
        "print(\"device: \", device)"
      ],
      "execution_count": 18,
      "outputs": [
        {
          "output_type": "stream",
          "text": [
            "device:  cuda:0\n"
          ],
          "name": "stdout"
        }
      ]
    },
    {
      "cell_type": "markdown",
      "metadata": {
        "colab_type": "text",
        "id": "pYACpzGpip0-"
      },
      "source": [
        "**Set up env**"
      ]
    },
    {
      "cell_type": "code",
      "metadata": {
        "colab_type": "code",
        "id": "qm_QRC2fip0_",
        "colab": {}
      },
      "source": [
        "env = nature_dqn_env(\"SpaceInvadersNoFrameskip-v4\", nenvs=N_ENVS, summaries='Numpy')\n",
        "env.clear()\n",
        "obs = env.reset()"
      ],
      "execution_count": 0,
      "outputs": []
    },
    {
      "cell_type": "markdown",
      "metadata": {
        "colab_type": "text",
        "id": "YEXFUnemip1B"
      },
      "source": [
        "**define model**"
      ]
    },
    {
      "cell_type": "code",
      "metadata": {
        "colab_type": "code",
        "id": "uR3nRovBip1B",
        "outputId": "a91033d2-17de-4170-ee13-3f88f5a01674",
        "colab": {
          "base_uri": "https://localhost:8080/",
          "height": 287
        }
      },
      "source": [
        "if LAST_EPOCH:\n",
        "    model = torch.load(MODEL_MASK.format(last_epoch=LAST_EPOCH), map_location=torch.device('cpu'))\n",
        "else:\n",
        "    model = Agent(obs.shape[1:], env.action_space.n)\n",
        "    model.set_buffer([[], [], [], [], [], []])\n",
        "model.to(device)"
      ],
      "execution_count": 20,
      "outputs": [
        {
          "output_type": "execute_result",
          "data": {
            "text/plain": [
              "Agent(\n",
              "  (body_network): Sequential(\n",
              "    (Conv1): Conv2d(4, 32, kernel_size=(8, 8), stride=(4, 4))\n",
              "    (Act1): ReLU()\n",
              "    (Conv2): Conv2d(32, 64, kernel_size=(4, 4), stride=(2, 2))\n",
              "    (Act2): ReLU()\n",
              "    (Conv3): Conv2d(64, 64, kernel_size=(3, 3), stride=(1, 1))\n",
              "    (Act3): ReLU()\n",
              "    (flatten): Flatten()\n",
              "    (FC1): Linear(in_features=3136, out_features=512, bias=True)\n",
              "    (Act4): ReLU()\n",
              "  )\n",
              "  (v_head): Linear(in_features=512, out_features=1, bias=True)\n",
              "  (logits_head): Linear(in_features=512, out_features=6, bias=True)\n",
              ")"
            ]
          },
          "metadata": {
            "tags": []
          },
          "execution_count": 20
        }
      ]
    },
    {
      "cell_type": "markdown",
      "metadata": {
        "colab_type": "text",
        "id": "Z5pkicW8ip1E"
      },
      "source": [
        "**define stuff**"
      ]
    },
    {
      "cell_type": "code",
      "metadata": {
        "colab_type": "code",
        "id": "-KTJpCHUip1E",
        "colab": {}
      },
      "source": [
        "policy = Policy(model, device)\n",
        "runner = EnvRunner(\n",
        "    env,\n",
        "    policy,\n",
        "    nsteps=T_STEP,\n",
        "    transforms=[\n",
        "                ComputeValueTargets(policy),\n",
        "                MergeTimeBatch()\n",
        "                ]\n",
        ")\n",
        "optimizer = torch.optim.RMSprop(model.parameters(), lr=7e-4, alpha=0.99, eps=1e-5)\n",
        "a2c = A2C(policy, optimizer)"
      ],
      "execution_count": 0,
      "outputs": []
    },
    {
      "cell_type": "code",
      "metadata": {
        "colab_type": "code",
        "id": "pFyf948Fip1G",
        "colab": {}
      },
      "source": [
        "def moving_average(x, span=100): return DataFrame(\n",
        "    {'x': np.asarray(x)}).x.ewm(span=span).mean().values"
      ],
      "execution_count": 0,
      "outputs": []
    },
    {
      "cell_type": "markdown",
      "metadata": {
        "colab_type": "text",
        "id": "plGpMi-cip1I"
      },
      "source": [
        "**learning**"
      ]
    },
    {
      "cell_type": "code",
      "metadata": {
        "colab_type": "code",
        "id": "rVO5pU25ip1J",
        "outputId": "c66595c1-7666-4df1-96c2-f0189ddb08b6",
        "colab": {
          "base_uri": "https://localhost:8080/",
          "height": 35
        }
      },
      "source": [
        "%%time\n",
        "curves_names = ['A2c loss', 'value_loss', 'policy_loss', 'enropy_loss', 'grad_norm', 'Reward']\n",
        "curves = model.get_buffer()\n",
        "ylims = [[0, 300], [0, 300], [-2, 2], [-2, 2], [0, 100], [-1, 800]]\n",
        "\n",
        "for i in trange(LAST_EPOCH, TOTAL_EPOCH):\n",
        "    trajectory = runner.get_next()\n",
        "    losses = a2c.step(trajectory)\n",
        "    \n",
        "    for j, loss in enumerate(losses):\n",
        "        curves[j].append(loss)\n",
        "\n",
        "    mean_reward = env.get_values(\"SpaceInvadersNoFrameskip-v4/reward_mean_100\") or [(None, 0)]\n",
        "    curves[-1].append(mean_reward[-1][1])\n",
        "    if mean_reward[-1][1] > 600:\n",
        "        print(\"TASK PASSED!\")\n",
        "\n",
        "    if i and i % DROW_STEP == 0:\n",
        "        clear_output(True)\n",
        "        fig1, axs = plt.subplots(3, 2, figsize=FIG_SIZE, constrained_layout=True)\n",
        "        for j, curve in enumerate(curves):\n",
        "            axs[j // 2][j % 2].set_ylim(ylims[j])\n",
        "            axs[j // 2][j % 2].set_title(curves_names[j])\n",
        "            try:\n",
        "                smoth_curve = moving_average(curve, span=100) if j != 5 else curve\n",
        "            except:\n",
        "                print(f\"Error with {curves_names[j]}\")\n",
        "                print(curve)\n",
        "                continue\n",
        "            axs[j // 2][j % 2].plot(smoth_curve, label=f'{curves_names[j]}= {smoth_curve[-1]}')\n",
        "        fig1.legend()\n",
        "        plt.show()\n",
        "    \n",
        "    if i != LAST_EPOCH and i % SAVE_STEP == 0:\n",
        "        model.set_buffer(curves)\n",
        "        torch.save(model, MODEL_MASK.format(last_epoch=i))\n"
      ],
      "execution_count": 0,
      "outputs": [
        {
          "output_type": "stream",
          "text": [
            "  0%|          | 430/250000 [02:41<25:54:12,  2.68it/s]"
          ],
          "name": "stderr"
        }
      ]
    },
    {
      "cell_type": "code",
      "metadata": {
        "id": "-QKpISwc2Odk",
        "colab_type": "code",
        "colab": {}
      },
      "source": [
        ""
      ],
      "execution_count": 0,
      "outputs": []
    }
  ]
}