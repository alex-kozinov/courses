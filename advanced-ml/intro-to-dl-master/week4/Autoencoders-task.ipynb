{
  "nbformat": 4,
  "nbformat_minor": 0,
  "metadata": {
    "kernelspec": {
      "display_name": "Python 3",
      "language": "python",
      "name": "python3"
    },
    "language_info": {
      "codemirror_mode": {
        "name": "ipython",
        "version": 3
      },
      "file_extension": ".py",
      "mimetype": "text/x-python",
      "name": "python",
      "nbconvert_exporter": "python",
      "pygments_lexer": "ipython3",
      "version": "3.6.5"
    },
    "toc": {
      "colors": {
        "hover_highlight": "#DAA520",
        "navigate_num": "#000000",
        "navigate_text": "#333333",
        "running_highlight": "#FF0000",
        "selected_highlight": "#FFD700",
        "sidebar_border": "#EEEEEE",
        "wrapper_background": "#FFFFFF"
      },
      "moveMenuLeft": true,
      "nav_menu": {
        "height": "192px",
        "width": "252px"
      },
      "navigate_menu": true,
      "number_sections": true,
      "sideBar": true,
      "threshold": 4,
      "toc_cell": false,
      "toc_section_display": "block",
      "toc_window_display": false,
      "widenNotebook": false
    },
    "colab": {
      "name": "Autoencoders-task.ipynb",
      "provenance": []
    }
  },
  "cells": [
    {
      "cell_type": "markdown",
      "metadata": {
        "id": "Ut2oqfCMC8Gf",
        "colab_type": "text"
      },
      "source": [
        "# Denoising Autoencoders And Where To Find Them\n",
        "\n",
        "Today we're going to train deep autoencoders and apply them to faces and similar images search.\n",
        "\n",
        "Our new test subjects are human faces from the [lfw dataset](http://vis-www.cs.umass.edu/lfw/)."
      ]
    },
    {
      "cell_type": "markdown",
      "metadata": {
        "id": "MrphrfwqC8Gj",
        "colab_type": "text"
      },
      "source": [
        "# Import stuff"
      ]
    },
    {
      "cell_type": "code",
      "metadata": {
        "id": "OQXjcVc8DR9u",
        "colab_type": "code",
        "outputId": "2f1e48c8-59e5-4e1d-f278-8035d415dc14",
        "colab": {
          "base_uri": "https://localhost:8080/",
          "height": 451
        }
      },
      "source": [
        "! shred -u setup_google_colab.py\n",
        "! wget https://raw.githubusercontent.com/hse-aml/intro-to-dl/master/setup_google_colab.py -O setup_google_colab.py\n",
        "import setup_google_colab\n",
        "from google.colab import drive\n",
        "\n",
        "setup_google_colab.setup_week4()\n",
        "drive.mount('/content/drive/')\n",
        "WORK_DIR = \"/content/drive/My Drive/models/week4Autoencoders-task/\"\n",
        "!ls \"{WORK_DIR}\""
      ],
      "execution_count": 1,
      "outputs": [
        {
          "output_type": "stream",
          "text": [
            "shred: setup_google_colab.py: failed to open for writing: No such file or directory\n",
            "--2019-11-25 10:00:05--  https://raw.githubusercontent.com/hse-aml/intro-to-dl/master/setup_google_colab.py\n",
            "Resolving raw.githubusercontent.com (raw.githubusercontent.com)... 151.101.0.133, 151.101.64.133, 151.101.128.133, ...\n",
            "Connecting to raw.githubusercontent.com (raw.githubusercontent.com)|151.101.0.133|:443... connected.\n",
            "HTTP request sent, awaiting response... 200 OK\n",
            "Length: 3636 (3.6K) [text/plain]\n",
            "Saving to: ‘setup_google_colab.py’\n",
            "\n",
            "setup_google_colab. 100%[===================>]   3.55K  --.-KB/s    in 0s      \n",
            "\n",
            "2019-11-25 10:00:05 (54.9 MB/s) - ‘setup_google_colab.py’ saved [3636/3636]\n",
            "\n",
            "**************************************************\n",
            "lfw-deepfunneled.tgz\n",
            "**************************************************\n",
            "lfw.tgz\n",
            "**************************************************\n",
            "lfw_attributes.txt\n",
            "Go to this URL in a browser: https://accounts.google.com/o/oauth2/auth?client_id=947318989803-6bn6qk8qdgf4n4g3pfee6491hc0brc4i.apps.googleusercontent.com&redirect_uri=urn%3aietf%3awg%3aoauth%3a2.0%3aoob&response_type=code&scope=email%20https%3a%2f%2fwww.googleapis.com%2fauth%2fdocs.test%20https%3a%2f%2fwww.googleapis.com%2fauth%2fdrive%20https%3a%2f%2fwww.googleapis.com%2fauth%2fdrive.photos.readonly%20https%3a%2f%2fwww.googleapis.com%2fauth%2fpeopleapi.readonly\n",
            "\n",
            "Enter your authorization code:\n",
            "··········\n",
            "Mounted at /content/drive/\n"
          ],
          "name": "stdout"
        }
      ]
    },
    {
      "cell_type": "code",
      "metadata": {
        "ExecuteTime": {
          "end_time": "2018-01-04T16:38:45.815533Z",
          "start_time": "2018-01-04T16:38:45.767828Z"
        },
        "id": "imwLcX09C8Gj",
        "colab_type": "code",
        "colab": {}
      },
      "source": [
        "import sys\n",
        "sys.path.append(\"..\")\n",
        "import grading"
      ],
      "execution_count": 0,
      "outputs": []
    },
    {
      "cell_type": "code",
      "metadata": {
        "ExecuteTime": {
          "end_time": "2018-01-04T16:38:56.825485Z",
          "start_time": "2018-01-04T16:38:46.131894Z"
        },
        "id": "70Qr-2uHC8Gn",
        "colab_type": "code",
        "outputId": "c3cd9f69-67d7-4bc9-f6ef-526e2c8ffb3d",
        "colab": {
          "base_uri": "https://localhost:8080/",
          "height": 82
        }
      },
      "source": [
        "import tensorflow as tf\n",
        "import keras, keras.layers as L, keras.backend as K\n",
        "import numpy as np\n",
        "from sklearn.model_selection import train_test_split\n",
        "from lfw_dataset import load_lfw_dataset\n",
        "%matplotlib inline\n",
        "import matplotlib.pyplot as plt\n",
        "import download_utils\n",
        "import keras_utils\n",
        "import numpy as np\n",
        "from keras_utils import reset_tf_session"
      ],
      "execution_count": 3,
      "outputs": [
        {
          "output_type": "display_data",
          "data": {
            "text/html": [
              "<p style=\"color: red;\">\n",
              "The default version of TensorFlow in Colab will soon switch to TensorFlow 2.x.<br>\n",
              "We recommend you <a href=\"https://www.tensorflow.org/guide/migrate\" target=\"_blank\">upgrade</a> now \n",
              "or ensure your notebook will continue to use TensorFlow 1.x via the <code>%tensorflow_version 1.x</code> magic:\n",
              "<a href=\"https://colab.research.google.com/notebooks/tensorflow_version.ipynb\" target=\"_blank\">more info</a>.</p>\n"
            ],
            "text/plain": [
              "<IPython.core.display.HTML object>"
            ]
          },
          "metadata": {
            "tags": []
          }
        },
        {
          "output_type": "stream",
          "text": [
            "Using TensorFlow backend.\n"
          ],
          "name": "stderr"
        }
      ]
    },
    {
      "cell_type": "code",
      "metadata": {
        "ExecuteTime": {
          "end_time": "2018-01-04T16:38:56.830804Z",
          "start_time": "2018-01-04T16:38:56.827147Z"
        },
        "id": "vLnKv9YNC8Gq",
        "colab_type": "code",
        "colab": {}
      },
      "source": [
        "# !!! remember to clear session/graph if you rebuild your graph to avoid out-of-memory errors !!!"
      ],
      "execution_count": 0,
      "outputs": []
    },
    {
      "cell_type": "markdown",
      "metadata": {
        "id": "bc0qBehTC8Gs",
        "colab_type": "text"
      },
      "source": [
        "# Load dataset\n",
        "Dataset was downloaded for you. Relevant links (just in case):\n",
        "- http://www.cs.columbia.edu/CAVE/databases/pubfig/download/lfw_attributes.txt\n",
        "- http://vis-www.cs.umass.edu/lfw/lfw-deepfunneled.tgz\n",
        "- http://vis-www.cs.umass.edu/lfw/lfw.tgz"
      ]
    },
    {
      "cell_type": "code",
      "metadata": {
        "ExecuteTime": {
          "end_time": "2018-01-04T16:38:56.917476Z",
          "start_time": "2018-01-04T16:38:56.832132Z"
        },
        "id": "pWkmRDuSC8Gt",
        "colab_type": "code",
        "colab": {}
      },
      "source": [
        "# we downloaded them for you, just link them here\n",
        "download_utils.link_week_4_resources()"
      ],
      "execution_count": 0,
      "outputs": []
    },
    {
      "cell_type": "code",
      "metadata": {
        "ExecuteTime": {
          "end_time": "2018-01-04T16:39:21.680162Z",
          "start_time": "2018-01-04T16:39:01.554782Z"
        },
        "id": "RF1EPIIXC8Gv",
        "colab_type": "code",
        "outputId": "9f045996-b665-4df5-d9c2-45cc009a2753",
        "colab": {
          "base_uri": "https://localhost:8080/",
          "height": 53
        }
      },
      "source": [
        "# load images\n",
        "X, attr = load_lfw_dataset(use_raw=True, dimx=32, dimy=32)\n",
        "IMG_SHAPE = X.shape[1:]\n",
        "\n",
        "# center images\n",
        "X = X.astype('float32') / 255.0 - 0.5\n",
        "\n",
        "# split\n",
        "X_train, X_test = train_test_split(X, test_size=0.1, random_state=42)"
      ],
      "execution_count": 5,
      "outputs": [
        {
          "output_type": "stream",
          "text": [
            "**************************************************\n",
            "\n"
          ],
          "name": "stdout"
        }
      ]
    },
    {
      "cell_type": "code",
      "metadata": {
        "ExecuteTime": {
          "end_time": "2018-01-04T16:39:36.649891Z",
          "start_time": "2018-01-04T16:39:36.646605Z"
        },
        "id": "o-hTKRJIC8Gy",
        "colab_type": "code",
        "colab": {}
      },
      "source": [
        "def show_image(x):\n",
        "    plt.imshow(np.clip(x + 0.5, 0, 1))"
      ],
      "execution_count": 0,
      "outputs": []
    },
    {
      "cell_type": "code",
      "metadata": {
        "ExecuteTime": {
          "end_time": "2018-01-04T16:39:39.028360Z",
          "start_time": "2018-01-04T16:39:38.258425Z"
        },
        "id": "XjCDm06xC8G0",
        "colab_type": "code",
        "outputId": "9e2ef26e-f9ef-4005-8fd1-9635304575b1",
        "colab": {
          "base_uri": "https://localhost:8080/",
          "height": 321
        }
      },
      "source": [
        "plt.title('sample images')\n",
        "\n",
        "for i in range(6):\n",
        "    plt.subplot(2,3,i+1)\n",
        "    show_image(X[i])\n",
        "\n",
        "print(\"X shape:\", X.shape)\n",
        "print(\"attr shape:\", attr.shape)\n",
        "\n",
        "# try to free memory\n",
        "del X\n",
        "import gc\n",
        "gc.collect()"
      ],
      "execution_count": 7,
      "outputs": [
        {
          "output_type": "stream",
          "text": [
            "X shape: (13143, 32, 32, 3)\n",
            "attr shape: (13143, 73)\n"
          ],
          "name": "stdout"
        },
        {
          "output_type": "execute_result",
          "data": {
            "text/plain": [
              "1409"
            ]
          },
          "metadata": {
            "tags": []
          },
          "execution_count": 7
        },
        {
          "output_type": "display_data",
          "data": {
            "image/png": "[encoded data removed]",
            "text/plain": [
              "<Figure size 432x288 with 6 Axes>"
            ]
          },
          "metadata": {
            "tags": []
          }
        }
      ]
    },
    {
      "cell_type": "markdown",
      "metadata": {
        "id": "JUYNLLU7C8G3",
        "colab_type": "text"
      },
      "source": [
        "# Autoencoder architecture\n",
        "\n",
        "Let's design autoencoder as two sequential keras models: the encoder and decoder respectively.\n",
        "\n",
        "We will then use symbolic API to apply and train these models.\n",
        "\n",
        "<img src=\"https://github.com/alex-kozinov/courses/blob/master/advanced-ml/intro-to-dl-master/week4/images/autoencoder.png?raw=1\" style=\"width:50%\">"
      ]
    },
    {
      "cell_type": "markdown",
      "metadata": {
        "id": "alSUS_f9C8G3",
        "colab_type": "text"
      },
      "source": [
        "# First step: PCA\n",
        "\n",
        "Principial Component Analysis is a popular dimensionality reduction method. \n",
        "\n",
        "Under the hood, PCA attempts to decompose object-feature matrix $X$ into two smaller matrices: $W$ and $\\hat W$ minimizing _mean squared error_:\n",
        "\n",
        "$$\\|(X W) \\hat{W} - X\\|^2_2 \\to_{W, \\hat{W}} \\min$$\n",
        "- $X \\in \\mathbb{R}^{n \\times m}$ - object matrix (**centered**);\n",
        "- $W \\in \\mathbb{R}^{m \\times d}$ - matrix of direct transformation;\n",
        "- $\\hat{W} \\in \\mathbb{R}^{d \\times m}$ - matrix of reverse transformation;\n",
        "- $n$ samples, $m$ original dimensions and $d$ target dimensions;\n",
        "\n",
        "In geometric terms, we want to find d axes along which most of variance occurs. The \"natural\" axes, if you wish.\n",
        "\n",
        "<img src=\"https://github.com/alex-kozinov/courses/blob/master/advanced-ml/intro-to-dl-master/week4/images/pca.png?raw=1\" style=\"width:30%\">\n",
        "\n",
        "\n",
        "PCA can also be seen as a special case of an autoencoder.\n",
        "\n",
        "* __Encoder__: X -> Dense(d units) -> code\n",
        "* __Decoder__: code -> Dense(m units) -> X\n",
        "\n",
        "Where Dense is a fully-connected layer with linear activaton:   $f(X) = W \\cdot X + \\vec b $\n",
        "\n",
        "\n",
        "Note: the bias term in those layers is responsible for \"centering\" the matrix i.e. substracting mean."
      ]
    },
    {
      "cell_type": "code",
      "metadata": {
        "ExecuteTime": {
          "end_time": "2018-01-04T16:39:42.058684Z",
          "start_time": "2018-01-04T16:39:42.046303Z"
        },
        "id": "BrBU6sdqC8G4",
        "colab_type": "code",
        "colab": {}
      },
      "source": [
        "def build_pca_autoencoder(img_shape, code_size):\n",
        "    \"\"\"\n",
        "    Here we define a simple linear autoencoder as described above.\n",
        "    We also flatten and un-flatten data to be compatible with image shapes\n",
        "    \"\"\"\n",
        "    \n",
        "    encoder = keras.models.Sequential()\n",
        "    encoder.add(L.InputLayer(img_shape))\n",
        "    encoder.add(L.Flatten())                  #flatten image to vector\n",
        "    encoder.add(L.Dense(code_size))           #actual encoder\n",
        "\n",
        "    decoder = keras.models.Sequential()\n",
        "    decoder.add(L.InputLayer((code_size,)))\n",
        "    decoder.add(L.Dense(np.prod(img_shape)))  #actual decoder, height*width*3 units\n",
        "    decoder.add(L.Reshape(img_shape))         #un-flatten\n",
        "    \n",
        "    return encoder,decoder"
      ],
      "execution_count": 0,
      "outputs": []
    },
    {
      "cell_type": "markdown",
      "metadata": {
        "id": "rnBNLtczC8G8",
        "colab_type": "text"
      },
      "source": [
        "Meld them together into one model:"
      ]
    },
    {
      "cell_type": "code",
      "metadata": {
        "ExecuteTime": {
          "end_time": "2018-01-04T16:41:04.366409Z",
          "start_time": "2018-01-04T16:40:45.919042Z"
        },
        "scrolled": true,
        "id": "z7ypbn1RC8G-",
        "colab_type": "code",
        "outputId": "955ea1af-ad16-4141-af56-0e7b9b736276",
        "colab": {
          "base_uri": "https://localhost:8080/",
          "height": 1000
        }
      },
      "source": [
        "s = reset_tf_session()\n",
        "\n",
        "encoder, decoder = build_pca_autoencoder(IMG_SHAPE, code_size=32)\n",
        "\n",
        "inp = L.Input(IMG_SHAPE)\n",
        "code = encoder(inp)\n",
        "reconstruction = decoder(code)\n",
        "\n",
        "autoencoder = keras.models.Model(inputs=inp, outputs=reconstruction)\n",
        "autoencoder.compile(optimizer='adamax', loss='mse')\n",
        "\n",
        "autoencoder.fit(x=X_train, y=X_train, epochs=15,\n",
        "                validation_data=[X_test, X_test],\n",
        "                callbacks=[keras_utils.TqdmProgressCallback()],\n",
        "                verbose=0)"
      ],
      "execution_count": 9,
      "outputs": [
        {
          "output_type": "stream",
          "text": [
            "WARNING:tensorflow:From /content/keras_utils.py:68: The name tf.get_default_session is deprecated. Please use tf.compat.v1.get_default_session instead.\n",
            "\n",
            "WARNING:tensorflow:From /usr/local/lib/python3.6/dist-packages/keras/backend/tensorflow_backend.py:79: The name tf.reset_default_graph is deprecated. Please use tf.compat.v1.reset_default_graph instead.\n",
            "\n",
            "WARNING:tensorflow:From /usr/local/lib/python3.6/dist-packages/keras/backend/tensorflow_backend.py:82: The name tf.placeholder is deprecated. Please use tf.compat.v1.placeholder instead.\n",
            "\n",
            "WARNING:tensorflow:From /usr/local/lib/python3.6/dist-packages/keras/backend/tensorflow_backend.py:84: The name tf.get_default_graph is deprecated. Please use tf.compat.v1.get_default_graph instead.\n",
            "\n",
            "WARNING:tensorflow:From /content/keras_utils.py:75: The name tf.ConfigProto is deprecated. Please use tf.compat.v1.ConfigProto instead.\n",
            "\n",
            "WARNING:tensorflow:From /content/keras_utils.py:77: The name tf.InteractiveSession is deprecated. Please use tf.compat.v1.InteractiveSession instead.\n",
            "\n",
            "WARNING:tensorflow:From /usr/local/lib/python3.6/dist-packages/keras/backend/tensorflow_backend.py:1210: calling reduce_prod_v1 (from tensorflow.python.ops.math_ops) with keep_dims is deprecated and will be removed in a future version.\n",
            "Instructions for updating:\n",
            "keep_dims is deprecated, use keepdims instead\n",
            "WARNING:tensorflow:From /usr/local/lib/python3.6/dist-packages/keras/backend/tensorflow_backend.py:3535: The name tf.random_uniform is deprecated. Please use tf.random.uniform instead.\n",
            "\n",
            "WARNING:tensorflow:From /usr/local/lib/python3.6/dist-packages/keras/optimizers.py:697: The name tf.train.Optimizer is deprecated. Please use tf.compat.v1.train.Optimizer instead.\n",
            "\n",
            "WARNING:tensorflow:From /usr/local/lib/python3.6/dist-packages/keras/backend/tensorflow_backend.py:2289: The name tf.Session is deprecated. Please use tf.compat.v1.Session instead.\n",
            "\n",
            "WARNING:tensorflow:From /usr/local/lib/python3.6/dist-packages/keras/backend/tensorflow_backend.py:879: The name tf.assign_add is deprecated. Please use tf.compat.v1.assign_add instead.\n",
            "\n",
            "WARNING:tensorflow:From /usr/local/lib/python3.6/dist-packages/keras/backend/tensorflow_backend.py:602: calling Constant.__init__ (from tensorflow.python.ops.init_ops) with dtype is deprecated and will be removed in a future version.\n",
            "Instructions for updating:\n",
            "Call initializer instance with the dtype argument instead of passing it to the constructor\n",
            "WARNING:tensorflow:From /usr/local/lib/python3.6/dist-packages/keras/backend/tensorflow_backend.py:866: The name tf.assign is deprecated. Please use tf.compat.v1.assign instead.\n",
            "\n",
            "\n",
            "Epoch 1/15\n",
            "WARNING:tensorflow:From /usr/local/lib/python3.6/dist-packages/keras/backend/tensorflow_backend.py:333: The name tf.global_variables is deprecated. Please use tf.compat.v1.global_variables instead.\n",
            "\n",
            "WARNING:tensorflow:From /usr/local/lib/python3.6/dist-packages/keras/backend/tensorflow_backend.py:341: The name tf.variables_initializer is deprecated. Please use tf.compat.v1.variables_initializer instead.\n",
            "\n",
            "**************************************************\n",
            "loss: 0.0126; val_loss: 0.0088\n",
            "\n",
            "Epoch 2/15\n",
            "**************************************************\n",
            "loss: 0.0079; val_loss: 0.0071\n",
            "\n",
            "Epoch 3/15\n",
            "**************************************************\n",
            "loss: 0.0069; val_loss: 0.0067\n",
            "\n",
            "Epoch 4/15\n",
            "**************************************************\n",
            "loss: 0.0067; val_loss: 0.0066\n",
            "\n",
            "Epoch 5/15\n",
            "**************************************************\n",
            "loss: 0.0067; val_loss: 0.0066\n",
            "\n",
            "Epoch 6/15\n",
            "**************************************************\n",
            "loss: 0.0067; val_loss: 0.0066\n",
            "\n",
            "Epoch 7/15\n",
            "**************************************************\n",
            "loss: 0.0067; val_loss: 0.0066\n",
            "\n",
            "Epoch 8/15\n",
            "**************************************************\n",
            "loss: 0.0067; val_loss: 0.0066\n",
            "\n",
            "Epoch 9/15\n",
            "**************************************************\n",
            "loss: 0.0067; val_loss: 0.0066\n",
            "\n",
            "Epoch 10/15\n",
            "**************************************************\n",
            "loss: 0.0067; val_loss: 0.0066\n",
            "\n",
            "Epoch 11/15\n",
            "**************************************************\n",
            "loss: 0.0067; val_loss: 0.0066\n",
            "\n",
            "Epoch 12/15\n",
            "**************************************************\n",
            "loss: 0.0067; val_loss: 0.0066\n",
            "\n",
            "Epoch 13/15\n",
            "**************************************************\n",
            "loss: 0.0067; val_loss: 0.0066\n",
            "\n",
            "Epoch 14/15\n",
            "**************************************************\n",
            "loss: 0.0067; val_loss: 0.0066\n",
            "\n",
            "Epoch 15/15\n",
            "**************************************************\n",
            "loss: 0.0067; val_loss: 0.0066\n"
          ],
          "name": "stdout"
        },
        {
          "output_type": "execute_result",
          "data": {
            "text/plain": [
              "<keras.callbacks.History at 0x7f6a93e2ff28>"
            ]
          },
          "metadata": {
            "tags": []
          },
          "execution_count": 9
        }
      ]
    },
    {
      "cell_type": "code",
      "metadata": {
        "ExecuteTime": {
          "end_time": "2018-01-04T16:41:11.747674Z",
          "start_time": "2018-01-04T16:41:11.730725Z"
        },
        "id": "CMpbaACBC8HB",
        "colab_type": "code",
        "colab": {}
      },
      "source": [
        "def visualize(img,encoder,decoder):\n",
        "    \"\"\"Draws original, encoded and decoded images\"\"\"\n",
        "    code = encoder.predict(img[None])[0]  # img[None] is the same as img[np.newaxis, :]\n",
        "    reco = decoder.predict(code[None])[0]\n",
        "\n",
        "    plt.subplot(1,3,1)\n",
        "    plt.title(\"Original\")\n",
        "    show_image(img)\n",
        "\n",
        "    plt.subplot(1,3,2)\n",
        "    plt.title(\"Code\")\n",
        "    plt.imshow(code.reshape([code.shape[-1]//2,-1]))\n",
        "\n",
        "    plt.subplot(1,3,3)\n",
        "    plt.title(\"Reconstructed\")\n",
        "    show_image(reco)\n",
        "    plt.show()\n"
      ],
      "execution_count": 0,
      "outputs": []
    },
    {
      "cell_type": "code",
      "metadata": {
        "ExecuteTime": {
          "end_time": "2018-01-04T16:41:18.700138Z",
          "start_time": "2018-01-04T16:41:17.026047Z"
        },
        "scrolled": true,
        "id": "2OcAa2hXC8HD",
        "colab_type": "code",
        "outputId": "1829f973-8c05-4cbe-a5be-2775fd8b2a3d",
        "colab": {
          "base_uri": "https://localhost:8080/",
          "height": 1000
        }
      },
      "source": [
        "score = autoencoder.evaluate(X_test,X_test,verbose=0)\n",
        "print(\"PCA MSE:\", score)\n",
        "\n",
        "for i in range(5):\n",
        "    img = X_test[i]\n",
        "    visualize(img,encoder,decoder)"
      ],
      "execution_count": 11,
      "outputs": [
        {
          "output_type": "stream",
          "text": [
            "PCA MSE: 0.006581529147370573\n"
          ],
          "name": "stdout"
        },
        {
          "output_type": "display_data",
          "data": {
            "image/png": "[encoded data removed]",
            "text/plain": [
              "<Figure size 432x288 with 3 Axes>"
            ]
          },
          "metadata": {
            "tags": []
          }
        },
        {
          "output_type": "display_data",
          "data": {
            "image/png": "[encoded data removed]",
            "text/plain": [
              "<Figure size 432x288 with 3 Axes>"
            ]
          },
          "metadata": {
            "tags": []
          }
        },
        {
          "output_type": "display_data",
          "data": {
            "image/png": "[encoded data removed]",
            "text/plain": [
              "<Figure size 432x288 with 3 Axes>"
            ]
          },
          "metadata": {
            "tags": []
          }
        },
        {
          "output_type": "display_data",
          "data": {
            "image/png": "[encoded data removed]",
            "text/plain": [
              "<Figure size 432x288 with 3 Axes>"
            ]
          },
          "metadata": {
            "tags": []
          }
        },
        {
          "output_type": "display_data",
          "data": {
            "image/png": "[encoded data removed]",
            "text/plain": [
              "<Figure size 432x288 with 3 Axes>"
            ]
          },
          "metadata": {
            "tags": []
          }
        }
      ]
    },
    {
      "cell_type": "markdown",
      "metadata": {
        "id": "0T-rpqddC8HG",
        "colab_type": "text"
      },
      "source": [
        "# Going deeper: convolutional autoencoder\n",
        "\n",
        "PCA is neat but surely we can do better. This time we want you to build a deep convolutional autoencoder by... stacking more layers.\n",
        "\n",
        "## Encoder\n",
        "\n",
        "The **encoder** part is pretty standard, we stack convolutional and pooling layers and finish with a dense layer to get the representation of desirable size (`code_size`).\n",
        "\n",
        "We recommend to use `activation='elu'` for all convolutional and dense layers.\n",
        "\n",
        "We recommend to repeat (conv, pool) 4 times with kernel size (3, 3), `padding='same'` and the following numbers of output channels: `32, 64, 128, 256`.\n",
        "\n",
        "Remember to flatten (`L.Flatten()`) output before adding the last dense layer!\n",
        "\n",
        "## Decoder\n",
        "\n",
        "For **decoder** we will use so-called \"transpose convolution\". \n",
        "\n",
        "Traditional convolutional layer takes a patch of an image and produces a number (patch -> number). In \"transpose convolution\" we want to take a number and produce a patch of an image (number -> patch). We need this layer to \"undo\" convolutions in encoder. We had a glimpse of it during week 3 (watch [this video](https://www.coursera.org/learn/intro-to-deep-learning/lecture/auRqf/a-glimpse-of-other-computer-vision-tasks) starting at 5:41).\n",
        "\n",
        "Here's how \"transpose convolution\" works:\n",
        "<img src=\"https://github.com/alex-kozinov/courses/blob/master/advanced-ml/intro-to-dl-master/week4/images/transpose_conv.jpg?raw=1\" style=\"width:60%\">\n",
        "In this example we use a stride of 2 to produce 4x4 output, this way we \"undo\" pooling as well. Another way to think about it: we \"undo\" convolution with stride 2 (which is similar to conv + pool).\n",
        "\n",
        "You can add \"transpose convolution\" layer in Keras like this:\n",
        "```python\n",
        "L.Conv2DTranspose(filters=?, kernel_size=(3, 3), strides=2, activation='elu', padding='same')\n",
        "```\n",
        "\n",
        "Our decoder starts with a dense layer to \"undo\" the last layer of encoder. Remember to reshape its output to \"undo\" `L.Flatten()` in encoder.\n",
        "\n",
        "Now we're ready to undo (conv, pool) pairs. For this we need to stack 4 `L.Conv2DTranspose` layers with the following numbers of output channels: `128, 64, 32, 3`. Each of these layers will learn to \"undo\" (conv, pool) pair in encoder. For the last `L.Conv2DTranspose` layer use `activation=None` because that is our final image."
      ]
    },
    {
      "cell_type": "code",
      "metadata": {
        "ExecuteTime": {
          "end_time": "2018-01-04T16:43:33.562406Z",
          "start_time": "2018-01-04T16:43:33.426581Z"
        },
        "scrolled": true,
        "id": "aLH31Q9eC8HH",
        "colab_type": "code",
        "colab": {
          "base_uri": "https://localhost:8080/",
          "height": 1000
        },
        "outputId": "0d5f528f-5e1b-448a-fa07-3dd2cc371fbe"
      },
      "source": [
        "# Let's play around with transpose convolution on examples first\n",
        "def test_conv2d_transpose(img_size, filter_size):\n",
        "    print(\"Transpose convolution test for img_size={}, filter_size={}:\".format(img_size, filter_size))\n",
        "    \n",
        "    x = (np.arange(img_size ** 2, dtype=np.float32) + 1).reshape((1, img_size, img_size, 1))\n",
        "    f = (np.ones(filter_size ** 2, dtype=np.float32)).reshape((filter_size, filter_size, 1, 1))\n",
        "\n",
        "    s = reset_tf_session()\n",
        "    \n",
        "    conv = tf.nn.conv2d_transpose(x, f, \n",
        "                                  output_shape=(1, img_size * 2, img_size * 2, 1), \n",
        "                                  strides=[1, 2, 2, 1], \n",
        "                                  padding='SAME')\n",
        "\n",
        "    result = s.run(conv)\n",
        "    print(\"input:\")\n",
        "    print(x[0, :, :, 0])\n",
        "    print(\"filter:\")\n",
        "    print(f[:, :, 0, 0])\n",
        "    print(\"output:\")\n",
        "    print(result[0, :, :, 0])\n",
        "    s.close()\n",
        "        \n",
        "test_conv2d_transpose(img_size=2, filter_size=2)\n",
        "test_conv2d_transpose(img_size=2, filter_size=3)\n",
        "test_conv2d_transpose(img_size=4, filter_size=2)\n",
        "test_conv2d_transpose(img_size=4, filter_size=3)"
      ],
      "execution_count": 12,
      "outputs": [
        {
          "output_type": "stream",
          "text": [
            "Transpose convolution test for img_size=2, filter_size=2:\n",
            "input:\n",
            "[[1. 2.]\n",
            " [3. 4.]]\n",
            "filter:\n",
            "[[1. 1.]\n",
            " [1. 1.]]\n",
            "output:\n",
            "[[1. 1. 2. 2.]\n",
            " [1. 1. 2. 2.]\n",
            " [3. 3. 4. 4.]\n",
            " [3. 3. 4. 4.]]\n",
            "Transpose convolution test for img_size=2, filter_size=3:\n",
            "input:\n",
            "[[1. 2.]\n",
            " [3. 4.]]\n",
            "filter:\n",
            "[[1. 1. 1.]\n",
            " [1. 1. 1.]\n",
            " [1. 1. 1.]]\n",
            "output:\n",
            "[[ 1.  1.  3.  2.]\n",
            " [ 1.  1.  3.  2.]\n",
            " [ 4.  4. 10.  6.]\n",
            " [ 3.  3.  7.  4.]]\n",
            "Transpose convolution test for img_size=4, filter_size=2:\n",
            "input:\n",
            "[[ 1.  2.  3.  4.]\n",
            " [ 5.  6.  7.  8.]\n",
            " [ 9. 10. 11. 12.]\n",
            " [13. 14. 15. 16.]]\n",
            "filter:\n",
            "[[1. 1.]\n",
            " [1. 1.]]\n",
            "output:\n",
            "[[ 1.  1.  2.  2.  3.  3.  4.  4.]\n",
            " [ 1.  1.  2.  2.  3.  3.  4.  4.]\n",
            " [ 5.  5.  6.  6.  7.  7.  8.  8.]\n",
            " [ 5.  5.  6.  6.  7.  7.  8.  8.]\n",
            " [ 9.  9. 10. 10. 11. 11. 12. 12.]\n",
            " [ 9.  9. 10. 10. 11. 11. 12. 12.]\n",
            " [13. 13. 14. 14. 15. 15. 16. 16.]\n",
            " [13. 13. 14. 14. 15. 15. 16. 16.]]\n",
            "Transpose convolution test for img_size=4, filter_size=3:\n",
            "input:\n",
            "[[ 1.  2.  3.  4.]\n",
            " [ 5.  6.  7.  8.]\n",
            " [ 9. 10. 11. 12.]\n",
            " [13. 14. 15. 16.]]\n",
            "filter:\n",
            "[[1. 1. 1.]\n",
            " [1. 1. 1.]\n",
            " [1. 1. 1.]]\n",
            "output:\n",
            "[[ 1.  1.  3.  2.  5.  3.  7.  4.]\n",
            " [ 1.  1.  3.  2.  5.  3.  7.  4.]\n",
            " [ 6.  6. 14.  8. 18. 10. 22. 12.]\n",
            " [ 5.  5. 11.  6. 13.  7. 15.  8.]\n",
            " [14. 14. 30. 16. 34. 18. 38. 20.]\n",
            " [ 9.  9. 19. 10. 21. 11. 23. 12.]\n",
            " [22. 22. 46. 24. 50. 26. 54. 28.]\n",
            " [13. 13. 27. 14. 29. 15. 31. 16.]]\n"
          ],
          "name": "stdout"
        }
      ]
    },
    {
      "cell_type": "code",
      "metadata": {
        "ExecuteTime": {
          "end_time": "2018-01-04T16:44:43.582011Z",
          "start_time": "2018-01-04T16:44:43.516283Z"
        },
        "id": "u9-SgXl0C8HL",
        "colab_type": "code",
        "colab": {
          "base_uri": "https://localhost:8080/",
          "height": 134
        },
        "outputId": "cccb04b8-0651-4c1f-e84b-df74f9d87815"
      },
      "source": [
        "def build_deep_autoencoder(img_shape, code_size):\n",
        "    \"\"\"PCA's deeper brother. See instructions above. Use `code_size` in layer definitions.\"\"\"\n",
        "    H,W,C = img_shape\n",
        "    \n",
        "    # encoder\n",
        "    encoder = keras.models.Sequential()\n",
        "    encoder.add(L.InputLayer(img_shape))\n",
        "    \n",
        "    encoder.add(L.Conv2D(32, (3, 3), activation='elu'))\n",
        "    encoder.add(L.Conv2D(64, (3, 3), activation='elu'))\n",
        "    encoder.add(L.Conv2D(128, (3, 3), activation='elu'))\n",
        "    encoder.add(L.Conv2D(256, (3, 3), activation='elu'))\n",
        "\n",
        "    encoder.add(Flatten())\n",
        "    #encoder.add(Dropout(0.3))\n",
        "    encoder.add(Dense(code_size))\n",
        "\n",
        "    # decoder\n",
        "    last_layer_shape = encoder.layers[-1].output_shape[1:]\n",
        "    decoder = keras.models.Sequential()\n",
        "    decoder.add(L.InputLayer((code_size,)))\n",
        "\n",
        "    decoder.add(L.Dense(np.prod(last_layer_shape))\n",
        "    decoder.add(L.Reshape(last_layer_shape))\n",
        "\n",
        "    decoder.add(L.Conv2DTranspose(filters=128, kernel_size=(3, 3), strides=2, activation='elu'))\n",
        "    decoder.add(L.Conv2DTranspose(filters=64, kernel_size=(3, 3), strides=2, activation='elu'))\n",
        "    decoder.add(L.Conv2DTranspose(filters=32, kernel_size=(3, 3), strides=2, activation='elu'))\n",
        "    decoder.add(L.Conv2DTranspose(filters=3, kernel_size=(3, 3), strides=2))\n",
        "    \n",
        "    return encoder, decoder"
      ],
      "execution_count": 25,
      "outputs": [
        {
          "output_type": "error",
          "ename": "SyntaxError",
          "evalue": "ignored",
          "traceback": [
            "\u001b[0;36m  File \u001b[0;32m\"<ipython-input-25-cee8e5de4f1a>\"\u001b[0;36m, line \u001b[0;32m24\u001b[0m\n\u001b[0;31m    decoder.add(L.Reshape(last_layer_shape))\u001b[0m\n\u001b[0m          ^\u001b[0m\n\u001b[0;31mSyntaxError\u001b[0m\u001b[0;31m:\u001b[0m invalid syntax\n"
          ]
        }
      ]
    },
    {
      "cell_type": "code",
      "metadata": {
        "id": "oR5skLlUUeiJ",
        "colab_type": "code",
        "colab": {
          "base_uri": "https://localhost:8080/",
          "height": 35
        },
        "outputId": "6e5acb1e-0cdc-45e3-b639-f30f81f89473"
      },
      "source": [
        "IMG_SHAPE"
      ],
      "execution_count": 18,
      "outputs": [
        {
          "output_type": "execute_result",
          "data": {
            "text/plain": [
              "(32, 32, 3)"
            ]
          },
          "metadata": {
            "tags": []
          },
          "execution_count": 18
        }
      ]
    },
    {
      "cell_type": "code",
      "metadata": {
        "id": "Ndek1y-4TpjD",
        "colab_type": "code",
        "colab": {
          "base_uri": "https://localhost:8080/",
          "height": 35
        },
        "outputId": "91c045d9-a0f1-4cf5-e71b-800a14bfbb46"
      },
      "source": [
        "encoder = keras.models.Sequential()\n",
        "encoder.add(L.InputLayer(IMG_SHAPE))\n",
        "\n",
        "encoder.add(L.Conv2D(32, (3, 3), activation='elu'))\n",
        "encoder.add(L.Conv2D(64, (3, 3), activation='elu'))\n",
        "encoder.add(L.Conv2D(128, (3, 3), activation='elu'))\n",
        "encoder.add(L.Conv2D(256, (3, 3), activation='elu'))\n",
        "print(encoder.layers[-1].output_shape[1:])"
      ],
      "execution_count": 22,
      "outputs": [
        {
          "output_type": "stream",
          "text": [
            "(24, 24, 256)\n"
          ],
          "name": "stdout"
        }
      ]
    },
    {
      "cell_type": "code",
      "metadata": {
        "ExecuteTime": {
          "end_time": "2018-01-04T16:44:53.805124Z",
          "start_time": "2018-01-04T16:44:52.846510Z"
        },
        "id": "EZx-OP-xC8HO",
        "colab_type": "code",
        "colab": {}
      },
      "source": [
        "# Check autoencoder shapes along different code_sizes\n",
        "get_dim = lambda layer: np.prod(layer.output_shape[1:])\n",
        "for code_size in [1,8,32,128,512]:\n",
        "    s = reset_tf_session()\n",
        "    encoder, decoder = build_deep_autoencoder(IMG_SHAPE, code_size=code_size)\n",
        "    print(\"Testing code size %i\" % code_size)\n",
        "    assert encoder.output_shape[1:]==(code_size,),\"encoder must output a code of required size\"\n",
        "    assert decoder.output_shape[1:]==IMG_SHAPE,   \"decoder must output an image of valid shape\"\n",
        "    assert len(encoder.trainable_weights)>=6,     \"encoder must contain at least 3 layers\"\n",
        "    assert len(decoder.trainable_weights)>=6,     \"decoder must contain at least 3 layers\"\n",
        "    \n",
        "    for layer in encoder.layers + decoder.layers:\n",
        "        assert get_dim(layer) >= code_size, \"Encoder layer %s is smaller than bottleneck (%i units)\"%(layer.name,get_dim(layer))\n",
        "\n",
        "print(\"All tests passed!\")\n",
        "s = reset_tf_session()"
      ],
      "execution_count": 0,
      "outputs": []
    },
    {
      "cell_type": "code",
      "metadata": {
        "ExecuteTime": {
          "end_time": "2018-01-04T16:45:16.966538Z",
          "start_time": "2018-01-04T16:45:16.804252Z"
        },
        "scrolled": true,
        "id": "ybdDSGbXC8HS",
        "colab_type": "code",
        "colab": {}
      },
      "source": [
        "# Look at encoder and decoder shapes.\n",
        "# Total number of trainable parameters of encoder and decoder should be close.\n",
        "s = reset_tf_session()\n",
        "encoder, decoder = build_deep_autoencoder(IMG_SHAPE, code_size=32)\n",
        "encoder.summary()\n",
        "decoder.summary()"
      ],
      "execution_count": 0,
      "outputs": []
    },
    {
      "cell_type": "markdown",
      "metadata": {
        "id": "u15qpfVGC8HV",
        "colab_type": "text"
      },
      "source": [
        "Convolutional autoencoder training. This will take **1 hour**. You're aiming at ~0.0056 validation MSE and ~0.0054 training MSE."
      ]
    },
    {
      "cell_type": "code",
      "metadata": {
        "ExecuteTime": {
          "end_time": "2018-01-04T16:48:32.365157Z",
          "start_time": "2018-01-04T16:46:03.202875Z"
        },
        "id": "zZsR3TB8C8HW",
        "colab_type": "code",
        "colab": {}
      },
      "source": [
        "s = reset_tf_session()\n",
        "\n",
        "encoder, decoder = build_deep_autoencoder(IMG_SHAPE, code_size=32)\n",
        "\n",
        "inp = L.Input(IMG_SHAPE)\n",
        "code = encoder(inp)\n",
        "reconstruction = decoder(code)\n",
        "\n",
        "autoencoder = keras.models.Model(inputs=inp, outputs=reconstruction)\n",
        "autoencoder.compile(optimizer=\"adamax\", loss='mse')"
      ],
      "execution_count": 0,
      "outputs": []
    },
    {
      "cell_type": "code",
      "metadata": {
        "ExecuteTime": {
          "end_time": "2018-01-04T16:48:32.365157Z",
          "start_time": "2018-01-04T16:46:03.202875Z"
        },
        "id": "eIFN-nxLC8HY",
        "colab_type": "code",
        "colab": {}
      },
      "source": [
        "# we will save model checkpoints here to continue training in case of kernel death\n",
        "model_filename = 'autoencoder.{0:03d}.hdf5'\n",
        "last_finished_epoch = None\n",
        "\n",
        "#### uncomment below to continue training from model checkpoint\n",
        "#### fill `last_finished_epoch` with your latest finished epoch\n",
        "# from keras.models import load_model\n",
        "# s = reset_tf_session()\n",
        "# last_finished_epoch = 4\n",
        "# autoencoder = load_model(model_filename.format(last_finished_epoch))\n",
        "# encoder = autoencoder.layers[1]\n",
        "# decoder = autoencoder.layers[2]"
      ],
      "execution_count": 0,
      "outputs": []
    },
    {
      "cell_type": "code",
      "metadata": {
        "ExecuteTime": {
          "end_time": "2018-01-04T16:48:32.365157Z",
          "start_time": "2018-01-04T16:46:03.202875Z"
        },
        "scrolled": true,
        "id": "hCjVleDjC8Hb",
        "colab_type": "code",
        "colab": {}
      },
      "source": [
        "autoencoder.fit(x=X_train, y=X_train, epochs=25,\n",
        "                validation_data=[X_test, X_test],\n",
        "                callbacks=[keras_utils.ModelSaveCallback(model_filename),\n",
        "                           keras_utils.TqdmProgressCallback()],\n",
        "                verbose=0,\n",
        "                initial_epoch=last_finished_epoch or 0)"
      ],
      "execution_count": 0,
      "outputs": []
    },
    {
      "cell_type": "code",
      "metadata": {
        "ExecuteTime": {
          "end_time": "2018-01-04T16:49:25.084704Z",
          "start_time": "2018-01-04T16:49:23.236568Z"
        },
        "scrolled": true,
        "id": "ngIzsTmRC8Hf",
        "colab_type": "code",
        "colab": {}
      },
      "source": [
        "reconstruction_mse = autoencoder.evaluate(X_test, X_test, verbose=0)\n",
        "print(\"Convolutional autoencoder MSE:\", reconstruction_mse)\n",
        "for i in range(5):\n",
        "    img = X_test[i]\n",
        "    visualize(img,encoder,decoder)"
      ],
      "execution_count": 0,
      "outputs": []
    },
    {
      "cell_type": "code",
      "metadata": {
        "ExecuteTime": {
          "end_time": "2018-01-04T16:49:54.273061Z",
          "start_time": "2018-01-04T16:49:54.230656Z"
        },
        "id": "abSMKmDAC8Hk",
        "colab_type": "code",
        "colab": {}
      },
      "source": [
        "# save trained weights\n",
        "encoder.save_weights(\"encoder.h5\")\n",
        "decoder.save_weights(\"decoder.h5\")"
      ],
      "execution_count": 0,
      "outputs": []
    },
    {
      "cell_type": "code",
      "metadata": {
        "ExecuteTime": {
          "end_time": "2018-01-04T16:50:01.657093Z",
          "start_time": "2018-01-04T16:50:01.067976Z"
        },
        "id": "qMP7NqmOC8Hn",
        "colab_type": "code",
        "colab": {}
      },
      "source": [
        "# restore trained weights\n",
        "s = reset_tf_session()\n",
        "\n",
        "encoder, decoder = build_deep_autoencoder(IMG_SHAPE, code_size=32)\n",
        "encoder.load_weights(\"encoder.h5\")\n",
        "decoder.load_weights(\"decoder.h5\")\n",
        "\n",
        "inp = L.Input(IMG_SHAPE)\n",
        "code = encoder(inp)\n",
        "reconstruction = decoder(code)\n",
        "\n",
        "autoencoder = keras.models.Model(inputs=inp, outputs=reconstruction)\n",
        "autoencoder.compile(optimizer=\"adamax\", loss='mse')\n",
        "\n",
        "print(autoencoder.evaluate(X_test, X_test, verbose=0))\n",
        "print(reconstruction_mse)"
      ],
      "execution_count": 0,
      "outputs": []
    },
    {
      "cell_type": "markdown",
      "metadata": {
        "id": "tuTd5hNJC8Hr",
        "colab_type": "text"
      },
      "source": [
        "# Submit to Coursera"
      ]
    },
    {
      "cell_type": "code",
      "metadata": {
        "collapsed": true,
        "id": "_9k8mXPxC8Hs",
        "colab_type": "code",
        "colab": {}
      },
      "source": [
        "from submit import submit_autoencoder\n",
        "submission = build_deep_autoencoder(IMG_SHAPE, code_size=71)\n",
        "\n",
        "# token expires every 30 min\n",
        "COURSERA_TOKEN = ### YOUR TOKEN HERE\n",
        "COURSERA_EMAIL = ### YOUR EMAIL HERE\n",
        "\n",
        "submit_autoencoder(submission, reconstruction_mse, COURSERA_EMAIL, COURSERA_TOKEN)"
      ],
      "execution_count": 0,
      "outputs": []
    },
    {
      "cell_type": "markdown",
      "metadata": {
        "id": "lQRJzREEC8Hu",
        "colab_type": "text"
      },
      "source": [
        "# Optional: Denoising Autoencoder\n",
        "\n",
        "This part is **optional**, it shows you one useful application of autoencoders: denoising. You can run this code and make sure denoising works :) \n",
        "\n",
        "Let's now turn our model into a denoising autoencoder:\n",
        "<img src=\"https://github.com/alex-kozinov/courses/blob/master/advanced-ml/intro-to-dl-master/week4/images/denoising.jpg?raw=1\" style=\"width:40%\">\n",
        "\n",
        "We'll keep the model architecture, but change the way it is trained. In particular, we'll corrupt its input data randomly with noise before each epoch.\n",
        "\n",
        "There are many strategies to introduce noise: adding gaussian white noise, occluding with random black rectangles, etc. We will add gaussian white noise."
      ]
    },
    {
      "cell_type": "code",
      "metadata": {
        "ExecuteTime": {
          "end_time": "2018-01-04T16:52:04.861818Z",
          "start_time": "2018-01-04T16:52:04.856134Z"
        },
        "collapsed": true,
        "id": "ozPeRHGIC8Hv",
        "colab_type": "code",
        "colab": {}
      },
      "source": [
        "def apply_gaussian_noise(X,sigma=0.1):\n",
        "    \"\"\"\n",
        "    adds noise from standard normal distribution with standard deviation sigma\n",
        "    :param X: image tensor of shape [batch,height,width,3]\n",
        "    Returns X + noise.\n",
        "    \"\"\"\n",
        "    noise = ### YOUR CODE HERE ###\n",
        "    return X + noise"
      ],
      "execution_count": 0,
      "outputs": []
    },
    {
      "cell_type": "code",
      "metadata": {
        "ExecuteTime": {
          "end_time": "2018-01-04T16:52:06.264119Z",
          "start_time": "2018-01-04T16:52:06.223714Z"
        },
        "collapsed": true,
        "id": "7VoRJx49C8H0",
        "colab_type": "code",
        "colab": {}
      },
      "source": [
        "# noise tests\n",
        "theoretical_std = (X_train[:100].std()**2 + 0.5**2)**.5\n",
        "our_std = apply_gaussian_noise(X_train[:100],sigma=0.5).std()\n",
        "assert abs(theoretical_std - our_std) < 0.01, \"Standard deviation does not match it's required value. Make sure you use sigma as std.\"\n",
        "assert abs(apply_gaussian_noise(X_train[:100],sigma=0.5).mean() - X_train[:100].mean()) < 0.01, \"Mean has changed. Please add zero-mean noise\""
      ],
      "execution_count": 0,
      "outputs": []
    },
    {
      "cell_type": "code",
      "metadata": {
        "ExecuteTime": {
          "end_time": "2018-01-04T16:52:08.220681Z",
          "start_time": "2018-01-04T16:52:07.737460Z"
        },
        "collapsed": true,
        "id": "hbXcIrCJC8H2",
        "colab_type": "code",
        "colab": {}
      },
      "source": [
        "# test different noise scales\n",
        "plt.subplot(1,4,1)\n",
        "show_image(X_train[0])\n",
        "plt.subplot(1,4,2)\n",
        "show_image(apply_gaussian_noise(X_train[:1],sigma=0.01)[0])\n",
        "plt.subplot(1,4,3)\n",
        "show_image(apply_gaussian_noise(X_train[:1],sigma=0.1)[0])\n",
        "plt.subplot(1,4,4)\n",
        "show_image(apply_gaussian_noise(X_train[:1],sigma=0.5)[0])"
      ],
      "execution_count": 0,
      "outputs": []
    },
    {
      "cell_type": "markdown",
      "metadata": {
        "id": "jGNoy64nC8H3",
        "colab_type": "text"
      },
      "source": [
        "Training will take **1 hour**."
      ]
    },
    {
      "cell_type": "code",
      "metadata": {
        "ExecuteTime": {
          "end_time": "2018-01-04T16:56:02.667408Z",
          "start_time": "2018-01-04T16:52:31.853874Z"
        },
        "collapsed": true,
        "scrolled": true,
        "id": "1csisZcwC8H4",
        "colab_type": "code",
        "colab": {}
      },
      "source": [
        "s = reset_tf_session()\n",
        "\n",
        "# we use bigger code size here for better quality\n",
        "encoder, decoder = build_deep_autoencoder(IMG_SHAPE, code_size=512)\n",
        "assert encoder.output_shape[1:]==(512,), \"encoder must output a code of required size\"\n",
        "\n",
        "inp = L.Input(IMG_SHAPE)\n",
        "code = encoder(inp)\n",
        "reconstruction = decoder(code)\n",
        "\n",
        "autoencoder = keras.models.Model(inp, reconstruction)\n",
        "autoencoder.compile('adamax', 'mse')\n",
        "\n",
        "for i in range(25):\n",
        "    print(\"Epoch %i/25, Generating corrupted samples...\"%(i+1))\n",
        "    X_train_noise = apply_gaussian_noise(X_train)\n",
        "    X_test_noise = apply_gaussian_noise(X_test)\n",
        "    \n",
        "    # we continue to train our model with new noise-augmented data\n",
        "    autoencoder.fit(x=X_train_noise, y=X_train, epochs=1,\n",
        "                    validation_data=[X_test_noise, X_test],\n",
        "                    callbacks=[keras_utils.TqdmProgressCallback()],\n",
        "                    verbose=0)"
      ],
      "execution_count": 0,
      "outputs": []
    },
    {
      "cell_type": "code",
      "metadata": {
        "ExecuteTime": {
          "end_time": "2018-01-04T16:56:09.059164Z",
          "start_time": "2018-01-04T16:56:06.987995Z"
        },
        "collapsed": true,
        "scrolled": true,
        "id": "KbndtLa7C8H6",
        "colab_type": "code",
        "colab": {}
      },
      "source": [
        "X_test_noise = apply_gaussian_noise(X_test)\n",
        "denoising_mse = autoencoder.evaluate(X_test_noise, X_test, verbose=0)\n",
        "print(\"Denoising MSE:\", denoising_mse)\n",
        "for i in range(5):\n",
        "    img = X_test_noise[i]\n",
        "    visualize(img,encoder,decoder)"
      ],
      "execution_count": 0,
      "outputs": []
    },
    {
      "cell_type": "markdown",
      "metadata": {
        "id": "oklZ0aMoC8H8",
        "colab_type": "text"
      },
      "source": [
        "# Optional: Image retrieval with autoencoders\n",
        "\n",
        "So we've just trained a network that converts image into itself imperfectly. This task is not that useful in and of itself, but it has a number of awesome side-effects. Let's see them in action.\n",
        "\n",
        "First thing we can do is image retrieval aka image search. We will give it an image and find similar images in latent space:\n",
        "\n",
        "<img src=\"https://github.com/alex-kozinov/courses/blob/master/advanced-ml/intro-to-dl-master/week4/images/similar_images.jpg?raw=1\" style=\"width:60%\">\n",
        "\n",
        "To speed up retrieval process, one should use Locality Sensitive Hashing on top of encoded vectors. This [technique](https://erikbern.com/2015/07/04/benchmark-of-approximate-nearest-neighbor-libraries.html) can narrow down the potential nearest neighbours of our image in latent space (encoder code). We will caclulate nearest neighbours in brute force way for simplicity."
      ]
    },
    {
      "cell_type": "code",
      "metadata": {
        "ExecuteTime": {
          "end_time": "2018-01-04T16:56:25.988163Z",
          "start_time": "2018-01-04T16:56:25.784071Z"
        },
        "collapsed": true,
        "id": "-zdfwD3bC8H9",
        "colab_type": "code",
        "colab": {}
      },
      "source": [
        "# restore trained encoder weights\n",
        "s = reset_tf_session()\n",
        "encoder, decoder = build_deep_autoencoder(IMG_SHAPE, code_size=32)\n",
        "encoder.load_weights(\"encoder.h5\")"
      ],
      "execution_count": 0,
      "outputs": []
    },
    {
      "cell_type": "code",
      "metadata": {
        "ExecuteTime": {
          "end_time": "2018-01-04T16:56:30.368727Z",
          "start_time": "2018-01-04T16:56:29.246409Z"
        },
        "collapsed": true,
        "id": "VGcLECCzC8IB",
        "colab_type": "code",
        "colab": {}
      },
      "source": [
        "images = X_train\n",
        "codes = ### YOUR CODE HERE: encode all images ###\n",
        "assert len(codes) == len(images)"
      ],
      "execution_count": 0,
      "outputs": []
    },
    {
      "cell_type": "code",
      "metadata": {
        "ExecuteTime": {
          "end_time": "2018-01-04T16:56:39.396176Z",
          "start_time": "2018-01-04T16:56:39.370156Z"
        },
        "collapsed": true,
        "id": "VzhvyszPC8IH",
        "colab_type": "code",
        "colab": {}
      },
      "source": [
        "from sklearn.neighbors.unsupervised import NearestNeighbors\n",
        "nei_clf = NearestNeighbors(metric=\"euclidean\")\n",
        "nei_clf.fit(codes)"
      ],
      "execution_count": 0,
      "outputs": []
    },
    {
      "cell_type": "code",
      "metadata": {
        "ExecuteTime": {
          "end_time": "2018-01-04T16:56:42.213214Z",
          "start_time": "2018-01-04T16:56:42.206902Z"
        },
        "collapsed": true,
        "id": "o74JI3SVC8IK",
        "colab_type": "code",
        "colab": {}
      },
      "source": [
        "def get_similar(image, n_neighbors=5):\n",
        "    assert image.ndim==3,\"image must be [batch,height,width,3]\"\n",
        "\n",
        "    code = encoder.predict(image[None])\n",
        "    \n",
        "    (distances,),(idx,) = nei_clf.kneighbors(code,n_neighbors=n_neighbors)\n",
        "    \n",
        "    return distances,images[idx]"
      ],
      "execution_count": 0,
      "outputs": []
    },
    {
      "cell_type": "code",
      "metadata": {
        "ExecuteTime": {
          "end_time": "2018-01-04T16:56:44.008658Z",
          "start_time": "2018-01-04T16:56:43.997658Z"
        },
        "collapsed": true,
        "id": "6pjF0XeoC8IL",
        "colab_type": "code",
        "colab": {}
      },
      "source": [
        "def show_similar(image):\n",
        "    \n",
        "    distances,neighbors = get_similar(image,n_neighbors=3)\n",
        "    \n",
        "    plt.figure(figsize=[8,7])\n",
        "    plt.subplot(1,4,1)\n",
        "    show_image(image)\n",
        "    plt.title(\"Original image\")\n",
        "    \n",
        "    for i in range(3):\n",
        "        plt.subplot(1,4,i+2)\n",
        "        show_image(neighbors[i])\n",
        "        plt.title(\"Dist=%.3f\"%distances[i])\n",
        "    plt.show()"
      ],
      "execution_count": 0,
      "outputs": []
    },
    {
      "cell_type": "markdown",
      "metadata": {
        "id": "mIfre7SgC8IN",
        "colab_type": "text"
      },
      "source": [
        "Cherry-picked examples:"
      ]
    },
    {
      "cell_type": "code",
      "metadata": {
        "ExecuteTime": {
          "end_time": "2018-01-04T16:57:31.768260Z",
          "start_time": "2018-01-04T16:57:31.240174Z"
        },
        "collapsed": true,
        "id": "_MpoO8vhC8IO",
        "colab_type": "code",
        "colab": {}
      },
      "source": [
        "# smiles\n",
        "show_similar(X_test[247])"
      ],
      "execution_count": 0,
      "outputs": []
    },
    {
      "cell_type": "code",
      "metadata": {
        "ExecuteTime": {
          "end_time": "2018-01-04T16:56:50.828404Z",
          "start_time": "2018-01-04T16:56:50.462822Z"
        },
        "collapsed": true,
        "id": "Uz8mZjU3C8IP",
        "colab_type": "code",
        "colab": {}
      },
      "source": [
        "# ethnicity\n",
        "show_similar(X_test[56])"
      ],
      "execution_count": 0,
      "outputs": []
    },
    {
      "cell_type": "code",
      "metadata": {
        "ExecuteTime": {
          "end_time": "2018-01-04T16:56:52.939288Z",
          "start_time": "2018-01-04T16:56:52.576097Z"
        },
        "collapsed": true,
        "scrolled": false,
        "id": "Rlu3DAVLC8IS",
        "colab_type": "code",
        "colab": {}
      },
      "source": [
        "# glasses\n",
        "show_similar(X_test[63])"
      ],
      "execution_count": 0,
      "outputs": []
    },
    {
      "cell_type": "markdown",
      "metadata": {
        "collapsed": true,
        "id": "WAUFbYBvC8IV",
        "colab_type": "text"
      },
      "source": [
        "# Optional: Cheap image morphing\n"
      ]
    },
    {
      "cell_type": "markdown",
      "metadata": {
        "id": "oCtPwBb5C8IV",
        "colab_type": "text"
      },
      "source": [
        "We can take linear combinations of image codes to produce new images with decoder."
      ]
    },
    {
      "cell_type": "code",
      "metadata": {
        "ExecuteTime": {
          "end_time": "2018-01-04T16:57:58.378044Z",
          "start_time": "2018-01-04T16:57:58.145544Z"
        },
        "collapsed": true,
        "id": "w2xbiMqqC8IW",
        "colab_type": "code",
        "colab": {}
      },
      "source": [
        "# restore trained encoder weights\n",
        "s = reset_tf_session()\n",
        "encoder, decoder = build_deep_autoencoder(IMG_SHAPE, code_size=32)\n",
        "encoder.load_weights(\"encoder.h5\")\n",
        "decoder.load_weights(\"decoder.h5\")"
      ],
      "execution_count": 0,
      "outputs": []
    },
    {
      "cell_type": "code",
      "metadata": {
        "ExecuteTime": {
          "end_time": "2018-01-04T16:58:03.396368Z",
          "start_time": "2018-01-04T16:58:00.359973Z"
        },
        "collapsed": true,
        "id": "JooK2orYC8IY",
        "colab_type": "code",
        "colab": {}
      },
      "source": [
        "for _ in range(5):\n",
        "    image1,image2 = X_test[np.random.randint(0,len(X_test),size=2)]\n",
        "\n",
        "    code1, code2 = encoder.predict(np.stack([image1, image2]))\n",
        "\n",
        "    plt.figure(figsize=[10,4])\n",
        "    for i,a in enumerate(np.linspace(0,1,num=7)):\n",
        "\n",
        "        output_code = code1*(1-a) + code2*(a)\n",
        "        output_image = decoder.predict(output_code[None])[0]\n",
        "\n",
        "        plt.subplot(1,7,i+1)\n",
        "        show_image(output_image)\n",
        "        plt.title(\"a=%.2f\"%a)\n",
        "        \n",
        "    plt.show()"
      ],
      "execution_count": 0,
      "outputs": []
    },
    {
      "cell_type": "markdown",
      "metadata": {
        "collapsed": true,
        "id": "HHlcRHd1C8Ib",
        "colab_type": "text"
      },
      "source": [
        "That's it!\n",
        "\n",
        "Of course there's a lot more you can do with autoencoders.\n",
        "\n",
        "If you want to generate images from scratch, however, we recommend you our honor track on Generative Adversarial Networks or GANs."
      ]
    }
  ]
}