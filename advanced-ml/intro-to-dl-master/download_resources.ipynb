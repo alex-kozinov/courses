{
  "nbformat": 4,
  "nbformat_minor": 0,
  "metadata": {
    "kernelspec": {
      "display_name": "Python 3",
      "language": "python",
      "name": "python3"
    },
    "language_info": {
      "codemirror_mode": {
        "name": "ipython",
        "version": 3
      },
      "file_extension": ".py",
      "mimetype": "text/x-python",
      "name": "python",
      "nbconvert_exporter": "python",
      "pygments_lexer": "ipython3",
      "version": "3.7.3"
    },
    "colab": {
      "name": "download_resources.ipynb",
      "provenance": []
    }
  },
  "cells": [
    {
      "cell_type": "code",
      "metadata": {
        "id": "KzilwzWAi-0P",
        "colab_type": "code",
        "colab": {}
      },
      "source": [
        "import download_utils"
      ],
      "execution_count": 0,
      "outputs": []
    },
    {
      "cell_type": "markdown",
      "metadata": {
        "id": "JNaZCOCGi-0W",
        "colab_type": "text"
      },
      "source": [
        "## Keras resources"
      ]
    },
    {
      "cell_type": "code",
      "metadata": {
        "id": "L3RO2u7gi-0X",
        "colab_type": "code",
        "colab": {}
      },
      "source": [
        "download_utils.download_all_keras_resources(\"readonly/keras/models\", \"readonly/keras/datasets\")"
      ],
      "execution_count": 0,
      "outputs": []
    },
    {
      "cell_type": "markdown",
      "metadata": {
        "id": "vMpV-ikyi-0b",
        "colab_type": "text"
      },
      "source": [
        "## Week 3 resources"
      ]
    },
    {
      "cell_type": "code",
      "metadata": {
        "id": "shnhYutHi-0c",
        "colab_type": "code",
        "colab": {}
      },
      "source": [
        "download_utils.download_week_3_resources(\"readonly/week3\")"
      ],
      "execution_count": 0,
      "outputs": []
    },
    {
      "cell_type": "markdown",
      "metadata": {
        "id": "WxcQhdj8i-0f",
        "colab_type": "text"
      },
      "source": [
        "## Week 4 resources"
      ]
    },
    {
      "cell_type": "code",
      "metadata": {
        "id": "ssx0Jxivi-0g",
        "colab_type": "code",
        "colab": {}
      },
      "source": [
        "download_utils.download_week_4_resources(\"readonly/week4\")"
      ],
      "execution_count": 0,
      "outputs": []
    },
    {
      "cell_type": "markdown",
      "metadata": {
        "id": "u9uBpy0Ei-0l",
        "colab_type": "text"
      },
      "source": [
        "## Week 6 resources"
      ]
    },
    {
      "cell_type": "code",
      "metadata": {
        "id": "R1Orptt_i-0n",
        "colab_type": "code",
        "colab": {}
      },
      "source": [
        "download_utils.download_week_6_resources(\"readonly/week6\")"
      ],
      "execution_count": 0,
      "outputs": []
    },
    {
      "cell_type": "markdown",
      "metadata": {
        "id": "E-j9gwlMjAFV",
        "colab_type": "text"
      },
      "source": [
        "test"
      ]
    }
  ]
}