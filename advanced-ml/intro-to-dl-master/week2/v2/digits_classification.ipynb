{
 "cells": [
  {
   "cell_type": "markdown",
   "metadata": {
    "slideshow": {
     "slide_type": "slide"
    }
   },
   "source": [
    "# MNIST digits classification with TensorFlow"
   ]
  },
  {
   "cell_type": "markdown",
   "metadata": {},
   "source": [
    "<img src=\"images/mnist_sample.png\" style=\"width:30%\">"
   ]
  },
  {
   "cell_type": "code",
   "execution_count": 1,
   "metadata": {},
   "outputs": [
    {
     "name": "stdout",
     "output_type": "stream",
     "text": [
      "We're using TF 1.13.1\n"
     ]
    },
    {
     "name": "stderr",
     "output_type": "stream",
     "text": [
      "Using TensorFlow backend.\n"
     ]
    }
   ],
   "source": [
    "import numpy as np\n",
    "from sklearn.metrics import accuracy_score\n",
    "from matplotlib import pyplot as plt\n",
    "%matplotlib inline\n",
    "import tensorflow as tf\n",
    "print(\"We're using TF\", tf.__version__)\n",
    "\n",
    "import sys\n",
    "sys.path.append(\"../..\")\n",
    "import grading\n",
    "\n",
    "import matplotlib_utils\n",
    "from importlib import reload\n",
    "reload(matplotlib_utils)\n",
    "\n",
    "import grading_utils\n",
    "reload(grading_utils)\n",
    "\n",
    "import keras_utils\n",
    "from keras_utils import reset_tf_session"
   ]
  },
  {
   "cell_type": "markdown",
   "metadata": {},
   "source": [
    "# Fill in your Coursera token and email\n",
    "To successfully submit your answers to our grader, please fill in your Coursera submission token and email"
   ]
  },
  {
   "cell_type": "code",
   "execution_count": 2,
   "metadata": {},
   "outputs": [],
   "source": [
    "grader = grading.Grader(assignment_key=\"XtD7ho3TEeiHQBLWejjYAA\", \n",
    "                        all_parts=[\"9XaAS\", \"vmogZ\", \"RMv95\", \"i8bgs\", \"rE763\"])"
   ]
  },
  {
   "cell_type": "code",
   "execution_count": 3,
   "metadata": {},
   "outputs": [],
   "source": [
    "# token expires every 30 min\n",
    "COURSERA_TOKEN = \"qDXlWjq3Cwviivop\"\n",
    "COURSERA_EMAIL = \"kozinov.av@phystech.edu\""
   ]
  },
  {
   "cell_type": "markdown",
   "metadata": {},
   "source": [
    "# Look at the data\n",
    "\n",
    "In this task we have 50000 28x28 images of digits from 0 to 9.\n",
    "We will train a classifier on this data."
   ]
  },
  {
   "cell_type": "code",
   "execution_count": 4,
   "metadata": {},
   "outputs": [],
   "source": [
    "import preprocessed_mnist\n",
    "X_train, y_train, X_val, y_val, X_test, y_test = preprocessed_mnist.load_dataset()"
   ]
  },
  {
   "cell_type": "code",
   "execution_count": 5,
   "metadata": {},
   "outputs": [
    {
     "name": "stdout",
     "output_type": "stream",
     "text": [
      "X_train [shape (50000, 28, 28)] sample patch:\n",
      " [[0.         0.29803922 0.96470588 0.98823529 0.43921569]\n",
      " [0.         0.33333333 0.98823529 0.90196078 0.09803922]\n",
      " [0.         0.33333333 0.98823529 0.8745098  0.        ]\n",
      " [0.         0.33333333 0.98823529 0.56862745 0.        ]\n",
      " [0.         0.3372549  0.99215686 0.88235294 0.        ]]\n",
      "A closeup of a sample patch:\n"
     ]
    },
    {
     "data": {
      "image/png": "[encoded data removed]",
      "text/plain": [
       "<Figure size 432x288 with 1 Axes>"
      ]
     },
     "metadata": {
      "needs_background": "light"
     },
     "output_type": "display_data"
    },
    {
     "name": "stdout",
     "output_type": "stream",
     "text": [
      "And the whole sample:\n"
     ]
    },
    {
     "data": {
      "image/png": "[encoded data removed]",
      "text/plain": [
       "<Figure size 432x288 with 1 Axes>"
      ]
     },
     "metadata": {
      "needs_background": "light"
     },
     "output_type": "display_data"
    },
    {
     "name": "stdout",
     "output_type": "stream",
     "text": [
      "y_train [shape (50000,)] 10 samples:\n",
      " [5 0 4 1 9 2 1 3 1 4]\n"
     ]
    }
   ],
   "source": [
    "# X contains rgb values divided by 255\n",
    "print(\"X_train [shape %s] sample patch:\\n\" % (str(X_train.shape)), X_train[1, 15:20, 5:10])\n",
    "print(\"A closeup of a sample patch:\")\n",
    "plt.imshow(X_train[1, 15:20, 5:10], cmap=\"Greys\")\n",
    "plt.show()\n",
    "print(\"And the whole sample:\")\n",
    "plt.imshow(X_train[1], cmap=\"Greys\")\n",
    "plt.show()\n",
    "print(\"y_train [shape %s] 10 samples:\\n\" % (str(y_train.shape)), y_train[:10])"
   ]
  },
  {
   "cell_type": "markdown",
   "metadata": {},
   "source": [
    "# Linear model\n",
    "\n",
    "Your task is to train a linear classifier $\\vec{x} \\rightarrow y$ with SGD using TensorFlow.\n",
    "\n",
    "You will need to calculate a logit (a linear transformation) $z_k$ for each class: \n",
    "$$z_k = \\vec{x} \\cdot \\vec{w_k} + b_k \\quad k = 0..9$$\n",
    "\n",
    "And transform logits $z_k$ to valid probabilities $p_k$ with softmax: \n",
    "$$p_k = \\frac{e^{z_k}}{\\sum_{i=0}^{9}{e^{z_i}}} \\quad k = 0..9$$\n",
    "\n",
    "We will use a cross-entropy loss to train our multi-class classifier:\n",
    "$$\\text{cross-entropy}(y, p) = -\\sum_{k=0}^{9}{\\log(p_k)[y = k]}$$ \n",
    "\n",
    "where \n",
    "$$\n",
    "[x]=\\begin{cases}\n",
    "       1, \\quad \\text{if $x$ is true} \\\\\n",
    "       0, \\quad \\text{otherwise}\n",
    "    \\end{cases}\n",
    "$$\n",
    "\n",
    "Cross-entropy minimization pushes $p_k$ close to 1 when $y = k$, which is what we want.\n",
    "\n",
    "Here's the plan:\n",
    "* Flatten the images (28x28 -> 784) with `X_train.reshape((X_train.shape[0], -1))` to simplify our linear model implementation\n",
    "* Use a matrix placeholder for flattened `X_train`\n",
    "* Convert `y_train` to one-hot encoded vectors that are needed for cross-entropy\n",
    "* Use a shared variable `W` for all weights (a column $\\vec{w_k}$ per class) and `b` for all biases.\n",
    "* Aim for ~0.93 validation accuracy"
   ]
  },
  {
   "cell_type": "code",
   "execution_count": 11,
   "metadata": {},
   "outputs": [
    {
     "name": "stdout",
     "output_type": "stream",
     "text": [
      "(50000, 784)\n",
      "(10000, 784)\n"
     ]
    }
   ],
   "source": [
    "X_train_flat = X_train.reshape((X_train.shape[0], -1))\n",
    "print(X_train_flat.shape)\n",
    "\n",
    "X_val_flat = X_val.reshape((X_val.shape[0], -1))\n",
    "print(X_val_flat.shape)"
   ]
  },
  {
   "cell_type": "code",
   "execution_count": 6,
   "metadata": {},
   "outputs": [
    {
     "name": "stdout",
     "output_type": "stream",
     "text": [
      "(50000, 10)\n",
      "[[0. 0. 0. 0. 0. 1. 0. 0. 0. 0.]\n",
      " [1. 0. 0. 0. 0. 0. 0. 0. 0. 0.]\n",
      " [0. 0. 0. 0. 1. 0. 0. 0. 0. 0.]] [5 0 4]\n"
     ]
    }
   ],
   "source": [
    "import keras\n",
    "\n",
    "y_train_oh = keras.utils.to_categorical(y_train, 10)\n",
    "y_val_oh = keras.utils.to_categorical(y_val, 10)\n",
    "\n",
    "print(y_train_oh.shape)\n",
    "print(y_train_oh[:3], y_train[:3])"
   ]
  },
  {
   "cell_type": "code",
   "execution_count": 8,
   "metadata": {},
   "outputs": [],
   "source": [
    "# run this again if you remake your graph\n",
    "s = reset_tf_session()"
   ]
  },
  {
   "cell_type": "code",
   "execution_count": 86,
   "metadata": {},
   "outputs": [],
   "source": [
    "# Model parameters: W and b\n",
    "W = tf.get_variable(\"W\", shape=(784, 10), dtype=tf.float32)\n",
    "b = tf.get_variable(\"b\", shape=(1, 10), dtype=tf.float32)"
   ]
  },
  {
   "cell_type": "code",
   "execution_count": 87,
   "metadata": {},
   "outputs": [],
   "source": [
    "# Placeholders for the input data\n",
    "input_X = tf.placeholder(tf.float32, shape=(None, 784))\n",
    "input_y = tf.placeholder(tf.float32, shape=(None, 10))"
   ]
  },
  {
   "cell_type": "code",
   "execution_count": 70,
   "metadata": {},
   "outputs": [],
   "source": [
    "# Compute predictions\n",
    "logits = tf.add(tf.matmul(input_X, W), b, name=\"z\")\n",
    "probas = tf.nn.softmax(logits, name='p')\n",
    "classes = tf.argmax(probas, axis=1, name='prdicted_class')\n",
    "\n",
    "# Loss should be a scalar number: average loss over all the objects with tf.reduce_mean().\n",
    "# Use tf.nn.softmax_cross_entropy_with_logits on top of one-hot encoded input_y and logits.\n",
    "# It is identical to calculating cross-entropy on top of probas, but is more numerically friendly (read the docs).\n",
    "loss = tf.nn.softmax_cross_entropy_with_logits(labels=input_y, logits=logits)\n",
    "\n",
    "# Use a default tf.train.AdamOptimizer to get an SGD step\n",
    "optimizer = tf.train.AdamOptimizer()\n",
    "step = optimizer.minimize(loss)"
   ]
  },
  {
   "cell_type": "code",
   "execution_count": 90,
   "metadata": {
    "scrolled": false
   },
   "outputs": [
    {
     "data": {
      "text/html": [
       "<img src=\"data:image/jpeg;base64,/9j/4AAQSkZJRgABAQEASABIAAD/2wBDAAIBAQEBAQIBAQECAgICAgQDAgICAgUEBAMEBgUGBgYFBgYGBwkIBgcJBwYGCAsICQoKCgoKBggLDAsKDAkKCgr/2wBDAQICAgICAgUDAwUKBwYHCgoKCgoKCgoKCgoKCgoKCgoKCgoKCgoKCgoKCgoKCgoKCgoKCgoKCgoKCgoKCgoKCgr/wAARCAEgA2ADASIAAhEBAxEB/8QAHwAAAQUBAQEBAQEAAAAAAAAAAAECAwQFBgcICQoL/8QAtRAAAgEDAwIEAwUFBAQAAAF9AQIDAAQRBRIhMUEGE1FhByJxFDKBkaEII0KxwRVS0fAkM2JyggkKFhcYGRolJicoKSo0NTY3ODk6Q0RFRkdISUpTVFVWV1hZWmNkZWZnaGlqc3R1dnd4eXqDhIWGh4iJipKTlJWWl5iZmqKjpKWmp6ipqrKztLW2t7i5usLDxMXGx8jJytLT1NXW19jZ2uHi4%2BTl5ufo6erx8vP09fb3%2BPn6/8QAHwEAAwEBAQEBAQEBAQAAAAAAAAECAwQFBgcICQoL/8QAtREAAgECBAQDBAcFBAQAAQJ3AAECAxEEBSExBhJBUQdhcRMiMoEIFEKRobHBCSMzUvAVYnLRChYkNOEl8RcYGRomJygpKjU2Nzg5OkNERUZHSElKU1RVVldYWVpjZGVmZ2hpanN0dXZ3eHl6goOEhYaHiImKkpOUlZaXmJmaoqOkpaanqKmqsrO0tba3uLm6wsPExcbHyMnK0tPU1dbX2Nna4uPk5ebn6Onq8vP09fb3%2BPn6/9oADAMBAAIRAxEAPwD9/KKKKACiiigAooooAKKKKACiiigAooooAKKKKACiiigAooooAKKKKACiiigAooooAKKKKACiiigAooooAKKKKACiiigAooooAKKKKACiiigAooooAKKKKACiiigAooooAKKKKACiiigAooooAKKKKACiiigAooooAKKKKACiiigAooooAKKKKACiiigAooooAKKKKACiiigAooooAKKKKACiiigAooooAKKKKACiiigAooooAKKKKACiiigAooooAKKKKACiiigAooooAKKKKACiiigAooooAKKKKACiiigAooooAKKKKACiiigAooooAKKKKACiiigAooooAKKKKACiiigAooooAKKKKACvPfjt%2B1J8FP2b5NGsfil4g1Maj4ilnTQNB8OeF9R1zVNR8lVed4bHTbee5kjiVkMkixlI96biu5c%2BhV4N%2B0P8D/j5/wANJ%2BDv2tv2bLLwfrWueH/B2seFNX8KeOdcutLtLywv7mwuxcQXtraXj288U2noCpt3WVJSCUKK1ABpf/BTL9izWLvxNb2nxXv0h8FWsk/jLUrvwXrEFjoIS0iu9l5dy2iwWsrQzRskMjrJIWKorMrKL2n/APBQ/wDZK1HwBrXxFTx/q9vB4f1ay0vVdE1DwNrNrrkV5ebfscC6PNaLqEr3AYGER27eaAxTcFYjy2b9gH4y%2BMf2a/jn8NfGHinwppHin4o/FS38daHc6U1xeWFpeW0OiywQ3IkihkkiN3pRRwoyYHGDuJVaPi79i/8AaV%2BLmr/Ef45fG34S/CjWvFnjWx8KaPp/gKy%2BI2s2Wm6fY6Hcaldw3qa7b6al5DqDXOqTOksVoPJSKNFZiWcgHsviH9vv9mzwv4a8OeI9XvvG3meK0v5NE8P2vwm8SXGuSRWUscV3NJpMWntf28MLzQq8s0CIpmiy37xM%2Bmaz8RPBHhv4e3XxX8T%2BJbbSvDljo76rf6vqrfZYbSySIzPPMZdvlKsYLNvxtAOcYNfGHin9hH9s/WPgV4X8Nay3hfxV470a58RHRfGd/wDHbxNpGr%2BCLW%2BuUktLO11q1sJLzXIYkjhWZb1YftJtovMBCjHqPxo/4J0Wvx6/Zu8T/Dj4hfHPxrd%2BO/GHwvj8M694pbxtrQ0ea%2BW0hibUE0Jb5bC3Z5oFlbyIopCHkAkVpGcgHRwf8FKP2Mv%2BFc%2BK/itrHxWvdE0bwRZWV94ofxP4O1fSbmysryYw2t79lvLWK4ktJZFZUuY42hby3IfCMRyHxu/4Kyfs7/DP4Iap8Y/Aei%2BKvFU2g/EHwv4X13wx/wAILrtjqdgdZ1K1tY7p7OTTmuvK8i4eeBvJ8u8eNLeGQyTxg%2BV6p/wTE%2BMnjv4VePtI8ReBvDejeMfEeh6Po9h4h1X9ovxn43W7tLXWLfUJo5P7dgP2CM%2BSxSKJZjvfDSYyT3/7UP7Bnxp%2BMHxB%2BL/xB8C%2BIfC8cni%2BD4W3nhKz1a%2BuYle/8J%2BI7nWpYbxo7eTyIbgNbwrLGJnXLsY/kVXAPULD/goJ%2By3qPxNsvgzD4n8TR%2BK7zRdP1iXQLv4b69Bc6dp9606QXd%2Bklkp06Hdbyq8l15SxEKJChdN1Hw1/wUw/Yp8W%2BDPFnxC0j4wXCaP4L8EXXjLWL3UPCWq2guPD1ujPNq1is9qjapZqqHE9mJ42LIFYl0DYOh/sh/FD4h/Ez43fEH44L4e0GL40fB3w74QurHwnrtxqMul3Fomupdss89na%2BZGBqsRifYrMUk3Rx4G75u/bG/ZU/ah0f9hj4pfE39pi78AWkPwh/Yp%2BIPgjwvH4C1C8uG15r3SLYz6jdLc20AsVCaRbhLONrgK00hM7bUFAH1n4e/4KS/sZeJtD1jxHp/xauoLPQ00qa%2Bk1TwlqtkzWmpXa2djqEK3FqjXNhLOwUX0Ie1UBnaVUVmHp%2BifF34eeI/ilr/wX0PxD9p8SeFtL0/UNfsI7SbbZwXzXAtd0xTyi7/ZZj5SuZFUIzKqyRlvknUP2Z/EHivQPFPxt/wCCkXi/4Z%2BE/Alv%2Bz3c/DqS48P%2BIJltZtNvZIZLzVbya9gt0sHJgthDbIZxATJ/pEhZcdh/wR88B/F2y/ZHtfj/APtIagb74k/F68j8T%2BK9Qeze3aSEWkFlpq%2BVJ88P/EutLSRomwUlmmyAxbIB9VUUUUAFFFFABRRRQAUUUUAFFFFABRRRQAUUUUAFFFFABRRRQAUUUUAFFFFABRRRQAUUUUAFFFFABRRRQAUUUUAFFFFABRRRQAV4jpH/AAUY/Y91K716z1P4pXnh5vDnhy58QahJ418I6roMc2k27pHPf2smpWsC31ujyRK0tsZUBljGcuufab2K5ms5YbO6EEzxMsUxj3%2BWxHDbT1wecd6/MTV/%2BCOX7cvxf1bwvrnxu%2BOOhvrfhrwfqFnqHijUPit4m8TjxDrf2zSr611E6XfRQ2Wk20lzpi%2BfYWQCiOTassgVAoB9sv8At/8A7MNr8NG%2BLGseIPFWlaW2uQaNY2eufDLX7DVNTv5kMkMFlptxYpe37SIGdfs8MgZUdgSEYjovAf7VnwP%2BI%2Bv2XhPw54h1SHV7/wAKT%2BJIdI1rwrqWmXaabDd/ZJZZYby3ikgdZ/kMMirL32bea8m%2BJ3wc/bd%2BMTfD342654N%2BFWh/EP4UeOptY8P%2BGbXxxqV/ouuWdxpN3plzHcXz6VDNYzFL2SSN0tbgRmIKfMEjYq/En4Dftwa/8ZfDv7TXgfRvhXaeLL74Yar4L8Y6FqXivUpLDSFuL%2BG6tb%2ByuE04SagYhG6yW8sVoJS4xLFjkA7jSf8Ago3%2ByB4j17wL4W8K/EbVdZ1P4k%2BDdK8W%2BDdO0TwPrN7PeaHqL7LXUZEgtGa1t92PMknEa24ZTN5QYE7Hw1/bc/Zu%2BK/xGufhP4Z8X6tZ6/b6Xc6nDZeJ/BmraIt/Y28iRz3dlLqNrBHfwRvLEHltmkRfMQkgMpPlH7Cn7CXxY/Zh1/4caz488QeGrs%2BDv2UvCPwxv30i5nlZtW0t5muZovMgj3Wrb02MxV22/NGmBXjXw0/4JV/tjeJ/ij4X8TftTfGGz1SLT/AHivwv408TQfF/xJrV54il1exS2/tO10y%2Bhj0/QjlSxtLRSi5UCZxGq0AfUvhP/gov%2ByP410WPxVoPjvXP7DuNV0vT9P8AEt78P9btdK1GXUr2OyspLS%2Bns0tryCW5mijFxBI8IMqFnCsCfS/C3xd%2BHnjX4geKfhd4X8Q/a9c8FyWcfie0S0mC2Ml1B9ogjMrII3doSshRGZkWSMsFEibvmHxx4E%2BIvhX/AIJ7eNPgR/wUM8T/AAq8EeAtB%2BGkWgW3xM8O%2BLbsM06RpbWupPaXVnAmmzLMLeSGCO4umM5REcnaG7X/AIJX/D74seG/2RNK%2BKv7RVglv8TvixfS%2BOviJClu0X2e/v1jMNpsb5k%2By2MdlZ7TkgWuDQB9G0UUUAFFFFABRRRQAUUUUAFFFFABRRRQAUUUUAFFFFABRRRQAUUUUAFFFFABRRRQAUUUUAFFFFABRRRQAUUUUAFFFFABRRRQAUUUUAFeL/Hrx/8AtF/8NF%2BBfgR8BfGfgrw%2Bmv8AgrxLr2r6n4v8F3etEnTrvQ7eGGGO31Kx8sN/akrMzM%2BfLQALyT7RXhXxG1yOx/4KV/CDRJQP9P8Agp8QzG3ffHq3g04/75LH8KTaW5cISqO0V0b%2B5Xf4F/8A4Qf/AIKF/wDR0HwZ/wDDD6t/81FH/CD/APBQv/o6D4M/%2BGH1b/5qK9mopkHjP/CD/wDBQv8A6Og%2BDP8A4YfVv/moo/4Qf/goX/0dB8Gf/DD6t/8ANRXs1FAHjP8Awg//AAUL/wCjoPgz/wCGH1b/AOaij/hB/wDgoX/0dB8Gf/DD6t/81FezUUAeM/8ACD/8FC/%2BjoPgz/4YfVv/AJqKP%2BEH/wCChf8A0dB8Gf8Aww%2Brf/NRXs1FAHjP/CD/APBQv/o6D4M/%2BGH1b/5qKP8AhB/%2BChf/AEdB8Gf/AAw%2Brf8AzUV7NRQB4z/wg/8AwUL/AOjoPgz/AOGH1b/5qKP%2BEH/4KF/9HQfBn/ww%2Brf/ADUV7NRQB4z/AMIP/wAFC/8Ao6D4M/8Ahh9W/wDmoo/4Qf8A4KF/9HQfBn/ww%2Brf/NRXoPju/wDCml3aat49v7C10PTdFv8AUNSudWmSO0to4fJLTytIQiIiGQlm4UZJI615t/w1/wD8E4P%2Bjovgj/4W2j//AB2sauJw9BpVJxjfvJL82j0sDk2c5pCU8FhatVRdm6dOpUSe9m4U5pO2tm07a2tqWP8AhB/%2BChf/AEdB8Gf/AAw%2Brf8AzUUf8IP/AMFC/wDo6D4M/wDhh9W/%2Baiq/wDw1/8A8E4P%2Bjovgj/4W2j/APx2ui%2BGnxi/Y3%2BNGuy%2BFvg78U/hn4s1O3tGup9O8Na5p1/PHArKjStHA7MEDOiliMAuozkiohjMHUkowqxbfRSi39yk2dGI4b4kwlCVavga8IRV3KVGtGKXdylRjFLVatpa7mL/AMIP/wAFC/8Ao6D4M/8Ahh9W/wDmoo/4Qf8A4KF/9HQfBn/ww%2Brf/NRUf7Rnx%2B%2BCX7NPjj4beCfGHwi1TUn%2BJPiW60awn8NeBrvVDZvBp1zemSSOytpnwRb7MYBwzyf6uGVkoaL%2B15%2Bx14o8Mat4z8G%2BGvEOv6XouuyaNe3vh34La/qKPexTXUE0UP2bTnNz5UtlcRyvDvSJlQSMplj39J4pp/8ACD/8FC/%2BjoPgz/4YfVv/AJqKP%2BEH/wCChf8A0dB8Gf8Aww%2Brf/NRWH4h/bI/Yz8JCfxFr2s%2BGm8NHwt4U1rTdW0vRLy%2BnvY/EOoXVhpmyCCyYOk89uqRmOSSQszeZFCqxvL2/wAKvir%2BzD8adDsNd8Az6O/9pX99Y2mm6vob6ZqH2qydku7d7K8iiuYpYWU743jVlGGIwQSAYn/CD/8ABQv/AKOg%2BDP/AIYfVv8A5qKP%2BEH/AOChf/R0HwZ/8MPq3/zUVxvxl/aq0T4W/GHVfCOk/s3aJq3hDwfqXhvT/iD4rk1VLa50u41u7W3tha2X2RxeLCJbee4Z54NkU4MYndWjHQftNfF%2B8%2BEXjLQPhZ8F/wBmjw/448V614b1rxG2malrCaRBFpWlGyjuWWcWlyXuHm1CzihhKIrl3LSxrGTQBpf8IP8A8FC/%2BjoPgz/4YfVv/moo/wCEH/4KF/8AR0HwZ/8ADD6t/wDNRXlun/t6fD3xbrWmeMPhx%2BzppGqfC99T8HaVr3jS61GO2vrK/wDEyWL6akOni1dbiJV1TSzPI1xEYxeEqkvlPVT4ift4aL8KPFPxg8G%2BKP2fvhxrGo/Cz4T%2BIfHUtn4H8fLqksEWmpHJDYawjabCdGuryOZXgX/SQ6wXTAsIQXAPXf8AhB/%2BChf/AEdB8Gf/AAw%2Brf8AzUUf8IP/AMFC/wDo6D4M/wDhh9W/%2Baiuf%2BF3xV8ffGz4FQ/FD4P/AAU%2BA/i3VbrXjaQReFvjA1/oa2ixBnmk1OLRC4nWTMZt0tXxlGMgywThfiJ%2B2b4y039jHSv2z/hJ%2Bx54C17TLvTB9q8P6548fTrybVHvhp9tY2DQaPdxXq3N0yRwTs8KyCaJtoD8AHrX/CD/APBQv/o6D4M/%2BGH1b/5qKP8AhB/%2BChf/AEdB8Gf/AAw%2Brf8AzUVwGp/ti%2BFNC%2BPtx8Nte%2BAPhW08K2HxO034d3/iSXxDGNR/4SK%2B0q31CBYdONmBLaMLqGLzjcJKWLuIDEvmGj4h/a%2B134QfEn4jeF/2hv2VPAmnaH8N/hQ3jjVtZ8E%2BM5NYuCkl1NBY2LW9zpNkqTXQs74oRMwU24U8OHAB6b/wg/8AwUL/AOjoPgz/AOGH1b/5qKP%2BEH/4KF/9HQfBn/ww%2Brf/ADUV5F4k/bu8OeDf2d9P%2BOviH4afAmWHV/HsXhqHWdG%2BMsN54W0bdayTmfV9bXSgunkPEbbYsEyme4tUD/vspD40/b60fwf%2Bzn8Pv2nLj9nb4eQ6P43tYzD4f1Xx6lrrmq3L3HlJb6Baf2a6620yYmtx5ls0ySxHam87QD2P/hB/%2BChf/R0HwZ/8MPq3/wA1FH/CD/8ABQv/AKOg%2BDP/AIYfVv8A5qKr6N8Tbh/2xdV/Zl8V/s8%2BGNP0WPwSfEfh7xZb6ys89/HHcQW80c9kbNFtdskx2sJ5SwjJKpkVwX7N37YOgftV/DbxH8WfhH8MvgvcaTZ6HDq3h22uPipEb6O2mBlgfXIIdMk/sPfbgT7d106jKuqsrAAHov8Awg//AAUL/wCjoPgz/wCGH1b/AOaij/hB/wDgoX/0dB8Gf/DD6t/81Fee/Cb9p/xd%2B0D8Dbz4t/A79mf4U622j%2BJdR0zVdSk%2BJ2zw3dwWkSO17purR6RKb6Es5iLG3hRJYLhWf91luY1b/gpB8OI/DOk/FPR/2a9Fg8GQ/DLwf468cah4n1qHTtR0fTfEU80NqltZi1lW%2BmhMEpmVprdc7UiaZyUUA9p/4Qf/AIKF/wDR0HwZ/wDDD6t/81FH/CD/APBQv/o6D4M/%2BGH1b/5qK8s8Nft1%2BEfFf7YmofslaL%2Bz34Pnv7XW9W0tNPi8VwnxFamysDdrqV9pJsh9j0q4YJDDe/aJN73Vr%2B7HmnZU%2BJv7b%2Bp/A3wb8TW%2BMn7K/wAPNL8U/Di08I3txbWnxBE2hSWuv6rLp0L3Gpy6VE9m9u1vNNOhtXCxGF1ZhJ8gB69/wg//AAUL/wCjoPgz/wCGH1b/AOaiqHgfxx%2B1Z4O/as8OfBH43fEf4e%2BJtG8TfD3xDrkM3hX4eX2i3VpdabfaJborPcavfJLG6apKSoRGDRIQ2Mg9B8MNd0f4m/s/RfFo6F4Aju7zTbm6s774c%2BJl1zTCEaQRS22ofZbUzZCqSREoVty5YLuOd44/5SF/C/8A7Iz48/8ATt4QoA9mooooAKKK%2BUP%2BC20f7Pv/AA7Q%2BKV3%2B0Jc%2BFIoLXwrqM3hJ/FlzbxxjXRY3H2P7N55Aa7BLmILl9wyoyMgA%2Br6K%2BU/25vi9%2Bz38Xfgz4H1yb4n%2BEPFHwlPxL0Gf4qXlrrVre6SdBmS4a2kvnR2i%2BwveiwLtIfJaMMXzHvr5C8YN8Ef%2BFRD/hfhsv8AhW3/AAgnxT/4Zt%2B3f6r7b/wksn9j/wBj9/t32D7H/ZXkfv8A7Nu%2By/LvoA/WmvnH4TeKv27/AI66Pr3jvwv8b/hJoGl2/wAQvFWh6XpV/wDB/VL%2B4itdL16/0yFpbhPEUCyyPHZq7MsUa7nICgAV6/ol38YbH4HaZd/2DpeqeOY/DtqbvT9Y1Z7C0n1Dyk85ZLiG3uDEu/f8yQyey151/wAE6bjxLd/s3X114y0mxsNXk%2BLfxDbU7HTNRe7trec%2BM9a8yOKd4YWmQNkB2ijLAAlFzgAF7/hB/wDgoX/0dB8Gf/DD6t/81FH/AAg//BQv/o6D4M/%2BGH1b/wCaivZqKAPGf%2BEH/wCChf8A0dB8Gf8Aww%2Brf/NRR/wg/wDwUL/6Og%2BDP/hh9W/%2BaivZqKAPGf8AhB/%2BChf/AEdB8Gf/AAw%2Brf8AzUUf8IP/AMFC/wDo6D4M/wDhh9W/%2BaivZqKAPGf%2BEH/4KF/9HQfBn/ww%2Brf/ADUUf8IP/wAFC/8Ao6D4M/8Ahh9W/wDmor2aigDxn/hB/wDgoX/0dB8Gf/DD6t/81FH/AAg//BQv/o6D4M/%2BGH1b/wCaivZqKAPGf%2BEH/wCChf8A0dB8Gf8Aww%2Brf/NRR/wg/wDwUL/6Og%2BDP/hh9W/%2BaivZqKAPGf8AhB/%2BChf/AEdB8Gf/AAw%2Brf8AzUUf8IP/AMFC/wDo6D4M/wDhh9W/%2BaivZqKAPGf%2BEH/4KF/9HQfBn/ww%2Brf/ADUUf8IP/wAFC/8Ao6D4M/8Ahh9W/wDmor2aigDxn/hB/wDgoX/0dB8Gf/DD6t/81FH/AAg//BQv/o6D4M/%2BGH1b/wCaivZqKAPGf%2BEH/wCChf8A0dB8Gf8Aww%2Brf/NRR/wg/wDwUL/6Og%2BDP/hh9W/%2BaivZqKAPGf8AhB/%2BChf/AEdB8Gf/AAw%2Brf8AzUUf8IP/AMFC/wDo6D4M/wDhh9W/%2BaivZqKAPGf%2BEH/4KF/9HQfBn/ww%2Brf/ADUUf8IP/wAFC/8Ao6D4M/8Ahh9W/wDmor2aigDxn/hB/wDgoX/0dB8Gf/DD6t/81FH/AAg//BQv/o6D4M/%2BGH1b/wCaivZqKAPGf%2BEH/wCChf8A0dB8Gf8Aww%2Brf/NRR/wg/wDwUL/6Og%2BDP/hh9W/%2BaivS/GvxL%2BHPw2sf7U%2BIvj/RNAtsZ%2B0a1qsNrHj13SsorxPxj/wVk/4JyeBrl7XW/wBrnwnM8f3jo88uoqfo1okgP4E1y18dgsL/ABqsY%2Bskvzf6Hu5VwvxNn2uW4GtX/wCvdKpNffGDX/kx0P8Awg//AAUL/wCjoPgz/wCGH1b/AOaij/hB/wDgoX/0dB8Gf/DD6t/81FeYt/wWx/YG1JjH4C8X%2BLPFb5wE8O/D/VJSx9B5kCUD/grV4e1PnwZ%2BwV%2B0zryN9y40/wCE7CE%2B%2B551wPwrj/t3J38NeL9Ly/8ASYyPo/8AiFXiPH%2BLldWn/wBfPZ0v/T1ak/wPTv8AhB/%2BChf/AEdB8Gf/AAw%2Brf8AzUUf8IP/AMFC/wDo6D4M/wDhh9W/%2BaivMv8Ah5T8cL/5tB/4JbfHeRT906hpNtan8Q0pxSf8N5ftxav%2B78Hf8ElvHM79hrXjnTdOX/vpw2KP7by97OT9KdR/%2B2B/xDDjCP8AEhRh/ixeDj998Uz07/hB/wDgoX/0dB8Gf/DD6t/81FH/AAg//BQv/o6D4M/%2BGH1b/wCaivMR%2B0z/AMFaNV%2Bex/4JkeG9KDdE1P4z2M5X6mGPB/Cj/hcv/BYy4%2BaH9jH4V24PRZ/iLI5H12pR/bGHe1Oq/wDuFP8AVIP%2BIcZvH48bgo%2BuOwz/APSZT/M9O/4Qf/goX/0dB8Gf/DD6t/8ANRR/wg//AAUL/wCjoPgz/wCGH1b/AOaivMv%2BFsf8Flhyf2TPg8fYeO7j/wCJo/4Xb/wWGsfmu/2H/hnfj%2B7Y/EsxH/yIlH9r0etKr/4KkH/EOsyfw4/Av/udofql%2BZ6b/wAIP/wUL/6Og%2BDP/hh9W/8Amoq3%2Byt8RvjT4w1j4oeBPjpr/hfVtU8A/EKLQ7PVfCfhq50m3urWXQdH1NWe3uL28ZZFk1GVCwl2lY0O1TnPk/8Aw0r/AMFaV%2BU/8Ez/AAwxH8S/GWyAP5x10H/BOzxN8WvGGufHnxH8dPhlbeDvFVz8ZoP7U8N2etJqEdnt8I%2BG1ixcRgLJviWOQ4HylyvUV04bH0cVNwjGadr%2B9CUV98klfyPHzvhLMchwscRXr4ecW%2BW1LE0K0rtN3cacpSUdPiasnZbtH0nRRRXafLhRRRQAUUUUAFFFFABRRRQAUUUUAFFFFABRRRQAUUUUAFFFFABRXn/7Vfxquf2c/wBm7xt8ctP0FNVvPDHhy5vtP0yWYxR3d0qEQQu4BKI0pRWcAlVJODjFcJ8Kvjv%2B0Akfxd%2BF3xYh8Ma545%2BG2n21/puo%2BEdBu7Kw1eC709ri2X7HNdXMscizw3ELKJ33qkbjYZCiAHvdfK37R%2Bu/2R/wVv8A2XdP34/tT4cfE21xnrj/AIRubH/kHP4V1v7AX7RnxA/aC%2BHVxdfGTxxotx4zsbPTp/EPhOz%2BFmseEb3w7Jc2/meTcWer3c88ys6yiO5URxSCJ9u7axHgP7X/AMcvhZrf/Ba39kPwr4K%2BKHh/V9Y8OWnxE07xTo2la1BcXWlSXVjpSRJdRRuXt2YqxUOFLbDjODXJjp%2Bzw/N5x/8AS4r9T6DhfC/Xc3VHvTr/AHrD15L8Yn31RRRXWfPhRRRQAUUUUAFFFFABRRRQAUUUUAc/4q0DQvFesJ4W8U6LaalpmpeH9QtdR07ULZZoLqCRrdJIpI3BV0ZSVZWBBBIIwa4b/hgf9hX/AKMs%2BEv/AIbnTP8A4xXXfErx14V%2BF8V18S/HWqfYdE8O%2BFNV1PWL3yHl%2Bz2tv5EssmyNWd9qIx2qpY4wATxXzt/w/N/4JZf9HRf%2BWTrn/wAhV5uOxGT0ZxWMlTTa05%2BW9vLmT0v2LjxdV4b/AHUMxlhufWyrzpc1tL2jVp3ttdp22v0PW/8Ahgf9hX/oyz4S/wDhudM/%2BMV0Pw0/Zk/Zt%2BC%2Buy%2BKfg7%2Bz34H8J6ncWjWs%2Bo%2BGvCdnYTyQMyu0TSQRqxQsiMVJwSinGQK8D/4fm/8Esv%2Bjov/ACydc/8AkKvRP2aP%2BCkH7F/7YPju7%2BGn7Onxl/4SLW7HSJNTurL/AIR3UbTZapLFE0m%2B6t40OHmiG0MW%2BbOMAkc%2BHxfDtSvGNCdJzb05fZ3v5WV7%2Bg34h4jNV9UlnE6qqacjxNSal1s4uvJS22cXttodF%2B0V8B/Fvxe8QfDvxz8PviFp3h3Xvh14yk13T5tY8PSanaXaTaXf6ZPbyQx3Vs4Jiv3dJFlG140JV1yp8m8c/wDBNeTxV8CfBvwXT4leHNRh8KfEDXfEtzY%2BNfh%2BNY0PWV1K41KbyLrTDeRLK8B1ANFI0rKJYFkMZyFX3f4i/G3wh8LfHHgzwR4ut7yE%2BOdTu9O0nVAkf2SG7t7Ge%2BMMzs4ZC9va3LoQrKfIYEqSu7xS9/4Ktfs56PqXwrg8S6HrOkWfxgtNHuPCV7q2saHbzFdVuha2G/T31Iai4kkeAl4LWVI1nVpGj2TeX7Rmc18Mf%2BCUEfw38HeEfCCfHk3qeFPDHwy0dJ28KLF9pHhDxDeayJdiXG2P7V9qEGxRiDy948wHy192%2BC3wJ8RfBfW/E1zpvjuyvdP8V%2BPdV8S6laz6G6zR/a0iEdvFKLjavltGSzsjeYGwFjI3Hxfwn/wUpsdEsLvWPjTYGMWt58SxBpvhrw88sl9F4e8cp4asIopJLzP2ucT2ieV5RSaadnEtsiCJ%2B5/Zi/a98V/Gz4j/ABN8IfED4Sa54RPhDx9YeHNJ0W/0YzX8Bn0Gy1JmvpbGe7tQpa4k2zpIINpiQt5pwQCp8Zf2HNb%2BKXxi1XxdpHxig0jwf4w1Lw3qHxB8KSeGjc3OqXGiXa3FubW9Fygs1mEVvBcK8E%2B%2BKACMwOzOdP4%2B/sv/ABk%2BKvifRvij8PPj5o3hLxno2keIvD0Wrv4Hkv7V9C1aa1laH7Mb%2BMi8hOn2DJdGQxmSKUm32TeUvI/tn/tf/HH4K%2BKfG8fwb0vwtJpnwh%2BEH/Cx/HkHiPTrm4uNasTNfCPTrF4bmFbOZotKvz9olWdQ5gHlYLMO/wD2m/jH8U/C%2BvfDn4UfAe78PWfiT4j%2BIrmzt9c8V6PcX9jplnbabdX007WsFzbSXDsYIoVQTxAeeZCSI9jgHnen/wDBNG08Ja1pnhD4cfFxNL%2BF6an4O1XXvBd14dNzfXt/4ZSxTTXh1AXKLbxMulaWJ42t5TILMhXi81661f2Zv2hNZ%2BMrfHXx1%2B0D4Rvdb0XwbrPh/wADw6Z8NJ7S1tk1CezmaXU0fVZX1LYbC3Ajie0Q7pjgFkMfzr46/wCCrvx%2B07SvCOt6J4K8NaabnwZpupa9ZXHhbU9Vtr3VH1y50m%2BtG1K2njg8OWkT2peLUNSRoZhMQo3W0yn2v4NftT/F3xN%2B2F4r%2BCnxe8T6J4b0y38S6hp/gPw3e/CfW7G68RWlvawzfabbXbi7%2BwXrjdOzwW8BdUhYnaFZqAMrxz%2BwL%2B0H4x%2BG/wAQNKsf2sdA0bxZ8VfFunah491nSfhvcwabeaVa2cVo2mQWkerrc27XEUMaTXf21pijOiGP90YvR9b/AGWtd8b%2BEfhL4N8c%2BNPD0Wn/AA28V2mt6lo/hPwe%2Bm6bq32G3uE021ht3vJzZQ21w9nchd82XsYwNinA8C%2BB/wDwUM/aG8RfsjxePfifq3hRfi/qqeBbB/h3e/CTXvCr%2BEtT8R6hbaarXkGqX0k%2Bo2cNzcSYng8lJRYTojlmzHa8fftzftYeEYY/Bl3/AMI3Z6j4U%2BJur%2BF/iZ460n4MeIPEmmW1tBo1tq1nfJpunX/2iySWK%2BtY5GmuJY4nEnzkYNAHrXxP/YfsPjD%2B1ToP7QHje48CHTvDWp2epadFYfDZIvElxPaoTbwXOttdO0lmlyRciCO3iO%2BKIGQqrrJL4t/YT8JfEzwN8evBfxR8XSaqfjxLLDqV7FpyxNpGnrpkNhaWkKu8iyCDynuMsNrzXEzFAG21wPxS/bo%2BLmieJ9W8X/CzUvA2ufD3wDpfg678X3w0y5lufEseuXO2SfTJ47zyrSKC0aK5j8xLr7QZDFuiC%2Bc1r4l/th/tB/B79pHxV8Jby28N%2BKrOz%2BHniTxRo9nJ4K1LwulobGK3ns7Y6zqF3LY6v5iziOd7RY/srLvlWMHYACWT/gn78X7rxN/wuy6/aO8Np8SovHmn%2BI7e/s/hrLF4dYWeiXejx282lf2mZpSYL2aTzvtquJY7crtSERl%2Btf8ABP8A%2BLN3%2By7/AMMc6H%2B0foNn4K1zStStvHE0vw6eTU7ibUb65vLybS5k1FIdLAN0626NBdfZhHEVZigzyf7PH/BSD4qeNvAvjObxjo2la/4ks28P2fgHTbfwNqvhC61nV9Wt5nispdM1Wae7S2iaLzG1Jf3EkCXUiKRZymuR8Yf8FSPj34O/Zt%2BHXxc8X6t8MfDGoa18IdU8X6rd69ol%2BbDxRqtlJEo8P6Si3qvb3Mys7qXe7lAK7LefbIVAPpLUP2dPjpe/tvwftPL8bPCA8IweEZfDn/CFSfDu6bUHtJHindjqX9qiLzPtMQYH7HtERMZUt%2B%2BrhfgH/wAE9fiJ%2BzfDpP8Awrf47%2BGYpPAfw1HgP4VLL8N5BDp2j/bLWc/2qsepK2rXGyzhjEsb2YBeeTZumauS1j/gp9r2l/tHab4XvtW8IaZ4b1Xx14V8O6J4G1LSrn/hKNbstcsLCWHxBBOLkQpZRXmoC0dfs0ibrOYG4SRliEv7Ln7eH7SH7RHxq1r4R3kfhXSJrnwp4m1DSWufh/q0SaHeadq8FhbxpcS3qw%2BK4HWZ5Jp9NMKQPDHG7I11FgA2viD/AME8fjv43%2BGes%2BCI/wBqbwzDP46%2BJbeLfinaXXwxuJNF8RxCwtbNNIjsotXimtbFhZW8twhupWun84SsY7iWNum/aO/YR1H9qqXwjp/xf1r4Z3WnaRptpb%2BIrqH4R7tYnKSrJdRaXfzahIdItblUWF4vLuJBEzhZg7LIuB8Ff2oP2l/jf8H/AB74htviZ8PPCdx8PPHM1hqnjbxr8LNY0u1m0iLSba%2Blnn0K91S3vdMkSW4Kbrm5CvDB9pRTHNHU2n/tZftP6z4F/Zr%2BLk3hzwnoWl/FXV9P03xz4c1PQ76S/jku7C5uY5rKU3MQtU/0cNsuIZX2yhWCMpNAGjpX7Bfj7R/jNaePrX4%2B6ZJoWg/ETxB468K6VceCGbUoNa1WxvrR0u9QF8Bd2MQ1CcpbrBDJtitozOUhAaz%2Bzd%2Byb%2B1H%2Bz78JfEvhW7/AGk/h/4j8ZeINWh1e48d3/wjvUm1DUzIpurrUof7db7UWhSKGGOCS1jtUhjRFMcaRLX8IftT/F24/bv8W/AT4neJtE8LeFbPxXFpPw%2B0vUvhPrcc/i2E%2BG7DUpJbbxDJdrpskyXU2oIbWOB5fK06TIyGkX6VoA8h%2BCvwAvv2e/gn4w0fXvGVvruteJdY1nxJ4g1DT9G/s6ya9vCzyLa2nmzG3hGF%2BVpZXZt7u7M7Gq/jj/lIX8L/APsjPjz/ANO3hCvUvHP/ACJOsf8AYKuP/RbV5b44/wCUhfwv/wCyM%2BPP/Tt4QoA9mooooAKKKKACiiigArxn9g//AJIhrn/ZZviP/wCprrdezV4z%2Bwf/AMkQ1z/ss3xH/wDU11ugD2aiiigAooooAKKKKACiiigAooooAKKKKACivKv2h/23v2U/2VbR5fjr8btE0W7Cbo9G%2B0efqEwPTZawhpmB45245GSK8Ui/bK/b1/agkCfsVfsex%2BFvD8h/deP/AI5SS2EMyf3oNOtybh1I5WTJU8ZArzsRmuCoVPZc3NP%2BWCcpfNLb/t5xPscp4D4mzbBrHOkqGFf/AC/xElQov/DOpZ1H5UoVn5H2BVHxF4o8NeENLfW/FviKx0uyi/1l5qN2kESfV3IA/OvlX/hiX9v74sfvP2hv%2BCmmvaXay/6zRPhL4YttG8n1CXrbpm%2BrLxV/w7/wRq/Yct9Uj8R/FDwv4l%2BJGsR9NX%2BInjC81GVj33IHSJs98oay%2BuZpW/hYbl85zS/8lipv8Ueh/q7wJl/%2B/wCde1f8uFw9Sp8va15Yen81CS6q6Oj%2BJf8AwVe/4J4fCmZrPxD%2B1R4bvrkNsW18NSSavIz9NmLJJQDnjkjnriuPH/BVweNzs/Z6/YU%2BOnjhG/1WqL4M/s7TpPTFxcOP1UcV9C/DP9nn4C/BeFYPhD8FfCnhgKuN2g%2BH7e0Y/Vo0BY%2BpJJNdjR7DOavx14w/wQv%2BM5f%2B2h/a3hrgNMNldfEPviMSqaf/AHDwtJfd7V%2Bp8lD9qD/gqx4y/feDP%2BCaeheHLc/6ubxh8WLSR5B6mK2Tcn0NKPG3/Ba/Vf8Ajw%2BCX7P2k56f2p4k1SfH18kV9aUUf2ZWl8eKqv0cY/lAX%2BvGWU9KGRYGK/vQr1X83UxWv3HyX9l/4Ll3n72TVP2WbP8AuxRQeIpPzLf0o%2Bzf8Fz4%2BF1L9lST3eLxID%2BlfWlFH9kr/oIrf%2BDP/tA/4iBL/oT5f/4SL/5pv%2BJ8meX/AMF0hyLn9lA%2BxTxLSGx/4Ll6l/ol5rn7LWmxt9680%2B28QzSr9El%2BU/jX1pRR/ZK/6CK3/gz/AO0D/iIEltk%2BX3/7BF%2BuJa%2B9M%2BSz%2BzV/wVl8Y/L4s/4KQ%2BGPC8bf62Hwj8JrW5JHosl24Zfr1prf8EvPHnjXj46/8FHvjt4jiP8ArtP0bxHFo1pN6h4oIzlfYEfWvraij%2BxcDL%2BJzz/xVJv8OZL8A/4ibxVR/wBzVDD/APXnCYWm16S9hUn8%2Ba/Zo%2BZPBX/BHb/gnb4Ovv7au/2fLfxFqTEGfUfF2r3mqPMfV1uJWjP4IK9t8GfAD4EfDm2Sz%2BHvwU8JaFDH/q4tH8OWtsq/QRxjFddRXVQy7L8L/Boxj6RS/G1/xPDzbjHi7Pf%2BRjmFesu061SS%2BUedRXyirdBFVUUIigADAAHSloorsPmwooooAKKKKACiiigArxn9l/8A5Lf%2B0d/2Wax/9QrwvXs1eM/sv/8AJb/2jv8Ass1j/wCoV4XoA9mooooAKKKKACiiigAooooAKKKKACiiigAooooAKKKKACiiigAooooA534ufCzwb8cPhZ4i%2BDfxDsJLrQvFOi3OlatBDM0UjW88TRvsdcNG4DEq6kFWAIIIFcN8KP2Tv%2BFTtr%2BrW37Qnj3WvEHip3k8R%2BKdc/shr6%2BcWcVpakiHT44YhaxxbokiiRC8krzLM0jE%2Bt0UAea/BD9muw%2BDvjDxH8Tdc%2BK/ivx14s8VWWn2Gq%2BJvF5sEuPsNibl7S0ji060tbeOKOS9vJBti3s1y5Zm%2BUL8i/8ABVvV/wDhHv8Agpv%2Bw7rG/bu8WeILPP8A18XOgQ4/HdX6CV%2Bcv/Bbb/iXftY/sseNun/CM67qOqb/AO5t13wpHn/yJXl51JxyurJdOV/dOD/Rn3nhjTjX48wVGX23Uh854fFRX4yifo1RRRXqHwYUUUUAFFFFABRRRQAUUUUAFFFFAGVd/wDI7af/ANgu8/8ARltWrVTVNE07WPLa9jk3wkmKWC4eJ0z1AZCGAPGRnBwKrf8ACH6T/wA/eq/%2BDy7/APjtAGpRWX/wh%2Bk/8/eq/wDg8u//AI7R/wAIfpP/AD96r/4PLv8A%2BO0AcN%2B15%2Byn8Pv2z/gfqHwJ%2BJGva9o9jfXNvcRa14VvktdSsZIpA263meOQRl08yFztJMc0ijBbI4n4qf8ABOL4SfFD4gHxpD8SPGnhqwuLzwrdap4U8M3VhDpuoS%2BHb9L3S/M82zkuERHjRGiimjjdF5Td89e3/wDCH6T/AM/eq/8Ag8u//jtH/CH6T/z96r/4PLv/AOO0AeG6t/wTQ%2BAWuWN1Y6j4i8VsLiHxgIpY9SgSS1n8ReJofEtxcxMsAKzW2oW8LWzchEQCQTN89dZ8Df2TrX4Ga74m8W2Hx28deINZ8aeLLbX/ABZqviN9MeTUpYNMh05Lcpb2MUUEHlW0DbYEibfFkMFZ1b0b/hD9J/5%2B9V/8Hl3/APHaP%2BEP0n/n71X/AMHl3/8AHaAPLf2kP2Ifhx%2B0z4ik1/xN458VaHHqvhl/DXjPTfDl1ax2/ivQmmMraZfCe3mfycvOu63aCYJdTqJAJCK2fjR%2BzPbfGgafqN38YvF2ga34f8UnXPCHiTw%2BNNW78PytYPYy28C3FlLDNBJDNc7kuopzuuGYMvlw%2BV3P/CH6T/z96r/4PLv/AOO0f8IfpP8Az96r/wCDy7/%2BO0AfP2tf8Et/gXfaBB4L8P8AxE8daD4fuvAmneDvGWhaXqdo8Pi/R7Oe6njh1CS5tZZg7vfX3mzW0lvLKLuQO5%2BTb3upfspReJfjPpvxk8dfHrx1r3/COalfal4N8M350uLTvDt7dWdxZNc2/wBmsYriZ0tru6hT7VNOqrcPwTgj0T/hD9J/5%2B9V/wDB5d//AB2j/hD9J/5%2B9V/8Hl3/APHaAPFr3/gn54M8VWXie6%2BLHxz%2BIHjPxF4ksNItIPGGtz6Xb3%2Birpd%2BdS097JLCwt7WOSG%2BIug7wSM7ogkLoioL%2Bm/sXXvhrwHP4Q8DftX/ABP0DUdW1y%2B1fxd4t07%2Bwn1PxJd3Sxo0lyZ9LkghKRxRRR/ZIrfy0iRVwAK9a/4Q/Sf%2BfvVf/B5d/wDx2j/hD9J/5%2B9V/wDB5d//AB2gDw%2B5/wCCa3wGhu/Dlh4S8R%2BKvD3hjQdB8NaNfeB9Iv7c6Zr1l4fm87SI73z7eS4PkNgEwzQmdFWOfzo1CC/4%2B/YI8DfGfXdZvf2gfjB458eaTqeg67o2n%2BF9duNOt7HRrPV4GtrxLc2FlbzyMbZ2gR7mWd0RmwdzFj7D/wAIfpP/AD96r/4PLv8A%2BO0f8IfpP/P3qv8A4PLv/wCO0AeN6H/wTt%2BAGqS6zqH7SNvL8ctQ1uPS4bjUPjHomkan5MGmreiyiighsYLZDEdS1BhL5RmY3k26RgQBn6L/AME2fhJ4K/Zt0H9kT4VfEnxd4M%2BHemabe6fr3hzwpDpFovie1uyDOl7L/Z5ljZ18xTLZvbSkTPly21l90/4Q/Sf%2BfvVf/B5d/wDx2j/hD9J/5%2B9V/wDB5d//AB2gDg/FX7LejeN/ifofjfxR8UvFNz4e8Naha6joXw2VdOi0K1vraIx29ziOzW7kMZPmpFJctCsqo4jDIhXjfh1/wTx8GfCy/gv/AAf8e/iLD/YXhzUtC%2BHkM11pcieCbK%2BuLe4nSwDWH747rW2RWvjdlI4ggwrOG9u/4Q/Sf%2BfvVf8AweXf/wAdo/4Q/Sf%2BfvVf/B5d/wDx2gD5/wDHn/BNHwj8RvAepeEPE37TPxPk1HxD45sPFHi7xPv0NrrxDNZW0dvaWV3bPpbWDWUYht3%2BzpaorvArPvLSb%2Bl%2BNf7Gev8Axw0zwDa6x%2B2H8UNIvfh/q66taavotl4aE%2BqagsckUd1drcaNLFuSOaVQkEcMZEhLIxClfW/%2BEP0n/n71X/weXf8A8do/4Q/Sf%2BfvVf8AweXf/wAdoA8/8RfstQeNfjTo3xc8e/G/xrren%2BG9dOs%2BG/At2dMi0fTb/wCyy2qzqYLKO8mKpPOVSe5ljDybtuUj2eqVl/8ACH6T/wA/eq/%2BDy7/APjtH/CH6T/z96r/AODy7/8AjtACeOf%2BRJ1j/sF3H/otq8u8cf8AKQv4X/8AZGfHn/p28IV6ifBmhvhZ2vpkyCYrjVrmRG9mVpCrD2IIry7xx/ykL%2BF//ZGfHn/p28IUAezUUUUAFeIft/eJPEWhfBPRtI0TxXqWgWniT4l%2BFfD%2Bv65o%2BoSWd1Z6dfa1aW1wIrmJle2eZZPswmRlkj%2B0bkZHCsPb6zfGPgzwf8RPC1/4H%2BIHhTTdd0TVLZrfU9H1ixjurW8hYYaOWKQFJEI6qwINAHyn4Qi/aB8cfsbfFf4X/Bfx/r2q6j4X%2BK%2BpaB4S1m98VS/2rqGi2uqW7XdhHqlw5k%2B1iI3%2BmxXcsnmJJFGzy70aSvL/AAJe/tPfE/QfE/hyHwh8Vpfh78PvjzfaZd%2BDrP40Lb%2BLJNIPhawuEjk17%2B1U%2B0Lbatd3TSxjUiVVRCZJfsrQt9s2/wCzX%2BznaeC3%2BG9r8AfBUXh2TQ/7Fk0CPwrZrZNpvmNJ9iMAj8s2%2B93fysbNzscZJNVNa/ZP/ZZ8SfDLSvgp4i/Zp%2BH9/wCDdCuhdaJ4SvfBtjLpmnzgSASwWrRGKJ8Syjcqg/vH5%2BY5AOH/AGJPjH8XPGf/AAT1%2BHXxp8f%2BEdV8VeK77wNZ3lzYaRd2n2vWmKARzxy3UltAzTR7Jt7vEjbyRtBC1J/wTp1a/wBe/Zuvtb1XwxfaJc3nxb%2BIc1xo%2BpyQPc2Lt4z1omGVreWWEuhO0mOR0yDtZhgn3G3t7ezt47S0gSKKJAkUUahVRQMAADgADtXjn7B//JENc/7LN8R//U11ugD2aiiigAooooAKKKKACiiigApGZUUu7AADJJPAFeOftY/tyfBP9kWwstO8Y3N7rni3W2EXhfwD4Zt/tesaxKx2qIoF5VCcgyNheCBubCnxSP8AZj/bP/b%2BlXW/24vF83wy%2BG85D23wX8D6oftl/EeQuragmCwI%2B9DFhSCP9W615mIzKMKroYeLqVFuloo/45bR9NZPpHqfb5PwVWxOXxzXN68cFgpX5ak05Tq20aw9FNVKzT0clyUYv46ys4nZ/GP/AIKjfB/w540l%2BC37MvhDV/jX8QlJVvDfgICW1smzjdeX%2BDBbICCGOXKkYZVrmF/Zv/4KQftbEXn7VH7R0Pwh8Kz8nwB8Hpf%2BJlJGf4LnVpMlWxkMIQ0bA9BX0v8ABr4E/Bz9nnwbD8P/AIJfDfSfDOkQ4Is9KtFj8xsY3yN96Vz3dyzHuTXWVl/Z2JxeuNqtr%2BSF4w%2Bb%2BOXzlFf3TvfGOScP/u%2BGMDGEl/zE4lQr4hvvCDTw1Dy5KdWa/wCfl9TxT9nr/gnf%2Bx3%2BzFdLrfwt%2BCemf24H8yXxRrQbUNTkkJy0n2m4LuhJ5IQqM9q9roor0sPhsPhafs6MFGPZJJfh/wAE%2BMzbOs4z7GPF5niJ16r%2B1UnKb9LybsuySil0SCiiitjzAooooAKKKKACiiigAooooAKKKKACiiigAooooAKKKKACiiigAooooAK8Z/Zf/wCS3/tHf9lmsf8A1CvC9ezV4z%2By/wD8lv8A2jv%2ByzWP/qFeF6APZqKKKACiiigAooooAKKKKACiiigAooooAKKKKACiiigAooooAKKKKACio729s9Os5dQ1C7igt4ImknnmkCpGijLMzHgAAEknpWB8LfjD8JPjj4VXx38FPil4c8YaG1w8C6z4W1u31C0MqY3xiaB3TcuRlc5GeaAOjr85/wDgvfG9pB4Z8WwoTJ4e%2BG2valHtHIKeLPAyZH4Oa/QDwx8RPh/421TWtD8GeOtH1e98N6l/Z3iKz0vU4riXS7zykm%2Bz3KRsTBL5UscnluA22RGxhgT8R/8ABavQv%2BEj0e70/Zu8v9nTx3dY/wCuGveCps/%2BQ815mdRc8nxCX8kv/SW/0PufDGvHDeJGTVJbLFUL%2Bjqxi/vU2vmfecciTRrLE4ZWUFWHQg96WuZ%2BCuu/8JT8G/CXibfu/tHwzYXW7PXzLeN8/rXTV6MJKcFJdUn96T/U%2BNxVCWFxVShLeEpRfrGUov8AGLCiiiqMAooooAKKKKACiiigAooooAKKKKACiiigAooooAKKKKACiiigAooooAKKKKACiiigAooooAKKKKACiiigAooooAK8Z8cf8pC/hf8A9kZ8ef8Ap28IV7NXjPjj/lIX8L/%2ByM%2BPP/Tt4QoA9mooooAKKK8h/bX%2BJHj74efCfSLL4ZeJW0LWPFnj/wAO%2BGIfESWkM76TFqGp29vPcxxzo8TTCF5BF5iPGJWjLo6gowB69RXylYfGX9qif9kP4oWHg3xBqPirx38PviNd%2BGbfxRa6DaS6lfaXFf2rTX8dnDElvPfwadcy4iSIRzXNqAIQJPKrx8/tnftSeL9Mn%2BEnw08VfFLWb3SPjvdeGIr%2B18IaDpPjvX9FTwja62Jls9btLbTLVorm%2Bjjka4gt2NtHFtUTzBWAP0Nrxn9g/wD5Ihrn/ZZviP8A%2BprrdO/ZZ%2BPmseLP2H/A/wC0B8WtVm1vVbrwZZ3nia48LeGL25lmvRGq3CxWNvA1w0glDq0SRZDK2EAGBn/8E6fENh4t/ZuvvFOlW99Fbaj8W/iHc28Wp6XPZXKI/jPWmAlt7hEmgcA8xyIrqchlBBFAHulFFFABRRRQAUUVzPxi%2BMnwy%2BAPw51P4s/GDxhaaFoGkQebe6hePgDsqKoy0jscKqKCzEgAEmpnOFODnN2S1beiSN8NhsTjcTDD4eDnUm1GMYpylKTdkkkm222kkk2zoNQ1Cw0iwn1XVb6G1tbaJpbm5uJQkcUajLOzHAVQASSeABXyF43/AG8/jJ%2B1b4qvvgl/wTD8L2usLaTm18R/GrXoWHh7RD0ZbQEf8TC4AOQFBQHacOjFhgab4G%2BPn/BWfUYPFnxm07Wfhz%2Bzqkyz6N4HMrW%2Bs%2BOUU7kuL9kObezbAZYlOWHIJ%2BSUfZvgjwN4N%2BGvhSx8C/D7wtYaLo2mQCHT9L0u1WCC3jH8KogAHr7kk14yqYvNv4TdOj/NtOf%2BG/wRf8zXM94qKsz9Ing%2BHvD/AEzCnDG5mv8Aly2pYbDPtWcX/tFaL3oxmqFNrlqzqyUqa8e/ZL/YE%2BFn7MGo3nxL1fWL/wAc/EzWwW8SfErxS3nahdsR80cOSRawdhEh%2B6FDM20Y92oor1MNhsPhKSpUY8sV/Tbe7b6ttt9WfC51nmbcRZhLHZlWdWrKyu%2BiWkYxikowhFaRhCMYRWkYpblFFFbnlBRRRQAUUUUAFFFFABRRRQAUUUUAFFFFABRRRQAUUUUAFFFFABRUdzeWlmnmXd1HEv8AekcKP1rJvfiP8PNMz/aPjzRbfHXz9UhTH5tUuUY7uxMpwh8TS%2BaNqisPRfib8NvEtybLw58QdD1CYHBistWhlYH0wrE1tu6RoZJHCqBksTgCiMoyV4u4RnCavFpryaf5C0Vz2tfFv4VeGs/8JH8TfD2n7fvfbdagix/304rkta/bZ/Y08Obhr/7WnwzsivVbnx3p6N9MGbNZTxOGp/HUivWUV%2BbRjUxmEo/xKkY%2Bsor85I9Orxn9l/8A5Lf%2B0d/2Wax/9QrwvVC//wCCnP8AwT304lbj9sXwA2OvkeIYpf8A0AnNZv7BXxX%2BHPxv8ZfH/wCKHwl8X2eveH9T%2BM1t/Z%2Brae5aGfy/B/hqGTaSBnbJG6n3U1NLGYPET5KVSMn2Uk3%2BDZFDMMBiqjhRrQnLe0ZRbt3smz6HooorpOsKKKKACiiigAooooAKKKKACiiigAooooAKKKKACiiigAooooA8i/b7%2BH3jX4rfsUfFP4cfDvRpdT1nWfA2o2tlpEDhX1MtA26zUsQoM6boRuIXMnJAya8s%2BDGu/EvxR40%2BO/xR%2BAPw81fw1d%2BPbGzj%2BGMPxF8D6vo1nc6zp%2BipC97fQy2omtLcyPZ226WNHmWwfyVkVEY/WFFAHx9/wS2%2BC3x/%2BBPj/wCOHhL4wfBzSfDljdeLdIvLHWtP8W3mrnX7xtB09b29M9xpdiLlpZ1eWWdV5uZbiMoPKDvz/wDwUG8H/FfWvir4ssPGnjHw9qWi337KPxUPhXTNK8MT2d3Y7Z/DDFbm4kvZkuyWEe1o4bfbtOQ24bfuGvnP9qPQv%2BEp/am8OeGdm7%2B0f2c/iXa7fXzL7wmmP1rnxdP2uEqQ7xkvvjJfqevw/i/qGf4PE/8APutSn/4DVpS/9tOy/YJ13/hJf2H/AIP62X3PN8MtD80/9NFsIVf/AMeBr1qvnL/gkbr3/CR/8E3fhJqG/d5fhk2uc/8APC4lhx/5DxX0bWOWVPa5ZQn3hD/0mJ6XHOF%2Bo8b5ph/5MTiF91er/mFFFFdx8sFFFFABRRRQAUUUUAFFFFABRRRQAUUUUAFFFFABRRRQAUUUUAFFFFABRRRQAUUUUAFFFFABRRRQAUUUUAFFFFABXjPjj/lIX8L/APsjPjz/ANO3hCvZq8Z8cf8AKQv4X/8AZGfHn/p28IUAezUUUUAFc78WPhP4B%2BN/gK9%2BGfxN0NtQ0e/eCSaGK9mtpY5YZkngnhngdJYJopoo5Y5YnWSOSNHRlZQR0VFAHnHhb9lH4L%2BCPh7dfC/whZ%2BJNN0i9tJ4boWfjzWI7qV57qS6nuzdC7%2B0fbZJ5ZJHvfM%2B0uW%2BaUgADHvf2Ev2ZL3wJpXw/wD%2BEQ1q2h0XXbjWtP1vT/HOsWuuJqFxHJFcXTavDdrqEssscjxyM87GRCFbKqoHr9FAGN8Ovh54K%2BEvgTSPhl8OPDtvpGg6Dp8VlpOm2oOy3gjUKqgkkscDlmJZjkkkkmvMv2D/APkiGuf9lm%2BI/wD6mut17NXjP7B//JENc/7LN8R//U11ugD2aiiigAoorP8AFnivw34F8L6j418Y61b6bpOk2Ut5qWoXcgSK2gjUu8jE9FVQSfpSbUU29kXTp1K1SNOmm5NpJJXbbaSSSu222kkldtpLc5j9ov8AaG%2BF/wCyz8INY%2BNvxf1z7Do2jwbmWMBprqU8R28KEjzJXbCquR1ySACR81fBn9mT4wftzfETSv2t/wBv3w8dN8P6dMLv4Y/BGV99tpanmO%2B1NSALi7ZcERsMIDggZMa0vgJ4Q8Uf8FNPjnp/7aXxn0K5sfhB4Pvnf4KeCdRiKnV7hTtOv3kZ65I/cIeg5HALTfbNeHSg85qKtV/gJ%2B5H%2Be325LrG/wAEXo/jkneKX6ljsTHw0wsstwTX9qzi1iKyd3hlJWeGoyTajVs2sTWi%2BaLbw9OUeWtOQAAMAUUkkiRI0srhVUEszHAA9TXjPxd/4KI/sO/ApJl%2BJn7UXg%2BzuLcEzafZ6ul7drjsbe28yXP/AAGvXr4nD4aHNWmoru2l%2BbR%2BRYnF4XBw569SMF3k0l%2BLR7PRXx0n7an7bP7Wziy/YO/ZdPhzw1OcL8U/jHHJZWssf/PS00%2BPM1wCMlJD8meGVatr/wAE5v2lPi2Rc/taf8FJviPrUUnMuhfDqGDwxY4/55P5Ad5kHq21jXnrNJV/90oyqL%2BbSEflKdm/VRa8zylnU8T/ALjh51V/NpTh8pTs2vOMGuzZ9Yaxrmi%2BHrJtS1/WLWxtk%2B/cXlwsSL9WYgCvIviB/wAFFP2E/heXj8Z/taeA4Jo/9Za2niOC7nT6xQM7j8q860j/AIIq/wDBO62vV1fxX8H9T8VX6/8AL94p8Yaldu3rlTOEP4rXrnw//Yk/Y8%2BFYR/h7%2By94C0qWP7t1beFbXz/AMZShc/i1PnzyptCnD1lOb/CMV%2BJXPxHV2p0qfrKc390YwX4njl3/wAFrf2EL%2Bd7H4Y%2BJfF3ju7Q7fsng7wFqVw7N/dBkhjUn8ce9Rr/AMFCv2u/iEfM/Z%2B/4JTfEvUIG5W4%2BIWuWPhYlf72y4MhP0zX1na2trY26WllbRwxRjCRRIFVR6ADgVJR9UzWp/ExNv8ABTivxk5v8A%2Bo51V/i4zl/wCvdKK/GbqP8D5KP7S3/BWzUOLP/gmb4Y0/PQ3/AMZrKUL9fKj5/Cj/AIWL/wAFp9Z%2BbTf2c/gXooP8OseLr%2B5I/wC/CivrWij%2BzKz%2BLFVX84L8qYf2PiH8WNrP0cF%2BVI%2BS/tX/AAXQuf3kOlfsq2yj/lncT%2BI3Y%2B2V4pP%2BEl/4Le6d8158NP2bdRC9V0/WdahLfQyjA/GvrWij%2By30xFX/AMDX/wAgH9iy6Yuv/wCDF/8AKz5K/wCF8f8ABYLR/k1L9gr4d6yR1fSPiiluD%2BE6E0N%2B1J/wVjmH2GH/AIJY6JDK/C303xv01oY/dkWPeR9K%2BtaKP7NxC2xVT/yR/nTD%2ByMWtsbW/wDKb/OkfJB8af8ABbe//wCJ3Z/Bb9nvT7VOX0O%2B8RarLeyj0WaMeSp%2BtH/DaH/BRn4f/J8X/wDglrqWo28f39U%2BH3xCsdR8z122rKJR%2BJ5r63oo/s3ER1hiqifm4SX3OC/BoP7IxUNaeNqp%2BbhNfdKmvwaPklf%2BCwvwb0D/AEf4ufsz/HXwNcr/AKyHxL8MbgD3KtC0gZffjPpTk/4Lhf8ABNW3YQ%2BIPjlqWjyn/ljqfgbWEYf982rD9a%2BtKRlV1KuoIPUEUfV85jtiIv1pf/IzQfVc/h8OKg/8VH/5Goj5Rvf%2BC2v/AAThaBE8JfG2/wDEuoTNttdG8P8Ag7VJrudvRUa3UZ%2BpFVl/4KL/ALUHxH/efs4f8Et/ijrFu/EF74%2B1Cz8LxuP74FwZCydweMj0r6wttK0uzna6tNNt4pXGGkjhVWI9CQM1Yo%2Bq5tU/iYlRX9ymk/vm5/gg%2BpZ5W/i4tRX/AE7pxT%2B%2BpKf4I%2BSR4y/4LY%2BN/wB/oPwZ%2BAPgeF/%2BWHinxDqepXEY/wB6yAQn9KG%2BAn/BX7x0fJ8Xft5fD7wVE3%2BsPgn4Zrfvjuqm%2BcY%2BvUV9bUUf2TGX8SvVl/3Ea/8ASVH8w/sOE/4uIrS/7iOK%2B6EYfgz5JH/BLvx/4w/e/Gv/AIKU/H7XWb/XW2g%2BKYtFtJfZoYIm49g1Kv8AwRO/YQvh5vjDQfGfiK4b/W3etfEPU3kk/wB4xzIP0r61oo/sPKX8VFS/xOUv/SpSD/VvI38dBT/xuU//AEucj5Ptv%2BCHv/BL23fzX/Zk89%2B73PjHWXJ/O8xWrZf8EbP%2BCZthjyP2T9GbH/PfVL%2BX/wBDuDX03RVLJMmjthqf/gEf8io8O8Px2wlL/wAFx/yPmXW/%2BCOH/BM/xBbC0vv2T9FjUDGbLUb62b/vqGdT%2BtYqf8EPf%2BCarsF1L4G6lewIf3Npd%2BOdYaKIeigXQ4%2BpNfWlFKWSZNJ3eGp/%2BAR/yCXDvD83eWEpf%2BAR/wAkfNei/wDBHz/gmroGPsP7Jfh%2BTb0%2B23V3c/n50zZrrdF/4J0fsEaBj%2Bz/ANjb4aEr91rrwZZzkfjLGxr2eitYZXllP4aEF/25H/5E2p5Lk1L4MNTX/bkP/kTz%2Bw/ZO/ZY0oBdM/Zp%2BH9sF%2B6IPBtimPyirjf2P/Dvh/wp8WP2iPD/AIW0Kz02wt/jNZ/Z7LT7VIYYt3gvwwx2ogCrliScDkknvXuVeM/sv/8AJb/2jv8Ass1j/wCoV4XrrhRo0n7kUvRJfkkdtPD4ei704KPokvySPZqKKK0NgooooAKKKKACiiigAooooAKKKKACiiigAooooAKKKKACiiigAooooAK8X8exxzf8FB/hjFKgZW%2BC/j0Mp6EHVvCHFe0V4z44/wCUhfwv/wCyM%2BPP/Tt4QoDY8z/4IkSSWv8AwTs8KeE5nJk8Pa5r2mybjyCmrXTYP4OK%2Bsq%2BS/8AgkDjTfhJ8VvBA4/4Rn9oLxXpez%2B5tnjkx/5Er60ryci/5E1Bdopf%2BAtx/wDbT9A8VdfEnNqn89eVT/wbGnV/9yhRRRXrH5%2BFFFFABRRRQAUUUUAFFFFABRRRQAUUUUAFFFFABRRRQAUUUUAFFFFABRRRQAUUUUAFFFFABRRRQAUUUUAFFFFABXjPjj/lIX8L/wDsjPjz/wBO3hCvZq8Z8cf8pC/hf/2Rnx5/6dvCFAHs1FFFABXkP7a/xI8ffDz4T6RZfDLxK2hax4s8f%2BHfDEPiJLSGd9Ji1DU7e3nuY450eJphC8gi8xHjErRl0dQUb16ud%2BLHwn8A/G/wFe/DP4m6G2oaPfvBJNDFezW0scsMyTwTwzwOksE0U0UcscsTrJHJGjoysoIAPnSw%2BMv7VE/7IfxQsPBviDUfFXjv4ffEa78M2/ii10G0l1K%2B0uK/tWmv47OGJLee/g065lxEkQjmubUAQgSeVXFaF%2B1B8RfEH7LPx28feIv2h/izodt8CfGF5BpviSTwXo2meIvFNmPD2m6rDb3VjqGjtFDM8%2Bom3jVLS3ldUtyV3SMD9N%2BFv2Ufgv4I%2BHt18L/CFn4k03SL20nhuhZ%2BPNYjupXnupLqe7N0Lv7R9tknlkke98z7S5b5pSAAG6f%2ByL%2Bz7p3wrj%2BC6%2BCJ7jw%2Bvia08Q3MOoa9fXVzf6pbX0N/FdXd3NM1xev9pt4Xbz5JBII1RwyfLQA/4S6l8SvhB%2Byz4Y1P9p3xTqfinxho3hCxbx1q%2Bi%2BGnurjUNSEKfapILHTLcs4MxfbHBEflxwcE1yP/BOnxDYeLf2br7xTpVvfRW2o/Fv4h3NvFqelz2VyiP4z1pgJbe4RJoHAPMciK6nIZQQRXuleM/sH/wDJENc/7LN8R/8A1NdboA9mooooAK%2BMP2vdY1X9vf8Aaas/%2BCdPw91GdPA3hlrbW/j1rdlIVDQhhJaaGrjpJMyh3wchQCDmN1Ptf7ev7T4/ZK/Zo1v4naRZ/bfEl20ek%2BCdJWPe%2Boazckx20Sp/HhsyMo5KRNjnFedfBzTvgv8A8EnP2Mz40/aO8cr/AMJDq9y2r%2BOtakYT3/iLxDcjfLDAPvXD7sxoBgbULttBdq8LM6sMRV%2BqSly04rnqtuy5ekL/AN9rX%2B4n/MfovDdbDcFcP1eMMU0qqlKlhOa1lVUU6uJd9LYaM0qe6eJqQ39lY%2Bl3k8IfDnwjumm0/Q9C0TTwN8jpb2tjaxJgZJwscaIvsAB6CvmLxj/wVt%2BDOt%2BILj4efse/DXxZ8c/E8DeW8HgXTWGmWz9jcajKBDHGf%2BeieYvPWuU0L9n79o//AIKZ6vafEn9tbTdQ8A/B%2BGdLrw18E7W7aO91pQQ0dzrUqYYA8MLYYKnGdhUtJ9jeDfBHgz4deHLbwh8P/Cem6HpNmmy00zSLGO3ghX0WOMBR%2BArSFXMMer0P3VLo3G85Luouyiu3Mm3vypWPxz6znGcSdSg/Y0n9uUeapO%2Brkoydop3unO8ne/Kr6/JEP7Ff7W/7bUy6/wD8FFfi3/wj3hGVg8PwR%2BG2oPBaOnZNSv1PmXR6bkQ7MgMjL0r3j4R/sP8A7H/wI8qX4Tfs2eDdGuYceXqEOhQyXYx0zcSBpT%2BLV6nRXRh8qwVCftHHnn1lL3pfe1p6RUUuiOnC5Ll%2BGn7Vx56nWc/fm/m07LsoqKXRBRRRXonqhRRRQAUUUUAFFFFABRRRQAUUUUAFFFFABRRRQAUUUUAFFFFABRRRQAUUUUAFFFFABRRRQAV4z%2By//wAlv/aO/wCyzWP/AKhXhevZq8Z/Zf8A%2BS3/ALR3/ZZrH/1CvC9AHs1FFFABRRRQAUUUUAFFFFABRRRQAUUUUAFFFFABRRRQAUUUUAFFFFAHn/7Vfxquf2c/2bvG3xy0/QU1W88MeHLm%2B0/TJZjFHd3SoRBC7gEojSlFZwCVUk4OMVyv7PHxZ%2BO/ifxV8SPgP8ZNU8JXXjPwO2ny2XiLw1oF1Z6Ze21/ZmW3d7Oa8nljeOeO4jdRcHekaODGZCiekfFz4WeDfjh8LPEXwb%2BIdhJdaF4p0W50rVoIZmika3niaN9jrho3AYlXUgqwBBBArhPhZ%2ByX/wAKrXxDqdt%2B0N4/1nX/ABY0j%2BI/FetHSTf3rizitLVv3Onxwwi1ji3RJFEiGSSR5lmZ2JAOd/Yx/aQ%2BLHxj%2BIHxJ%2BGPxSuNM1GTwLeadFba7ZeANU8JyXbXMczSRtpWq3E9yI0MSmO9D%2BRciVhFkwSE17/4ufCjxz/wU28F%2BAvBPxO8Paxrvhj4PeOIvEui6VrUFxd6S8mreEvLW5hjcvAW2PgOFJ2nHQ13vwQ/Zrsfg74x8R/E3Xfix4r8deLPFNjp9hqvibxedPSf7DYtdPaWkcWnWlrbxxRyXt5JxFvZrlyzN8oXD8cf8pC/hf8A9kZ8ef8Ap28IUAeY/wDBM/8A4kvxk/aj8EdPs/x9v9U2en223hkz%2BOyvrSvkv9i3/iSf8FHv2uPBx%2BVP7W8IapCOzfadJkLkf8CUA19aV5OS6YBR/llUX3VJ/wCZ%2BgeJ3v8AF0q3/P2hg6n/AIHg8K//AG0KKKK9Y/PwooooAKKKKACiiigAooooAKKKKACiiigAooooAKKKKACiiigAooooAKKKKACiiigAooooAKKKKACiiigAooooAK8Z8cf8pC/hf/2Rnx5/6dvCFezV4z44/wCUhfwv/wCyM%2BPP/Tt4QoA9mooooAKKK8w/a2%2BMnjL4MfDCwvvhrZ6ZL4m8S%2BMNF8NaBJrcEktla3GoX8NsbqeOKSN5Y4Y3km8pZIzKYhGHj371APT6K%2BYb/wDbH%2BM/hn9kP4ifEjXfD3h698c/DfxvN4X1q%2BsdNuk0YBb%2B2i/tprbzpJ0tYbK7jvp4BMzIIZoxMcCWvME/4Kt67qHhMeCvC3jzwX4h8Tv8ZZ/A1n8QfCngXVtY0XUYIvDsPiBtQstHsLqa8vT5Vwlp5MN0wMiSz%2Bb5SFaAPu2vGf2D/wDkiGuf9lm%2BI/8A6mut11Hw/wDjj4Duv2ddH%2BPXjb4zeE7jQpdAhv8AUvG9v/xKtIkUqN9wFuppDaRls/u5ZWaM/IzFga4n/gnT4n8NeNf2br7xh4N8Q2Or6Rqnxb%2BId3pmqaZdpcW13BJ4z1po5YpUJWRGUhgykgggg0Ae6UUV5J%2B3d%2B0Xb/sofsj%2BOvjsbhI7zRtDkXRg4BD6hMRDarg9R50kZI/uhj2rLEV6eGoTrVHaMU2/RJt/kdeAwdbMcdSwtKylUkopt2Su0ryb0UUryk3ooxk3omfIH7Vv7Vvw/wDE/wC2RqXxv8dRzat8Pf2bLgaX4U8P2XzSeLfiHdrhLWBQD5jWygAnBMToXwQ2D7P%2BzJ%2BxZ8Svib8SbD9tX/goPeW2ufEEIJvB/gaEbtH8CwthljhjJIlux8u%2BZs4ZRtLFVevB/wDgjB%2Bw54m8YeFvCn7Xv7RenSGz0uGa6%2BGHh2%2BYvuubpvMu/ENzu5kubh8CJmGVijiOW2xMP0rr5fJMHWzCH17GLSb51F9%2BkpLryxtGmnoknO3NJW24wzLBcWZ3T%2BqNvLMFFUcJFppVIwbcsVOL%2B1iKrnWhGS92EqTa5kuQooor6084KKKKACiiigAooooAKKKKACiiigAooooAKKKKACiiigAooooAKKKKACiiigAooooAKKKKACiiigAooooAK8Z/Zf8A%2BS3/ALR3/ZZrH/1CvC9ezV4z%2By//AMlv/aO/7LNY/wDqFeF6APZqKKKACiiigAooooAKKKKACiiigAooooAKKKKACiiigAooooAKKKKACiiigAr5I/a5%2BPEPwQ/4Knfstadq0ix6Z468I%2BPvC9zM7fLHPPceGZ7XH%2B009tHGP%2Bupr63r4O/4LG/BnXPjD428LXfgreninwT8HPGvi/wlcRLmSG/07WfCFwCg7u0QmjHvIK4sxnWpYGpUo6yiuZLvytNr5pSXzPPzapiKGXVatBXnBcyXflak184qS9Wjvvgv/wASD/gsV8a9I%2B7/AMJB8LvDmqY/veQz22fwzivrOvgzxr8atH0z9of9mz/gpv4YcQeF/i14ch8B%2BOwr5S0N6PtNjuPRTFeCWN3PQR4zzX3nXHk1WElWhF7Tcl5xqWnF/NN/NM/TuN5wzLBZNnNB81LEYOhFP%2B/h1KhUi/NWpP8Awziwooor2T4EKKKKACiiigAooooAKKKKACiiigAooooAKKKKACiiigAooooAKKKKACiiigAooooAKKKKACiiigAooooAKKKKACvGfHH/ACkL%2BF//AGRnx5/6dvCFezV4z44/5SF/C/8A7Iz48/8ATt4QoA9mooooAK4348fBLw1%2B0D8Opfh34m1jU9L26lY6npetaJNHHe6XqFldRXdpdwNLHJHvjnhjbbIjxuAUdHRmU9lRQB5T8Of2WB8Kfh7q3gbwX8evHEF1rkl5e6l4mlXSZdQm1a6unuJ9VJewMPnkuIxF5X2VIoo0SBQtYJ/YM8ExeF7SPT/jB43tfGlp43m8XN8Uo5NMfXLjV5bBtNlnkWSxaxZWsGFoIfsgiSKKLYitEjr7pRQByvwR%2BD3hH4A/CrRfhB4Fa8fTdEtjHFcajcedc3Mju0ks8z4AaWSV3kcgAFnOAowBwf7B/wDyRDXP%2ByzfEf8A9TXW69mrxn9g/wD5Ihrn/ZZviP8A%2BprrdAHs1fBf/BSFIf25v2yvhf8A8EyvD9/JJomnXH/Ca/F2W1f/AI97CFdtvasytlGk8xgQR8pubZ%2BcV9lfHL4s%2BH/gP8GvFPxo8VMP7P8AC2g3Wp3KbsGQQxM4jH%2B0xAUDuWAr4e/4IK%2BBPG3xI0D4l/8ABQP4xym78UfFTxPJBa3ciYAs7diZPK/uxGdjEFzgCzQDgV89nNRYvE0crWvtPen/ANe4NNr/ALelyx9LkfU6%2BYqtThLlp04c1V9XGcvZQprzrSck%2B1KFV/aP0E0vS9N0TTLfRdHsIbW0s4EgtbW3jCRwxooVUVRwqgAAAdAKnoor6FJJWRSSSsgooooGFFFFABRRRQAUUUUAFFFFABRRRQAUUUUAFFFFABRRRQAUUUUAFFFFABRRRQAUUUUAFFFFABRRRQAUUUUAFeM/sv8A/Jb/ANo7/ss1j/6hXhevZq8Z/Zf/AOS3/tHf9lmsf/UK8L0AezUUUUAFFFFABRRRQAUUUUAFFFFABRRRQAUUUUAFFFFABRRRQAUUUUAR3t7Z6dZy6hqF3FBbwRNJPPNIFSNFGWZmPAAAJJPSuZ8A/HT4I/FbwFP8VPhd8Y/CviTwvbGYXPiTQPENteWEXkjMu64hdo12Dlst8o64rjP2%2B/h941%2BK37FHxT%2BHHw70aXU9Z1nwNqNrZaRA4V9TLQNus1LEKDOm6EbiFzJyQMmvOP2d/GulTfFL41/HCb4Q%2BO9N8G%2BL47CXR9G1T4Y6ta3eqvpmjxx305sJbVZkaRGt7OJJUR7k2JWFZFVCQD3z4T/HD4LfHrQJvFfwM%2BL/AIX8aaXb3RtrjUvCfiC21G3imCqxiaS3d1VwrKdpOcMD3Fef%2BPoop/8AgoN8MYJ41dH%2BC/j1XR1yGB1bwhkEdxXF/wDBPLxHqHxj8SfEP9qHxv4D8W%2BE/FPjiXS47nwh4l%2BH%2BraH/YWlWkdwmn2jSahawLf3mJbiS5lgMkcbzJCrNHFFJLq3%2Bm/Fe0/4KbeC7zxt408PahoVx8HvHB8NadpXhiezu7BBq3hLzFubmS9mS7JymCkNuF2nIbcNoB82/B/9nk/EH9mz9pX/AIJM3zFNS%2BHniOfUvhoZH2tDYXpOpaSyMefluFYOyngSleM8/Wv7AH7Rcn7U/wCyN4L%2BL%2BpsRrNxpgsvE0DrteHVLZjBdBlPKZljZwp52uteQf8ABQLQ/Ef7KXxt8L/8FOvhrp9zdWeg20fh34yaNaKWa/8ADkso23aoPvS2srB/UrtyQiNnP/ZL8Y%2BG/wBm/wDbz8cfAK01WI%2BBfjtGnxG%2BEWowsDaXd1LCDqdvEw4LNhJ1QYAjUH%2BIZ%2BQwkv7MzKNGWiX7v1hJuVGXyfPSfZ8q6o%2Bo4Gvm3AuZcLS1r5fL65h11lQf7uvGPVqNN0qjS2eHk7dT7Tooor68%2BXCiiigAooooAKKKKACiiigAooooAKKKKACiiigAooooAKKKKACiiigAooooAKKKKACiiigAooooAKKKKACiiigArxnxx/ykL%2BF//ZGfHn/p28IV7NXjPjj/AJSF/C//ALIz48/9O3hCgD2aiiigArz/APaX%2BONz8AfhrF4s0XwiviDWtV8Q6XoPhvQ5NR%2Bxx3uo6hexWkCyz%2BXIYIVaXzJZBHIyxRuVSRgqN6BXn37THwOuvj98NYvCei%2BL18P63pXiHS9e8N65Jp32yOy1HT72K7gaW38yMzws0XlSxiSNmilcK8bFXUA8%2Buf26LrQv2XvFPxu8W/CmKz8T%2BDvGJ8I634St/EQktI9YfUoLCDGoPBHiykN1a3BuWgVo4JS7xBkaOuB%2BJX/AAVLvfhl4cs7DxL4F%2BG%2Bk%2BK7b44SfDPxePE/xgbTvDWiXo8M3HiJLj%2B120xnlV7ZLaEI1rEwuLkxnBjO7074f/srfEbwR8I/GPgHVPiZ4P8AEOqeOrrUtV8RX2vfDuSfT7vVb2ZjIZLE6jh7BbYQ2y2hl8zZDue5dmJrD%2BEH7E/xI/Zx%2BFOqeFP2fviN8NdA1/xP4tm13xXcyfCBzoTM1jBYRwafpVrqlv8AYY47a0tUAa4n3bZGfc0pYAHv3hLVNQ1zwrpmtatDp8d1eafDPcx6TqJvLRZHQMwhnaOMzxAk7ZDGhdcNsXO0eU/sH/8AJENc/wCyzfEf/wBTXW63fhB%2By58NPhj%2Byz4b/ZJ8Q6Xa%2BL/DGg%2BF7XRLm28S6bBPDqUMMar%2B9typi2krkRBdijCqAFFcp/wTp8MeGvBX7N194P8ABvh6x0jSNL%2BLfxDtNM0vTLRLe2tII/GetLHFFEgCxoqgKFUAAAACgD5t/wCDif8AaEb4e/smaR8A9Gvgmo/ETWx9qiBOW06y2TyDjkbpzaIPUMwr65/Yx%2BCkf7On7KPw%2B%2BChthDceH/CtpBqKqMA3hjD3Lf8CneRvxr83f2pbuT9un/gtP4V%2BGVu8lz4c8K%2BLLXw7HGuGguIdKX%2B1dZDj%2BBxMYIM8ZAA9q/W%2Bvlcnl9fzzGY37MeWlH0jdy%2B%2BR7tOisHwXQrv48fWq1f%2B4GGvhKPylV%2BuVF3smFFFFfVHhBRRRQAUUUUAFFFFABRRRQAUUUUAFFFFABRRRQAUUUUAFFFFABRRRQAUUUUAFFFFABRRRQAUUUUAFFFFABRRRQAV4z%2By/8A8lv/AGjv%2ByzWP/qFeF69mrxn9l//AJLf%2B0d/2Wax/wDUK8L0AezUUUUAFFFFABRRRQAUUUUAFFFFABRRRQAUUUUAFFFFABRRRQAUUUUAFFFFABXjPjj/AJSF/C//ALIz48/9O3hCvZq8Z8cf8pC/hf8A9kZ8ef8Ap28IUAes%2BI/DuheL/D1/4T8T6VBf6bqdnLaahY3MYaO4gkQpJG4PVWUkEehr8xPE3wR8V%2BAW1H/gmtq/imfS/G3gTWW8bfsfeOL%2BTab%2BKNjM2jGduGkjO6JkY4YMrbdscYb9SK8o/bE/ZF%2BH37Y3wnb4f%2BLrqfS9W0%2B5W/8ACXivTjtvdB1KPmK6gcEEEMBuUEbl4yCFZfGznLXjqPPTXvxTVr25oveN%2BjulKMvszjF7XFhsdm2QZ1hc9yhpYrCy5oqXw1IvSdKa2cKkW4tO61d1aUhv7E/7Uuh/tgfs9aP8X7Gx/s/VcvYeK9DcFZNJ1aDCXNq6t8y4b5l3clHQkDOK9Zr8h/hd%2B1t8Xv8AgnR%2B2Fr1x%2B0ZpC2t5rVxDH8ZNBsYCINZRQVg8Y6SAAJN65N3AgDbvMfbyy2360%2BF/E/h3xt4bsPGHhHWrbUtK1SzjutO1CzmEkVzDIoZJEYcMpUgg%2B9Z5Fmscww7p1H%2B9p6ST0fZSt0vbVdJXW3K39bxLgcqrwp57kaf9n4ptwTd5UKqs6uEq9Y1aEm0ub%2BJRdKtFyjKTV%2BiiivdPkwooooAKKKKACiiigAooooAKKKKACiiigAooooAKKKKACiiigAooooAKKKKACiiigAooooAKKKKACiiigArxnxx/wApC/hf/wBkZ8ef%2BnbwhXs1eM%2BOP%2BUhfwv/AOyM%2BPP/AE7eEKAPZqKKKACiiuO%2BPHxs8Nfs/fDqX4ieJtI1PVN2pWOmaZouiQxyXuqahe3UVpaWkCyyRx%2BZJPNGu6R0jQEu7oiswAOxorx2H9tj4Zj9njVf2hdW8J%2BJtPXRNfbw/qvg%2B6s7dtYg1v8AtBNOj0zZFO8DTy3UsMcbrMYHE8cgl8tt9UtV/by%2BFvhf4DeNfjh448FeKdDuvh/q50bxL4FvLezm1uLVmhtp7bT41trmW2lmuIr2ykiKXBjK3UbO6AOUAPb68B/ZS8YWPw8/ZR8c%2BP8AU8fZtD%2BJ3xQ1C43HA2Q%2BMNdkb9FNexfDLx9o/wAVvht4e%2BKPh22uYdP8SaHaarYw3qKs0cNxCkyLIFZlDhXAIDEZzgnrXxd8c/iGfhj/AMEePjv4iSbY9147%2BJWlRkHkm%2B8c6vZYHv8A6RXNja6wuDq1v5Yyf3Jv/I48wxKwWX1sQ/sQlL7ot/mkeJ/8EHPAd/8AEj9oDXvjp4lRri68L%2BBYkvr6QcXus69dy6lNdA/89BarBAx9AK/Vmviv/ggl8KrTwL%2BwNY%2BPVhZZ/HfiK/1bEpzJHbxSfYbeIn%2B6sdoGUdAH96%2B1K8fhXDPDZFRvvNc7/wC3tV%2BCX3n3XGlFZdmlHJY/Dl9DD4S396hRgqz9XiKmIb7u7uwooor6E%2BRCiiigAooooAKKKKACiiigAooooAKKKKACiiigAooooAKKKKACiiigAooooAKKKKACiiigAooooAKKKKACiiigArxn9l//AJLf%2B0d/2Wax/wDUK8L17NXjP7L/APyW/wDaO/7LNY/%2BoV4XoA9mooooAKKKKACiiigAooooAKKKKACiiigAooooAKKKKACiiigAooooAKK8/wD2q/jVc/s5/s3eNvjlp%2Bgpqt54Y8OXN9p%2BmSzGKO7ulQiCF3AJRGlKKzgEqpJwcYrl/wBnT4t/HPxJ4u%2BI3wK%2BNV94TvvGHgaTT5bTXvDGiXNhpt/a39n5sDNaz3VzLE8c0VzE4E7h0jRxsMhRAD2ivGfHH/KQv4X/APZGfHn/AKdvCFSfsT/F74wfF/4beIbj463Xhq48ReG/iFrvhy5u/CWkXFhZXMdjePBHIsFxc3MiMVUZzKQTyAucDmr/AOLnwo8c/wDBTbwX4C8E/E7w9rGu%2BGPg944i8S6LpWtQXF3pLyat4S8tbmGNy8BbY%2BA4UnacdDQB9D0UUUAeU/tc/sYfAf8AbV%2BHLfD741eGPOeDdJouu2LCLUNJnI/1tvNglTkDKnKNtG5TgV8RfArxr%2B0//wAESNXl%2BD37UGjah42/Z6u9TzoHxH0G1aZvDTSv0uLdSzwxM7AtF0DszQtIxMZ/TOquu6FonijRbvw34l0e11DTr%2B2e3vrC9gWWG4hdSrxujAq6spIKkEEHFePjsop4jELF0Jezrx2klo1/LNfaj%2BK6NWIj9Zoe0WGqumqvKqiSUoT5b8rnBtRlKF3yTTjUheUY1OSUoPJ%2BF/xX%2BGvxr8F2fxF%2BEvjnTPEWh36brXU9Ju1mib1UlT8rDoyHDKeCAeK6Cvy1/af/AOCU/wC0f%2Bxb8QNQ/aW/4Jj/ABG8Vadoc8xuNa8C%2BHbsveWSjJLW9vKTFqcK5LC2lHmfKFVmzle%2B/Zc/4Kgftl%2BJfAx8Uaz8AdJ%2BNuh6c3laxrPwrvRaeINMYdY77Q7nEvn5DAiLERKnYzDBPFR4gnRr/Vswoyp1F1inOEl3jb3rd/dbXW256GYZPneU5Ss1q0vb4O6Tr4fmqwpye0a9NL2%2BGm%2Biq05U5Wfs61TZfoZRXzV8L/8Agrh%2Bwn8RtV/4RXXPi9/wgviFGCXfhz4j6fJot1auf4Ha4Ah3eyyGvorQ9f0LxPpcOueGtatNRsrhd1veWNys0Uo9VdCQw%2Bhr3MNjcHjI3oVIy9Gn963XzSPGwmYYDHx5sNVjP0advVbr5pFuiiiuk7AooooAKKKKACiiigAooooAKKKKACiiigAooooAKKKKACiiigAooooAKKKKACiiigAooooAK8Z8cf8AKQv4X/8AZGfHn/p28IV7NXjPjj/lIX8L/wDsjPjz/wBO3hCgD2aiiigAry/9rf4N%2BM/jP8MLCx%2BGt5pkXibw14w0XxLoEetzyRWV1caffw3JtZ5Io5HiSaNJIfNWOQxGQSBJNmxvUKKAPm3wd%2BzD8V1%2BBPxF8D/Fz4Z%2BAvE%2Bp/EbXNQ8Taroo8Z39vp6ajPcJ5Fil0mn%2BfFHBb29oV1BIxN9oRpFt4sLjzXQv%2BCTnia/%2BGHiK7vvjdr/AIG8aa/4z1fxVHZ%2BE/Ekev2NvfXWg22hxR3F94h0%2B6ub9ltLUlrto4p917chNqlFH25RQB5f8Df2fdT8Efsi%2BEf2a/ih471jWLzR/Btjo%2Bsa5petSabdSyQwojGC505bSSJVK7UeMROUVd2WLE/nP/wUK8RwfCT/AIJI23wq8M3F7crqH7S3jazjTVNVnvbia0svFviG6Z5ri5d5p2DW8O6SR2di2WYkk1%2BtFfiP/wAFOdU1bx/oHw5%2BAfhu9CXT/F74q3k0OMmQ3vj%2B/wBPh49t0/5mvneLKzo8PV%2BXeSUV/wBvNI68ry2nnee5fldS3LicThqUr7ck8RS9pfy9nCrfyufqz/wT/wDAf/Cs/wBiD4T%2BC3h8ua18AaW93HjG2eW2SWUf9/HevX6r6RpVloWk2uiabCI7azt0gt4x/CiKFUfgAKsV7mGorD4eFJfZSX3JL9DfOsxqZxnOJx8961SpUf8A2/Oc/wD263yCiiitjzQooooAKKKKACiiigAooooAKKKKACiiigAooooAKKKKACiiigAooooAKKKKACiiigAooooAKKKKACiiigAooooAK8Z/Zf8A%2BS3/ALR3/ZZrH/1CvC9ezV4z%2By//AMlv/aO/7LNY/wDqFeF6APZqKKKACiiigAooooAKKKKACiiigAooooAKKKKACiiigAooooAKKKKAOd%2BLnws8G/HD4WeIvg38Q7CS60LxTotzpWrQQzNFI1vPE0b7HXDRuAxKupBVgCCCBXGfBX9lmP4L6nrHiaP46%2BN/Euu%2BI7o3HiXX/Eo0p7nVGS1htbVXFtYwxRJbRw5jSFI1Z5ZXlErSMa9VooA8n/ZV/ZWm/ZasvE%2Bnj9oXx147j8UeIbjW7n/hNYNGQ2l7cSyS3MkP9madZ8SvICyyb1Xy1EYjG4NR8cf8pC/hf/2Rnx5/6dvCFezV4z44/wCUhfwv/wCyM%2BPP/Tt4QoA9mooooAKKKKACvnf9pT/gm/8ACL43eM/%2BF4fDTxDqvwv%2BKcALWnxC8FSeRcTNx8t5CCI7yM4AYPhmUBd4XivoiiufE4TDYyn7OtFSW/o%2B6as010aafmexkfEGdcN4363lleVKdmnazUoveE4yUoThL7UJwnF9Y9V8H/Eb4xfGX4NaP/wg3/BWD9jXRPil4KtQUj%2BL3g7w1FqlqkX/AD2vtPdDJZsBy0kYCBjhFOM1f%2BFn/BPD/gmL%2B0Roz/Ff9iH4reIfCJuSHm1b4Q/ES6s5YJD0EkEjSC3b/pm0aEelfcJAIwRkHqDXzf8AGr/glj%2Byv8UvFT/FHwHpmrfDDxzuZ4vGfwx1JtJu95OSZEj/AHMu44LFk3Nz8wzmvDxGUVYu/LGvFdJ2VRelVJN/9vWf949/GQ8MONZc%2BdYFYHEv/l9h6ftKLfeeHco1aXm8NXcVraitEcuP2Lv%2BCifwy%2Bb4Hf8ABT7U9VtI/wDVaP8AE7wRaamZPTfeqVmH4LzSjx3/AMFpvh2NviL4D/BH4iwx/dbwp4nvdIuJh/tfbQY1Y%2B3FV1sf%2BCvH7Ly%2BXp994L/aL8NW33I7xl8O%2BJDGOg382smF/ibc7keprR8N/wDBX/8AZw0jV4PB37T/AIL8b/BbX5W8sWXxE8MTw20r9/Ku4leJ4/SRtgIrBSy%2Bi%2BWdWrhn2lJ8vycvaU3/AOBr0POqeDGd1YOrw7iXjaa1vhK7qyS/vYaqvrELLdOjJL%2BZ7lcf8FBv2wfCYx8W/wDgk98TLMp/rT4O8QWGvj32%2BSU3Uf8AD4j4H6L/AMlR/Zv%2BO3gnb/rD4p%2BFlzEE%2BpiaTivpj4ffFL4Z/FnQ18TfCz4h6H4k05wCt9oOqw3cRz0%2BeJmFb1epHC5i4qVLF8y84Ql%2BMXH8D4OvlHEGCrSpTxUoyjo41KMOZPs1%2B7kn5OKZ8qaX/wAFtf8AgmTqUv2Wb9pVbGccPb6l4U1aBkPoS9qF/Wuo0n/gq1/wTo1rH2P9r3wcmen2u%2Ba3/wDRqrivedT0TRtbi%2Bz6zpFrdx/3Lq3WQfkwNcvq37On7PmvEnXPgT4Nvd33vtfhi0kz/wB9Rmq9nnkdqlN%2BsJr8psy9lxHHatRl606i/KozjrL/AIKH/sFX4Bg/bP8Ahcuf%2Be3jqwj/APQ5RWlB%2B3F%2BxVc/8e37YHwtkz02fEDTT/Kakvf2Hf2KtRydQ/Y/%2BF0%2BevnfD/TW/nDWdP8A8E8P2Crj/WfsYfC4f7ngWwX%2BUQo/4XV/z6f/AIND/jJV/wA%2BH/4OX%2BZsj9s39j5vu/tXfDU/Tx1p/wD8eqK4/bc/Yws/%2BPv9rr4YRY6%2BZ4%2B05f5zVhn/AIJvfsBN1/Y1%2BG34eD7T/wCIqa2/4J1/sEWv%2Bq/Yx%2BGBx/z08EWL/wDoURovnval99T/ACC/Evah99b/ACJrn/goL%2Bwfaf679tD4VHHUR%2BP9Oc/%2BOzGsXVP%2BCoX/AATy0fP2v9sPwI%2BOv2XXEn/9F7s10dt%2Bwj%2BxBZc2n7G/wqiI7x/D3TQf/RFbWl/ssfsxaHj%2Bxf2cvAdnt6fZfCFlHj/vmIUWz19aS%2BVR/qgtxK/tUF8qz/No8Z1r/gtF/wAEx9ByL39qvTZSO1joWpXOfp5Ns2azD/wWp/Yr1P8A5EWD4heKc/c/4R/4c6jJv%2BnmRpX1Fovgrwb4bAHh3wlplht6fYrCOLH/AHyorTo9jnUt60F6U2/zqfoH1fiGW%2BIpx9KUn/6VV/Q%2BSv8Ah7Hb6v8AL4G/4J6/tM61n7lxH8LjDAf%2B2kk4x%2BVH/Dxj9pnUv%2BRZ/wCCVPxilz93%2B1JrOy/Pe5xX1rRR9SzN/Fi38qdNfncP7PziXxY1/KlSX5uR8lf8Nu/8FE7/AJ0D/gkP4gkB6f2j8WtJtD/48ho/4bT/AOCk8PN5/wAEgtVUd/J%2BNGjyfyjr61oo/s/G/wDQXP8A8Bp//IB/ZeYf9B1T/wABo/8Ays%2BSv%2BG%2B/wBtSw/5D3/BJj4gx4%2B9/Z/i/Trv8tuM0f8ADy7412PGvf8ABLb49xkdf7P0W2uv/QZRmvrWij6jmC2xcvnCm/0Qf2bmq2x0vnTpP9EfJX/D1PXrb/kI/wDBMv8AakX1%2BzfDBZv5XAo/4e0acnFz/wAE6v2q4T/dl%2BDxB/S5r61oo%2BqZp/0Ff%2BUof/JB9QzpbY3/AMo0/wD5I%2BSv%2BHsccn/Hr/wTb/awl91%2BD3H/AKVUv/D1bWJeLX/gmb%2B1OWPQS/CtUH5m54r60oo%2Bp5p/0F/%2BUqf/AMkH1DOv%2Bg3/AMo0/wD5I%2BSv%2BHnHxYuudL/4Jd/tCuP%2BnvwvBAfyMxo/4eQ/tDTcWf8AwSu%2BNjE9POt7SP8AnJX1rRR9SzLri3/4Lph/Z2bPfHS/8FUv%2BCfJX/DwT9sK8%2BTR/wDgk78S3c/dF74i0%2B3H4licUH9sT/gp5rHyeHP%2BCSEturdLjWPjXpMQX6xiPd%2BRr61oo%2BoY174ufyjTX/trD%2By8xfxY6p8o0l/7Yz5K/wCFx/8ABZHWfn039jT4UaKD0TWPiHJckfUwKBVP4J6v%2B25q3/BQvwZJ%2B2N4R%2BHWkKvwZ8Zf8I3H4Cv7ydnzq3hX7R9oNxwMfuNmz1fPavsGvGfHH/KQv4X/APZGfHn/AKdvCFa0MDUo1VOVepK3RtW%2BaUF%2BZvhstq0KyqSxNWdukpR5X6pQj%2Be57NRRRXoHqBXHfHj42eGv2fvh1L8RPE2kanqm7UrHTNM0XRIY5L3VNQvbqK0tLSBZZI4/MknmjXdI6RoCXd0RWYdjXl/7W/wb8Z/Gf4YWFj8NbzTIvE3hrxhoviXQI9bnkisrq40%2B/huTazyRRyPEk0aSQ%2BaschiMgkCSbNjAGbD%2B2x8Mx%2Bzxqv7QureE/E2nromvt4f1XwfdWdu2sQa3/aCadHpmyKd4GnlupYY43WYwOJ45BL5bb6bpP7X194n8D6r4i8GfswfEPWNf8N%2BJ30Hxf4EtbrQItV0G6FpFeg3D3Gqx2bo1tc2kymC5lJW6iOPv7OR8Hfsw/FdfgT8RfA/xc%2BGfgLxPqfxG1zUPE2q6KPGd/b6emoz3CeRYpdJp/nxRwW9vaFdQSMTfaEaRbeLC44/wH%2Bwr8Qfhz8B/HHgfVf2ePhT8SJ/iv4%2Bk8ReN/A/xG%2BIGqahpNqq6fY2Vsg1G/wBMvbnVZVXTYJXluYImaWV2UoERaAPpz4L/ABb8GfHz4Q%2BF/jh8ObqafQPF%2BgWms6LNc25ike1uYVmiLoeVba4yOxr8WdLuLD42f8FdNA8G3VyzDwV8e9dtZoBkhreHxl4k1uYFR97gx54z0r9fvgl8AdX8G/smeFf2cPir491PWr3SPCNnpGsa/ous3um3Fw8USIzw3MEyXUXK4VxKJSoG5iSxP5Mf8Ey/hXpk3/BXPxhaWMV9J/whPxg%2BIl/b3GqalPe3MloviIaVDJLcXDvNO%2B6SYGSR2dm3FmJJJ%2BY4ng69PC0Okq0L%2BivL9D6bgqjN8WUMWtsLTxeIfk6WDxCg/wDwbiKf3q2p%2B0H/AAmGk/8APpqn/gju/wD41S/8JhpP/Ppqv/gju/8A41Xzt4%2B/4LI/8E3vhf471r4aeOf2jfsOt%2BHdWudM1iy/4RDWJfs91bytFLHvjtGR9row3KSpxkEjmsn/AIfl/wDBLT/o6H/yydb/APkKvTlnmSwk4yxNNNf34/5nrUfC3xMxFGNWlkmLlGSTTWHqtNNJppqFmmmmn1TT6n0//wAJhpP/AD6ar/4I7v8A%2BNUf8JhpP/Ppqv8A4I7v/wCNV87eAf8Agsj/AME3vih470X4aeBv2jft2t%2BItWttM0ey/wCEQ1iL7RdXEqxRR75LRUTc7qNzEKM5JA5rvv2/vjB8TP2ff2Jvin8cfg3aabN4n8JeB9Q1XR11eZkt1lghaTe%2B2OTdtUMwTbh2UIWQMXXrwuNweNi5YepGaW/K07etj5/POGeJOGK0KWcYKrhpTTcVVpzpuSTs2lNJtJ6Nrroel/8ACYaT/wA%2Bmq/%2BCO7/APjVH/CYaT/z6ar/AOCO7/8AjVfPupftt/Grwr8QPHPgv4h/AzwLoVj8Mvh7Z%2BJvHHia6%2BKd01hA93FqjW9tbH%2BxxLOA%2BnxiWV44iiXBZI5njEUnL/Db/gpVq/xV1TwzoerfCfV/C%2BtxfGiXwd4h0hZby2hkQ%2BD9Q1%2BGfbrGj2l68LpDEm37PaSCVAyyyQqVuOk8M%2Bqv%2BEw0n/n01X/wR3f/AMao/wCEw0n/AJ9NV/8ABHd//Gq%2Bef2Sv2%2BfiT%2B0Pp%2BiXHjn9mD/AIR%2B78WfCbRfiD4T0vw941h1We606%2BYI8E5uILKK3uIS8TFQ8iOj5DhlMddT%2B1X4t%2BKupfFr4X/s8fC34r6j4Ebxtdaxdat4r0bTbG6vYrewshIttAt/b3FurSTTQszPE58qCVV2swkQA9d/4TDSf%2BfTVf8AwR3f/wAao/4TDSf%2BfTVf/BHd/wDxqvnKD9oP9pH4n/8ABMjwh8f/AIfWlz/wnOu6R4dm8Q3fhXQ1vbi3tZb%2B0i1jUNOspFkE8qWZvLm3gKy7mWNdk5/dv5L4a/ar/am%2BIvhx/D9j42%2BLtj4Y8LfFHXfDmufEXQ/hJb3fiy8jj0yxvtJNzpJ0yRLaOVr6WKWQWMRU2sIkFsZZCoB9z/8ACYaT/wA%2Bmq/%2BCO7/APjVH/CYaT/z6ar/AOCO7/8AjVfntrX/AAUG/bAk%2BDHgL9rDX7Lxjo2m6t8LvAniHSvDXhXwHDf6H4jvr%2B5xrlvqGoNbztp/lxPCbYC5ts%2BajIbxiYV9C8EftvePtX%2BOXi7xP8RvHHjTwr4eg8d%2BLvB/gi01LQdGTwbcXmiWt87C6uQj6uZ2j067vjMrRWnlp5C7pUIcA%2Bxv%2BEw0n/n01T/wR3f/AMaq/YX9pqdol9YziSKQZVgCO%2BCMHkEHIIPIIr5D/wCCZX7QH7TnxN8Y614P/aX1vxWLiX4a%2BF/Emmad470rRbe9knvGv1vLqyOjRrF/ZbNDbrDFdf6fGyyfaEjDxbvq3wf/AMgmb/sKX3/pXLQBq0UUUAFFFFABRRRQAUUUUAFFFFABRRRQAUUUUAFFFFABRRRQAUUUUAFFFFABXjP7L/8AyW/9o7/ss1j/AOoV4Xr2avGf2X/%2BS3/tHf8AZZrH/wBQrwvQB7NRRRQAUUUUAFFFFABRRRQAUUUUAFFFFABRRRQAUUUUAFFFFABRRRQAUVHe3tnp1nLqGoXcUFvBE0k880gVI0UZZmY8AAAkk9KwPhd8YvhH8cPCg8efBb4p%2BHPF%2BhtO8C614X1y31C0MqY3p50Dsm5cjIzkZ5oA6OvGfHH/ACkL%2BF//AGRnx5/6dvCFd/8ACz42fBn45aPdeIfgn8W/DHjGwsb5rK%2BvvC2v2%2BoQ29yoBaF3gd1SQBlJQkEBhxzXAeOP%2BUhfwv8A%2ByM%2BPP8A07eEKAPZqKKKACiiigAooooAKKKKACqPiPwz4b8YaPN4d8W%2BH7HVNPuV23FjqNok8Mo9GRwVYfUVeopNKSsyoTnSmpwbTWqabTT7pppp%2BaaZ8x/ED/gkH%2Bwv4v1pvF3gz4bX3w81/JMOvfDXW59Gmhzz8kcLeQvPP%2BrrDH7F/wDwUL%2BEY3fs9f8ABSvU9bsov9ToPxc8KwaqZAOm%2B/j2z/XC89a%2BuKK8yWS5a5OVOHI%2B8G4f%2BktJ/OLPuqHiZxpGjGji8SsVTWihiqdPEpLsnXhOcV/hqx8rPU%2BSB8dv%2BCvPwoGz4k/sUfD74k28XE1/8NPHh059v98QaipZz/srjNKP%2BCt/hDwX%2B6/aI/Y%2B%2BOPw7Kf6/UNW8BSXWnr67bi3Zt4HqEr62oqfqGPpfwcVL0nGM/xtCX4mv%2BtnCmO/5GOQ0b/zYerXwz/8B5sRS%2BXKkfO/gD/grJ/wTm%2BJJRdA/a08K2rPxs8QTSaUVPoftqRYr2nwZ8Vvhd8R4RcfDz4k6Br0ZXcH0XWILoEeuYmaqHj79n/4D/FZXX4ofBTwl4j8wfP/AG74ctrsn/v6jV4v4z/4I9/8E3fHExur/wDZa0ewnzujn8P313ppjbsVFrNGox9MUXz2n0pT/wDA4P8A9vQuXwqxm0sdhn6YbExX3PDTf3I%2BlqK%2BSv8Ah0H8LPD3zfCH9q349%2BBtn%2Bqg8N/E%2BcQr6ApMkm5fbNL/AMMH/tzeFf8Akl3/AAVl8bW4X7kfi3wNputZ9maUofxo%2Bu5nD48K3/hnB/nyMP8AVngjE/7tn8I%2BVbC4mn97p/WI/cj60or5L/4VT/wWZ8Jj/in/ANq/4OeLdv3f%2BEq8DXNhv%2Bv2Jjj8KB49/wCC1fhn/kOfAP4C%2BJ9vX/hG/FGpWW/6fawcfjR/arj8eHqr/ty//pM3%2BQf6gxrf7rnGAqf9zLpv7q1Cn%2BMkfWlFfJf/AA13/wAFQPD/AB4q/wCCUK38a/fu/D/xm0t8/SJ495/Oj/h49%2B0Tov8AyO3/AASv%2BNVvj7/9hRWmp4%2BnluuaP7awK%2BLnj606i/8AbGH/ABDLiqf8B4er/wBe8Zg5fh9Zi/wR9aUV8l/8Pb/CWnceMv2Gf2ldAx999T%2BE0gQe4ZJmyPfFH/D6T9i%2Bw/5Gy1%2BIegY%2B9/bHw51FNv12RtR/buTretFet1/6VFB/xCrxGl/DyyrP/B7Op/6br1D60or5U07/AILa/wDBMXUZPIP7TcdtKDhor3wpq0JU%2BhL2gH610el/8FZ/%2BCcWr4%2Byftc%2BFEz0%2B1Sywf8AoxFrSOdZPP4cTTf/AG/H/M5q/hp4j4b%2BLk2Lj64et%2BlNn0RRXi2nf8FHP2BdUx9m/bK%2BGq56fafGNnD/AOjJBW5Yftq/sb6rg6X%2B1p8MrnPT7P48058/lNW8cfgJ/DWg/wDt%2BP8A8keRW4S4sw/8XLsRH1oV1/7h/U9NorjLH9o/9njU8f2b8efBdxnp5Hii0fP5SVrWfxQ%2BGmo4/s/4iaFPnp5Orwt/Jq2jXoS2mn81/mebVyvNKH8TD1I%2BtOa/OCN2iq9pq%2Bk3/wDx46pbz56eTOrfyNWK0TT2OOUZRdpKwUUUUyQooooAK8Z8cf8AKQv4X/8AZGfHn/p28IV7NXjPjj/lIX8L/wDsjPjz/wBO3hCgD2aiiigAoornfiv8V/APwR8BXvxM%2BJuuNp%2Bj2DwRzTRWc1zLJLNMkEEEUECPLPNLNLHFHFGjSSSSIiKzMAQDoqK87sv2rfgJffAu6/aRTx00PhCxknhvr280i7t7m2uYbk2klpJZSxLdJdC5UwfZWiExlxGELkKcqX9tv9n9PAMXxGtbvxhe2UmrzaXNp2mfDDX7vVbK7iQSSRXWmw2LXtoVjKOTPCg2SRtnEiFgD1mvzC/4JS%2BFbHVv29P2ofG1rbt/xTPxO1TRTO4HzvfeO9Wv5AD6DYg/AV%2BlHgXxx4R%2BJvgrSPiP8P8AxDa6voWv6ZBqOjarYyh4by1mjWSKZGHVWRlYH0NfEv8AwSS8Fvp0X7TvxFuods2uftjeK7WNiPvwWniFlQ/99yyj8K8zHUvbYrDLtNy%2B6Ev1aPs%2BF8VRwWTZzVkvflho0ovt7XE0FK3rCm0/I%2B76K%2BYvH/8AwU1/4QLx3rfgX/h3z%2B09rX9i6vc2H9saB8J/tNhf%2BTK0fn20v2kebC%2B3ej4G5WU4GayP%2BHsP/WNT9rT/AMM3/wDdVKWdZZGTi6mq/uz/APlZ%2BZy4hyaEnGVXVafDU6af8%2Bj60rF%2BI/w88GfFz4fa58KviNoMWq%2BH/EukXOl65pk7MqXVpcRNFNEShDAMjMMqQRnIIPNfPngH/gpr/wAJ7470XwL/AMO%2Bf2ntF/trV7aw/tjX/hP9msLDzpVj8%2B5l%2B0nyoU3b3fB2qrHBxXs37SfjD4nfDz4BeL/iD8GfDlprPifQdAudS0fRb2F3TUpIEMptAEdCHlVGjRt2Fd1YhgCp68NjMNjIuVGV0t9JL/0qMf1O3B4/B5hFyw8uZLR6SXn9qMfwuY0H7Gv7PC%2BFfFPg7U/CGpavZ%2BNfDdvoPiqXxF4r1PU7rUrCD7T5Mclzd3Mk%2B9Ptc%2BJQ4lG5fn%2BRNuf4J/YM/Zb%2BH%2Bprr2geAtSm1IeLh4ol1XWfGGq6leXGrjSJtGF3NcXd1JLO39nzy2%2BJGZdpVsbkRl8M8R/8FH/ib8SPC1z4x/ZcbQ9VsPEfjubSPhRLF4SXVG8QadYaQt1qt7I1zrelW0McV358Adrhdos3ASVpB5fE%2BDf26viN8XPEeifHiy%2B02unePPhl%2BzvqsfhRtfvfsOlT%2BIvF2u21/JB9mni3OYvJRmOUnW1hWZJYl8o9J2H2H4Y/ZO%2BBHgmx0Sw8HeE73Sl8OeBrTwdok2neI9QhmtNFtXjeC1WVJw52mKPMhYyMAQzsGYHR%2BN/7PXwp/aJ0TT9D%2BKWj6jMNI1E32kX%2BieIr7SL6xuDDLAzw3lhNDcRboZponCSAOkjKwKkivk34KftU/tPfG79qP4P%2BMNS8U%2BEhovjv4W%2BP9b8O/D3Srq909rWSzv8ARoLaDVpTNcJdSx%2BaUa4S2jNvI9wixSZyfbv239W8ST6Z8KPhvL4p1bw7pHjv4r2Gh%2BM9S8N67cafdQ2Z0%2B/ukgivbdop7fz721s7XzI2jkZbgqpUuKAPQpP2d/hYngMfDDRrHWNF0CLw5YaFZaZ4Z8V6jpUen2NmSbdLT7HcRGzdQdplgKSuiIjOyxoq4F/%2BxV%2Bz7ffCqz%2BC0Wk%2BJrHw/aX9zeyxaP8AEPW7G61Ce5Z2uXvru3vEudQMzSO0n2qSUSM259xAI8s%2BEWo/tC/FP/gm3430T4T/ABJu5/GlnqXjvw54B8Wavqpa4uLbT9e1TT9MuJLyUOWlNrbQD7W4cu2J237jnzX4deP7XTPhd%2B0fF8f9H%2BLnh34e/B%2B6s9c0zTdR%2BNepz%2BI7SZdDW6u9Ok1XTNUmml3MY5ktTeTj/TouFzHFEAfVfiX9kr4DeLfEfhrxFrfhXUDF4QgsYvD/AIetfE%2Bo2%2Bh2wspfNs2bSYrhbCZ4JNrxSSQM8bRxFSDFHtr3H7GX7Nt78Vbr4y6j8O3u9ZvJ7m4mtr3W72bTFubm0ayuLpNNeY2UdzLbPJBJcJCsrxyyKzkSOG%2BLv2hPh3%2B2j%2BzH%2Bxb4f8YeKPGvxJ8R3fgj4A6nqF/qmk/F6e0m0Txuf9NN9qb3d6k2r6fG5MEVu5vcJD5ZtpfNBX6Kso/F2lf8FIvhrrGoeLfFVqfHPwA8XX/ifwhceKr2XR4L6w1HwfFA8OnvKbeCWMX16plSMSN57hmYEAAHp/wG/ZL%2BBH7NVxe33wj8MalbXN/p1pp0t3rXinUtXmisbXzPs1lDJqFxM9vaxGaUpbxFIkMjEICTXaeD/wDkEzf9hW%2B/9K5a1Ky/B/8AyCZv%2Bwrff%2BlctAGpRRRQAUUUUAFFFFABRRRQAUUUUAFFFFABRRRQAUUUUAFFFFABRRRQAUUUUAFeM/sv/wDJb/2jv%2ByzWP8A6hXhevZq8Z/Zf/5Lf%2B0d/wBlmsf/AFCvC9AHs1FFFABRRRQAUUUUAFFFFABRRRQAUUUUAFFFFABRRRQAUUUUAFFFFAHkX7ffw%2B8a/Fb9ij4p/Dj4d6NLqes6z4G1G1stIgcK%2BploG3WaliFBnTdCNxC5k5IGTXhlno/jf44%2BHP2n7z4N%2BBfGPhQfFzwe2lfDseIvBWpaJJPq1t4d%2ByyX8sd1BE1kN81pbI9wIjL9gYx70RWP2hRQB8vfsPW9z4s%2BPfjP4weF/g54n8D%2BEJvhV4I8MWmk%2BKvCd1okx1XTZNaku0S2uo42eOGC%2BsLcXCKYpTEVR3WEGtq/034r2n/BTbwXeeNvGnh7UNCuPg944PhrTtK8MT2d3YINW8JeYtzcyXsyXZOUwUhtwu05Dbht%2Bh6%2BcP2j9X%2BNej/t4fCef4HfD/wt4i1JvhH47W7tPFfjC50WCOD%2B1PCRLpLb6fes77to2GNRgk78gKQD6Porxn/hOP8AgoX/ANGv/Bn/AMPxq3/zL0f8Jx/wUL/6Nf8Agz/4fjVv/mXoA9morxn/AITj/goX/wBGv/Bn/wAPxq3/AMy9H/Ccf8FC/wDo1/4M/wDh%2BNW/%2BZegD2aivnHSf2jv27dY%2BM%2Bv/A63/ZQ%2BEi6p4d8L6Rrt5cv8ddU8iSDUbnUreFEI8Mbi6tpc5YFQAHjwWJYL1H/Ccf8ABQv/AKNf%2BDP/AIfjVv8A5l6APZqK8Z/4Tj/goX/0a/8ABn/w/Grf/MvR/wAJx/wUL/6Nf%2BDP/h%2BNW/8AmXoA9morxn/hOP8AgoX/ANGv/Bn/AMPxq3/zL1y/gH9o79u34ieK/G/hDR/2UPhJDceA/FEWharJc/HXVAk88mlafqYeLb4YJKeTqMKksFO9HGMAMwB9HUV4z/wnH/BQv/o1/wCDP/h%2BNW/%2BZej/AITj/goX/wBGv/Bn/wAPxq3/AMy9AHs1FeM/8Jx/wUL/AOjX/gz/AOH41b/5l6P%2BE4/4KF/9Gv8AwZ/8Pxq3/wAy9AHs1FfOPwi/aO/bt%2BMvhS78X%2BHP2UPhJbW9n4o1vQpI73466ormfS9VutMncbfDDDY01pIyHOSjKSFOVHUf8Jx/wUL/AOjX/gz/AOH41b/5l6APZqK8Z/4Tj/goX/0a/wDBn/w/Grf/ADL0f8Jx/wAFC/8Ao1/4M/8Ah%2BNW/wDmXoA9morxn/hOP%2BChf/Rr/wAGf/D8at/8y9cv8Ef2jv27fjx8GPCHxx8K/sofCS10vxn4X0/XdNttQ%2BOuqLPDBd20dxGkgTwwyhwsgDBWYZBwSOaAPo6ivGf%2BE4/4KF/9Gv8AwZ/8Pxq3/wAy9H/Ccf8ABQv/AKNf%2BDP/AIfjVv8A5l6APZqK8Z/4Tj/goX/0a/8ABn/w/Grf/MvXL/G79o79u34D/Bjxf8cfFX7KHwkutL8GeF9Q13UrbT/jrqjTzQWltJcSJGH8MKpcrGQoZlGSMkDmgD6F1HR9I1ePydW0q2uk/u3ECuPyYGud1T4D/A7XM/218GvCl5nr9q8O20mf%2B%2BkNcJ/wnH/BQv8A6Nf%2BDP8A4fjVv/mXo/4Tj/goX/0a/wDBn/w/Grf/ADL1EqdOfxRT9Un%2BaZ00MbjcL/Bqyh/hlKP/AKTKJt6j%2Bxf%2Bx3rGf7W/ZO%2BGl1nr9p8Cae%2Bf%2B%2BoTWHf/APBOf9gfUs/aP2NPhmuf%2BffwXZxf%2BgRil/4Tj/goX/0a/wDBn/w/Grf/ADL0f8Jx/wAFC/8Ao1/4M/8Ah%2BNW/wDmXrnlgMBP4qMH/wBux/8AkT16PFnFeH/hZjiI%2BleuvyrfoYt9/wAErP8AgnXqOftH7IXgxc/88NOMX/oDCsi8/wCCO/8AwTTv8%2Bf%2Bydoa5/54397H/wCgTirPxd/aO/bt%2BDXhS08X%2BI/2UPhJc2954o0TQo47L466ozifVNVtdMgc7vDCjYs13GznOQisQGOFPUf8Jx/wUL/6Nf8Agz/4fjVv/mXrGWUZTLfDw/8AAI//ACJ6VLxF8QaP8POMUvTEVv8A5azzq7/4Ijf8Evb3/XfstW6/9cfFerx/%2Bg3Yqt/w5A/4Jvwf8gr4NavY%2Bn2Tx3rAx%2Bd0a9O/4Tj/AIKF/wDRr/wZ/wDD8at/8y9H/Ccf8FC/%2BjX/AIM/%2BH41b/5l6zeRZI/%2BYan/AOAR/wAjsj4reJ8Vb%2B28XbzxFV/nJnmX/Dlj9iSH/kGQ%2BPLL0%2By/EXUhj85TR/w5r/Zfi/5B3xM%2BLtn6fZvibejH5k16b/wnH/BQv/o1/wCDP/h%2BNW/%2BZeuX8fftHft2/DvxX4I8Iax%2Byh8JJrjx54ol0LSpLb466oUgnj0rUNTLy7vDAITydOmUFQx3ugxgllX9hZN/z4j91vyaK/4it4lPfNq79ZKX/pVORzP/AA5%2B%2BDUX/IP/AGnvj5aen2b4q3Ax%2BaGj/h0f4Oi/48f25/2mbX0%2Bz/FyQY/OA16d/wAJx/wUL/6Nf%2BDP/h%2BNW/8AmXo/4Tj/AIKF/wDRr/wZ/wDD8at/8y9H9hZR/wA%2BV98v0mH/ABFTxD65jN%2BsKD/PDM8x/wCHTyR/8ef/AAUi/ath9FX4wZH5G2qn8Ff2Vb39mX/goV4LF3%2B0z8U/iKNa%2BDPjPZ/wsvxSNTOn%2BTq3hXP2ciNPL8zzRv67vKj6Y59a/wCE4/4KF/8ARr/wZ/8AD8at/wDMvVDwP4H/AGrPGP7Vnhz43fG74cfD3wzo3hn4e%2BIdDhh8K/EO%2B1q6u7rUr7RLhGZLjSLFIo0TS5QWDuxaVAFxkjahlWX4aqqlKFpL%2B9N/g5tfgefmnH3F2d4GeDx2K56c7XXssPG9mmvehhqc1qltNdndXT91ooor0D48K8g/bY%2BG/j74h/CfSL74ZeGW13WPCfj/AMO%2BJ4fDqXcMD6tFp%2Bp29xPbRyTukSzGFJDF5jpGZVjDuikuvr9FAHyf4V%2BBPjvxP%2Bzt8UPD3xj/AGfvGdtd%2BO/G95440/QPDmv6MupaXcJfwSadbwzte/Zl1KI2Freks5tBK%2BzzpQGzwvh74b/t8fAn4JePtY%2BGfwy%2BIHiDxl8bvi8NU1jUdS1/wxN4g8HaMuiadpjX0iG6tNLnv2XSwYYLZjbwm5h3iVbd0l%2B6qKAPO/hb8KrLw3%2BzB4b%2BDPw1tfEvwytdL8J2Wl6NbiXT7vVdBihhSOONnk%2B22k0yKgVnPnoxyctndXlH/BPzwFB8OP2WNes38Q6hrNy/x68dXusa1qccC3N9KnjnU1luZVtooogxSEMwjjRBztVVwo%2Bm6%2BSv2SvFn7Z2n/D3xRZ/DH4B/DDV9CT40/EX%2Bz9R174u6jpt3Mv/AAmesljJbRaBcpEQ24ACZ8gA5BO0JxTab6FxqVIQlBPSVrrvZ3X3PU%2BoP%2BE58E/9Dhpf/gwj/wDiqX/hOfBP/Q4aV/4MI/8A4qvLf%2BE4/wCChf8A0a/8Gf8Aw/Grf/MvR/wnH/BQv/o1/wCDP/h%2BNW/%2BZemQepf8Jz4J/wChw0r/AMGEf/xVH/Cc%2BCf%2Bhw0r/wAGEf8A8VXlv/Ccf8FC/wDo1/4M/wDh%2BNW/%2BZej/hOP%2BChf/Rr/AMGf/D8at/8AMvQBqXvwO/Yp1L4c6R8HtR%2BD/wALZ/COgXpvNC8LTeH9NbTtNuC0jedb2xTyoZN0sp3ooOZHOfmOdDT/AIcfso6Ta2tlpXgP4e20NlaaTaWUNvpdii28GlzyXGmRIAoCJaTyyy26jAgkkd4wrMSfM/gj%2B0d%2B3b8ePgx4Q%2BOPhX9lD4SWul%2BM/C%2Bn67pttqHx11RZ4YLu2juI0kCeGGUOFkAYKzDIOCRzXUf8Jx/wUL/6Nf8Agz/4fjVv/mXoA1rH4JfsW6Z4m1rxrpvwj%2BF9vrPiSG7h8RavBoGnJdapHdYFylzKE3zrNtXzA5IfaN2cVv8AjfSvgB8TPBFz8MviRpvg7xB4bvIUiu/D2uQ2l3YzxoysiPBKGjZVZVIBXAKgjoK4r/hOP%2BChf/Rr/wAGf/D8at/8y9H/AAnH/BQv/o1/4M/%2BH41b/wCZegDqh4J/ZhHh638Ijwj4DGk2nhufw9a6X9gsvs8OkTiNZtOSPbtW1kEMQeADy2ESAqdoxX8PfDX9k7wj8Nx8G/CngD4d6Z4QWcTr4U0/SrCHTRKJhMH%2BzIoi3CVVkztzvUN1Ga81%2BN37R37dvwH%2BDHi/44%2BKv2UPhJdaX4M8L6hrupW2n/HXVGnmgtLaS4kSMP4YVS5WMhQzKMkZIHNdR/wnH/BQv/o1/wCDP/h%2BNW/%2BZegDp/HvgH9lr4qeJtC8afE/wX4A8Sax4XuDP4Z1bXtOsby50iUsjGS1llVnt2LRxtuQqcxqf4RWbrvwP/Yq8UfF%2B0/aE8S/CD4W6j4%2B08xmw8cX3h/TZtYtjGAE8u8dDMm0AAYcYA4rK/4Tj/goX/0a/wDBn/w/Grf/ADL0f8Jx/wAFC/8Ao1/4M/8Ah%2BNW/wDmXoA9R/4TnwT/ANDhpf8A4MI//iqPBh36GZ1B2TX13LESMbke5kZW%2BhUgj2NeXf8ACcf8FC/%2BjX/gz/4fjVv/AJl65f4u/tHft2/BrwpaeL/Ef7KHwkube88UaJoUcdl8ddUZxPqmq2umQOd3hhRsWa7jZznIRWIDHCkA%2BjqK8Z/4Tj/goX/0a/8ABn/w/Grf/MvR/wAJx/wUL/6Nf%2BDP/h%2BNW/8AmXoA9morxn/hOP8AgoX/ANGv/Bn/AMPxq3/zL0f8Jx/wUL/6Nf8Agz/4fjVv/mXoA9mor5x8fftHft2/DvxX4I8Iax%2Byh8JJrjx54ol0LSpLb466oUgnj0rUNTLy7vDAITydOmUFQx3ugxgll6j/AITj/goX/wBGv/Bn/wAPxq3/AMy9AHs1FeM/8Jx/wUL/AOjX/gz/AOH41b/5l6P%2BE4/4KF/9Gv8AwZ/8Pxq3/wAy9AHs1FeM/wDCcf8ABQv/AKNf%2BDP/AIfjVv8A5l65fVv2jv27dH%2BM%2BgfA64/ZQ%2BEjap4i8L6vrtncp8ddU8iODTrnTbeZHJ8Mbg7NqkBUBSCEkyVIUMAfR1FeM/8ACcf8FC/%2BjX/gz/4fjVv/AJl6P%2BE4/wCChf8A0a/8Gf8Aw/Grf/MvQB7NRXjP/Ccf8FC/%2BjX/AIM/%2BH41b/5l6P8AhOP%2BChf/AEa/8Gf/AA/Grf8AzL0AezUV846T%2B0d%2B3brHxn1/4HW/7KHwkXVPDvhfSNdvLl/jrqnkSQajc6lbwohHhjcXVtLnLAqAA8eCxLBeo/4Tj/goX/0a/wDBn/w/Grf/ADL0AezUV4z/AMJx/wAFC/8Ao1/4M/8Ah%2BNW/wDmXo/4Tj/goX/0a/8ABn/w/Grf/MvQB7NRXjP/AAnH/BQv/o1/4M/%2BH41b/wCZeuX8A/tHft2/ETxX438IaP8AsofCSG48B%2BKItC1WS5%2BOuqBJ55NK0/Uw8W3wwSU8nUYVJYKd6OMYAZgD6Oorxn/hOP8AgoX/ANGv/Bn/AMPxq3/zL0f8Jx/wUL/6Nf8Agz/4fjVv/mXoA9mrxn9l/wD5Lf8AtHf9lmsf/UK8L0f8Jx/wUL/6Nf8Agz/4fjVv/mXq3%2Byt8OfjT4P1j4oeO/jpoHhfSdU8ffEKLXLPSvCfiW51a3tbWLQdH0xVe4uLKzZpGk06Vyoi2hZEG5jnAB63RRRQAUUUUAFFFFABRRRQAUUUUAFFFFABRRRQAUUUUAFFFFABRRRQAUUUUAFfK/7T37Wnxc%2BGPxk8Waz4B8O%2BD5PDHwf8P%2BH73xqda0i4m1bVLfV7%2BVLmCwuI7iNLLyLazjuP3kU4uZCkZEPl%2BafqivGfjP8AsQ/Dj43fFI/EzXPHPirS4tRtdItfF/hrRrq1TTvFMGl3sl7YxXyy28kwWOaaXP2eWAyxyGKYyxhUAB7NRRRQAUUUUAfMfhz9pX4mQ/t/%2BKPg/wDEbWPD3hPw2viC00TwZFqPwi1lLrxjANAg1HEHiNrtdOaWO7udQAtBC8nl2kwCgs0i/TleV%2BLP2WoPH/xk0j4p%2BPfjf411fSvD2ux61oHgC4OmRaNY6hHbvBHOGhskvZdnmSSKk11JGJH3bPkQL6pQAUUUUAeL/wDBQX4u/HD9n79kfxp8evgFe%2BFI9Y8E6Fd65dQeMNFub62u7S1tpZnt0S2urZkldkRRIXKoCxKPwK8/8eftZ/FzwX8ePFup%2BFPDvg%2BL4eeD/jH4R%2BH3jKzm0ic63quq67BoqR6hDdpcLDHHB/bmkxmKS3leRIZ8Sx7UFew/tY/s42X7WnwI179n3Wvir4p8I6T4nspbHXL/AMILp32u5spYnimtt1/aXUaI6vyyIsgKja6854uD9gHwdP8AEWz%2BIvir44%2BPtdY6zpOueJtG1CXSorHxPrmmIiWOrX0dtYRMtxEILQhbZoIGNjbF4mMeSAe90UUUAFeL/tk/F344fBK18A%2BMfhZe%2BFP7G1D4meHPD3i%2Bx8QaLc3N1c2uq6zY6aDZyw3UKW0ka3Msm%2BRJ1JRF2ck17RXlX7V37Lb/ALVXhvQvC8/x98b%2BBrfQvElhrqN4Lh0dnu72xvILyzaU6lp94NsVxbxuFjCBuVk3qdoAPOP2ef2lfiZrf7VXi34I/FDV/D3hPTofFOt2/gnwlJ8ItZ0y5162hdJTf2%2BtXF39g1B2Mk0ssVtAX5LsVwxP05Xkuk/soh/jJovxl%2BI/7QHjvxrN4Xu7y78J6F4hGkw2Gj3VzbyWslxEthp9tLK/2eaeFfPklVFnfaASCPWqACiiigDw/wDbu%2BLnx4/Z%2B%2BDWr/HX4UeMfAtjp/hbRbm8vdF8WeGb2/ufEN7lFs9Ms5La9g%2BzTXEpFujeVdM0s8QWFj8ref8AwR/a%2B%2BM%2BufEvwX/a3gzwlpHw08b/ABP8UfDbwr4a07S5o9X0S/0CHVt889yLhreaCRvD%2BposMdvEY1a2PmSZYD0/9pX9kGD9pLx54I%2BIE37QPjvwhc%2BAbu5vdFsfDEWjT2cl7KgjW8mg1PTrxHnhj8xYZAFMYnlI%2BZsir4D/AGGfh74D%2BMtv8XYfiL4u1KDTtc1PXtE8Ialc2X9k6VrepRvHqGqQJFapP584nuyyvM8KNfXJjij8zgA9rooooAK%2BX/2ufjx%2B0x8FviJp/hXSofAHjXR/HMOtW2i/DmLwffSawlraaHdXcl/cXAvniurYXUVvbSQi1iB%2B3woJjIyJJ9QV4dN%2BxNcR/tH%2BK/2mtE/ar%2BJenav4t02HTrnS4YPD89pp9nDA0cNtZtc6TLc28Syu91sWba87l3Dg7aAGfsIftB%2BN/j38Pby6%2BK/j7Rr7xdpws21/w3ZfC7V/CN5oDz2yyiC5stXup7hwW3%2BXcAJHIqHaG2k17pXm/wADv2btO%2BDPifxJ8Q9Y%2BKXinxx4q8VxWNvrHifxc1gty9pZib7LapFp9ra20cUbXNy42whma4kLM2Rj0igAooooA%2BOf%2BCgn7cfxU/Yv8c/2nrui6B4x8Ivo2o63b%2BFZfhzqdlLbppujX2pJJ/wkU10%2BmT3f2vTRssVgS6EcyygbYWkb179mj4u/HPVvip43/Z6/aOufCl/4n8I6ToetR614K0i5sLG5sdTF5GkRgubm5dZYrjTrtS/m4kQxNsjJKit8dv2EvBH7TutXVr8f/i3418UeC7mS4kX4ZXkmmw6NFJNYzWTMHt7KO%2BkAjuJmCS3ToHfdt%2BRAvT/s%2BfszaR8A7zXvEV38UPFnjjxH4kNnHq3irxrcWb30ttaRGK1tR9jtreFYog8rDEe9nnld2dnJoA9KooooAK%2BI/wBqf9sr9rP4N/GrxB8KPB3hvw5411Ow0W413wwE%2BB/iCOTRQNR0y1Qwt9uceJpBY6pced/ZflPC0JWURiYR19uV4fr37Fmp%2BJvHx%2BJ2tftc/FGbW9PgvIfBt4U0ADwqt1NDJP8AZIxpOydmjgW33Xq3TLEzhSruzkA6r9lj4sP8ZPhHB4svfiZo3iq/h1G6stUvtG8GX3h0W1xFKytazabqFxPdWc8YwrxzOHz821QwFejVw3wD%2BAvh74AeGdT0bSvFOt%2BINR1/XrjW/EniTxHNA17qt/MERp5RbxQwJiOKGJUhijjVIkAUYJPc0AFFFFABRRRQAUUUUAFFFFAFHxR4hsPCPhrUfFeqh/sumWM13c%2BUuW8uNC7YHc4U185/sTftJ/Gvx/4p0fwZ8bPD3gyzXx18LbL4jeGYfBmlXFoNMjvLgm70%2B7M1xKLuaN7m2f7YggE7SzEwR7QX%2Blru0tb%2B1lsb23SaGaNo5opVDK6kYKkHggjjFeQ/szfsV%2BAv2YNVfV9A%2BIPi3xLLbeGLHwz4dHiy9tZhoGhWbyPb6bam3t4S0amT5pZzNcSCOLzJn8tcAHsVFFFABXC/tQeO/iL8Lf2afiJ8Tvg/4UXXvFvhzwLq%2BqeFtDaxmuhqOo29nLLbWxhgZZZvMlRE8uNg7bsKQSDXdVneLdEv/EvhjUPD%2Bl%2BK9R0K5vbSSG31rSFga6sXZSBNELiKWIup5AkjdMj5lYZBAPLv2Kfi1P8AFD4Z31lq3xC8P6zqfh3VV0680zRPhhqfg59DQW0EkVncaVqlzPcwuEcSK7eWjxSxbEwN7%2BxV558B/wBnbSfgdeeJfEdz8RPEnjHxJ4v1GG88ReKfFb2Yu7ow26W8EQjsba2tooo40AVY4UyWdmLMzMfQ6ACiiigD5c/ao/ax%2BKH7OHxe8cWXxK0bwl4i%2BF9h%2Bzv4v8e22hW%2BiXCaq7aINLWe2uLmS5e3minW%2BnAQWyFQiZd8sK7f9mf4v/HzVPi54y/Z2/aWk8JXnijwx4Y8PeJY9V8FaTc2NlJZas%2BpW62xhubm5cyw3GkXYMokCyI8TeXGdy1B8Y/2FfDvx0%2BOrfGXx58dvHMumzeCtT8I33w9hg0X%2BxLvRtSW2%2B32khfTWvSJ2tIHZxdB1KEIyIzIek/Z3/Zd0P8AZ9vtb8Rz/FDxb438Q6/a2Flf%2BJ/G1zaSXv2CxSRbOzX7JbW8flRGe4cEoZHe5ld3dmzQB6fRRRQAV8ifGv8AaX/a28Ga7%2B0B4Et/CvgzxZe%2BAvD/AIU8SfDax0n4f6nfzrHqOq6lCEvLWK8eXUZ4F02OdTbC3JckKvyq1fXdeFy/sUeIYvjp42%2BP%2BhftofFbStW8b6RY6Zc2NlZ%2BGGtNNtrK4uZ7NLYS6K8n7o3l0oMzyl1nIk8wqhUA6v8AZU%2BLc3xl%2BFI8Taj8TtG8U6ja6rc2OrXWj%2BCL/wANmzuIm%2Ba1n0zUbie6tJ0UruSZgxDK21VYV6TXCfAP4B6B8AdC1mx0/wAW654j1XxN4gl1zxP4m8SS27Xuq38kMMHmyC2hhgjCwW9vCqRRRoqQoAuck93QAUUUUAfG37S37Xf7S37PHxmg%2BG2tJ8M/Gt9rcEE3hGHTvC17aS%2BC7zUvEOmeHtIm1OV76cXUU7avOC0S2cjixuljDL5hi9y/ZV%2BL/wASPiMPH/w%2B%2BMZ0SfxV8NPHjeGtZ1Xw1p01nYan5ml6dq1vcQ28088lvm11S3R42mlxJHJhiCMcJbf8E1fCTXXxDfxD%2B0v8TtZt/iTrx1zWLfUjoXmWepRXEM%2Bn3NtdRaWl0psHt7cWkbzSRRLCgZH5z6x8A/gLofwD8Patptl4v1zxJq3iLX5ta8T%2BKPEr2xv9XvpI4ofOmFrBBAuyCC3gRIoo0WOCNQvBJAO6ooooAZc/afs0n2PZ52w%2BV5udu7HGcc4zXxB8Vv2uf20/hp8RNc%2BG1vbeA/GeveGL3w1b6t468EfBXX9Wj8OW%2BrNePe2EulWepT3dzNFDZWN0TFOn7u6haWBAYmk%2B3ruGS4tZbeG6kgeSNlWeIKXjJGAy7gVyOoyCPUGvnv4MfsBeIPgJ8Nrj4afDv9ur4xRR3WrPqc2s3ll4Tn1CW7leWS5nmmfQj9pkneXdJJOJHzGmwoBggHrPwE%2BIdl8Vvg74f%2BIVh8QNG8VJqeniR9f8P6TNYWl3ICVkKWs800tsVdWRoZJHeNlZWO5SB19cl8C/gv4S/Z9%2BF%2BnfCnwVc39xZWEt1cTX2q3Imur67urmW6urqZwqhpZrieaV9qqu6Q7VVcKOtoAKo%2BJ4fElz4b1C38G6nY2WryWUq6XeanYPdW0FwUIjklhjliaaNWwWRZIywBAdSdwvVm%2BMdBv/ABR4Wv8Aw7pfi3UtBuby1eKDWtHEBurFyOJohcRSxF1PIEkbocfMrDIoA%2BHvhv8At2/ta/GD4p638Evhbpvw%2BTxnptrrt9J4z8V/C7WtCXVNM0i10WVLGXRLy%2BTUNPle78Q7EmnmePyoZLiOF1nQH7G%2BAXxZ034%2BfArwV8ddG02Wys/GvhLTdetLOdtzwRXlrHcLGxAGSokAJ9RXi2r/APBMjwPrWuX3xFu/2lPimnxA1ZLy11v4k2t7pEOrX%2BmXVta202mFE00WcNsUsrRh5FtFMskCyrKHLMfoPwX4P8NfDzwdpPgDwZpMWn6PoemQafpNhDnZbW0MaxxRrnnCoqqPpQBp0UUUAcv8adR8caN8Lda1v4c%2BIbHS9WsLM3UN9qHg%2B98QIkcZDygadYzwXN5I0SuqRQyBy7LhXPyN8W/CX/goj8fvEnjTQ9T8b3HhHwJ4M1KedfEHji8%2BBniKa21i/h1%2B60hEuZVvo08MzyWtpa/uNUaSWB5VjfOwJX238TPBmu%2BPfCU3hzw38Utf8G3kksbxa/4ZisXu4NrAlVW/trmBgwBUh4m4Jxg4I8Vuf%2BCc3hTUPB9x8NtV/aQ%2BJt34Y1zUJr/x54fmn0cReMLue8e6uJr6VdNFxF5pZYmjs5bWIQxJGqKN24A%2BiaKKKACiiigAooooAKKKKACiiigAooooAKKKKACiiigAooooAKKKKACiiigAooooAKKKKACiiigAooooAKKKKACiiigAooooAKKKKACiiigAooooAKKKKACiiigAooooAKKKKACiiigAooooAKKKKACiiigAooooAKKKKACiiigAooooAKKKKACiiigAooooAKKKKACiiigAooooAKKKKACiiigAooooAKKKKACiiigAooooAKKKKACiiigAooooAKKKKACiiigAooooAKKKKACiiigAooooAKKKKACiiigAooooAKKKKACiiigAooooAKKKKAP/2Q%3D%3D\">"
      ]
     },
     "metadata": {},
     "output_type": "display_data"
    }
   ],
   "source": [
    "s.run(tf.global_variables_initializer())\n",
    "\n",
    "BATCH_SIZE = 512\n",
    "EPOCHS = 40\n",
    "\n",
    "# for logging the progress right here in Jupyter (for those who don't have TensorBoard)\n",
    "simpleTrainingCurves = matplotlib_utils.SimpleTrainingCurves(\"cross-entropy\", \"accuracy\")\n",
    "\n",
    "for epoch in range(EPOCHS):  # we finish an epoch when we've looked at all training samples\n",
    "    \n",
    "    batch_losses = np.array([])\n",
    "    for batch_start in range(0, X_train_flat.shape[0], BATCH_SIZE):  # data is already shuffled\n",
    "        _, batch_loss = s.run([step, loss], {input_X: X_train_flat[batch_start:batch_start+BATCH_SIZE], \n",
    "                                             input_y: y_train_oh[batch_start:batch_start+BATCH_SIZE]})\n",
    "        # collect batch losses, this is almost free as we need a forward pass for backprop anyway\n",
    "        batch_losses = np.hstack((batch_losses, batch_loss))\n",
    "\n",
    "    train_loss = np.mean(batch_losses)\n",
    "    val_loss = np.mean(s.run(loss, {input_X: X_val_flat, input_y: y_val_oh}))  # this part is usually small\n",
    "    train_accuracy = accuracy_score(y_train, s.run(classes, {input_X: X_train_flat}))  # this is slow and usually skipped\n",
    "    valid_accuracy = accuracy_score(y_val, s.run(classes, {input_X: X_val_flat}))  \n",
    "    simpleTrainingCurves.add(train_loss, val_loss, train_accuracy, valid_accuracy)"
   ]
  },
  {
   "cell_type": "markdown",
   "metadata": {},
   "source": [
    "# Submit a linear model"
   ]
  },
  {
   "cell_type": "code",
   "execution_count": 82,
   "metadata": {},
   "outputs": [],
   "source": [
    "## GRADED PART, DO NOT CHANGE!\n",
    "# Testing shapes \n",
    "grader.set_answer(\"9XaAS\", grading_utils.get_tensors_shapes_string([W, b, input_X, input_y, logits, probas, classes]))\n",
    "# Validation loss\n",
    "grader.set_answer(\"vmogZ\", np.mean(s.run(loss, {input_X: X_val_flat, input_y: y_val_oh})))\n",
    "# Validation accuracy\n",
    "grader.set_answer(\"RMv95\", accuracy_score(y_val, s.run(classes, {input_X: X_val_flat})))"
   ]
  },
  {
   "cell_type": "code",
   "execution_count": 83,
   "metadata": {},
   "outputs": [
    {
     "name": "stdout",
     "output_type": "stream",
     "text": [
      "Submitted to Coursera platform. See results on assignment page!\n"
     ]
    }
   ],
   "source": [
    "# you can make submission with answers so far to check yourself at this stage\n",
    "grader.submit(COURSERA_EMAIL, COURSERA_TOKEN)"
   ]
  },
  {
   "cell_type": "markdown",
   "metadata": {},
   "source": [
    "# MLP with hidden layers"
   ]
  },
  {
   "cell_type": "markdown",
   "metadata": {},
   "source": [
    "Previously we've coded a dense layer with matrix multiplication by hand. \n",
    "But this is not convenient, you have to create a lot of variables and your code becomes a mess. \n",
    "In TensorFlow there's an easier way to make a dense layer:\n",
    "```python\n",
    "hidden1 = tf.layers.dense(inputs, 256, activation=tf.nn.sigmoid)\n",
    "```\n",
    "\n",
    "That will create all the necessary variables automatically.\n",
    "Here you can also choose an activation function (remember that we need it for a hidden layer!).\n",
    "\n",
    "Now define the MLP with 2 hidden layers and restart training with the cell above.\n",
    "\n",
    "You're aiming for ~0.97 validation accuracy here."
   ]
  },
  {
   "cell_type": "code",
   "execution_count": 84,
   "metadata": {},
   "outputs": [],
   "source": [
    "# write the code here to get a new `step` operation and then run the cell with training loop above.\n",
    "# name your variables in the same way (e.g. logits, probas, classes, etc) for safety.\n",
    "### YOUR CODE HERE ###"
   ]
  },
  {
   "cell_type": "code",
   "execution_count": 88,
   "metadata": {},
   "outputs": [
    {
     "name": "stdout",
     "output_type": "stream",
     "text": [
      "WARNING:tensorflow:From <ipython-input-88-e942838d59e3>:2: dense (from tensorflow.python.layers.core) is deprecated and will be removed in a future version.\n",
      "Instructions for updating:\n",
      "Use keras.layers.dense instead.\n"
     ]
    }
   ],
   "source": [
    "# Compute predictions\n",
    "hidden = tf.layers.dense(input_X, 256, tf.nn.relu, name='hidden')\n",
    "logits = tf.layers.dense(hidden, 10, name='logits')\n",
    "probas = tf.nn.softmax(logits, name='p')\n",
    "classes = tf.argmax(probas, axis=1, name='prdicted_class')\n",
    "\n",
    "# Loss should be a scalar number: average loss over all the objects with tf.reduce_mean().\n",
    "# Use tf.nn.softmax_cross_entropy_with_logits on top of one-hot encoded input_y and logits.\n",
    "# It is identical to calculating cross-entropy on top of probas, but is more numerically friendly (read the docs).\n",
    "loss = tf.nn.softmax_cross_entropy_with_logits(labels=input_y, logits=logits)\n",
    "\n",
    "# Use a default tf.train.AdamOptimizer to get an SGD step\n",
    "optimizer = tf.train.AdamOptimizer()\n",
    "step = optimizer.minimize(loss)"
   ]
  },
  {
   "cell_type": "markdown",
   "metadata": {},
   "source": [
    "# Submit the MLP with 2 hidden layers\n",
    "Run these cells after training the MLP with 2 hidden layers"
   ]
  },
  {
   "cell_type": "code",
   "execution_count": 92,
   "metadata": {},
   "outputs": [],
   "source": [
    "## GRADED PART, DO NOT CHANGE!\n",
    "# Validation loss for MLP\n",
    "grader.set_answer(\"i8bgs\", np.mean(s.run(loss, {input_X: X_val_flat, input_y: y_val_oh})))\n",
    "# Validation accuracy for MLP\n",
    "grader.set_answer(\"rE763\", accuracy_score(y_val, s.run(classes, {input_X: X_val_flat})))"
   ]
  },
  {
   "cell_type": "code",
   "execution_count": 93,
   "metadata": {},
   "outputs": [
    {
     "name": "stdout",
     "output_type": "stream",
     "text": [
      "Submitted to Coursera platform. See results on assignment page!\n"
     ]
    }
   ],
   "source": [
    "# you can make submission with answers so far to check yourself at this stage\n",
    "grader.submit(COURSERA_EMAIL, COURSERA_TOKEN)"
   ]
  },
  {
   "cell_type": "code",
   "execution_count": null,
   "metadata": {},
   "outputs": [],
   "source": []
  }
 ],
 "metadata": {
  "kernelspec": {
   "display_name": "Python 3",
   "language": "python",
   "name": "python3"
  },
  "language_info": {
   "codemirror_mode": {
    "name": "ipython",
    "version": 3
   },
   "file_extension": ".py",
   "mimetype": "text/x-python",
   "name": "python",
   "nbconvert_exporter": "python",
   "pygments_lexer": "ipython3",
   "version": "3.7.3"
  }
 },
 "nbformat": 4,
 "nbformat_minor": 1
}
