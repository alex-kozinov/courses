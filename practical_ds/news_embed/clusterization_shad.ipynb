{
  "nbformat": 4,
  "nbformat_minor": 0,
  "metadata": {
    "colab": {
      "name": "clusterization_shad.ipynb",
      "provenance": [],
      "collapsed_sections": [],
      "toc_visible": true
    },
    "kernelspec": {
      "name": "python3",
      "display_name": "Python 3"
    },
    "widgets": {
      "application/vnd.jupyter.widget-state+json": {
        "04f22d4d9bac4191a6ab4c7e9599674f": {
          "model_module": "@jupyter-widgets/controls",
          "model_name": "HBoxModel",
          "state": {
            "_view_name": "HBoxView",
            "_dom_classes": [],
            "_model_name": "HBoxModel",
            "_view_module": "@jupyter-widgets/controls",
            "_model_module_version": "1.5.0",
            "_view_count": null,
            "_view_module_version": "1.5.0",
            "box_style": "",
            "layout": "IPY_MODEL_3f3d96d09efa45e891196130a69fea44",
            "_model_module": "@jupyter-widgets/controls",
            "children": [
              "IPY_MODEL_3c7acec08f264305beb2f4ed5ae88134",
              "IPY_MODEL_9a86d0825cdc47f6854a55330b5b19de"
            ]
          }
        },
        "3f3d96d09efa45e891196130a69fea44": {
          "model_module": "@jupyter-widgets/base",
          "model_name": "LayoutModel",
          "state": {
            "_view_name": "LayoutView",
            "grid_template_rows": null,
            "right": null,
            "justify_content": null,
            "_view_module": "@jupyter-widgets/base",
            "overflow": null,
            "_model_module_version": "1.2.0",
            "_view_count": null,
            "flex_flow": null,
            "width": null,
            "min_width": null,
            "border": null,
            "align_items": null,
            "bottom": null,
            "_model_module": "@jupyter-widgets/base",
            "top": null,
            "grid_column": null,
            "overflow_y": null,
            "overflow_x": null,
            "grid_auto_flow": null,
            "grid_area": null,
            "grid_template_columns": null,
            "flex": null,
            "_model_name": "LayoutModel",
            "justify_items": null,
            "grid_row": null,
            "max_height": null,
            "align_content": null,
            "visibility": null,
            "align_self": null,
            "height": null,
            "min_height": null,
            "padding": null,
            "grid_auto_rows": null,
            "grid_gap": null,
            "max_width": null,
            "order": null,
            "_view_module_version": "1.2.0",
            "grid_template_areas": null,
            "object_position": null,
            "object_fit": null,
            "grid_auto_columns": null,
            "margin": null,
            "display": null,
            "left": null
          }
        },
        "3c7acec08f264305beb2f4ed5ae88134": {
          "model_module": "@jupyter-widgets/controls",
          "model_name": "FloatProgressModel",
          "state": {
            "_view_name": "ProgressView",
            "style": "IPY_MODEL_dff885b8047b4321bd39b650111572ec",
            "_dom_classes": [],
            "description": "100%",
            "_model_name": "FloatProgressModel",
            "bar_style": "success",
            "max": 488335,
            "_view_module": "@jupyter-widgets/controls",
            "_model_module_version": "1.5.0",
            "value": 488335,
            "_view_count": null,
            "_view_module_version": "1.5.0",
            "orientation": "horizontal",
            "min": 0,
            "description_tooltip": null,
            "_model_module": "@jupyter-widgets/controls",
            "layout": "IPY_MODEL_141f591ad50e4baab82b4f85886b8753"
          }
        },
        "9a86d0825cdc47f6854a55330b5b19de": {
          "model_module": "@jupyter-widgets/controls",
          "model_name": "HTMLModel",
          "state": {
            "_view_name": "HTMLView",
            "style": "IPY_MODEL_d0d9077fa6d44d5eb03e3329e39f265d",
            "_dom_classes": [],
            "description": "",
            "_model_name": "HTMLModel",
            "placeholder": "​",
            "_view_module": "@jupyter-widgets/controls",
            "_model_module_version": "1.5.0",
            "value": " 488335/488335 [19:33&lt;00:00, 416.28it/s]",
            "_view_count": null,
            "_view_module_version": "1.5.0",
            "description_tooltip": null,
            "_model_module": "@jupyter-widgets/controls",
            "layout": "IPY_MODEL_b6b35ca4b5e747bc95212fc4c0b82497"
          }
        },
        "dff885b8047b4321bd39b650111572ec": {
          "model_module": "@jupyter-widgets/controls",
          "model_name": "ProgressStyleModel",
          "state": {
            "_view_name": "StyleView",
            "_model_name": "ProgressStyleModel",
            "description_width": "initial",
            "_view_module": "@jupyter-widgets/base",
            "_model_module_version": "1.5.0",
            "_view_count": null,
            "_view_module_version": "1.2.0",
            "bar_color": null,
            "_model_module": "@jupyter-widgets/controls"
          }
        },
        "141f591ad50e4baab82b4f85886b8753": {
          "model_module": "@jupyter-widgets/base",
          "model_name": "LayoutModel",
          "state": {
            "_view_name": "LayoutView",
            "grid_template_rows": null,
            "right": null,
            "justify_content": null,
            "_view_module": "@jupyter-widgets/base",
            "overflow": null,
            "_model_module_version": "1.2.0",
            "_view_count": null,
            "flex_flow": null,
            "width": null,
            "min_width": null,
            "border": null,
            "align_items": null,
            "bottom": null,
            "_model_module": "@jupyter-widgets/base",
            "top": null,
            "grid_column": null,
            "overflow_y": null,
            "overflow_x": null,
            "grid_auto_flow": null,
            "grid_area": null,
            "grid_template_columns": null,
            "flex": null,
            "_model_name": "LayoutModel",
            "justify_items": null,
            "grid_row": null,
            "max_height": null,
            "align_content": null,
            "visibility": null,
            "align_self": null,
            "height": null,
            "min_height": null,
            "padding": null,
            "grid_auto_rows": null,
            "grid_gap": null,
            "max_width": null,
            "order": null,
            "_view_module_version": "1.2.0",
            "grid_template_areas": null,
            "object_position": null,
            "object_fit": null,
            "grid_auto_columns": null,
            "margin": null,
            "display": null,
            "left": null
          }
        },
        "d0d9077fa6d44d5eb03e3329e39f265d": {
          "model_module": "@jupyter-widgets/controls",
          "model_name": "DescriptionStyleModel",
          "state": {
            "_view_name": "StyleView",
            "_model_name": "DescriptionStyleModel",
            "description_width": "",
            "_view_module": "@jupyter-widgets/base",
            "_model_module_version": "1.5.0",
            "_view_count": null,
            "_view_module_version": "1.2.0",
            "_model_module": "@jupyter-widgets/controls"
          }
        },
        "b6b35ca4b5e747bc95212fc4c0b82497": {
          "model_module": "@jupyter-widgets/base",
          "model_name": "LayoutModel",
          "state": {
            "_view_name": "LayoutView",
            "grid_template_rows": null,
            "right": null,
            "justify_content": null,
            "_view_module": "@jupyter-widgets/base",
            "overflow": null,
            "_model_module_version": "1.2.0",
            "_view_count": null,
            "flex_flow": null,
            "width": null,
            "min_width": null,
            "border": null,
            "align_items": null,
            "bottom": null,
            "_model_module": "@jupyter-widgets/base",
            "top": null,
            "grid_column": null,
            "overflow_y": null,
            "overflow_x": null,
            "grid_auto_flow": null,
            "grid_area": null,
            "grid_template_columns": null,
            "flex": null,
            "_model_name": "LayoutModel",
            "justify_items": null,
            "grid_row": null,
            "max_height": null,
            "align_content": null,
            "visibility": null,
            "align_self": null,
            "height": null,
            "min_height": null,
            "padding": null,
            "grid_auto_rows": null,
            "grid_gap": null,
            "max_width": null,
            "order": null,
            "_view_module_version": "1.2.0",
            "grid_template_areas": null,
            "object_position": null,
            "object_fit": null,
            "grid_auto_columns": null,
            "margin": null,
            "display": null,
            "left": null
          }
        },
        "75b25d326a92404e96ecfea115ac654f": {
          "model_module": "@jupyter-widgets/controls",
          "model_name": "HBoxModel",
          "state": {
            "_view_name": "HBoxView",
            "_dom_classes": [],
            "_model_name": "HBoxModel",
            "_view_module": "@jupyter-widgets/controls",
            "_model_module_version": "1.5.0",
            "_view_count": null,
            "_view_module_version": "1.5.0",
            "box_style": "",
            "layout": "IPY_MODEL_ad063bcb4f9d44b487a350a02fe4ed14",
            "_model_module": "@jupyter-widgets/controls",
            "children": [
              "IPY_MODEL_3550be3ce20a4ac399b4d46652559478",
              "IPY_MODEL_01a24dd21096421f8ad2f3f5a49ad0e1"
            ]
          }
        },
        "ad063bcb4f9d44b487a350a02fe4ed14": {
          "model_module": "@jupyter-widgets/base",
          "model_name": "LayoutModel",
          "state": {
            "_view_name": "LayoutView",
            "grid_template_rows": null,
            "right": null,
            "justify_content": null,
            "_view_module": "@jupyter-widgets/base",
            "overflow": null,
            "_model_module_version": "1.2.0",
            "_view_count": null,
            "flex_flow": null,
            "width": null,
            "min_width": null,
            "border": null,
            "align_items": null,
            "bottom": null,
            "_model_module": "@jupyter-widgets/base",
            "top": null,
            "grid_column": null,
            "overflow_y": null,
            "overflow_x": null,
            "grid_auto_flow": null,
            "grid_area": null,
            "grid_template_columns": null,
            "flex": null,
            "_model_name": "LayoutModel",
            "justify_items": null,
            "grid_row": null,
            "max_height": null,
            "align_content": null,
            "visibility": null,
            "align_self": null,
            "height": null,
            "min_height": null,
            "padding": null,
            "grid_auto_rows": null,
            "grid_gap": null,
            "max_width": null,
            "order": null,
            "_view_module_version": "1.2.0",
            "grid_template_areas": null,
            "object_position": null,
            "object_fit": null,
            "grid_auto_columns": null,
            "margin": null,
            "display": null,
            "left": null
          }
        },
        "3550be3ce20a4ac399b4d46652559478": {
          "model_module": "@jupyter-widgets/controls",
          "model_name": "FloatProgressModel",
          "state": {
            "_view_name": "ProgressView",
            "style": "IPY_MODEL_bd199df85250456398e33380ab206a2f",
            "_dom_classes": [],
            "description": "100%",
            "_model_name": "FloatProgressModel",
            "bar_style": "success",
            "max": 108,
            "_view_module": "@jupyter-widgets/controls",
            "_model_module_version": "1.5.0",
            "value": 108,
            "_view_count": null,
            "_view_module_version": "1.5.0",
            "orientation": "horizontal",
            "min": 0,
            "description_tooltip": null,
            "_model_module": "@jupyter-widgets/controls",
            "layout": "IPY_MODEL_a4adb059469d4701830989cdecb34dd6"
          }
        },
        "01a24dd21096421f8ad2f3f5a49ad0e1": {
          "model_module": "@jupyter-widgets/controls",
          "model_name": "HTMLModel",
          "state": {
            "_view_name": "HTMLView",
            "style": "IPY_MODEL_0b5eea3216b14130b00014a0567576ac",
            "_dom_classes": [],
            "description": "",
            "_model_name": "HTMLModel",
            "placeholder": "​",
            "_view_module": "@jupyter-widgets/controls",
            "_model_module_version": "1.5.0",
            "value": " 108/108 [13:41&lt;00:00,  7.61s/it]",
            "_view_count": null,
            "_view_module_version": "1.5.0",
            "description_tooltip": null,
            "_model_module": "@jupyter-widgets/controls",
            "layout": "IPY_MODEL_ce16b17836544e64b9d5a8abc56a9045"
          }
        },
        "bd199df85250456398e33380ab206a2f": {
          "model_module": "@jupyter-widgets/controls",
          "model_name": "ProgressStyleModel",
          "state": {
            "_view_name": "StyleView",
            "_model_name": "ProgressStyleModel",
            "description_width": "initial",
            "_view_module": "@jupyter-widgets/base",
            "_model_module_version": "1.5.0",
            "_view_count": null,
            "_view_module_version": "1.2.0",
            "bar_color": null,
            "_model_module": "@jupyter-widgets/controls"
          }
        },
        "a4adb059469d4701830989cdecb34dd6": {
          "model_module": "@jupyter-widgets/base",
          "model_name": "LayoutModel",
          "state": {
            "_view_name": "LayoutView",
            "grid_template_rows": null,
            "right": null,
            "justify_content": null,
            "_view_module": "@jupyter-widgets/base",
            "overflow": null,
            "_model_module_version": "1.2.0",
            "_view_count": null,
            "flex_flow": null,
            "width": null,
            "min_width": null,
            "border": null,
            "align_items": null,
            "bottom": null,
            "_model_module": "@jupyter-widgets/base",
            "top": null,
            "grid_column": null,
            "overflow_y": null,
            "overflow_x": null,
            "grid_auto_flow": null,
            "grid_area": null,
            "grid_template_columns": null,
            "flex": null,
            "_model_name": "LayoutModel",
            "justify_items": null,
            "grid_row": null,
            "max_height": null,
            "align_content": null,
            "visibility": null,
            "align_self": null,
            "height": null,
            "min_height": null,
            "padding": null,
            "grid_auto_rows": null,
            "grid_gap": null,
            "max_width": null,
            "order": null,
            "_view_module_version": "1.2.0",
            "grid_template_areas": null,
            "object_position": null,
            "object_fit": null,
            "grid_auto_columns": null,
            "margin": null,
            "display": null,
            "left": null
          }
        },
        "0b5eea3216b14130b00014a0567576ac": {
          "model_module": "@jupyter-widgets/controls",
          "model_name": "DescriptionStyleModel",
          "state": {
            "_view_name": "StyleView",
            "_model_name": "DescriptionStyleModel",
            "description_width": "",
            "_view_module": "@jupyter-widgets/base",
            "_model_module_version": "1.5.0",
            "_view_count": null,
            "_view_module_version": "1.2.0",
            "_model_module": "@jupyter-widgets/controls"
          }
        },
        "ce16b17836544e64b9d5a8abc56a9045": {
          "model_module": "@jupyter-widgets/base",
          "model_name": "LayoutModel",
          "state": {
            "_view_name": "LayoutView",
            "grid_template_rows": null,
            "right": null,
            "justify_content": null,
            "_view_module": "@jupyter-widgets/base",
            "overflow": null,
            "_model_module_version": "1.2.0",
            "_view_count": null,
            "flex_flow": null,
            "width": null,
            "min_width": null,
            "border": null,
            "align_items": null,
            "bottom": null,
            "_model_module": "@jupyter-widgets/base",
            "top": null,
            "grid_column": null,
            "overflow_y": null,
            "overflow_x": null,
            "grid_auto_flow": null,
            "grid_area": null,
            "grid_template_columns": null,
            "flex": null,
            "_model_name": "LayoutModel",
            "justify_items": null,
            "grid_row": null,
            "max_height": null,
            "align_content": null,
            "visibility": null,
            "align_self": null,
            "height": null,
            "min_height": null,
            "padding": null,
            "grid_auto_rows": null,
            "grid_gap": null,
            "max_width": null,
            "order": null,
            "_view_module_version": "1.2.0",
            "grid_template_areas": null,
            "object_position": null,
            "object_fit": null,
            "grid_auto_columns": null,
            "margin": null,
            "display": null,
            "left": null
          }
        },
        "6d7d159eba9d46c5b5c7327f2b009d38": {
          "model_module": "@jupyter-widgets/controls",
          "model_name": "HBoxModel",
          "state": {
            "_view_name": "HBoxView",
            "_dom_classes": [],
            "_model_name": "HBoxModel",
            "_view_module": "@jupyter-widgets/controls",
            "_model_module_version": "1.5.0",
            "_view_count": null,
            "_view_module_version": "1.5.0",
            "box_style": "",
            "layout": "IPY_MODEL_d905f2b62bac4d069d6f461c08abec82",
            "_model_module": "@jupyter-widgets/controls",
            "children": [
              "IPY_MODEL_4addd4978fc14d09a96b8be1713ac498",
              "IPY_MODEL_4e094d05cfd648a59af0b4a7687a040a"
            ]
          }
        },
        "d905f2b62bac4d069d6f461c08abec82": {
          "model_module": "@jupyter-widgets/base",
          "model_name": "LayoutModel",
          "state": {
            "_view_name": "LayoutView",
            "grid_template_rows": null,
            "right": null,
            "justify_content": null,
            "_view_module": "@jupyter-widgets/base",
            "overflow": null,
            "_model_module_version": "1.2.0",
            "_view_count": null,
            "flex_flow": null,
            "width": null,
            "min_width": null,
            "border": null,
            "align_items": null,
            "bottom": null,
            "_model_module": "@jupyter-widgets/base",
            "top": null,
            "grid_column": null,
            "overflow_y": null,
            "overflow_x": null,
            "grid_auto_flow": null,
            "grid_area": null,
            "grid_template_columns": null,
            "flex": null,
            "_model_name": "LayoutModel",
            "justify_items": null,
            "grid_row": null,
            "max_height": null,
            "align_content": null,
            "visibility": null,
            "align_self": null,
            "height": null,
            "min_height": null,
            "padding": null,
            "grid_auto_rows": null,
            "grid_gap": null,
            "max_width": null,
            "order": null,
            "_view_module_version": "1.2.0",
            "grid_template_areas": null,
            "object_position": null,
            "object_fit": null,
            "grid_auto_columns": null,
            "margin": null,
            "display": null,
            "left": null
          }
        },
        "4addd4978fc14d09a96b8be1713ac498": {
          "model_module": "@jupyter-widgets/controls",
          "model_name": "FloatProgressModel",
          "state": {
            "_view_name": "ProgressView",
            "style": "IPY_MODEL_8aa8377b4add470aa534a5b04df6742c",
            "_dom_classes": [],
            "description": "100%",
            "_model_name": "FloatProgressModel",
            "bar_style": "success",
            "max": 10,
            "_view_module": "@jupyter-widgets/controls",
            "_model_module_version": "1.5.0",
            "value": 10,
            "_view_count": null,
            "_view_module_version": "1.5.0",
            "orientation": "horizontal",
            "min": 0,
            "description_tooltip": null,
            "_model_module": "@jupyter-widgets/controls",
            "layout": "IPY_MODEL_5df80926e58a407cae215a378e321869"
          }
        },
        "4e094d05cfd648a59af0b4a7687a040a": {
          "model_module": "@jupyter-widgets/controls",
          "model_name": "HTMLModel",
          "state": {
            "_view_name": "HTMLView",
            "style": "IPY_MODEL_d5ad700071d94923a581353601b8fb20",
            "_dom_classes": [],
            "description": "",
            "_model_name": "HTMLModel",
            "placeholder": "​",
            "_view_module": "@jupyter-widgets/controls",
            "_model_module_version": "1.5.0",
            "value": " 10/10 [06:06&lt;00:00, 36.63s/it]",
            "_view_count": null,
            "_view_module_version": "1.5.0",
            "description_tooltip": null,
            "_model_module": "@jupyter-widgets/controls",
            "layout": "IPY_MODEL_58fdf3ccb8d4480ca20eee2edc703eff"
          }
        },
        "8aa8377b4add470aa534a5b04df6742c": {
          "model_module": "@jupyter-widgets/controls",
          "model_name": "ProgressStyleModel",
          "state": {
            "_view_name": "StyleView",
            "_model_name": "ProgressStyleModel",
            "description_width": "initial",
            "_view_module": "@jupyter-widgets/base",
            "_model_module_version": "1.5.0",
            "_view_count": null,
            "_view_module_version": "1.2.0",
            "bar_color": null,
            "_model_module": "@jupyter-widgets/controls"
          }
        },
        "5df80926e58a407cae215a378e321869": {
          "model_module": "@jupyter-widgets/base",
          "model_name": "LayoutModel",
          "state": {
            "_view_name": "LayoutView",
            "grid_template_rows": null,
            "right": null,
            "justify_content": null,
            "_view_module": "@jupyter-widgets/base",
            "overflow": null,
            "_model_module_version": "1.2.0",
            "_view_count": null,
            "flex_flow": null,
            "width": null,
            "min_width": null,
            "border": null,
            "align_items": null,
            "bottom": null,
            "_model_module": "@jupyter-widgets/base",
            "top": null,
            "grid_column": null,
            "overflow_y": null,
            "overflow_x": null,
            "grid_auto_flow": null,
            "grid_area": null,
            "grid_template_columns": null,
            "flex": null,
            "_model_name": "LayoutModel",
            "justify_items": null,
            "grid_row": null,
            "max_height": null,
            "align_content": null,
            "visibility": null,
            "align_self": null,
            "height": null,
            "min_height": null,
            "padding": null,
            "grid_auto_rows": null,
            "grid_gap": null,
            "max_width": null,
            "order": null,
            "_view_module_version": "1.2.0",
            "grid_template_areas": null,
            "object_position": null,
            "object_fit": null,
            "grid_auto_columns": null,
            "margin": null,
            "display": null,
            "left": null
          }
        },
        "d5ad700071d94923a581353601b8fb20": {
          "model_module": "@jupyter-widgets/controls",
          "model_name": "DescriptionStyleModel",
          "state": {
            "_view_name": "StyleView",
            "_model_name": "DescriptionStyleModel",
            "description_width": "",
            "_view_module": "@jupyter-widgets/base",
            "_model_module_version": "1.5.0",
            "_view_count": null,
            "_view_module_version": "1.2.0",
            "_model_module": "@jupyter-widgets/controls"
          }
        },
        "58fdf3ccb8d4480ca20eee2edc703eff": {
          "model_module": "@jupyter-widgets/base",
          "model_name": "LayoutModel",
          "state": {
            "_view_name": "LayoutView",
            "grid_template_rows": null,
            "right": null,
            "justify_content": null,
            "_view_module": "@jupyter-widgets/base",
            "overflow": null,
            "_model_module_version": "1.2.0",
            "_view_count": null,
            "flex_flow": null,
            "width": null,
            "min_width": null,
            "border": null,
            "align_items": null,
            "bottom": null,
            "_model_module": "@jupyter-widgets/base",
            "top": null,
            "grid_column": null,
            "overflow_y": null,
            "overflow_x": null,
            "grid_auto_flow": null,
            "grid_area": null,
            "grid_template_columns": null,
            "flex": null,
            "_model_name": "LayoutModel",
            "justify_items": null,
            "grid_row": null,
            "max_height": null,
            "align_content": null,
            "visibility": null,
            "align_self": null,
            "height": null,
            "min_height": null,
            "padding": null,
            "grid_auto_rows": null,
            "grid_gap": null,
            "max_width": null,
            "order": null,
            "_view_module_version": "1.2.0",
            "grid_template_areas": null,
            "object_position": null,
            "object_fit": null,
            "grid_auto_columns": null,
            "margin": null,
            "display": null,
            "left": null
          }
        },
        "1bf95b71aafa44f8a7c167b04c5f1e21": {
          "model_module": "@jupyter-widgets/controls",
          "model_name": "HBoxModel",
          "state": {
            "_view_name": "HBoxView",
            "_dom_classes": [],
            "_model_name": "HBoxModel",
            "_view_module": "@jupyter-widgets/controls",
            "_model_module_version": "1.5.0",
            "_view_count": null,
            "_view_module_version": "1.5.0",
            "box_style": "",
            "layout": "IPY_MODEL_7abad8af38d54dff93df94195259df78",
            "_model_module": "@jupyter-widgets/controls",
            "children": [
              "IPY_MODEL_96cfd23409764e8d817257927de02e56",
              "IPY_MODEL_f933bd39aea642c5a5ae651408610c83"
            ]
          }
        },
        "7abad8af38d54dff93df94195259df78": {
          "model_module": "@jupyter-widgets/base",
          "model_name": "LayoutModel",
          "state": {
            "_view_name": "LayoutView",
            "grid_template_rows": null,
            "right": null,
            "justify_content": null,
            "_view_module": "@jupyter-widgets/base",
            "overflow": null,
            "_model_module_version": "1.2.0",
            "_view_count": null,
            "flex_flow": null,
            "width": null,
            "min_width": null,
            "border": null,
            "align_items": null,
            "bottom": null,
            "_model_module": "@jupyter-widgets/base",
            "top": null,
            "grid_column": null,
            "overflow_y": null,
            "overflow_x": null,
            "grid_auto_flow": null,
            "grid_area": null,
            "grid_template_columns": null,
            "flex": null,
            "_model_name": "LayoutModel",
            "justify_items": null,
            "grid_row": null,
            "max_height": null,
            "align_content": null,
            "visibility": null,
            "align_self": null,
            "height": null,
            "min_height": null,
            "padding": null,
            "grid_auto_rows": null,
            "grid_gap": null,
            "max_width": null,
            "order": null,
            "_view_module_version": "1.2.0",
            "grid_template_areas": null,
            "object_position": null,
            "object_fit": null,
            "grid_auto_columns": null,
            "margin": null,
            "display": null,
            "left": null
          }
        },
        "96cfd23409764e8d817257927de02e56": {
          "model_module": "@jupyter-widgets/controls",
          "model_name": "FloatProgressModel",
          "state": {
            "_view_name": "ProgressView",
            "style": "IPY_MODEL_3e4efbc283904137bce5c4b35f73cf66",
            "_dom_classes": [],
            "description": "100%",
            "_model_name": "FloatProgressModel",
            "bar_style": "success",
            "max": 108,
            "_view_module": "@jupyter-widgets/controls",
            "_model_module_version": "1.5.0",
            "value": 108,
            "_view_count": null,
            "_view_module_version": "1.5.0",
            "orientation": "horizontal",
            "min": 0,
            "description_tooltip": null,
            "_model_module": "@jupyter-widgets/controls",
            "layout": "IPY_MODEL_9c7d730eb88149be8ea61034b36fb901"
          }
        },
        "f933bd39aea642c5a5ae651408610c83": {
          "model_module": "@jupyter-widgets/controls",
          "model_name": "HTMLModel",
          "state": {
            "_view_name": "HTMLView",
            "style": "IPY_MODEL_b57d30f149f8461290021a9befad15ea",
            "_dom_classes": [],
            "description": "",
            "_model_name": "HTMLModel",
            "placeholder": "​",
            "_view_module": "@jupyter-widgets/controls",
            "_model_module_version": "1.5.0",
            "value": " 108/108 [07:40&lt;00:00,  4.27s/it]",
            "_view_count": null,
            "_view_module_version": "1.5.0",
            "description_tooltip": null,
            "_model_module": "@jupyter-widgets/controls",
            "layout": "IPY_MODEL_befd67ec4ec0442f9787fde1a7f66d39"
          }
        },
        "3e4efbc283904137bce5c4b35f73cf66": {
          "model_module": "@jupyter-widgets/controls",
          "model_name": "ProgressStyleModel",
          "state": {
            "_view_name": "StyleView",
            "_model_name": "ProgressStyleModel",
            "description_width": "initial",
            "_view_module": "@jupyter-widgets/base",
            "_model_module_version": "1.5.0",
            "_view_count": null,
            "_view_module_version": "1.2.0",
            "bar_color": null,
            "_model_module": "@jupyter-widgets/controls"
          }
        },
        "9c7d730eb88149be8ea61034b36fb901": {
          "model_module": "@jupyter-widgets/base",
          "model_name": "LayoutModel",
          "state": {
            "_view_name": "LayoutView",
            "grid_template_rows": null,
            "right": null,
            "justify_content": null,
            "_view_module": "@jupyter-widgets/base",
            "overflow": null,
            "_model_module_version": "1.2.0",
            "_view_count": null,
            "flex_flow": null,
            "width": null,
            "min_width": null,
            "border": null,
            "align_items": null,
            "bottom": null,
            "_model_module": "@jupyter-widgets/base",
            "top": null,
            "grid_column": null,
            "overflow_y": null,
            "overflow_x": null,
            "grid_auto_flow": null,
            "grid_area": null,
            "grid_template_columns": null,
            "flex": null,
            "_model_name": "LayoutModel",
            "justify_items": null,
            "grid_row": null,
            "max_height": null,
            "align_content": null,
            "visibility": null,
            "align_self": null,
            "height": null,
            "min_height": null,
            "padding": null,
            "grid_auto_rows": null,
            "grid_gap": null,
            "max_width": null,
            "order": null,
            "_view_module_version": "1.2.0",
            "grid_template_areas": null,
            "object_position": null,
            "object_fit": null,
            "grid_auto_columns": null,
            "margin": null,
            "display": null,
            "left": null
          }
        },
        "b57d30f149f8461290021a9befad15ea": {
          "model_module": "@jupyter-widgets/controls",
          "model_name": "DescriptionStyleModel",
          "state": {
            "_view_name": "StyleView",
            "_model_name": "DescriptionStyleModel",
            "description_width": "",
            "_view_module": "@jupyter-widgets/base",
            "_model_module_version": "1.5.0",
            "_view_count": null,
            "_view_module_version": "1.2.0",
            "_model_module": "@jupyter-widgets/controls"
          }
        },
        "befd67ec4ec0442f9787fde1a7f66d39": {
          "model_module": "@jupyter-widgets/base",
          "model_name": "LayoutModel",
          "state": {
            "_view_name": "LayoutView",
            "grid_template_rows": null,
            "right": null,
            "justify_content": null,
            "_view_module": "@jupyter-widgets/base",
            "overflow": null,
            "_model_module_version": "1.2.0",
            "_view_count": null,
            "flex_flow": null,
            "width": null,
            "min_width": null,
            "border": null,
            "align_items": null,
            "bottom": null,
            "_model_module": "@jupyter-widgets/base",
            "top": null,
            "grid_column": null,
            "overflow_y": null,
            "overflow_x": null,
            "grid_auto_flow": null,
            "grid_area": null,
            "grid_template_columns": null,
            "flex": null,
            "_model_name": "LayoutModel",
            "justify_items": null,
            "grid_row": null,
            "max_height": null,
            "align_content": null,
            "visibility": null,
            "align_self": null,
            "height": null,
            "min_height": null,
            "padding": null,
            "grid_auto_rows": null,
            "grid_gap": null,
            "max_width": null,
            "order": null,
            "_view_module_version": "1.2.0",
            "grid_template_areas": null,
            "object_position": null,
            "object_fit": null,
            "grid_auto_columns": null,
            "margin": null,
            "display": null,
            "left": null
          }
        },
        "e7e56719aa3c4c2b85f488dfa2c52f5c": {
          "model_module": "@jupyter-widgets/controls",
          "model_name": "HBoxModel",
          "state": {
            "_view_name": "HBoxView",
            "_dom_classes": [],
            "_model_name": "HBoxModel",
            "_view_module": "@jupyter-widgets/controls",
            "_model_module_version": "1.5.0",
            "_view_count": null,
            "_view_module_version": "1.5.0",
            "box_style": "",
            "layout": "IPY_MODEL_3ff4cc7e5fee491e959f0645b00d0a5a",
            "_model_module": "@jupyter-widgets/controls",
            "children": [
              "IPY_MODEL_484d964967e64eed9ad28f1dcfcdea48",
              "IPY_MODEL_e2c256e37ea242f3ab3c509a7a1b95c7"
            ]
          }
        },
        "3ff4cc7e5fee491e959f0645b00d0a5a": {
          "model_module": "@jupyter-widgets/base",
          "model_name": "LayoutModel",
          "state": {
            "_view_name": "LayoutView",
            "grid_template_rows": null,
            "right": null,
            "justify_content": null,
            "_view_module": "@jupyter-widgets/base",
            "overflow": null,
            "_model_module_version": "1.2.0",
            "_view_count": null,
            "flex_flow": null,
            "width": null,
            "min_width": null,
            "border": null,
            "align_items": null,
            "bottom": null,
            "_model_module": "@jupyter-widgets/base",
            "top": null,
            "grid_column": null,
            "overflow_y": null,
            "overflow_x": null,
            "grid_auto_flow": null,
            "grid_area": null,
            "grid_template_columns": null,
            "flex": null,
            "_model_name": "LayoutModel",
            "justify_items": null,
            "grid_row": null,
            "max_height": null,
            "align_content": null,
            "visibility": null,
            "align_self": null,
            "height": null,
            "min_height": null,
            "padding": null,
            "grid_auto_rows": null,
            "grid_gap": null,
            "max_width": null,
            "order": null,
            "_view_module_version": "1.2.0",
            "grid_template_areas": null,
            "object_position": null,
            "object_fit": null,
            "grid_auto_columns": null,
            "margin": null,
            "display": null,
            "left": null
          }
        },
        "484d964967e64eed9ad28f1dcfcdea48": {
          "model_module": "@jupyter-widgets/controls",
          "model_name": "FloatProgressModel",
          "state": {
            "_view_name": "ProgressView",
            "style": "IPY_MODEL_e72db06d57d941bba505925c033b0cc6",
            "_dom_classes": [],
            "description": "100%",
            "_model_name": "FloatProgressModel",
            "bar_style": "success",
            "max": 10,
            "_view_module": "@jupyter-widgets/controls",
            "_model_module_version": "1.5.0",
            "value": 10,
            "_view_count": null,
            "_view_module_version": "1.5.0",
            "orientation": "horizontal",
            "min": 0,
            "description_tooltip": null,
            "_model_module": "@jupyter-widgets/controls",
            "layout": "IPY_MODEL_322712292185479eae84178adf4a4f22"
          }
        },
        "e2c256e37ea242f3ab3c509a7a1b95c7": {
          "model_module": "@jupyter-widgets/controls",
          "model_name": "HTMLModel",
          "state": {
            "_view_name": "HTMLView",
            "style": "IPY_MODEL_3981cb9cb2d7427999fd6647473e84bf",
            "_dom_classes": [],
            "description": "",
            "_model_name": "HTMLModel",
            "placeholder": "​",
            "_view_module": "@jupyter-widgets/controls",
            "_model_module_version": "1.5.0",
            "value": " 10/10 [06:03&lt;00:00, 36.32s/it]",
            "_view_count": null,
            "_view_module_version": "1.5.0",
            "description_tooltip": null,
            "_model_module": "@jupyter-widgets/controls",
            "layout": "IPY_MODEL_ea6b63bf3cc941568ba7b85c89944ea6"
          }
        },
        "e72db06d57d941bba505925c033b0cc6": {
          "model_module": "@jupyter-widgets/controls",
          "model_name": "ProgressStyleModel",
          "state": {
            "_view_name": "StyleView",
            "_model_name": "ProgressStyleModel",
            "description_width": "initial",
            "_view_module": "@jupyter-widgets/base",
            "_model_module_version": "1.5.0",
            "_view_count": null,
            "_view_module_version": "1.2.0",
            "bar_color": null,
            "_model_module": "@jupyter-widgets/controls"
          }
        },
        "322712292185479eae84178adf4a4f22": {
          "model_module": "@jupyter-widgets/base",
          "model_name": "LayoutModel",
          "state": {
            "_view_name": "LayoutView",
            "grid_template_rows": null,
            "right": null,
            "justify_content": null,
            "_view_module": "@jupyter-widgets/base",
            "overflow": null,
            "_model_module_version": "1.2.0",
            "_view_count": null,
            "flex_flow": null,
            "width": null,
            "min_width": null,
            "border": null,
            "align_items": null,
            "bottom": null,
            "_model_module": "@jupyter-widgets/base",
            "top": null,
            "grid_column": null,
            "overflow_y": null,
            "overflow_x": null,
            "grid_auto_flow": null,
            "grid_area": null,
            "grid_template_columns": null,
            "flex": null,
            "_model_name": "LayoutModel",
            "justify_items": null,
            "grid_row": null,
            "max_height": null,
            "align_content": null,
            "visibility": null,
            "align_self": null,
            "height": null,
            "min_height": null,
            "padding": null,
            "grid_auto_rows": null,
            "grid_gap": null,
            "max_width": null,
            "order": null,
            "_view_module_version": "1.2.0",
            "grid_template_areas": null,
            "object_position": null,
            "object_fit": null,
            "grid_auto_columns": null,
            "margin": null,
            "display": null,
            "left": null
          }
        },
        "3981cb9cb2d7427999fd6647473e84bf": {
          "model_module": "@jupyter-widgets/controls",
          "model_name": "DescriptionStyleModel",
          "state": {
            "_view_name": "StyleView",
            "_model_name": "DescriptionStyleModel",
            "description_width": "",
            "_view_module": "@jupyter-widgets/base",
            "_model_module_version": "1.5.0",
            "_view_count": null,
            "_view_module_version": "1.2.0",
            "_model_module": "@jupyter-widgets/controls"
          }
        },
        "ea6b63bf3cc941568ba7b85c89944ea6": {
          "model_module": "@jupyter-widgets/base",
          "model_name": "LayoutModel",
          "state": {
            "_view_name": "LayoutView",
            "grid_template_rows": null,
            "right": null,
            "justify_content": null,
            "_view_module": "@jupyter-widgets/base",
            "overflow": null,
            "_model_module_version": "1.2.0",
            "_view_count": null,
            "flex_flow": null,
            "width": null,
            "min_width": null,
            "border": null,
            "align_items": null,
            "bottom": null,
            "_model_module": "@jupyter-widgets/base",
            "top": null,
            "grid_column": null,
            "overflow_y": null,
            "overflow_x": null,
            "grid_auto_flow": null,
            "grid_area": null,
            "grid_template_columns": null,
            "flex": null,
            "_model_name": "LayoutModel",
            "justify_items": null,
            "grid_row": null,
            "max_height": null,
            "align_content": null,
            "visibility": null,
            "align_self": null,
            "height": null,
            "min_height": null,
            "padding": null,
            "grid_auto_rows": null,
            "grid_gap": null,
            "max_width": null,
            "order": null,
            "_view_module_version": "1.2.0",
            "grid_template_areas": null,
            "object_position": null,
            "object_fit": null,
            "grid_auto_columns": null,
            "margin": null,
            "display": null,
            "left": null
          }
        }
      }
    },
    "accelerator": "GPU"
  },
  "cells": [
    {
      "cell_type": "markdown",
      "metadata": {
        "id": "dUPzbJQyaD7H"
      },
      "source": [
        "# Задача\n",
        "Сконструировать классный эмбэддинг для задачи кластеризации новостей\n",
        "\n",
        "Данные: распаршенный датасет новостей на русском языке. 2.7к размеченных примеров для подбора гиперпараметров кластеризации.\n",
        "\n",
        "\n",
        "---\n",
        "\n",
        "\n",
        "Метрика: accuracy (доля совпавших ответов с разметкой)"
      ]
    },
    {
      "cell_type": "markdown",
      "metadata": {
        "id": "AooiHLGJzC3H"
      },
      "source": [
        "# Данные"
      ]
    },
    {
      "cell_type": "code",
      "metadata": {
        "id": "QKH1BOCcLWm3",
        "colab": {
          "base_uri": "https://localhost:8080/"
        },
        "outputId": "972e1593-1471-45ea-e01c-17c23be013d2"
      },
      "source": [
        "!wget https://www.dropbox.com/s/rrkxdnml6ukql8j/ru_clustering_0517.tsv -O data_train_target.tsv\n",
        "!wget https://www.dropbox.com/s/a9b7rcxnfbmvhej/ru_tg_0517.jsonl.tar.gz -O - | tar -xz --to-stdout ru_tg_0517.jsonl > data_train.jsonl\n",
        "!wget https://www.dropbox.com/s/ehsm8bj13wug7na/ru_tg_0525.jsonl.tar.gz -O - | tar -xz --to-stdout ru_tg_0525.jsonl > data_test.jsonl\n",
        "!wget https://www.dropbox.com/s/r8iqi6h6x1w0pzv/ru_tg_1101_0510.jsonl.tar.gz -O - | tar -xz --to-stdout ru_tg_1101_0510.jsonl > data.jsonl"
      ],
      "execution_count": null,
      "outputs": [
        {
          "output_type": "stream",
          "text": [
            "--2020-11-09 12:37:57--  https://www.dropbox.com/s/rrkxdnml6ukql8j/ru_clustering_0517.tsv\n",
            "Resolving www.dropbox.com (www.dropbox.com)... 162.125.6.1, 2620:100:6019:1::a27d:401\n",
            "Connecting to www.dropbox.com (www.dropbox.com)|162.125.6.1|:443... connected.\n",
            "HTTP request sent, awaiting response... 301 Moved Permanently\n",
            "Location: /s/raw/rrkxdnml6ukql8j/ru_clustering_0517.tsv [following]\n",
            "--2020-11-09 12:37:57--  https://www.dropbox.com/s/raw/rrkxdnml6ukql8j/ru_clustering_0517.tsv\n",
            "Reusing existing connection to www.dropbox.com:443.\n",
            "HTTP request sent, awaiting response... 302 Found\n",
            "Location: https://uc4d87eab07aa149c94d372b84f8.dl.dropboxusercontent.com/cd/0/inline/BC06xBP23zqheuj_DNLVxgGvWFCOWy9EmwtCigb_wavpEvfxiWBsdHRrADnRsR5D3ytOyqyCHfup42GE5-st6zqZK7oyuWEieQNt0fsRV4iIEkewGNQ_f3cz25pjfuPc_iM/file# [following]\n",
            "--2020-11-09 12:37:57--  https://uc4d87eab07aa149c94d372b84f8.dl.dropboxusercontent.com/cd/0/inline/BC06xBP23zqheuj_DNLVxgGvWFCOWy9EmwtCigb_wavpEvfxiWBsdHRrADnRsR5D3ytOyqyCHfup42GE5-st6zqZK7oyuWEieQNt0fsRV4iIEkewGNQ_f3cz25pjfuPc_iM/file\n",
            "Resolving uc4d87eab07aa149c94d372b84f8.dl.dropboxusercontent.com (uc4d87eab07aa149c94d372b84f8.dl.dropboxusercontent.com)... 162.125.4.15, 2620:100:601c:15::a27d:60f\n",
            "Connecting to uc4d87eab07aa149c94d372b84f8.dl.dropboxusercontent.com (uc4d87eab07aa149c94d372b84f8.dl.dropboxusercontent.com)|162.125.4.15|:443... connected.\n",
            "HTTP request sent, awaiting response... 200 OK\n",
            "Length: 13511256 (13M) [text/plain]\n",
            "Saving to: ‘data_train_target.tsv’\n",
            "\n",
            "data_train_target.t 100%[===================>]  12.88M  42.5MB/s    in 0.3s    \n",
            "\n",
            "2020-11-09 12:37:58 (42.5 MB/s) - ‘data_train_target.tsv’ saved [13511256/13511256]\n",
            "\n",
            "--2020-11-09 12:37:58--  https://www.dropbox.com/s/a9b7rcxnfbmvhej/ru_tg_0517.jsonl.tar.gz\n",
            "Resolving www.dropbox.com (www.dropbox.com)... 162.125.6.1, 2620:100:6019:1::a27d:401\n",
            "Connecting to www.dropbox.com (www.dropbox.com)|162.125.6.1|:443... connected.\n",
            "HTTP request sent, awaiting response... 301 Moved Permanently\n",
            "Location: /s/raw/a9b7rcxnfbmvhej/ru_tg_0517.jsonl.tar.gz [following]\n",
            "--2020-11-09 12:37:58--  https://www.dropbox.com/s/raw/a9b7rcxnfbmvhej/ru_tg_0517.jsonl.tar.gz\n",
            "Reusing existing connection to www.dropbox.com:443.\n",
            "HTTP request sent, awaiting response... 302 Found\n",
            "Location: https://uc592115523d14919d01e6c99d0c.dl.dropboxusercontent.com/cd/0/inline/BC2oCqrWMVE_6Y-La4tziYEImVhaLH6EKYViIBDbGJlhILfRM7lx0M2vWq6iblFrNkkhmJJpeOQ_q4tLHe4pzMNmAYUtMe8F9jMOuam3qPMsEj3OUsDPctnLAg64P0ixwP8/file# [following]\n",
            "--2020-11-09 12:37:59--  https://uc592115523d14919d01e6c99d0c.dl.dropboxusercontent.com/cd/0/inline/BC2oCqrWMVE_6Y-La4tziYEImVhaLH6EKYViIBDbGJlhILfRM7lx0M2vWq6iblFrNkkhmJJpeOQ_q4tLHe4pzMNmAYUtMe8F9jMOuam3qPMsEj3OUsDPctnLAg64P0ixwP8/file\n",
            "Resolving uc592115523d14919d01e6c99d0c.dl.dropboxusercontent.com (uc592115523d14919d01e6c99d0c.dl.dropboxusercontent.com)... 162.125.6.15, 2620:100:6019:15::a27d:40f\n",
            "Connecting to uc592115523d14919d01e6c99d0c.dl.dropboxusercontent.com (uc592115523d14919d01e6c99d0c.dl.dropboxusercontent.com)|162.125.6.15|:443... connected.\n",
            "HTTP request sent, awaiting response... 302 Found\n",
            "Location: /cd/0/inline2/BC38a513mklWI_3fqqgX4zRjHn71ZTFXhKPkOjeN4Q7ovFKNa8bjNsyxnBdTfpdJek_ax_8G_sC4XD4Ei4lNQdm7B_rnVxq6IWAB-rbNeqUiSZ_zS_cQRal8-10hRKsheAij2kG-Zn-o6HtQ2GLqaQqZtVbRAwL1lnxhF82Su7-mxTBoEqMia3czbVv5C0KAsKU9X48NjEUd6ObDi0ikB-hjyG4KA4QGW-NYqJIhA2V_7r5hi0ENXT-TkHeqx2fUKlMZy6j_7lEhbjvuGIysCkWNz5WKz5RxlNVan1zoO-gguQbzydI3Y-8rdlazweYh3_XOGvrA_IiGYlQBxX6wIC6qqRybNR5oq1DLkBDvnyUo3g/file [following]\n",
            "--2020-11-09 12:38:00--  https://uc592115523d14919d01e6c99d0c.dl.dropboxusercontent.com/cd/0/inline2/BC38a513mklWI_3fqqgX4zRjHn71ZTFXhKPkOjeN4Q7ovFKNa8bjNsyxnBdTfpdJek_ax_8G_sC4XD4Ei4lNQdm7B_rnVxq6IWAB-rbNeqUiSZ_zS_cQRal8-10hRKsheAij2kG-Zn-o6HtQ2GLqaQqZtVbRAwL1lnxhF82Su7-mxTBoEqMia3czbVv5C0KAsKU9X48NjEUd6ObDi0ikB-hjyG4KA4QGW-NYqJIhA2V_7r5hi0ENXT-TkHeqx2fUKlMZy6j_7lEhbjvuGIysCkWNz5WKz5RxlNVan1zoO-gguQbzydI3Y-8rdlazweYh3_XOGvrA_IiGYlQBxX6wIC6qqRybNR5oq1DLkBDvnyUo3g/file\n",
            "Reusing existing connection to uc592115523d14919d01e6c99d0c.dl.dropboxusercontent.com:443.\n",
            "HTTP request sent, awaiting response... 200 OK\n",
            "Length: 9385055 (9.0M) [application/octet-stream]\n",
            "Saving to: ‘STDOUT’\n",
            "\n",
            "-                   100%[===================>]   8.95M  29.8MB/s    in 0.3s    \n",
            "\n",
            "2020-11-09 12:38:01 (29.8 MB/s) - written to stdout [9385055/9385055]\n",
            "\n",
            "--2020-11-09 12:38:01--  https://www.dropbox.com/s/ehsm8bj13wug7na/ru_tg_0525.jsonl.tar.gz\n",
            "Resolving www.dropbox.com (www.dropbox.com)... 162.125.6.1, 2620:100:6019:1::a27d:401\n",
            "Connecting to www.dropbox.com (www.dropbox.com)|162.125.6.1|:443... connected.\n",
            "HTTP request sent, awaiting response... 301 Moved Permanently\n",
            "Location: /s/raw/ehsm8bj13wug7na/ru_tg_0525.jsonl.tar.gz [following]\n",
            "--2020-11-09 12:38:01--  https://www.dropbox.com/s/raw/ehsm8bj13wug7na/ru_tg_0525.jsonl.tar.gz\n",
            "Reusing existing connection to www.dropbox.com:443.\n",
            "HTTP request sent, awaiting response... 302 Found\n",
            "Location: https://ucd30ee7432e1e0c0e4a45e07c13.dl.dropboxusercontent.com/cd/0/inline/BC1g5EWjE0obD1cyNB-RSRhhSC8ykpydcshR1JsPigHdIGQjVM4Rwydide3cP2FDtD2Ec4VAh6wjlMbAH1S31IPiuhOl7uZ6OOguSF3eb1zBPO-81S5CDPXUNz23z7mk8p0/file# [following]\n",
            "--2020-11-09 12:38:01--  https://ucd30ee7432e1e0c0e4a45e07c13.dl.dropboxusercontent.com/cd/0/inline/BC1g5EWjE0obD1cyNB-RSRhhSC8ykpydcshR1JsPigHdIGQjVM4Rwydide3cP2FDtD2Ec4VAh6wjlMbAH1S31IPiuhOl7uZ6OOguSF3eb1zBPO-81S5CDPXUNz23z7mk8p0/file\n",
            "Resolving ucd30ee7432e1e0c0e4a45e07c13.dl.dropboxusercontent.com (ucd30ee7432e1e0c0e4a45e07c13.dl.dropboxusercontent.com)... 162.125.6.15, 2620:100:601c:15::a27d:60f\n",
            "Connecting to ucd30ee7432e1e0c0e4a45e07c13.dl.dropboxusercontent.com (ucd30ee7432e1e0c0e4a45e07c13.dl.dropboxusercontent.com)|162.125.6.15|:443... connected.\n",
            "HTTP request sent, awaiting response... 302 Found\n",
            "Location: /cd/0/inline2/BC3vbdq3i7b1rIEQllAuj_FTvFzmzbIVYDLMrvdvLtS2aBhVstoDiB2Zz6Aej1T2YuF-lLWUE-qy2RZx1_1SlrLkYNVGGdR0nEry22HdrNlXDFrGoVP8pxf18FbldFGvbm8hTZ5KQYiHy7lZR3_mV6HMJz2T9lA3Z-aSbxXoMyABKN31wmZZKYJ3NG7D7_wJ7J_g9idZBt_z2NVQzce5sE3QAtpqE2RCv5-2DCGermoxso7y4cB4Ayn-C8Ge7PnTRgvcafn6IpwMeV5tWddBk28t5_1ruWhX1B4cBiNRY7ru6vYhfnrwaZl7in1N_GrQrmaq82Is85HxnodJLmoXMpkoVgHuVjaGIGU2qnR1z3t9Qw/file [following]\n",
            "--2020-11-09 12:38:02--  https://ucd30ee7432e1e0c0e4a45e07c13.dl.dropboxusercontent.com/cd/0/inline2/BC3vbdq3i7b1rIEQllAuj_FTvFzmzbIVYDLMrvdvLtS2aBhVstoDiB2Zz6Aej1T2YuF-lLWUE-qy2RZx1_1SlrLkYNVGGdR0nEry22HdrNlXDFrGoVP8pxf18FbldFGvbm8hTZ5KQYiHy7lZR3_mV6HMJz2T9lA3Z-aSbxXoMyABKN31wmZZKYJ3NG7D7_wJ7J_g9idZBt_z2NVQzce5sE3QAtpqE2RCv5-2DCGermoxso7y4cB4Ayn-C8Ge7PnTRgvcafn6IpwMeV5tWddBk28t5_1ruWhX1B4cBiNRY7ru6vYhfnrwaZl7in1N_GrQrmaq82Is85HxnodJLmoXMpkoVgHuVjaGIGU2qnR1z3t9Qw/file\n",
            "Reusing existing connection to ucd30ee7432e1e0c0e4a45e07c13.dl.dropboxusercontent.com:443.\n",
            "HTTP request sent, awaiting response... 200 OK\n",
            "Length: 19729113 (19M) [application/octet-stream]\n",
            "Saving to: ‘STDOUT’\n",
            "\n",
            "-                   100%[===================>]  18.81M  29.7MB/s    in 0.6s    \n",
            "\n",
            "2020-11-09 12:38:03 (29.7 MB/s) - written to stdout [19729113/19729113]\n",
            "\n",
            "--2020-11-09 12:38:03--  https://www.dropbox.com/s/r8iqi6h6x1w0pzv/ru_tg_1101_0510.jsonl.tar.gz\n",
            "Resolving www.dropbox.com (www.dropbox.com)... 162.125.80.1, 2620:100:6019:1::a27d:401\n",
            "Connecting to www.dropbox.com (www.dropbox.com)|162.125.80.1|:443... connected.\n",
            "HTTP request sent, awaiting response... 301 Moved Permanently\n",
            "Location: /s/raw/r8iqi6h6x1w0pzv/ru_tg_1101_0510.jsonl.tar.gz [following]\n",
            "--2020-11-09 12:38:04--  https://www.dropbox.com/s/raw/r8iqi6h6x1w0pzv/ru_tg_1101_0510.jsonl.tar.gz\n",
            "Reusing existing connection to www.dropbox.com:443.\n",
            "HTTP request sent, awaiting response... 302 Found\n",
            "Location: https://uc1ad812ca6abfcd93909da832bc.dl.dropboxusercontent.com/cd/0/inline/BC0w6xbrjOUVUHtBA92-X43HwjzVTUAsp_QRwe2_gfq_ei_peyPnUZen1rEO9REPmpxvMNzlN-cadPNeh2mu36oPVjRVlFDO4ZcnKC-JJsC0jemjfnE2cld-Mw7yI4Jhvbk/file# [following]\n",
            "--2020-11-09 12:38:05--  https://uc1ad812ca6abfcd93909da832bc.dl.dropboxusercontent.com/cd/0/inline/BC0w6xbrjOUVUHtBA92-X43HwjzVTUAsp_QRwe2_gfq_ei_peyPnUZen1rEO9REPmpxvMNzlN-cadPNeh2mu36oPVjRVlFDO4ZcnKC-JJsC0jemjfnE2cld-Mw7yI4Jhvbk/file\n",
            "Resolving uc1ad812ca6abfcd93909da832bc.dl.dropboxusercontent.com (uc1ad812ca6abfcd93909da832bc.dl.dropboxusercontent.com)... 162.125.4.15, 2620:100:601c:15::a27d:60f\n",
            "Connecting to uc1ad812ca6abfcd93909da832bc.dl.dropboxusercontent.com (uc1ad812ca6abfcd93909da832bc.dl.dropboxusercontent.com)|162.125.4.15|:443... connected.\n",
            "HTTP request sent, awaiting response... 302 Found\n",
            "Location: /cd/0/inline2/BC0XeJ4lHl4Bc7vvCKGp4VMz1ci-Udw22vOASbzmvWxkj67CKCoVfULwJ2R_gNB4Xnq92VLaktcZwOC1-mxA-5ohij5t326i2FL7ABlWpYv-XuguPlmCBCP6MyaT1D-TbWqxbw0QVhQeAWTZgIlqgs3yNKEGBOiRRmpZ6q2qEUmJ2Kdo33SGVqOcClerLNpyb_bMmsR0ETgaYRXeXux2XqCpaa56rPw8K695Y91IJYgEXI0JbdN1_2JWgPTTmUCzzsoqRpkMohfW109ReAIR3yLXOBtdqZj2m9sHCiPUxexvvAU_SeWd7c0XkSWfHZanWG371RVkiPx3yqLU9vuRFZE_-qSQMVu0x-goO2u4OsMQhg/file [following]\n",
            "--2020-11-09 12:38:06--  https://uc1ad812ca6abfcd93909da832bc.dl.dropboxusercontent.com/cd/0/inline2/BC0XeJ4lHl4Bc7vvCKGp4VMz1ci-Udw22vOASbzmvWxkj67CKCoVfULwJ2R_gNB4Xnq92VLaktcZwOC1-mxA-5ohij5t326i2FL7ABlWpYv-XuguPlmCBCP6MyaT1D-TbWqxbw0QVhQeAWTZgIlqgs3yNKEGBOiRRmpZ6q2qEUmJ2Kdo33SGVqOcClerLNpyb_bMmsR0ETgaYRXeXux2XqCpaa56rPw8K695Y91IJYgEXI0JbdN1_2JWgPTTmUCzzsoqRpkMohfW109ReAIR3yLXOBtdqZj2m9sHCiPUxexvvAU_SeWd7c0XkSWfHZanWG371RVkiPx3yqLU9vuRFZE_-qSQMVu0x-goO2u4OsMQhg/file\n",
            "Reusing existing connection to uc1ad812ca6abfcd93909da832bc.dl.dropboxusercontent.com:443.\n",
            "HTTP request sent, awaiting response... 200 OK\n",
            "Length: 435058420 (415M) [application/octet-stream]\n",
            "Saving to: ‘STDOUT’\n",
            "\n",
            "-                   100%[===================>] 414.90M  26.9MB/s    in 16s     \n",
            "\n",
            "2020-11-09 12:38:22 (26.7 MB/s) - written to stdout [435058420/435058420]\n",
            "\n"
          ],
          "name": "stdout"
        }
      ]
    },
    {
      "cell_type": "code",
      "metadata": {
        "id": "Y4icGD-10xkc"
      },
      "source": [
        "import json\n",
        "\n",
        "data = []\n",
        "with open(\"data.jsonl\", \"r\") as r:\n",
        "    for line in r:\n",
        "        data.append(json.loads(line))\n",
        "data.sort(key=lambda x: x['timestamp'])"
      ],
      "execution_count": null,
      "outputs": []
    },
    {
      "cell_type": "code",
      "metadata": {
        "id": "mFy1P-PU1AcD",
        "colab": {
          "base_uri": "https://localhost:8080/"
        },
        "outputId": "cb92504b-362d-432c-cf96-1cf98a92dd6b"
      },
      "source": [
        "data[0]"
      ],
      "execution_count": null,
      "outputs": [
        {
          "output_type": "execute_result",
          "data": {
            "text/plain": [
              "{'category': 'society',\n",
              " 'description': 'В Риге на причале Андрейсалы по пока не установленным причинам вчера после 10 вечера в Даугаву упал 17-летний Леон Чернявский, сообщает Латвийское радио-4. Сегодня спасатели обнаружили его тело.\\xa0',\n",
              " 'file_name': '4259041647663637904.html',\n",
              " 'language': 'ru',\n",
              " 'site_name': 'Latvijas Sabiedriskie Mediji',\n",
              " 'text': 'В Риге на причале Андрейсалы по пока не установленным причинам вчера после 10 вечера в Даугаву упал 17-летний Леон Чернявский, сообщает Латвийское радио-4. Сегодня спасатели обнаружили его тело.\\xa0 По словам матери подростка, Оксаны Чернявской, сын упал с причала в месте, где отсутствует ограждение — напротив одного из береговых ресторанов. Девушка пыталась помочь своему парню, бросилась в воду вслед за ним, но найти его в воде не смогла. Друг, который был на причале вместе с ними, по словам матери, сумел вытащить ее из воды на своем свитере, используя его в качестве веревки. Для поисков второго молодого человека вызвали спасателей. Вчера водолазы ГПСС ныряли в районе причала Андрейсалы несколько часов, но юношу найти не удалось. На ночь поиски были прекращены, сказала представитель Пожарно-спасательной службы Инта Палкавниеце: «Вчера в 22:39 в Пожарно-спасательную службу поступил вызов на Андрейосту в Риге, сообщалось, что в Даугаве тонет человек. На месте происшествия спасатели констатировали, что в воде были обнаружены два человека, одного из которых сотрудники полиции самоуправления уже на катере доставили на берег. Далее спасатели осмотрели береговую зону на лодке, но тонущий человек найден не был. Около 2 часов ночи поисковые работы были прекращены и возобновлены сегодня утром. Тонул ли кто-то еще в этом месте, я затрудняюсь сказать, такую информацию мы не обобщали». Позже водолазы обнаружили тело Леона. По информации Латвийского радио, место, где следует искать утонувшего, показал сонар аппаратуры для подводных поисков, которую по просьбе родных утонувшего использовали добровольцы организации bezvests.lv. Сотрудники Государственной пожарно-спасательной службы и добровольцы из общественной организации Bezvests.lv прошлой зимой\\xa0обнаружили в канале у дамбы AB тело пропавшего без вести Кришьяниса Звейниекса. ',\n",
              " 'timestamp': 0,\n",
              " 'title': 'Из Даугавы подняли тело утонувшего юноши',\n",
              " 'url': 'https://rus.lsm.lv/statja/novosti/proisshestvija/iz-daugavi-podnjali-telo-utonuvshego-yunoshi.a338923/'}"
            ]
          },
          "metadata": {
            "tags": []
          },
          "execution_count": 3
        }
      ]
    },
    {
      "cell_type": "markdown",
      "metadata": {
        "id": "emI4AVxN1Qe5"
      },
      "source": [
        "# Разметка"
      ]
    },
    {
      "cell_type": "code",
      "metadata": {
        "id": "jDCbO_kngCxy"
      },
      "source": [
        "import csv\n",
        "\n",
        "class ClusterizationData:\n",
        "    def __init__(self, file_name):\n",
        "        self.url2record = dict()\n",
        "        with open(file_name, \"r\") as r:                                    \n",
        "            for line in r:\n",
        "                record = json.loads(line)                                       \n",
        "                self.url2record[record[\"url\"]] = record                              \n",
        "\n",
        "class ClusterizationMarkup:\n",
        "    def __init__(self, file_name):\n",
        "        self.data = dict()                                             \n",
        "        with open(file_name, \"r\") as r:                                         \n",
        "            reader = csv.reader(r, delimiter='\\t', quotechar='\"')               \n",
        "            header = next(reader)                                               \n",
        "            for row in reader:                                                  \n",
        "                assert len(header) == len(row)                                  \n",
        "                record = dict(zip(header, row))    \n",
        "                first_url = record[\"INPUT:first_url\"]\n",
        "                second_url = record[\"INPUT:second_url\"]\n",
        "                quality = int(record[\"OUTPUT:quality\"] == \"OK\")\n",
        "                self.data[(first_url, second_url)] = quality"
      ],
      "execution_count": null,
      "outputs": []
    },
    {
      "cell_type": "code",
      "metadata": {
        "id": "w4Cotqno1d1b"
      },
      "source": [
        "data_train = ClusterizationData(\"data_train.jsonl\")\n",
        "markup_train = ClusterizationMarkup(\"data_train_target.tsv\")"
      ],
      "execution_count": null,
      "outputs": []
    },
    {
      "cell_type": "code",
      "metadata": {
        "id": "04Neif1k1qs0"
      },
      "source": [
        "data_test = ClusterizationData(\"data_test.jsonl\")"
      ],
      "execution_count": null,
      "outputs": []
    },
    {
      "cell_type": "code",
      "metadata": {
        "id": "P45YW5EPY_Ii",
        "colab": {
          "base_uri": "https://localhost:8080/"
        },
        "outputId": "fe4bb8cb-e4e5-441d-d022-fa35f79f9c0a"
      },
      "source": [
        "list(markup_train.data.items())[:5]"
      ],
      "execution_count": null,
      "outputs": [
        {
          "output_type": "execute_result",
          "data": {
            "text/plain": [
              "[(('https://nikvesti.com/news/incidents/188343',\n",
              "   'https://for-ua.com/article/1198796'),\n",
              "  1),\n",
              " (('https://www.zakon.kz/5022841-kadyrov-potreboval-uvolit.html',\n",
              "   'https://lenta.ru/news/2020/05/17/sorry/'),\n",
              "  1),\n",
              " (('https://www.vzsar.ru/news/2020/05/17/saratovcev-jdet-oblachnoe-voskresene.html',\n",
              "   'http://obozvrn.ru/archives/106266'),\n",
              "  0),\n",
              " (('https://lenta.ru/news/2020/05/17/pik/',\n",
              "   'https://ria.ru/20200517/1571577985.html'),\n",
              "  1),\n",
              " (('https://www.dp.ru/a/2020/05/17/V_Peterburge_pogibshaja_s_d',\n",
              "   'https://politexpert.net/196977-denik-n-chekhiya-chut-ne-vystavila-sebya-na-posmeshishe-iz-za-provokacii-s-ricinom?utm_source=politobzor.net'),\n",
              "  0)]"
            ]
          },
          "metadata": {
            "tags": []
          },
          "execution_count": 7
        }
      ]
    },
    {
      "cell_type": "markdown",
      "metadata": {
        "id": "QsV6S9xqjD3R"
      },
      "source": [
        "# Sample submission\n",
        "Каждый документ идёт в собственный кластер"
      ]
    },
    {
      "cell_type": "code",
      "metadata": {
        "id": "6BM_-QRcSkIG"
      },
      "source": [
        "from sklearn.cluster import AgglomerativeClustering\n",
        "from sklearn.metrics import accuracy_score\n",
        "\n",
        "def calc_accuracy_score(gold_markup, url2label):\n",
        "    for first_url, second_url in list(gold_markup.keys()):\n",
        "        not_found = first_url not in url2label or second_url not in url2label\n",
        "        if not_found:\n",
        "            print(\"Not found {} pairs from markup\".format(first_url + \" \" + second_url))\n",
        "            return None\n",
        "\n",
        "    targets = []\n",
        "    predictions = []\n",
        "    for (first_url, second_url), target in gold_markup.items():\n",
        "        prediction = int(url2label[first_url] == url2label[second_url])\n",
        "        targets.append(target)\n",
        "        predictions.append(prediction)\n",
        "    \n",
        "    return accuracy_score(targets, predictions)"
      ],
      "execution_count": null,
      "outputs": []
    },
    {
      "cell_type": "code",
      "metadata": {
        "id": "ugphAZWtbV9b",
        "colab": {
          "base_uri": "https://localhost:8080/"
        },
        "outputId": "be891485-10b2-419e-841e-b79eba18fc77"
      },
      "source": [
        "url2label = dict()\n",
        "i = 0\n",
        "for url, _ in data_train.url2record.items():\n",
        "    url2label[url] = i\n",
        "    i += 1\n",
        "calc_accuracy_score(markup_train.data, url2label)"
      ],
      "execution_count": null,
      "outputs": [
        {
          "output_type": "execute_result",
          "data": {
            "text/plain": [
              "0.5816364309514994"
            ]
          },
          "metadata": {
            "tags": []
          },
          "execution_count": 9
        }
      ]
    },
    {
      "cell_type": "code",
      "metadata": {
        "id": "qNlXNHRxjG_5"
      },
      "source": [
        "with open(\"sample_submission.tsv\", \"w\") as f:\n",
        "    print(\"url\\tclid\", file=f)\n",
        "    i = 0\n",
        "    for url, item in data_test.url2record.items():\n",
        "        print(f\"{url}\\t{i}\", file=f)\n",
        "        i += 1"
      ],
      "execution_count": null,
      "outputs": []
    },
    {
      "cell_type": "markdown",
      "metadata": {
        "id": "GMvyxA8T10Uf"
      },
      "source": [
        "# FastText\n",
        "## word2vec с учётом буквенных ngram\n",
        "\n",
        "предсказываем по слову из текста соседние слова\n",
        "\n",
        "- один и тот же эмбэд для слова вне зависимости от контекста \n",
        "- эмбэд текста - усреднение эмбэддингов всех его слов (или другая функция)\n",
        "\n",
        "https://arxiv.org/abs/1607.04606\n",
        "\n",
        "https://fasttext.cc/"
      ]
    },
    {
      "cell_type": "code",
      "metadata": {
        "id": "mNn2u3jKYwP9",
        "colab": {
          "base_uri": "https://localhost:8080/"
        },
        "outputId": "3864adc0-4a61-4acc-b086-2651e87514dc"
      },
      "source": [
        "!pip install fasttext pyonmttok\n",
        "\n",
        "!git clone https://github.com/facebookresearch/fastText.git\n",
        "!cd fastText && mkdir build && cd build && cmake .. && make && make install"
      ],
      "execution_count": null,
      "outputs": [
        {
          "output_type": "stream",
          "text": [
            "Collecting fasttext\n",
            "\u001b[?25l  Downloading https://files.pythonhosted.org/packages/f8/85/e2b368ab6d3528827b147fdb814f8189acc981a4bc2f99ab894650e05c40/fasttext-0.9.2.tar.gz (68kB)\n",
            "\u001b[K     |████████████████████████████████| 71kB 6.9MB/s \n",
            "\u001b[?25hCollecting pyonmttok\n",
            "\u001b[?25l  Downloading https://files.pythonhosted.org/packages/95/0a/ff7a3c18be093a6b11a4bc7935aec29f10fdd500322571e695e99abeaca5/pyonmttok-1.22.1-cp36-cp36m-manylinux1_x86_64.whl (2.5MB)\n",
            "\u001b[K     |████████████████████████████████| 2.5MB 8.0MB/s \n",
            "\u001b[?25hRequirement already satisfied: pybind11>=2.2 in /usr/local/lib/python3.6/dist-packages (from fasttext) (2.6.0)\n",
            "Requirement already satisfied: setuptools>=0.7.0 in /usr/local/lib/python3.6/dist-packages (from fasttext) (50.3.2)\n",
            "Requirement already satisfied: numpy in /usr/local/lib/python3.6/dist-packages (from fasttext) (1.18.5)\n",
            "Building wheels for collected packages: fasttext\n",
            "  Building wheel for fasttext (setup.py) ... \u001b[?25l\u001b[?25hdone\n",
            "  Created wheel for fasttext: filename=fasttext-0.9.2-cp36-cp36m-linux_x86_64.whl size=3029263 sha256=b521927f09dc366eea9ab04df4958c3bd0267b61911c088c23d8660c9ff87711\n",
            "  Stored in directory: /root/.cache/pip/wheels/98/ba/7f/b154944a1cf5a8cee91c154b75231136cc3a3321ab0e30f592\n",
            "Successfully built fasttext\n",
            "Installing collected packages: fasttext, pyonmttok\n",
            "Successfully installed fasttext-0.9.2 pyonmttok-1.22.1\n",
            "Cloning into 'fastText'...\n",
            "remote: Enumerating objects: 3854, done.\u001b[K\n",
            "remote: Total 3854 (delta 0), reused 0 (delta 0), pack-reused 3854\u001b[K\n",
            "Receiving objects: 100% (3854/3854), 8.22 MiB | 36.78 MiB/s, done.\n",
            "Resolving deltas: 100% (2417/2417), done.\n",
            "-- The C compiler identification is GNU 7.5.0\n",
            "-- The CXX compiler identification is GNU 7.5.0\n",
            "-- Check for working C compiler: /usr/bin/cc\n",
            "-- Check for working C compiler: /usr/bin/cc -- works\n",
            "-- Detecting C compiler ABI info\n",
            "-- Detecting C compiler ABI info - done\n",
            "-- Detecting C compile features\n",
            "-- Detecting C compile features - done\n",
            "-- Check for working CXX compiler: /usr/bin/c++\n",
            "-- Check for working CXX compiler: /usr/bin/c++ -- works\n",
            "-- Detecting CXX compiler ABI info\n",
            "-- Detecting CXX compiler ABI info - done\n",
            "-- Detecting CXX compile features\n",
            "-- Detecting CXX compile features - done\n",
            "-- Configuring done\n",
            "-- Generating done\n",
            "-- Build files have been written to: /content/fastText/build\n",
            "\u001b[35m\u001b[1mScanning dependencies of target fasttext-static_pic\u001b[0m\n",
            "[  2%] \u001b[32mBuilding CXX object CMakeFiles/fasttext-static_pic.dir/src/args.cc.o\u001b[0m\n",
            "[  4%] \u001b[32mBuilding CXX object CMakeFiles/fasttext-static_pic.dir/src/autotune.cc.o\u001b[0m\n",
            "[  6%] \u001b[32mBuilding CXX object CMakeFiles/fasttext-static_pic.dir/src/densematrix.cc.o\u001b[0m\n",
            "[  8%] \u001b[32mBuilding CXX object CMakeFiles/fasttext-static_pic.dir/src/dictionary.cc.o\u001b[0m\n",
            "[ 10%] \u001b[32mBuilding CXX object CMakeFiles/fasttext-static_pic.dir/src/fasttext.cc.o\u001b[0m\n",
            "[ 12%] \u001b[32mBuilding CXX object CMakeFiles/fasttext-static_pic.dir/src/loss.cc.o\u001b[0m\n",
            "[ 14%] \u001b[32mBuilding CXX object CMakeFiles/fasttext-static_pic.dir/src/main.cc.o\u001b[0m\n",
            "[ 17%] \u001b[32mBuilding CXX object CMakeFiles/fasttext-static_pic.dir/src/matrix.cc.o\u001b[0m\n",
            "[ 19%] \u001b[32mBuilding CXX object CMakeFiles/fasttext-static_pic.dir/src/meter.cc.o\u001b[0m\n",
            "[ 21%] \u001b[32mBuilding CXX object CMakeFiles/fasttext-static_pic.dir/src/model.cc.o\u001b[0m\n",
            "[ 23%] \u001b[32mBuilding CXX object CMakeFiles/fasttext-static_pic.dir/src/productquantizer.cc.o\u001b[0m\n",
            "[ 25%] \u001b[32mBuilding CXX object CMakeFiles/fasttext-static_pic.dir/src/quantmatrix.cc.o\u001b[0m\n",
            "[ 27%] \u001b[32mBuilding CXX object CMakeFiles/fasttext-static_pic.dir/src/utils.cc.o\u001b[0m\n",
            "[ 29%] \u001b[32mBuilding CXX object CMakeFiles/fasttext-static_pic.dir/src/vector.cc.o\u001b[0m\n",
            "[ 31%] \u001b[32m\u001b[1mLinking CXX static library libfasttext_pic.a\u001b[0m\n",
            "[ 31%] Built target fasttext-static_pic\n",
            "\u001b[35m\u001b[1mScanning dependencies of target fasttext-static\u001b[0m\n",
            "[ 34%] \u001b[32mBuilding CXX object CMakeFiles/fasttext-static.dir/src/args.cc.o\u001b[0m\n",
            "[ 36%] \u001b[32mBuilding CXX object CMakeFiles/fasttext-static.dir/src/autotune.cc.o\u001b[0m\n",
            "[ 38%] \u001b[32mBuilding CXX object CMakeFiles/fasttext-static.dir/src/densematrix.cc.o\u001b[0m\n",
            "[ 40%] \u001b[32mBuilding CXX object CMakeFiles/fasttext-static.dir/src/dictionary.cc.o\u001b[0m\n",
            "[ 42%] \u001b[32mBuilding CXX object CMakeFiles/fasttext-static.dir/src/fasttext.cc.o\u001b[0m\n",
            "[ 44%] \u001b[32mBuilding CXX object CMakeFiles/fasttext-static.dir/src/loss.cc.o\u001b[0m\n",
            "[ 46%] \u001b[32mBuilding CXX object CMakeFiles/fasttext-static.dir/src/main.cc.o\u001b[0m\n",
            "[ 48%] \u001b[32mBuilding CXX object CMakeFiles/fasttext-static.dir/src/matrix.cc.o\u001b[0m\n",
            "[ 51%] \u001b[32mBuilding CXX object CMakeFiles/fasttext-static.dir/src/meter.cc.o\u001b[0m\n",
            "[ 53%] \u001b[32mBuilding CXX object CMakeFiles/fasttext-static.dir/src/model.cc.o\u001b[0m\n",
            "[ 55%] \u001b[32mBuilding CXX object CMakeFiles/fasttext-static.dir/src/productquantizer.cc.o\u001b[0m\n",
            "[ 57%] \u001b[32mBuilding CXX object CMakeFiles/fasttext-static.dir/src/quantmatrix.cc.o\u001b[0m\n",
            "[ 59%] \u001b[32mBuilding CXX object CMakeFiles/fasttext-static.dir/src/utils.cc.o\u001b[0m\n",
            "[ 61%] \u001b[32mBuilding CXX object CMakeFiles/fasttext-static.dir/src/vector.cc.o\u001b[0m\n",
            "[ 63%] \u001b[32m\u001b[1mLinking CXX static library libfasttext.a\u001b[0m\n",
            "[ 63%] Built target fasttext-static\n",
            "\u001b[35m\u001b[1mScanning dependencies of target fasttext-bin\u001b[0m\n",
            "[ 65%] \u001b[32mBuilding CXX object CMakeFiles/fasttext-bin.dir/src/main.cc.o\u001b[0m\n",
            "[ 68%] \u001b[32m\u001b[1mLinking CXX executable fasttext\u001b[0m\n",
            "[ 68%] Built target fasttext-bin\n",
            "\u001b[35m\u001b[1mScanning dependencies of target fasttext-shared\u001b[0m\n",
            "[ 70%] \u001b[32mBuilding CXX object CMakeFiles/fasttext-shared.dir/src/args.cc.o\u001b[0m\n",
            "[ 72%] \u001b[32mBuilding CXX object CMakeFiles/fasttext-shared.dir/src/autotune.cc.o\u001b[0m\n",
            "[ 74%] \u001b[32mBuilding CXX object CMakeFiles/fasttext-shared.dir/src/densematrix.cc.o\u001b[0m\n",
            "[ 76%] \u001b[32mBuilding CXX object CMakeFiles/fasttext-shared.dir/src/dictionary.cc.o\u001b[0m\n",
            "[ 78%] \u001b[32mBuilding CXX object CMakeFiles/fasttext-shared.dir/src/fasttext.cc.o\u001b[0m\n",
            "[ 80%] \u001b[32mBuilding CXX object CMakeFiles/fasttext-shared.dir/src/loss.cc.o\u001b[0m\n",
            "[ 82%] \u001b[32mBuilding CXX object CMakeFiles/fasttext-shared.dir/src/main.cc.o\u001b[0m\n",
            "[ 85%] \u001b[32mBuilding CXX object CMakeFiles/fasttext-shared.dir/src/matrix.cc.o\u001b[0m\n",
            "[ 87%] \u001b[32mBuilding CXX object CMakeFiles/fasttext-shared.dir/src/meter.cc.o\u001b[0m\n",
            "[ 89%] \u001b[32mBuilding CXX object CMakeFiles/fasttext-shared.dir/src/model.cc.o\u001b[0m\n",
            "[ 91%] \u001b[32mBuilding CXX object CMakeFiles/fasttext-shared.dir/src/productquantizer.cc.o\u001b[0m\n",
            "[ 93%] \u001b[32mBuilding CXX object CMakeFiles/fasttext-shared.dir/src/quantmatrix.cc.o\u001b[0m\n",
            "[ 95%] \u001b[32mBuilding CXX object CMakeFiles/fasttext-shared.dir/src/utils.cc.o\u001b[0m\n",
            "[ 97%] \u001b[32mBuilding CXX object CMakeFiles/fasttext-shared.dir/src/vector.cc.o\u001b[0m\n",
            "[100%] \u001b[32m\u001b[1mLinking CXX shared library libfasttext.so\u001b[0m\n",
            "[100%] Built target fasttext-shared\n",
            "[ 31%] Built target fasttext-static_pic\n",
            "[ 63%] Built target fasttext-static\n",
            "[ 68%] Built target fasttext-bin\n",
            "[100%] Built target fasttext-shared\n",
            "\u001b[36mInstall the project...\u001b[0m\n",
            "-- Install configuration: \"\"\n",
            "-- Installing: /usr/local/lib/pkgconfig/fasttext.pc\n",
            "-- Installing: /usr/local/lib/libfasttext.so.0\n",
            "-- Installing: /usr/local/lib/libfasttext.so\n",
            "-- Installing: /usr/local/lib/libfasttext.a\n",
            "-- Installing: /usr/local/lib/libfasttext_pic.a\n",
            "-- Installing: /usr/local/bin/fasttext\n",
            "-- Installing: /usr/local/include/fasttext/args.h\n",
            "-- Installing: /usr/local/include/fasttext/autotune.h\n",
            "-- Installing: /usr/local/include/fasttext/densematrix.h\n",
            "-- Installing: /usr/local/include/fasttext/dictionary.h\n",
            "-- Installing: /usr/local/include/fasttext/fasttext.h\n",
            "-- Installing: /usr/local/include/fasttext/loss.h\n",
            "-- Installing: /usr/local/include/fasttext/matrix.h\n",
            "-- Installing: /usr/local/include/fasttext/meter.h\n",
            "-- Installing: /usr/local/include/fasttext/model.h\n",
            "-- Installing: /usr/local/include/fasttext/productquantizer.h\n",
            "-- Installing: /usr/local/include/fasttext/quantmatrix.h\n",
            "-- Installing: /usr/local/include/fasttext/real.h\n",
            "-- Installing: /usr/local/include/fasttext/utils.h\n",
            "-- Installing: /usr/local/include/fasttext/vector.h\n"
          ],
          "name": "stdout"
        }
      ]
    },
    {
      "cell_type": "code",
      "metadata": {
        "id": "WkumFM3qgveV",
        "colab": {
          "base_uri": "https://localhost:8080/",
          "height": 66,
          "referenced_widgets": [
            "04f22d4d9bac4191a6ab4c7e9599674f",
            "3f3d96d09efa45e891196130a69fea44",
            "3c7acec08f264305beb2f4ed5ae88134",
            "9a86d0825cdc47f6854a55330b5b19de",
            "dff885b8047b4321bd39b650111572ec",
            "141f591ad50e4baab82b4f85886b8753",
            "d0d9077fa6d44d5eb03e3329e39f265d",
            "b6b35ca4b5e747bc95212fc4c0b82497"
          ]
        },
        "outputId": "022c0811-0685-4eea-e1a0-1dbc3383825b"
      },
      "source": [
        "import tqdm.notebook as tq\n",
        "import pyonmttok\n",
        "\n",
        "def preprocess(text, tokenizer, max_tokens=None, return_tokens=False):\n",
        "    lower_text = text.strip().replace(\"\\n\", \" \").replace(\"\\xa0\", \" \").lower()\n",
        "    tokens, _ = tokenizer.tokenize(lower_text)\n",
        "    if max_tokens:\n",
        "        tokens = tokens[:max_tokens]\n",
        "    \n",
        "    if return_tokens:\n",
        "        return tokens\n",
        "    else:\n",
        "        return \" \".join(tokens)\n",
        "\n",
        "tokenizer=pyonmttok.Tokenizer(\"conservative\", joiner_annotate=False)\n",
        "with open(\"train.txt\", \"w+\") as f:\n",
        "    for item in tq.tqdm(data):\n",
        "        print(preprocess(item[\"text\"], tokenizer, max_tokens=100), file=f)\n"
      ],
      "execution_count": null,
      "outputs": [
        {
          "output_type": "display_data",
          "data": {
            "application/vnd.jupyter.widget-view+json": {
              "model_id": "04f22d4d9bac4191a6ab4c7e9599674f",
              "version_minor": 0,
              "version_major": 2
            },
            "text/plain": [
              "HBox(children=(FloatProgress(value=0.0, max=488335.0), HTML(value='')))"
            ]
          },
          "metadata": {
            "tags": []
          }
        },
        {
          "output_type": "stream",
          "text": [
            "\n"
          ],
          "name": "stdout"
        }
      ]
    },
    {
      "cell_type": "code",
      "metadata": {
        "id": "BK5Whjp5hXsM",
        "colab": {
          "base_uri": "https://localhost:8080/"
        },
        "outputId": "2d1d8115-6831-43b7-ae3e-87bdfbac8da7"
      },
      "source": [
        "!head train.txt -n 2"
      ],
      "execution_count": null,
      "outputs": [
        {
          "output_type": "stream",
          "text": [
            "в риге на причале андрейсалы по пока не установленным причинам вчера после 10 вечера в даугаву упал 17-летний леон чернявский , сообщает латвийское радио-4 . сегодня спасатели обнаружили его тело . по словам матери подростка , оксаны чернявской , сын упал с причала в месте , где отсутствует ограждение — напротив одного из береговых ресторанов . девушка пыталась помочь своему парню , бросилась в воду вслед за ним , но найти его в воде не смогла . друг , который был на причале вместе с ними , по словам матери , сумел вытащить ее из воды на своем свитере ,\n",
            "начиная с сегодняшнего дня , 1 ноября , в россии стало обязательным оформление электронных птс . ими будут сопровождаться все новые автомобили , выпускаемые в россии или же официально импортируемые в страну . владельцам бумажных птс беспокоиться не стоит . документ является бессрочным и подлежит обмену исключительно по желанию хозяина машины . все основные сведения по автомобилю и его собственнику отныне хранятся в электронной централизованной базе данных . доступ к ней осуществляется с помощью компьютера , смартфона или планшета . следует отметить , что россия является первой из стран евразийского союза , которая перешла на электронные птс . другие государства\n"
          ],
          "name": "stdout"
        }
      ]
    },
    {
      "cell_type": "code",
      "metadata": {
        "id": "S0Zl98CbqaNJ",
        "colab": {
          "base_uri": "https://localhost:8080/"
        },
        "outputId": "aaf5e805-9c8a-494e-c03d-f606d816719a"
      },
      "source": [
        "!wc -l train.txt"
      ],
      "execution_count": null,
      "outputs": [
        {
          "output_type": "stream",
          "text": [
            "488335 train.txt\n"
          ],
          "name": "stdout"
        }
      ]
    },
    {
      "cell_type": "code",
      "metadata": {
        "id": "tBxIyz5poz0z",
        "colab": {
          "base_uri": "https://localhost:8080/"
        },
        "outputId": "8448ae13-842a-43cd-f6d7-bc3d832c0d4e"
      },
      "source": [
        "!fasttext skipgram"
      ],
      "execution_count": null,
      "outputs": [
        {
          "output_type": "stream",
          "text": [
            "Empty input or output path.\n",
            "\n",
            "The following arguments are mandatory:\n",
            "  -input              training file path\n",
            "  -output             output file path\n",
            "\n",
            "The following arguments are optional:\n",
            "  -verbose            verbosity level [2]\n",
            "\n",
            "The following arguments for the dictionary are optional:\n",
            "  -minCount           minimal number of word occurences [5]\n",
            "  -minCountLabel      minimal number of label occurences [0]\n",
            "  -wordNgrams         max length of word ngram [1]\n",
            "  -bucket             number of buckets [2000000]\n",
            "  -minn               min length of char ngram [3]\n",
            "  -maxn               max length of char ngram [6]\n",
            "  -t                  sampling threshold [0.0001]\n",
            "  -label              labels prefix [__label__]\n",
            "\n",
            "The following arguments for training are optional:\n",
            "  -lr                 learning rate [0.05]\n",
            "  -lrUpdateRate       change the rate of updates for the learning rate [100]\n",
            "  -dim                size of word vectors [100]\n",
            "  -ws                 size of the context window [5]\n",
            "  -epoch              number of epochs [5]\n",
            "  -neg                number of negatives sampled [5]\n",
            "  -loss               loss function {ns, hs, softmax, one-vs-all} [ns]\n",
            "  -thread             number of threads (set to 1 to ensure reproducible results) [12]\n",
            "  -pretrainedVectors  pretrained word vectors for supervised learning []\n",
            "  -saveOutput         whether output params should be saved [false]\n",
            "  -seed               random generator seed  [0]\n",
            "\n",
            "The following arguments are for autotune:\n",
            "  -autotune-validation            validation file to be used for evaluation\n",
            "  -autotune-metric                metric objective {f1, f1:labelname} [f1]\n",
            "  -autotune-predictions           number of predictions used for evaluation  [1]\n",
            "  -autotune-duration              maximum duration in seconds [300]\n",
            "  -autotune-modelsize             constraint model file size [] (empty = do not quantize)\n",
            "\n",
            "The following arguments for quantization are optional:\n",
            "  -cutoff             number of words and ngrams to retain [0]\n",
            "  -retrain            whether embeddings are finetuned if a cutoff is applied [false]\n",
            "  -qnorm              whether the norm is quantized separately [false]\n",
            "  -qout               whether the classifier is quantized [false]\n",
            "  -dsub               size of each sub-vector [2]\n"
          ],
          "name": "stdout"
        }
      ]
    },
    {
      "cell_type": "code",
      "metadata": {
        "id": "3eJ7iLPTfyW7",
        "colab": {
          "base_uri": "https://localhost:8080/"
        },
        "outputId": "991f4f30-24de-49ef-9b9b-c4d85dfb530f"
      },
      "source": [
        "# TODO: expirements with params i.e. cbow instead of skipgram, lr, wordNGrams ... more epochs, data\n",
        "!fasttext skipgram -input train.txt -output model -epoch 1"
      ],
      "execution_count": null,
      "outputs": [
        {
          "output_type": "stream",
          "text": [
            "Read 47M words\n",
            "Number of words:  206825\n",
            "Number of labels: 0\n",
            "Progress: 100.0% words/sec/thread:    5059 lr:  0.000000 avg.loss:  1.815759 ETA:   0h 0m 0s\n"
          ],
          "name": "stdout"
        }
      ]
    },
    {
      "cell_type": "code",
      "metadata": {
        "id": "HCFg4vhBf1nC",
        "colab": {
          "base_uri": "https://localhost:8080/"
        },
        "outputId": "facfa4bf-14b2-4d55-f927-92ce2172aee6"
      },
      "source": [
        "import fasttext\n",
        "\n",
        "model = fasttext.load_model(\"model.bin\")"
      ],
      "execution_count": null,
      "outputs": [
        {
          "output_type": "stream",
          "text": [
            "Warning : `load_model` does not return WordVectorModel or SupervisedModel any more, but a `FastText` object which is very similar.\n"
          ],
          "name": "stderr"
        }
      ]
    },
    {
      "cell_type": "code",
      "metadata": {
        "id": "m7JfOBDYx6A0",
        "colab": {
          "base_uri": "https://localhost:8080/"
        },
        "outputId": "a53e2089-38eb-4e98-f604-562e81c283bb"
      },
      "source": [
        "from sklearn.cluster import AgglomerativeClustering\n",
        "import numpy as np\n",
        "\n",
        "def get_embedding(text, model, tokenizer):\n",
        "    tokens = preprocess(text, tokenizer, return_tokens=True)\n",
        "    vectors = [model.get_word_vector(token) for token in tokens]\n",
        "    norm_vectors = [x / np.linalg.norm(x) for x in vectors]\n",
        "    return np.mean(norm_vectors, axis=0)\n",
        "\n",
        "def do_clustering(clustering_model, data, model, tokenizer):\n",
        "    embeddings = np.zeros((len(data.url2record), 100))\n",
        "    idx2url = []\n",
        "    for i, url_record in enumerate(data.url2record.items()):\n",
        "        url, record = url_record\n",
        "        embeddings[i] = get_embedding(record[\"text\"], model, tokenizer)\n",
        "        idx2url.append(url)\n",
        "\n",
        "    clustering_model.fit(embeddings)\n",
        "    labels = clustering_model.labels_\n",
        "\n",
        "    url2label = dict()\n",
        "    \n",
        "    max_label = max(labels)\n",
        "    for i, label in enumerate(labels):\n",
        "        url2label[idx2url[i]] = label\n",
        "    return url2label\n",
        "\n",
        "clustering_model = AgglomerativeClustering(\n",
        "    n_clusters=None,\n",
        "    distance_threshold=0.01, # TODO: search the best one\n",
        "    linkage=\"single\",\n",
        "    affinity=\"cosine\"\n",
        ")\n",
        "\n",
        "url2label = do_clustering(clustering_model, data_train, model, tokenizer)\n",
        "\n",
        "calc_accuracy_score(markup_train.data, url2label)"
      ],
      "execution_count": null,
      "outputs": [
        {
          "output_type": "execute_result",
          "data": {
            "text/plain": [
              "0.772306553128471"
            ]
          },
          "metadata": {
            "tags": []
          },
          "execution_count": 26
        }
      ]
    },
    {
      "cell_type": "code",
      "metadata": {
        "id": "uuB_Fo3jywuy"
      },
      "source": [
        "url2label = do_clustering(clustering_model, data_test, model, tokenizer)\n",
        "with open(\"fasttext_prediction.tsv\", \"w+\") as f:\n",
        "    print(\"url\\tclid\", file=f)\n",
        "    for url, label in url2label.items():\n",
        "        print(f\"{url}\\t{label}\", file=f)"
      ],
      "execution_count": null,
      "outputs": []
    },
    {
      "cell_type": "code",
      "metadata": {
        "id": "SpOwZia28lgk"
      },
      "source": [
        ""
      ],
      "execution_count": null,
      "outputs": []
    },
    {
      "cell_type": "markdown",
      "metadata": {
        "id": "XxQ7jjeaPU9w"
      },
      "source": [
        "# BERT\n",
        "\n",
        "12 - 24 трансформеров, byte pair encoding\n",
        "\n",
        "предсказываем является ли одно предложение продолжением другого + предсказываем замаскированные слова в тексте\n",
        "\n",
        "- механизм внимания: каждое слово \"смотрит\" на соседние. Эмбэд слова зависит от контекста\n",
        "- эмбэддинг слова: эмбэддинг на выходе последнего слоя (или другого слоя/слоёв)\n",
        "- эмбэддинг текста: усреднение эмбэдов слов (или другая функция)\n",
        "\n",
        "![bert.png](data:image/png;base64,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)\n",
        "\n",
        "https://arxiv.org/abs/1810.04805\n",
        "\n",
        "https://huggingface.co/transformers/model_doc/bert.html\n",
        "\n",
        "http://docs.deeppavlov.ai/en/master/features/models/bert.html"
      ]
    },
    {
      "cell_type": "code",
      "metadata": {
        "id": "lFIX-j2wYNVP",
        "colab": {
          "base_uri": "https://localhost:8080/"
        },
        "outputId": "3eaa22ee-588b-48b2-a09f-d0f1ee11aec5"
      },
      "source": [
        "!pip install --upgrade sentence-transformers\n",
        "!pip install torch==1.5.1+cu101 torchvision==0.6.1+cu101 -f https://download.pytorch.org/whl/torch_stable.html"
      ],
      "execution_count": null,
      "outputs": [
        {
          "output_type": "stream",
          "text": [
            "Collecting sentence-transformers\n",
            "\u001b[?25l  Downloading https://files.pythonhosted.org/packages/f4/fd/0190080aa0af78d7cd5874e4e8e85f0bed9967dd387cf05d760832b95da9/sentence-transformers-0.3.8.tar.gz (66kB)\n",
            "\u001b[K     |████████████████████████████████| 71kB 5.4MB/s \n",
            "\u001b[?25hCollecting transformers<3.4.0,>=3.1.0\n",
            "\u001b[?25l  Downloading https://files.pythonhosted.org/packages/19/22/aff234f4a841f8999e68a7a94bdd4b60b4cebcfeca5d67d61cd08c9179de/transformers-3.3.1-py3-none-any.whl (1.1MB)\n",
            "\u001b[K     |████████████████████████████████| 1.1MB 9.9MB/s \n",
            "\u001b[?25hRequirement already satisfied, skipping upgrade: tqdm in /usr/local/lib/python3.6/dist-packages (from sentence-transformers) (4.41.1)\n",
            "Requirement already satisfied, skipping upgrade: torch>=1.2.0 in /usr/local/lib/python3.6/dist-packages (from sentence-transformers) (1.7.0+cu101)\n",
            "Requirement already satisfied, skipping upgrade: numpy in /usr/local/lib/python3.6/dist-packages (from sentence-transformers) (1.18.5)\n",
            "Requirement already satisfied, skipping upgrade: scikit-learn in /usr/local/lib/python3.6/dist-packages (from sentence-transformers) (0.22.2.post1)\n",
            "Requirement already satisfied, skipping upgrade: scipy in /usr/local/lib/python3.6/dist-packages (from sentence-transformers) (1.4.1)\n",
            "Requirement already satisfied, skipping upgrade: nltk in /usr/local/lib/python3.6/dist-packages (from sentence-transformers) (3.2.5)\n",
            "Collecting sentencepiece!=0.1.92\n",
            "\u001b[?25l  Downloading https://files.pythonhosted.org/packages/e5/2d/6d4ca4bef9a67070fa1cac508606328329152b1df10bdf31fb6e4e727894/sentencepiece-0.1.94-cp36-cp36m-manylinux2014_x86_64.whl (1.1MB)\n",
            "\u001b[K     |████████████████████████████████| 1.1MB 27.7MB/s \n",
            "\u001b[?25hRequirement already satisfied, skipping upgrade: packaging in /usr/local/lib/python3.6/dist-packages (from transformers<3.4.0,>=3.1.0->sentence-transformers) (20.4)\n",
            "Requirement already satisfied, skipping upgrade: filelock in /usr/local/lib/python3.6/dist-packages (from transformers<3.4.0,>=3.1.0->sentence-transformers) (3.0.12)\n",
            "Requirement already satisfied, skipping upgrade: requests in /usr/local/lib/python3.6/dist-packages (from transformers<3.4.0,>=3.1.0->sentence-transformers) (2.23.0)\n",
            "Requirement already satisfied, skipping upgrade: regex!=2019.12.17 in /usr/local/lib/python3.6/dist-packages (from transformers<3.4.0,>=3.1.0->sentence-transformers) (2019.12.20)\n",
            "Collecting tokenizers==0.8.1.rc2\n",
            "\u001b[?25l  Downloading https://files.pythonhosted.org/packages/80/83/8b9fccb9e48eeb575ee19179e2bdde0ee9a1904f97de5f02d19016b8804f/tokenizers-0.8.1rc2-cp36-cp36m-manylinux1_x86_64.whl (3.0MB)\n",
            "\u001b[K     |████████████████████████████████| 3.0MB 53.1MB/s \n",
            "\u001b[?25hCollecting sacremoses\n",
            "\u001b[?25l  Downloading https://files.pythonhosted.org/packages/7d/34/09d19aff26edcc8eb2a01bed8e98f13a1537005d31e95233fd48216eed10/sacremoses-0.0.43.tar.gz (883kB)\n",
            "\u001b[K     |████████████████████████████████| 890kB 47.9MB/s \n",
            "\u001b[?25hRequirement already satisfied, skipping upgrade: dataclasses; python_version < \"3.7\" in /usr/local/lib/python3.6/dist-packages (from transformers<3.4.0,>=3.1.0->sentence-transformers) (0.7)\n",
            "Requirement already satisfied, skipping upgrade: future in /usr/local/lib/python3.6/dist-packages (from torch>=1.2.0->sentence-transformers) (0.16.0)\n",
            "Requirement already satisfied, skipping upgrade: typing-extensions in /usr/local/lib/python3.6/dist-packages (from torch>=1.2.0->sentence-transformers) (3.7.4.3)\n",
            "Requirement already satisfied, skipping upgrade: joblib>=0.11 in /usr/local/lib/python3.6/dist-packages (from scikit-learn->sentence-transformers) (0.17.0)\n",
            "Requirement already satisfied, skipping upgrade: six in /usr/local/lib/python3.6/dist-packages (from nltk->sentence-transformers) (1.15.0)\n",
            "Requirement already satisfied, skipping upgrade: pyparsing>=2.0.2 in /usr/local/lib/python3.6/dist-packages (from packaging->transformers<3.4.0,>=3.1.0->sentence-transformers) (2.4.7)\n",
            "Requirement already satisfied, skipping upgrade: urllib3!=1.25.0,!=1.25.1,<1.26,>=1.21.1 in /usr/local/lib/python3.6/dist-packages (from requests->transformers<3.4.0,>=3.1.0->sentence-transformers) (1.24.3)\n",
            "Requirement already satisfied, skipping upgrade: chardet<4,>=3.0.2 in /usr/local/lib/python3.6/dist-packages (from requests->transformers<3.4.0,>=3.1.0->sentence-transformers) (3.0.4)\n",
            "Requirement already satisfied, skipping upgrade: idna<3,>=2.5 in /usr/local/lib/python3.6/dist-packages (from requests->transformers<3.4.0,>=3.1.0->sentence-transformers) (2.10)\n",
            "Requirement already satisfied, skipping upgrade: certifi>=2017.4.17 in /usr/local/lib/python3.6/dist-packages (from requests->transformers<3.4.0,>=3.1.0->sentence-transformers) (2020.6.20)\n",
            "Requirement already satisfied, skipping upgrade: click in /usr/local/lib/python3.6/dist-packages (from sacremoses->transformers<3.4.0,>=3.1.0->sentence-transformers) (7.1.2)\n",
            "Building wheels for collected packages: sentence-transformers, sacremoses\n",
            "  Building wheel for sentence-transformers (setup.py) ... \u001b[?25l\u001b[?25hdone\n",
            "  Created wheel for sentence-transformers: filename=sentence_transformers-0.3.8-cp36-none-any.whl size=101996 sha256=b3411d56d9a0f0d1acef2f124ab1b8a5816317aa041408c294419e8e06ac2aee\n",
            "  Stored in directory: /root/.cache/pip/wheels/27/ec/b3/d12cc8e4daf77846db6543033d3a5642f204c0320b15945647\n",
            "  Building wheel for sacremoses (setup.py) ... \u001b[?25l\u001b[?25hdone\n",
            "  Created wheel for sacremoses: filename=sacremoses-0.0.43-cp36-none-any.whl size=893257 sha256=a09f74eb4acc693ac6b175d708d7037a40e268f3342e3fcaac6e5e80fd55223d\n",
            "  Stored in directory: /root/.cache/pip/wheels/29/3c/fd/7ce5c3f0666dab31a50123635e6fb5e19ceb42ce38d4e58f45\n",
            "Successfully built sentence-transformers sacremoses\n",
            "Installing collected packages: sentencepiece, tokenizers, sacremoses, transformers, sentence-transformers\n",
            "Successfully installed sacremoses-0.0.43 sentence-transformers-0.3.8 sentencepiece-0.1.94 tokenizers-0.8.1rc2 transformers-3.3.1\n",
            "Looking in links: https://download.pytorch.org/whl/torch_stable.html\n",
            "Collecting torch==1.5.1+cu101\n",
            "\u001b[?25l  Downloading https://download.pytorch.org/whl/cu101/torch-1.5.1%2Bcu101-cp36-cp36m-linux_x86_64.whl (704.4MB)\n",
            "\u001b[K     |████████████████████████████████| 704.4MB 24kB/s \n",
            "\u001b[?25hCollecting torchvision==0.6.1+cu101\n",
            "\u001b[?25l  Downloading https://download.pytorch.org/whl/cu101/torchvision-0.6.1%2Bcu101-cp36-cp36m-linux_x86_64.whl (6.6MB)\n",
            "\u001b[K     |████████████████████████████████| 6.6MB 10.4MB/s \n",
            "\u001b[?25hRequirement already satisfied: numpy in /usr/local/lib/python3.6/dist-packages (from torch==1.5.1+cu101) (1.18.5)\n",
            "Requirement already satisfied: future in /usr/local/lib/python3.6/dist-packages (from torch==1.5.1+cu101) (0.16.0)\n",
            "Requirement already satisfied: pillow>=4.1.1 in /usr/local/lib/python3.6/dist-packages (from torchvision==0.6.1+cu101) (7.0.0)\n",
            "Installing collected packages: torch, torchvision\n",
            "  Found existing installation: torch 1.7.0+cu101\n",
            "    Uninstalling torch-1.7.0+cu101:\n",
            "      Successfully uninstalled torch-1.7.0+cu101\n",
            "  Found existing installation: torchvision 0.8.1+cu101\n",
            "    Uninstalling torchvision-0.8.1+cu101:\n",
            "      Successfully uninstalled torchvision-0.8.1+cu101\n",
            "Successfully installed torch-1.5.1+cu101 torchvision-0.6.1+cu101\n"
          ],
          "name": "stdout"
        }
      ]
    },
    {
      "cell_type": "code",
      "metadata": {
        "id": "g_9Pa5BKS3lC"
      },
      "source": [
        "import torch\n",
        "from transformers import BertTokenizer, BertModel"
      ],
      "execution_count": null,
      "outputs": []
    },
    {
      "cell_type": "code",
      "metadata": {
        "id": "pcDnxgU5HZP6",
        "colab": {
          "base_uri": "https://localhost:8080/"
        },
        "outputId": "2031c471-d9a1-44ff-c7e9-ebe77cc7ccaf"
      },
      "source": [
        "!wget http://files.deeppavlov.ai/deeppavlov_data/bert/rubert_cased_L-12_H-768_A-12_pt.tar.gz \n",
        "!tar xvzf rubert_cased_L-12_H-768_A-12_pt.tar.gz && mv rubert_cased_L-12_H-768_A-12_pt rubert\n",
        "\n",
        "!mv rubert/bert_config.json rubert/config.json"
      ],
      "execution_count": null,
      "outputs": [
        {
          "output_type": "stream",
          "text": [
            "--2020-11-09 13:28:37--  http://files.deeppavlov.ai/deeppavlov_data/bert/rubert_cased_L-12_H-768_A-12_pt.tar.gz\n",
            "Resolving files.deeppavlov.ai (files.deeppavlov.ai)... 93.175.29.74\n",
            "Connecting to files.deeppavlov.ai (files.deeppavlov.ai)|93.175.29.74|:80... connected.\n",
            "HTTP request sent, awaiting response... 200 OK\n",
            "Length: 662024852 (631M) [application/octet-stream]\n",
            "Saving to: ‘rubert_cased_L-12_H-768_A-12_pt.tar.gz’\n",
            "\n",
            "rubert_cased_L-12_H 100%[===================>] 631.36M  5.74MB/s    in 1m 48s  \n",
            "\n",
            "2020-11-09 13:30:25 (5.84 MB/s) - ‘rubert_cased_L-12_H-768_A-12_pt.tar.gz’ saved [662024852/662024852]\n",
            "\n",
            "rubert_cased_L-12_H-768_A-12_pt/\n",
            "rubert_cased_L-12_H-768_A-12_pt/bert_config.json\n",
            "rubert_cased_L-12_H-768_A-12_pt/vocab.txt\n",
            "rubert_cased_L-12_H-768_A-12_pt/pytorch_model.bin\n"
          ],
          "name": "stdout"
        }
      ]
    },
    {
      "cell_type": "code",
      "metadata": {
        "id": "yJmRLh8HTv7l"
      },
      "source": [
        "tokenizer = BertTokenizer.from_pretrained('rubert', model_max_length=512, return_tensors=\"pt\")"
      ],
      "execution_count": null,
      "outputs": []
    },
    {
      "cell_type": "code",
      "metadata": {
        "id": "HcR2hD07Uncs",
        "colab": {
          "base_uri": "https://localhost:8080/"
        },
        "outputId": "0e991198-94d4-4cbc-abdc-fe00251f3bf5"
      },
      "source": [
        "model = BertModel.from_pretrained('rubert/', output_hidden_states = True)\n",
        "model.eval()\n",
        "model.cuda()"
      ],
      "execution_count": null,
      "outputs": [
        {
          "output_type": "execute_result",
          "data": {
            "text/plain": [
              "BertModel(\n",
              "  (embeddings): BertEmbeddings(\n",
              "    (word_embeddings): Embedding(119547, 768, padding_idx=0)\n",
              "    (position_embeddings): Embedding(512, 768)\n",
              "    (token_type_embeddings): Embedding(2, 768)\n",
              "    (LayerNorm): LayerNorm((768,), eps=1e-12, elementwise_affine=True)\n",
              "    (dropout): Dropout(p=0.1, inplace=False)\n",
              "  )\n",
              "  (encoder): BertEncoder(\n",
              "    (layer): ModuleList(\n",
              "      (0): BertLayer(\n",
              "        (attention): BertAttention(\n",
              "          (self): BertSelfAttention(\n",
              "            (query): Linear(in_features=768, out_features=768, bias=True)\n",
              "            (key): Linear(in_features=768, out_features=768, bias=True)\n",
              "            (value): Linear(in_features=768, out_features=768, bias=True)\n",
              "            (dropout): Dropout(p=0.1, inplace=False)\n",
              "          )\n",
              "          (output): BertSelfOutput(\n",
              "            (dense): Linear(in_features=768, out_features=768, bias=True)\n",
              "            (LayerNorm): LayerNorm((768,), eps=1e-12, elementwise_affine=True)\n",
              "            (dropout): Dropout(p=0.1, inplace=False)\n",
              "          )\n",
              "        )\n",
              "        (intermediate): BertIntermediate(\n",
              "          (dense): Linear(in_features=768, out_features=3072, bias=True)\n",
              "        )\n",
              "        (output): BertOutput(\n",
              "          (dense): Linear(in_features=3072, out_features=768, bias=True)\n",
              "          (LayerNorm): LayerNorm((768,), eps=1e-12, elementwise_affine=True)\n",
              "          (dropout): Dropout(p=0.1, inplace=False)\n",
              "        )\n",
              "      )\n",
              "      (1): BertLayer(\n",
              "        (attention): BertAttention(\n",
              "          (self): BertSelfAttention(\n",
              "            (query): Linear(in_features=768, out_features=768, bias=True)\n",
              "            (key): Linear(in_features=768, out_features=768, bias=True)\n",
              "            (value): Linear(in_features=768, out_features=768, bias=True)\n",
              "            (dropout): Dropout(p=0.1, inplace=False)\n",
              "          )\n",
              "          (output): BertSelfOutput(\n",
              "            (dense): Linear(in_features=768, out_features=768, bias=True)\n",
              "            (LayerNorm): LayerNorm((768,), eps=1e-12, elementwise_affine=True)\n",
              "            (dropout): Dropout(p=0.1, inplace=False)\n",
              "          )\n",
              "        )\n",
              "        (intermediate): BertIntermediate(\n",
              "          (dense): Linear(in_features=768, out_features=3072, bias=True)\n",
              "        )\n",
              "        (output): BertOutput(\n",
              "          (dense): Linear(in_features=3072, out_features=768, bias=True)\n",
              "          (LayerNorm): LayerNorm((768,), eps=1e-12, elementwise_affine=True)\n",
              "          (dropout): Dropout(p=0.1, inplace=False)\n",
              "        )\n",
              "      )\n",
              "      (2): BertLayer(\n",
              "        (attention): BertAttention(\n",
              "          (self): BertSelfAttention(\n",
              "            (query): Linear(in_features=768, out_features=768, bias=True)\n",
              "            (key): Linear(in_features=768, out_features=768, bias=True)\n",
              "            (value): Linear(in_features=768, out_features=768, bias=True)\n",
              "            (dropout): Dropout(p=0.1, inplace=False)\n",
              "          )\n",
              "          (output): BertSelfOutput(\n",
              "            (dense): Linear(in_features=768, out_features=768, bias=True)\n",
              "            (LayerNorm): LayerNorm((768,), eps=1e-12, elementwise_affine=True)\n",
              "            (dropout): Dropout(p=0.1, inplace=False)\n",
              "          )\n",
              "        )\n",
              "        (intermediate): BertIntermediate(\n",
              "          (dense): Linear(in_features=768, out_features=3072, bias=True)\n",
              "        )\n",
              "        (output): BertOutput(\n",
              "          (dense): Linear(in_features=3072, out_features=768, bias=True)\n",
              "          (LayerNorm): LayerNorm((768,), eps=1e-12, elementwise_affine=True)\n",
              "          (dropout): Dropout(p=0.1, inplace=False)\n",
              "        )\n",
              "      )\n",
              "      (3): BertLayer(\n",
              "        (attention): BertAttention(\n",
              "          (self): BertSelfAttention(\n",
              "            (query): Linear(in_features=768, out_features=768, bias=True)\n",
              "            (key): Linear(in_features=768, out_features=768, bias=True)\n",
              "            (value): Linear(in_features=768, out_features=768, bias=True)\n",
              "            (dropout): Dropout(p=0.1, inplace=False)\n",
              "          )\n",
              "          (output): BertSelfOutput(\n",
              "            (dense): Linear(in_features=768, out_features=768, bias=True)\n",
              "            (LayerNorm): LayerNorm((768,), eps=1e-12, elementwise_affine=True)\n",
              "            (dropout): Dropout(p=0.1, inplace=False)\n",
              "          )\n",
              "        )\n",
              "        (intermediate): BertIntermediate(\n",
              "          (dense): Linear(in_features=768, out_features=3072, bias=True)\n",
              "        )\n",
              "        (output): BertOutput(\n",
              "          (dense): Linear(in_features=3072, out_features=768, bias=True)\n",
              "          (LayerNorm): LayerNorm((768,), eps=1e-12, elementwise_affine=True)\n",
              "          (dropout): Dropout(p=0.1, inplace=False)\n",
              "        )\n",
              "      )\n",
              "      (4): BertLayer(\n",
              "        (attention): BertAttention(\n",
              "          (self): BertSelfAttention(\n",
              "            (query): Linear(in_features=768, out_features=768, bias=True)\n",
              "            (key): Linear(in_features=768, out_features=768, bias=True)\n",
              "            (value): Linear(in_features=768, out_features=768, bias=True)\n",
              "            (dropout): Dropout(p=0.1, inplace=False)\n",
              "          )\n",
              "          (output): BertSelfOutput(\n",
              "            (dense): Linear(in_features=768, out_features=768, bias=True)\n",
              "            (LayerNorm): LayerNorm((768,), eps=1e-12, elementwise_affine=True)\n",
              "            (dropout): Dropout(p=0.1, inplace=False)\n",
              "          )\n",
              "        )\n",
              "        (intermediate): BertIntermediate(\n",
              "          (dense): Linear(in_features=768, out_features=3072, bias=True)\n",
              "        )\n",
              "        (output): BertOutput(\n",
              "          (dense): Linear(in_features=3072, out_features=768, bias=True)\n",
              "          (LayerNorm): LayerNorm((768,), eps=1e-12, elementwise_affine=True)\n",
              "          (dropout): Dropout(p=0.1, inplace=False)\n",
              "        )\n",
              "      )\n",
              "      (5): BertLayer(\n",
              "        (attention): BertAttention(\n",
              "          (self): BertSelfAttention(\n",
              "            (query): Linear(in_features=768, out_features=768, bias=True)\n",
              "            (key): Linear(in_features=768, out_features=768, bias=True)\n",
              "            (value): Linear(in_features=768, out_features=768, bias=True)\n",
              "            (dropout): Dropout(p=0.1, inplace=False)\n",
              "          )\n",
              "          (output): BertSelfOutput(\n",
              "            (dense): Linear(in_features=768, out_features=768, bias=True)\n",
              "            (LayerNorm): LayerNorm((768,), eps=1e-12, elementwise_affine=True)\n",
              "            (dropout): Dropout(p=0.1, inplace=False)\n",
              "          )\n",
              "        )\n",
              "        (intermediate): BertIntermediate(\n",
              "          (dense): Linear(in_features=768, out_features=3072, bias=True)\n",
              "        )\n",
              "        (output): BertOutput(\n",
              "          (dense): Linear(in_features=3072, out_features=768, bias=True)\n",
              "          (LayerNorm): LayerNorm((768,), eps=1e-12, elementwise_affine=True)\n",
              "          (dropout): Dropout(p=0.1, inplace=False)\n",
              "        )\n",
              "      )\n",
              "      (6): BertLayer(\n",
              "        (attention): BertAttention(\n",
              "          (self): BertSelfAttention(\n",
              "            (query): Linear(in_features=768, out_features=768, bias=True)\n",
              "            (key): Linear(in_features=768, out_features=768, bias=True)\n",
              "            (value): Linear(in_features=768, out_features=768, bias=True)\n",
              "            (dropout): Dropout(p=0.1, inplace=False)\n",
              "          )\n",
              "          (output): BertSelfOutput(\n",
              "            (dense): Linear(in_features=768, out_features=768, bias=True)\n",
              "            (LayerNorm): LayerNorm((768,), eps=1e-12, elementwise_affine=True)\n",
              "            (dropout): Dropout(p=0.1, inplace=False)\n",
              "          )\n",
              "        )\n",
              "        (intermediate): BertIntermediate(\n",
              "          (dense): Linear(in_features=768, out_features=3072, bias=True)\n",
              "        )\n",
              "        (output): BertOutput(\n",
              "          (dense): Linear(in_features=3072, out_features=768, bias=True)\n",
              "          (LayerNorm): LayerNorm((768,), eps=1e-12, elementwise_affine=True)\n",
              "          (dropout): Dropout(p=0.1, inplace=False)\n",
              "        )\n",
              "      )\n",
              "      (7): BertLayer(\n",
              "        (attention): BertAttention(\n",
              "          (self): BertSelfAttention(\n",
              "            (query): Linear(in_features=768, out_features=768, bias=True)\n",
              "            (key): Linear(in_features=768, out_features=768, bias=True)\n",
              "            (value): Linear(in_features=768, out_features=768, bias=True)\n",
              "            (dropout): Dropout(p=0.1, inplace=False)\n",
              "          )\n",
              "          (output): BertSelfOutput(\n",
              "            (dense): Linear(in_features=768, out_features=768, bias=True)\n",
              "            (LayerNorm): LayerNorm((768,), eps=1e-12, elementwise_affine=True)\n",
              "            (dropout): Dropout(p=0.1, inplace=False)\n",
              "          )\n",
              "        )\n",
              "        (intermediate): BertIntermediate(\n",
              "          (dense): Linear(in_features=768, out_features=3072, bias=True)\n",
              "        )\n",
              "        (output): BertOutput(\n",
              "          (dense): Linear(in_features=3072, out_features=768, bias=True)\n",
              "          (LayerNorm): LayerNorm((768,), eps=1e-12, elementwise_affine=True)\n",
              "          (dropout): Dropout(p=0.1, inplace=False)\n",
              "        )\n",
              "      )\n",
              "      (8): BertLayer(\n",
              "        (attention): BertAttention(\n",
              "          (self): BertSelfAttention(\n",
              "            (query): Linear(in_features=768, out_features=768, bias=True)\n",
              "            (key): Linear(in_features=768, out_features=768, bias=True)\n",
              "            (value): Linear(in_features=768, out_features=768, bias=True)\n",
              "            (dropout): Dropout(p=0.1, inplace=False)\n",
              "          )\n",
              "          (output): BertSelfOutput(\n",
              "            (dense): Linear(in_features=768, out_features=768, bias=True)\n",
              "            (LayerNorm): LayerNorm((768,), eps=1e-12, elementwise_affine=True)\n",
              "            (dropout): Dropout(p=0.1, inplace=False)\n",
              "          )\n",
              "        )\n",
              "        (intermediate): BertIntermediate(\n",
              "          (dense): Linear(in_features=768, out_features=3072, bias=True)\n",
              "        )\n",
              "        (output): BertOutput(\n",
              "          (dense): Linear(in_features=3072, out_features=768, bias=True)\n",
              "          (LayerNorm): LayerNorm((768,), eps=1e-12, elementwise_affine=True)\n",
              "          (dropout): Dropout(p=0.1, inplace=False)\n",
              "        )\n",
              "      )\n",
              "      (9): BertLayer(\n",
              "        (attention): BertAttention(\n",
              "          (self): BertSelfAttention(\n",
              "            (query): Linear(in_features=768, out_features=768, bias=True)\n",
              "            (key): Linear(in_features=768, out_features=768, bias=True)\n",
              "            (value): Linear(in_features=768, out_features=768, bias=True)\n",
              "            (dropout): Dropout(p=0.1, inplace=False)\n",
              "          )\n",
              "          (output): BertSelfOutput(\n",
              "            (dense): Linear(in_features=768, out_features=768, bias=True)\n",
              "            (LayerNorm): LayerNorm((768,), eps=1e-12, elementwise_affine=True)\n",
              "            (dropout): Dropout(p=0.1, inplace=False)\n",
              "          )\n",
              "        )\n",
              "        (intermediate): BertIntermediate(\n",
              "          (dense): Linear(in_features=768, out_features=3072, bias=True)\n",
              "        )\n",
              "        (output): BertOutput(\n",
              "          (dense): Linear(in_features=3072, out_features=768, bias=True)\n",
              "          (LayerNorm): LayerNorm((768,), eps=1e-12, elementwise_affine=True)\n",
              "          (dropout): Dropout(p=0.1, inplace=False)\n",
              "        )\n",
              "      )\n",
              "      (10): BertLayer(\n",
              "        (attention): BertAttention(\n",
              "          (self): BertSelfAttention(\n",
              "            (query): Linear(in_features=768, out_features=768, bias=True)\n",
              "            (key): Linear(in_features=768, out_features=768, bias=True)\n",
              "            (value): Linear(in_features=768, out_features=768, bias=True)\n",
              "            (dropout): Dropout(p=0.1, inplace=False)\n",
              "          )\n",
              "          (output): BertSelfOutput(\n",
              "            (dense): Linear(in_features=768, out_features=768, bias=True)\n",
              "            (LayerNorm): LayerNorm((768,), eps=1e-12, elementwise_affine=True)\n",
              "            (dropout): Dropout(p=0.1, inplace=False)\n",
              "          )\n",
              "        )\n",
              "        (intermediate): BertIntermediate(\n",
              "          (dense): Linear(in_features=768, out_features=3072, bias=True)\n",
              "        )\n",
              "        (output): BertOutput(\n",
              "          (dense): Linear(in_features=3072, out_features=768, bias=True)\n",
              "          (LayerNorm): LayerNorm((768,), eps=1e-12, elementwise_affine=True)\n",
              "          (dropout): Dropout(p=0.1, inplace=False)\n",
              "        )\n",
              "      )\n",
              "      (11): BertLayer(\n",
              "        (attention): BertAttention(\n",
              "          (self): BertSelfAttention(\n",
              "            (query): Linear(in_features=768, out_features=768, bias=True)\n",
              "            (key): Linear(in_features=768, out_features=768, bias=True)\n",
              "            (value): Linear(in_features=768, out_features=768, bias=True)\n",
              "            (dropout): Dropout(p=0.1, inplace=False)\n",
              "          )\n",
              "          (output): BertSelfOutput(\n",
              "            (dense): Linear(in_features=768, out_features=768, bias=True)\n",
              "            (LayerNorm): LayerNorm((768,), eps=1e-12, elementwise_affine=True)\n",
              "            (dropout): Dropout(p=0.1, inplace=False)\n",
              "          )\n",
              "        )\n",
              "        (intermediate): BertIntermediate(\n",
              "          (dense): Linear(in_features=768, out_features=3072, bias=True)\n",
              "        )\n",
              "        (output): BertOutput(\n",
              "          (dense): Linear(in_features=3072, out_features=768, bias=True)\n",
              "          (LayerNorm): LayerNorm((768,), eps=1e-12, elementwise_affine=True)\n",
              "          (dropout): Dropout(p=0.1, inplace=False)\n",
              "        )\n",
              "      )\n",
              "    )\n",
              "  )\n",
              "  (pooler): BertPooler(\n",
              "    (dense): Linear(in_features=768, out_features=768, bias=True)\n",
              "    (activation): Tanh()\n",
              "  )\n",
              ")"
            ]
          },
          "metadata": {
            "tags": []
          },
          "execution_count": 32
        }
      ]
    },
    {
      "cell_type": "code",
      "metadata": {
        "id": "3oPoUnU_gJMy",
        "colab": {
          "base_uri": "https://localhost:8080/"
        },
        "outputId": "ce2d9ff9-9606-424a-b89a-f4976384d656"
      },
      "source": [
        "torch.cuda.is_available() "
      ],
      "execution_count": null,
      "outputs": [
        {
          "output_type": "execute_result",
          "data": {
            "text/plain": [
              "True"
            ]
          },
          "metadata": {
            "tags": []
          },
          "execution_count": 33
        }
      ]
    },
    {
      "cell_type": "code",
      "metadata": {
        "id": "8prRSrKBQ09-",
        "colab": {
          "base_uri": "https://localhost:8080/",
          "height": 66,
          "referenced_widgets": [
            "75b25d326a92404e96ecfea115ac654f",
            "ad063bcb4f9d44b487a350a02fe4ed14",
            "3550be3ce20a4ac399b4d46652559478",
            "01a24dd21096421f8ad2f3f5a49ad0e1",
            "bd199df85250456398e33380ab206a2f",
            "a4adb059469d4701830989cdecb34dd6",
            "0b5eea3216b14130b00014a0567576ac",
            "ce16b17836544e64b9d5a8abc56a9045"
          ]
        },
        "outputId": "e4483c71-a193-40d7-ac75-5066ae8a0337"
      },
      "source": [
        "from sklearn.cluster import AgglomerativeClustering\n",
        "import tqdm.notebook as tq\n",
        "import numpy as np\n",
        "\n",
        "def get_embeddings_batch(texts_batch, model, tokenizer, device, normalize_embeddings=False):\n",
        "    tokenized_texts = tokenizer(texts_batch, padding=True, truncation=True, return_tensors=\"pt\")\n",
        "    \n",
        "    tokenized_texts = {key: tokenized_texts[key].to(device) for key in tokenized_texts}\n",
        "    with torch.no_grad():\n",
        "        outputs = model(**tokenized_texts)\n",
        "        hidden_states = outputs[2]\n",
        "        last_layer = hidden_states[12]\n",
        "        if normalize_embeddings:\n",
        "            word_norms = last_layer.norm(p=2, dim=2, keepdim=True).expand_as(last_layer)\n",
        "            last_layer = last_layer.div(word_norms)\n",
        "        embeddings = torch.mean(last_layer, dim=1)\n",
        "        embeddings_cpu = embeddings.cpu()\n",
        "        return embeddings_cpu\n",
        "\n",
        "def get_embeddings(data, model, tokenizer, device, normalize_embeddings=False, mode=\"text\"):\n",
        "    embeddings = np.zeros((len(data.url2record), model.config.hidden_size))\n",
        "\n",
        "    idx2url = []\n",
        "    BATCH_SIZE = 100\n",
        "    url2record = list(data.url2record.items())\n",
        "    for i in tq.tqdm(range(0, len(url2record), BATCH_SIZE)):\n",
        "        RIGHT_BORDER = min(embeddings.shape[0], i + BATCH_SIZE)\n",
        "        url2record_batch = url2record[i:RIGHT_BORDER]\n",
        "        batch_texts = [record[\"text\"] for _, record in url2record_batch]\n",
        "\n",
        "        embeddings[i:RIGHT_BORDER] = get_embeddings_batch(batch_texts, model, tokenizer, device, normalize_embeddings)\n",
        "\n",
        "        idx2url.extend([url for url, _ in url2record_batch])\n",
        "    return embeddings, idx2url\n",
        "\n",
        "def do_clustering(clustering_model, embeddings, idx2url):\n",
        "    clustering_model.fit(embeddings)\n",
        "    labels = clustering_model.labels_\n",
        "\n",
        "    url2label = dict()\n",
        "    \n",
        "    max_label = max(labels)\n",
        "    for i, label in enumerate(labels):\n",
        "        url2label[idx2url[i]] = label\n",
        "    return url2label\n",
        "\n",
        "device = torch.device(\"cuda:0\" if torch.cuda.is_available() else \"cpu\")\n",
        "\n",
        "embeddings, idx2url = get_embeddings(data_train, model, tokenizer, device)"
      ],
      "execution_count": null,
      "outputs": [
        {
          "output_type": "display_data",
          "data": {
            "application/vnd.jupyter.widget-view+json": {
              "model_id": "75b25d326a92404e96ecfea115ac654f",
              "version_minor": 0,
              "version_major": 2
            },
            "text/plain": [
              "HBox(children=(FloatProgress(value=0.0, max=108.0), HTML(value='')))"
            ]
          },
          "metadata": {
            "tags": []
          }
        },
        {
          "output_type": "stream",
          "text": [
            "\n"
          ],
          "name": "stdout"
        }
      ]
    },
    {
      "cell_type": "code",
      "metadata": {
        "id": "PiZxXYoOVhC6",
        "colab": {
          "base_uri": "https://localhost:8080/",
          "height": 240,
          "referenced_widgets": [
            "6d7d159eba9d46c5b5c7327f2b009d38",
            "d905f2b62bac4d069d6f461c08abec82",
            "4addd4978fc14d09a96b8be1713ac498",
            "4e094d05cfd648a59af0b4a7687a040a",
            "8aa8377b4add470aa534a5b04df6742c",
            "5df80926e58a407cae215a378e321869",
            "d5ad700071d94923a581353601b8fb20",
            "58fdf3ccb8d4480ca20eee2edc703eff"
          ]
        },
        "outputId": "35e05d3e-0e02-4d0c-f92d-a2f264014a66"
      },
      "source": [
        "for dist in tq.tqdm(np.logspace(-2, 0, 10)):\n",
        "    clustering_model = AgglomerativeClustering(\n",
        "        n_clusters=None,\n",
        "        distance_threshold=dist,\n",
        "        linkage=\"single\",\n",
        "        affinity=\"cosine\"\n",
        "    )\n",
        "\n",
        "    url2label = do_clustering(clustering_model, embeddings, idx2url)\n",
        "    print(\"{}, dist={}\".format(calc_accuracy_score(markup_train.data, url2label), dist))"
      ],
      "execution_count": null,
      "outputs": [
        {
          "output_type": "display_data",
          "data": {
            "application/vnd.jupyter.widget-view+json": {
              "model_id": "6d7d159eba9d46c5b5c7327f2b009d38",
              "version_minor": 0,
              "version_major": 2
            },
            "text/plain": [
              "HBox(children=(FloatProgress(value=0.0, max=10.0), HTML(value='')))"
            ]
          },
          "metadata": {
            "tags": []
          }
        },
        {
          "output_type": "stream",
          "text": [
            "0.6057015920029619, dist=0.01\n",
            "0.6108848574601999, dist=0.016681005372000592\n",
            "0.618659755646057, dist=0.027825594022071243\n",
            "0.6301369863013698, dist=0.046415888336127774\n",
            "0.677156608663458, dist=0.0774263682681127\n",
            "0.6467974824139208, dist=0.1291549665014884\n",
            "0.4409477971121807, dist=0.21544346900318834\n",
            "0.41910403554239173, dist=0.3593813663804626\n",
            "0.4183635690485005, dist=0.5994842503189409\n",
            "0.4183635690485005, dist=1.0\n",
            "\n"
          ],
          "name": "stdout"
        }
      ]
    },
    {
      "cell_type": "code",
      "metadata": {
        "id": "ZPbS6kDRWZcV",
        "colab": {
          "base_uri": "https://localhost:8080/",
          "height": 66,
          "referenced_widgets": [
            "1bf95b71aafa44f8a7c167b04c5f1e21",
            "7abad8af38d54dff93df94195259df78",
            "96cfd23409764e8d817257927de02e56",
            "f933bd39aea642c5a5ae651408610c83",
            "3e4efbc283904137bce5c4b35f73cf66",
            "9c7d730eb88149be8ea61034b36fb901",
            "b57d30f149f8461290021a9befad15ea",
            "befd67ec4ec0442f9787fde1a7f66d39"
          ]
        },
        "outputId": "390f1e39-b192-4310-a184-8502ed5f00ce"
      },
      "source": [
        "embeddings, idx2url = get_embeddings(data_train, model, tokenizer, device, normalize_embeddings=True)"
      ],
      "execution_count": null,
      "outputs": [
        {
          "output_type": "display_data",
          "data": {
            "application/vnd.jupyter.widget-view+json": {
              "model_id": "1bf95b71aafa44f8a7c167b04c5f1e21",
              "version_minor": 0,
              "version_major": 2
            },
            "text/plain": [
              "HBox(children=(FloatProgress(value=0.0, max=108.0), HTML(value='')))"
            ]
          },
          "metadata": {
            "tags": []
          }
        },
        {
          "output_type": "stream",
          "text": [
            "\n"
          ],
          "name": "stdout"
        }
      ]
    },
    {
      "cell_type": "code",
      "metadata": {
        "id": "87sXiiQ9taCU",
        "colab": {
          "base_uri": "https://localhost:8080/",
          "height": 240,
          "referenced_widgets": [
            "e7e56719aa3c4c2b85f488dfa2c52f5c",
            "3ff4cc7e5fee491e959f0645b00d0a5a",
            "484d964967e64eed9ad28f1dcfcdea48",
            "e2c256e37ea242f3ab3c509a7a1b95c7",
            "e72db06d57d941bba505925c033b0cc6",
            "322712292185479eae84178adf4a4f22",
            "3981cb9cb2d7427999fd6647473e84bf",
            "ea6b63bf3cc941568ba7b85c89944ea6"
          ]
        },
        "outputId": "39a0f67d-2b43-4d1c-ace0-aad04e05b525"
      },
      "source": [
        "for dist in tq.tqdm(np.linspace(0.07, 0.2, 10)):\n",
        "    clustering_model = AgglomerativeClustering(\n",
        "        n_clusters=None,\n",
        "        distance_threshold=dist,\n",
        "        linkage=\"single\",\n",
        "        affinity=\"cosine\"\n",
        "    )\n",
        "\n",
        "    url2label = do_clustering(clustering_model, embeddings, idx2url)\n",
        "    print(\"{}, dist={}\".format(calc_accuracy_score(markup_train.data, url2label), dist))"
      ],
      "execution_count": null,
      "outputs": [
        {
          "output_type": "display_data",
          "data": {
            "application/vnd.jupyter.widget-view+json": {
              "model_id": "e7e56719aa3c4c2b85f488dfa2c52f5c",
              "version_minor": 0,
              "version_major": 2
            },
            "text/plain": [
              "HBox(children=(FloatProgress(value=0.0, max=10.0), HTML(value='')))"
            ]
          },
          "metadata": {
            "tags": []
          }
        },
        {
          "output_type": "stream",
          "text": [
            "0.6567937800814513, dist=0.07\n",
            "0.6764161421695668, dist=0.08444444444444445\n",
            "0.6993706034801925, dist=0.0988888888888889\n",
            "0.7141799333580156, dist=0.11333333333333334\n",
            "0.6864124398370973, dist=0.1277777777777778\n",
            "0.6053313587560163, dist=0.14222222222222225\n",
            "0.5594224361347649, dist=0.15666666666666668\n",
            "0.5186967789707516, dist=0.17111111111111113\n",
            "0.47649018881895594, dist=0.18555555555555558\n",
            "0.454646427249167, dist=0.2\n",
            "\n"
          ],
          "name": "stdout"
        }
      ]
    },
    {
      "cell_type": "code",
      "metadata": {
        "id": "ojDtmjCG0Jz9"
      },
      "source": [
        "del embeddings, idx2url"
      ],
      "execution_count": null,
      "outputs": []
    },
    {
      "cell_type": "markdown",
      "metadata": {
        "id": "Wv3vNKBvWxix"
      },
      "source": [
        "# Что ещё можно попробовать\n",
        "\n",
        "- заиспользовать заголовки\n",
        "- подобрать параметры кластеризации\n",
        "- покрутить fasttext\n",
        "- дообучить bert\n",
        "- посмотреть на другие алгоритмы кластеризации: dbscan, birch...\n",
        "- посмотреть на другие предобученные эмбэддинги\n",
        "и т.д.\n"
      ]
    }
  ]
}