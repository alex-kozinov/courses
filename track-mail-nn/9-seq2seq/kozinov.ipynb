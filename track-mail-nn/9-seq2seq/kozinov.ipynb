{
 "cells": [
  {
   "cell_type": "markdown",
   "metadata": {},
   "source": [
    "## Домашнее задание, вычисление аддитивного аттеншна"
   ]
  },
  {
   "cell_type": "markdown",
   "metadata": {},
   "source": [
    "готовый ноутбук слать на o.shlyazhko@corp.mail.ru с заголовком \"Домашнее задание по лекции seq2seq (Ваши Фамилия и Имя)\""
   ]
  },
  {
   "cell_type": "code",
   "execution_count": 67,
   "metadata": {},
   "outputs": [
    {
     "name": "stdout",
     "output_type": "stream",
     "text": [
      "CUDA\n"
     ]
    }
   ],
   "source": [
    "from tqdm import tqdm_notebook\n",
    "from io import open\n",
    "import unicodedata\n",
    "import string\n",
    "import re\n",
    "import random\n",
    "import time\n",
    "import math\n",
    "\n",
    "import matplotlib.pyplot as plt\n",
    "plt.switch_backend('agg')\n",
    "import matplotlib.ticker as ticker\n",
    "import numpy as np\n",
    "\n",
    "import torch\n",
    "import torch.nn as nn\n",
    "from torch import optim\n",
    "import torch.nn.functional as F\n",
    "\n",
    "if torch.cuda.is_available():\n",
    "    print('CUDA')\n",
    "device = torch.device(\"cuda\" if torch.cuda.is_available() else \"cpu\")\n",
    "\n",
    "filepath = 'data/rus_eng_small.txt'"
   ]
  },
  {
   "cell_type": "code",
   "execution_count": 68,
   "metadata": {},
   "outputs": [],
   "source": [
    "SOS_token = 0\n",
    "EOS_token = 1\n",
    "\n",
    "class Lang:\n",
    "    def __init__(self, name):\n",
    "        self.name = name\n",
    "        self.word2index = {}\n",
    "        self.word2count = {}\n",
    "        self.index2word = {SOS_token: \"SOS\", EOS_token: \"EOS\"}\n",
    "        self.n_words = len(self.index2word)\n",
    "\n",
    "    def addSentence(self, sentence):\n",
    "        for word in sentence.split(' '):\n",
    "            self.addWord(word)\n",
    "\n",
    "    def addWord(self, word):\n",
    "        if word not in self.word2index:\n",
    "            self.word2index[word] = self.n_words\n",
    "            self.word2count[word] = 1\n",
    "            self.index2word[self.n_words] = word\n",
    "            self.n_words += 1\n",
    "        else:\n",
    "            self.word2count[word] += 1"
   ]
  },
  {
   "cell_type": "code",
   "execution_count": 69,
   "metadata": {},
   "outputs": [
    {
     "name": "stdout",
     "output_type": "stream",
     "text": [
      "она экономически независима от своих родителей .\tshe is economically independent of her parents .\r\n",
      "она направила наши усилия в нужном направлении .\tshe steered our efforts in the right direction .\r\n",
      "на этом заводе производят телевизоры .\tthey are manufacturing tv sets in this factory .\r\n",
      "она всегда жалуется из за моей маленькой зарплаты .\tshe is always complaining about my small salary .\r\n",
      "они стоят там и едят чипсы .\tthey are standing there and eating potato chips .\r\n",
      "мне не удаётся скомпилировать эту программу .\ti m having some problems compiling this software .\r\n",
      "она улыбнулась в ответ на его нежный взгляд .\tshe smiled in response to his affectionate glance .\r\n",
      "она проводит каждое воскресенье со своей бабушкой .\tshe spends time with her grandmother every sunday .\r\n",
      "каждую субботу после обеда она играет в теннис .\tshe spends every saturday afternoon playing tennis .\r\n",
      "после аварии она перестала бывать на людях .\tshe stopped appearing in public after her accident .\r\n"
     ]
    }
   ],
   "source": [
    "!tail {filepath}"
   ]
  },
  {
   "cell_type": "code",
   "execution_count": 70,
   "metadata": {},
   "outputs": [],
   "source": [
    "def readLangs():\n",
    "    print(\"Loading dataset...\")\n",
    "    pairs = []\n",
    "    # Read the file and split into lines\n",
    "    with open(filepath) as f:\n",
    "        for l in tqdm_notebook(f):\n",
    "            pair = [s for s in l.rstrip('\\n').split('\\t')]\n",
    "            pairs.append(pair)\n",
    "\n",
    "    return Lang('rus'), Lang('eng'), pairs"
   ]
  },
  {
   "cell_type": "code",
   "execution_count": 71,
   "metadata": {},
   "outputs": [
    {
     "name": "stdout",
     "output_type": "stream",
     "text": [
      "Loading dataset...\n"
     ]
    },
    {
     "data": {
      "application/vnd.jupyter.widget-view+json": {
       "model_id": "e22227fee38f4b7b915405dd15fc1bd3",
       "version_major": 2,
       "version_minor": 0
      },
      "text/plain": [
       "HBox(children=(IntProgress(value=1, bar_style='info', max=1), HTML(value='')))"
      ]
     },
     "metadata": {},
     "output_type": "display_data"
    },
    {
     "name": "stdout",
     "output_type": "stream",
     "text": [
      "\n",
      "Read 19288 sentence pairs\n",
      "Counting words...\n",
      "Counted words:\n",
      "rus 8960\n",
      "eng 3914\n",
      "['мы сейчас ничего не делаем .', 'we re not doing anything now .']\n"
     ]
    }
   ],
   "source": [
    "def prepareData():\n",
    "    input_lang, output_lang, pairs = readLangs()\n",
    "    print(\"Read %s sentence pairs\" % len(pairs))\n",
    "    print(\"Counting words...\")\n",
    "    for pair in pairs:\n",
    "        input_lang.addSentence(pair[0])\n",
    "        output_lang.addSentence(pair[1])\n",
    "    print(\"Counted words:\")\n",
    "    print(input_lang.name, input_lang.n_words)\n",
    "    print(output_lang.name, output_lang.n_words)\n",
    "    return input_lang, output_lang, pairs\n",
    "\n",
    "\n",
    "input_lang, output_lang, pairs = prepareData()\n",
    "MAX_LENGTH = 10\n",
    "print(random.choice(pairs))"
   ]
  },
  {
   "cell_type": "code",
   "execution_count": 72,
   "metadata": {},
   "outputs": [],
   "source": [
    "def indexesFromSentence(lang, sentence):\n",
    "    return [lang.word2index[word] for word in sentence.split(' ')]\n",
    "\n",
    "\n",
    "def tensorFromSentence(lang, sentence):\n",
    "    indexes = indexesFromSentence(lang, sentence)\n",
    "    indexes.append(EOS_token)\n",
    "    return torch.tensor(indexes, dtype=torch.long, device=device).view(-1, 1)\n",
    "\n",
    "\n",
    "def tensorsFromPair(pair):\n",
    "    input_tensor = tensorFromSentence(input_lang, pair[0])\n",
    "    target_tensor = tensorFromSentence(output_lang, pair[1])\n",
    "    return (input_tensor, target_tensor)"
   ]
  },
  {
   "cell_type": "code",
   "execution_count": 73,
   "metadata": {},
   "outputs": [],
   "source": [
    "class EncoderRNN(nn.Module):\n",
    "    def __init__(self, input_size, nlayers, hidden_size):\n",
    "        super().__init__()\n",
    "        self.hidden_size = hidden_size\n",
    "        self.nlayers = nlayers\n",
    "\n",
    "        self.embedding = nn.Embedding(input_size, hidden_size)\n",
    "        self.rnn = nn.LSTM(hidden_size, hidden_size, nlayers)\n",
    "\n",
    "    def forward(self, x, hidden):\n",
    "        embedded = self.embedding(x)\n",
    "        output, hidden = self.rnn(embedded, hidden)\n",
    "        return output, hidden\n",
    "\n",
    "    def initHidden(self):\n",
    "        return torch.zeros(self.nlayers, 1, self.hidden_size, device=device), \\\n",
    "               torch.zeros(self.nlayers, 1, self.hidden_size, device=device)"
   ]
  },
  {
   "cell_type": "markdown",
   "metadata": {},
   "source": [
    "## Заполните метод вычисления аддитивного аттеншна в ячейке ниже."
   ]
  },
  {
   "cell_type": "markdown",
   "metadata": {},
   "source": [
    "готовый ноутбук слать на o.shlyazhko@corp.mail.ru с заголовком \"Домашнее задание по лекции seq2seq (Ваши Фамилия и Имя)\""
   ]
  },
  {
   "cell_type": "code",
   "execution_count": 74,
   "metadata": {},
   "outputs": [],
   "source": [
    "class AttnDecoder(nn.Module):\n",
    "    \"\"\"\n",
    "    Декодер с механизмом внимания dot-product attention\n",
    "    T1 - шаги входной последовательности\n",
    "    T2 - шаги выходной последовательности\n",
    "    \"\"\"\n",
    "    def __init__(self, hidden_size, nlayers, output_size):\n",
    "        \"\"\"\n",
    "        :param hidden_size - размер вектора состояния рекуррентного слоя\n",
    "        :param nlayers - число рекуррентных слоев\n",
    "        :param output_size - размер словаря выходных текстов\n",
    "        \"\"\"\n",
    "        super().__init__()\n",
    "        self.hidden_size = hidden_size\n",
    "        self.nlayers = nlayers\n",
    "        self.output_size = output_size\n",
    "\n",
    "        self.embedding = nn.Embedding(self.output_size, self.hidden_size)\n",
    "        self.attn_combine = nn.Linear(self.hidden_size * 2, self.hidden_size)\n",
    "        \n",
    "        # !!! Define layers needed for additive attention here\n",
    "        self.Va = nn.Linear(self.hidden_size, 1)\n",
    "        self.Wa = nn.Linear(self.hidden_size * 2, self.hidden_size)\n",
    "        \n",
    "        self.tanh = nn.Tanh()\n",
    "        self.rnn = nn.LSTM(self.hidden_size, self.hidden_size, nlayers)\n",
    "        self.out = nn.Linear(self.hidden_size, self.output_size)\n",
    "        \n",
    "\n",
    "    def forward(self, x, hidden, encoder_outputs):\n",
    "        \"\"\"\n",
    "        :param x: [T2,B] - входной тензор с предыдущими словами размерностью timestep на batch\n",
    "        :param hidden [1, B, C] - состояние рнн слоя\n",
    "        :param encoder_outputs [T1,B,C] - выходы всех шагов энкодера\n",
    "        :return output: [T2,B,C], hidden - С=hidden_size, возвращается только последний hidden state\n",
    "        \"\"\"\n",
    "        embedded = self.embedding(x) # [T2,B,C]\n",
    "        encoder_outputs = encoder_outputs.transpose(0, 1) # [B,T1,C]\n",
    "        outputs = []\n",
    "        \n",
    "        for i in range(x.size(0)):\n",
    "            h_t = hidden[0].transpose(0, 1).transpose(1, -1) # [B, C, 1]\n",
    "\n",
    "            context, attn_weights = self.attention(encoder_outputs, h_t)\n",
    "        \n",
    "            e = embedded[i].unsqueeze(0)\n",
    "            output = torch.cat((e, context), dim=-1) # [[B,1,C];[B,1,C]] -> [B,1,C*2]\n",
    "            output = self.attn_combine(output).transpose(0,1) # [B,1,C*2] * [C*2,C] = [B,1,C] -transpose-> [1,B,C]\n",
    "            output = F.relu(output)\n",
    "            output, hidden = self.rnn(output, hidden)\n",
    "\n",
    "            logits = self.out(output)\n",
    "            output = F.log_softmax(logits, dim=-1)\n",
    "            outputs.append(output)\n",
    "            \n",
    "        output = torch.cat(outputs, dim=0)\n",
    "        return output, hidden, attn_weights\n",
    "\n",
    "    def attention(self, encoder_outputs, h):\n",
    "        T1 = encoder_outputs.shape[1]\n",
    "        \n",
    "        # Конкетинируем вектор h и s (encoder_output)\n",
    "        h_with_s = torch.cat((h.permute(0,2,1).repeat(1,T1,1),\n",
    "                      encoder_outputs), dim=2)\n",
    "        \n",
    "        # Подсчитываем вектор карты внимания\n",
    "        e_i = self.Va(F.tanh(self.Wa(h_with_s)))\n",
    "        \n",
    "        # Получаем соответсвующие вероятности\n",
    "        a_i = F.softmax(e_i, dim=-2)\n",
    "        \n",
    "        # Вычисляем вектор контекста\n",
    "        c_i = torch.bmm(a_i.transpose(1, -1), encoder_outputs)\n",
    "        return c_i, a_i"
   ]
  },
  {
   "cell_type": "code",
   "execution_count": 75,
   "metadata": {},
   "outputs": [],
   "source": [
    "def train(input_tensor, target_tensor, \n",
    "          encoder, decoder, \n",
    "          optimizer,  criterion, max_length=MAX_LENGTH):\n",
    "    \n",
    "    encoder_hidden = encoder.initHidden()\n",
    "\n",
    "    optimizer.zero_grad()\n",
    "\n",
    "    input_length = input_tensor.size(0)\n",
    "    target_length = target_tensor.size(0)\n",
    "\n",
    "    loss = 0\n",
    "\n",
    "    encoder_outputs, encoder_hidden = encoder(input_tensor, encoder_hidden)\n",
    "\n",
    "    decoder_input = torch.tensor([[SOS_token]], device=device)\n",
    "\n",
    "    decoder_hidden = encoder_hidden\n",
    "    \n",
    "    if teacher_forcing_ratio == 1.: # use fast parallel mode\n",
    "        decoder_input = torch.cat([decoder_input, target_tensor[:-1]], dim=0)\n",
    "        decoder_outputs, decoder_hidden, decoder_attention = decoder(decoder_input, decoder_hidden, encoder_outputs)\n",
    "        decoder_outputs = decoder_outputs.squeeze()\n",
    "        loss += criterion(decoder_outputs, target_tensor.squeeze())\n",
    "        loss_value = loss.item()\n",
    "    else:\n",
    "        for di in range(target_length):\n",
    "            use_teacher_forcing = True if random.random() < teacher_forcing_ratio else False\n",
    "            decoder_output, decoder_hidden, decoder_attention = decoder(decoder_input, decoder_hidden, encoder_outputs)\n",
    "            decoder_output = decoder_output.view(decoder_output.size(0), -1)\n",
    "            loss += criterion(decoder_output, target_tensor[di])\n",
    "            if use_teacher_forcing:\n",
    "                decoder_input = target_tensor[di].unsqueeze(0)  # Teacher forcing\n",
    "            else:\n",
    "                topv, topi = decoder_output.topk(1)\n",
    "                decoder_input = topi.detach()\n",
    "        loss_value =  loss.item() / target_length\n",
    "\n",
    "    loss.backward()\n",
    "\n",
    "    optimizer.step()\n",
    "\n",
    "    return loss_value"
   ]
  },
  {
   "cell_type": "code",
   "execution_count": 76,
   "metadata": {},
   "outputs": [],
   "source": [
    "def as_minutes(s):\n",
    "    m = math.floor(s / 60)\n",
    "    s -= m * 60\n",
    "    return '%dm %ds' % (m, s)\n",
    "\n",
    "def time_since(since, percent):\n",
    "    now = time.time()\n",
    "    s = now - since\n",
    "    es = s / (percent)\n",
    "    rs = es - s\n",
    "    return '%s (- %s)' % (as_minutes(s), as_minutes(rs))"
   ]
  },
  {
   "cell_type": "code",
   "execution_count": 77,
   "metadata": {},
   "outputs": [],
   "source": [
    "def show_plot(points):\n",
    "    plt.figure()\n",
    "    fig, ax = plt.subplots()\n",
    "    # this locator puts ticks at regular intervals\n",
    "    loc = ticker.MultipleLocator(base=0.2)\n",
    "    ax.yaxis.set_major_locator(loc)\n",
    "    plt.plot(points)"
   ]
  },
  {
   "cell_type": "code",
   "execution_count": 78,
   "metadata": {},
   "outputs": [],
   "source": [
    "def run_training(encoder, decoder, n_iters, print_every=1000, plot_every=100):\n",
    "    print('Train')\n",
    "    start = time.time()\n",
    "    plot_losses = []\n",
    "    print_loss_total = 0  # Reset every print_every\n",
    "    plot_loss_total = 0  # Reset every plot_every\n",
    "\n",
    "    for iter in range(1, n_iters + 1):\n",
    "        training_pair = training_pairs[iter - 1]\n",
    "        input_tensor = training_pair[0]\n",
    "        target_tensor = training_pair[1]\n",
    "\n",
    "        loss = train(input_tensor, target_tensor, encoder, decoder, optimizer, criterion)\n",
    "        print_loss_total += loss\n",
    "        plot_loss_total += loss\n",
    "\n",
    "        if iter % print_every == 0:\n",
    "            print_loss_avg = print_loss_total / print_every\n",
    "            print_loss_total = 0\n",
    "            dt = time_since(start, iter / n_iters)\n",
    "            print('%s (%d %d%%) %.4f' % (dt, iter, iter / n_iters * 100, print_loss_avg))\n",
    "\n",
    "        if iter % plot_every == 0:\n",
    "            plot_loss_avg = plot_loss_total / plot_every\n",
    "            plot_losses.append(plot_loss_avg)\n",
    "            plot_loss_total = 0\n",
    "\n",
    "    show_plot(plot_losses)"
   ]
  },
  {
   "cell_type": "code",
   "execution_count": 79,
   "metadata": {},
   "outputs": [],
   "source": [
    "def evaluate(encoder, decoder, sentence, max_length=MAX_LENGTH):\n",
    "    with torch.no_grad():\n",
    "        input_tensor = tensorFromSentence(input_lang, sentence)\n",
    "        input_length = input_tensor.size()[0]\n",
    "        \n",
    "        encoder_hidden = encoder.initHidden()\n",
    "        encoder_outputs, encoder_hidden = encoder(input_tensor, encoder_hidden)\n",
    "\n",
    "        decoder_input = torch.tensor([[SOS_token]], device=device)\n",
    "        decoder_hidden = encoder_hidden # STATE TRANSFER\n",
    "    \n",
    "        decoded_words = []\n",
    "        decoder_attentions = []\n",
    "        for di in range(max_length):\n",
    "            use_teacher_forcing = True if random.random() < teacher_forcing_ratio else False\n",
    "            decoder_output, decoder_hidden, decoder_attention = decoder(decoder_input, decoder_hidden, encoder_outputs)\n",
    "            decoder_attentions.append(decoder_attention)\n",
    "            decoder_output = decoder_output.view(decoder_output.size(0), -1)\n",
    "            topv, topi = decoder_output.topk(1)\n",
    "            decoder_input = topi.detach()\n",
    "            if topi.item() == EOS_token:\n",
    "                break\n",
    "            word = output_lang.index2word[topi.item()]\n",
    "            decoded_words.append(word)\n",
    "\n",
    "        return decoded_words, decoder_attentions"
   ]
  },
  {
   "cell_type": "code",
   "execution_count": 80,
   "metadata": {},
   "outputs": [],
   "source": [
    "def evaluate_randomly(encoder, decoder, n=10):\n",
    "    for i in range(n):\n",
    "        pair = random.choice(pairs)\n",
    "        print('>', pair[0])\n",
    "        print('=', pair[1])\n",
    "        output_words, attentions = evaluate(encoder, decoder, pair[0])\n",
    "        output_sentence = ' '.join(output_words)\n",
    "        print('<', output_sentence)\n",
    "        print('')"
   ]
  },
  {
   "cell_type": "code",
   "execution_count": 81,
   "metadata": {},
   "outputs": [
    {
     "data": {
      "application/vnd.jupyter.widget-view+json": {
       "model_id": "f9cf47d466cb4c92bbc30908252c9564",
       "version_major": 2,
       "version_minor": 0
      },
      "text/plain": [
       "HBox(children=(IntProgress(value=0, description='prepare set', max=10000, style=ProgressStyle(description_widt…"
      ]
     },
     "metadata": {},
     "output_type": "display_data"
    },
    {
     "name": "stdout",
     "output_type": "stream",
     "text": [
      "\n"
     ]
    }
   ],
   "source": [
    "n_iters=10000\n",
    "training_pairs = [tensorsFromPair(random.choice(pairs)) for i in tqdm_notebook(range(n_iters), desc='prepare set')]"
   ]
  },
  {
   "cell_type": "code",
   "execution_count": 82,
   "metadata": {},
   "outputs": [],
   "source": [
    "hidden_size = 256\n",
    "encoder = EncoderRNN(input_lang.n_words, 1, hidden_size).to(device)\n",
    "decoder = AttnDecoder(hidden_size, 1, output_lang.n_words).to(device)"
   ]
  },
  {
   "cell_type": "code",
   "execution_count": 83,
   "metadata": {},
   "outputs": [],
   "source": [
    "teacher_forcing_ratio = 1.\n",
    "learning_rate=0.001\n",
    "optimizer = optim.Adam(list(encoder.parameters())+list(decoder.parameters()), lr=learning_rate)\n",
    "criterion = nn.NLLLoss()"
   ]
  },
  {
   "cell_type": "markdown",
   "metadata": {},
   "source": [
    "### Не забудьте запустить тренировку в ячейке ниже, а затем и evaluation"
   ]
  },
  {
   "cell_type": "code",
   "execution_count": 84,
   "metadata": {
    "scrolled": false
   },
   "outputs": [
    {
     "name": "stdout",
     "output_type": "stream",
     "text": [
      "Train\n"
     ]
    },
    {
     "name": "stderr",
     "output_type": "stream",
     "text": [
      "/home/alexey.kozinov/anaconda3/lib/python3.6/site-packages/torch/nn/functional.py:1320: UserWarning: nn.functional.tanh is deprecated. Use torch.tanh instead.\n",
      "  warnings.warn(\"nn.functional.tanh is deprecated. Use torch.tanh instead.\")\n"
     ]
    },
    {
     "name": "stdout",
     "output_type": "stream",
     "text": [
      "0m 3s (- 5m 39s) (100 1%) 4.5385\n",
      "0m 6s (- 5m 42s) (200 2%) 3.6504\n",
      "0m 10s (- 5m 45s) (300 3%) 3.4420\n",
      "0m 14s (- 5m 41s) (400 4%) 3.2795\n",
      "0m 16s (- 5m 14s) (500 5%) 3.1464\n",
      "0m 18s (- 4m 49s) (600 6%) 2.9995\n",
      "0m 20s (- 4m 29s) (700 7%) 2.9686\n",
      "0m 22s (- 4m 13s) (800 8%) 2.9804\n",
      "0m 23s (- 4m 0s) (900 9%) 2.8172\n",
      "0m 25s (- 3m 49s) (1000 10%) 2.8716\n",
      "0m 27s (- 3m 39s) (1100 11%) 2.8253\n",
      "0m 28s (- 3m 31s) (1200 12%) 2.6154\n",
      "0m 30s (- 3m 27s) (1300 13%) 2.7967\n",
      "0m 33s (- 3m 24s) (1400 14%) 2.8961\n",
      "0m 35s (- 3m 20s) (1500 15%) 2.6887\n",
      "0m 37s (- 3m 17s) (1600 16%) 2.6660\n",
      "0m 40s (- 3m 17s) (1700 17%) 2.6621\n",
      "0m 42s (- 3m 14s) (1800 18%) 2.7109\n",
      "0m 45s (- 3m 12s) (1900 19%) 2.6584\n",
      "0m 48s (- 3m 15s) (2000 20%) 2.6821\n",
      "0m 52s (- 3m 16s) (2100 21%) 2.5819\n",
      "0m 55s (- 3m 18s) (2200 22%) 2.5580\n",
      "0m 59s (- 3m 18s) (2300 23%) 2.6763\n",
      "1m 1s (- 3m 15s) (2400 24%) 2.6360\n",
      "1m 3s (- 3m 11s) (2500 25%) 2.4986\n",
      "1m 5s (- 3m 7s) (2600 26%) 2.5925\n",
      "1m 8s (- 3m 4s) (2700 27%) 2.5518\n",
      "1m 10s (- 3m 0s) (2800 28%) 2.6532\n",
      "1m 12s (- 2m 57s) (2900 28%) 2.6107\n",
      "1m 15s (- 2m 56s) (3000 30%) 2.3590\n",
      "1m 19s (- 2m 56s) (3100 31%) 2.6213\n",
      "1m 22s (- 2m 55s) (3200 32%) 2.4353\n",
      "1m 26s (- 2m 54s) (3300 33%) 2.4977\n",
      "1m 29s (- 2m 53s) (3400 34%) 2.6245\n",
      "1m 32s (- 2m 52s) (3500 35%) 2.4259\n",
      "1m 35s (- 2m 49s) (3600 36%) 2.4256\n",
      "1m 38s (- 2m 47s) (3700 37%) 2.5499\n",
      "1m 41s (- 2m 45s) (3800 38%) 2.3578\n",
      "1m 45s (- 2m 44s) (3900 39%) 2.4013\n",
      "1m 48s (- 2m 42s) (4000 40%) 2.2935\n",
      "1m 51s (- 2m 39s) (4100 41%) 2.3291\n",
      "1m 53s (- 2m 36s) (4200 42%) 2.4022\n",
      "1m 56s (- 2m 34s) (4300 43%) 2.4809\n",
      "1m 59s (- 2m 32s) (4400 44%) 2.3384\n",
      "2m 3s (- 2m 30s) (4500 45%) 2.3318\n",
      "2m 6s (- 2m 28s) (4600 46%) 2.2628\n",
      "2m 10s (- 2m 26s) (4700 47%) 2.3190\n",
      "2m 13s (- 2m 24s) (4800 48%) 2.3340\n",
      "2m 17s (- 2m 22s) (4900 49%) 2.3686\n",
      "2m 19s (- 2m 19s) (5000 50%) 2.4521\n",
      "2m 22s (- 2m 16s) (5100 51%) 2.3179\n",
      "2m 24s (- 2m 13s) (5200 52%) 2.3050\n",
      "2m 27s (- 2m 10s) (5300 53%) 2.3629\n",
      "2m 31s (- 2m 8s) (5400 54%) 2.4575\n",
      "2m 34s (- 2m 6s) (5500 55%) 2.2243\n",
      "2m 38s (- 2m 4s) (5600 56%) 2.3666\n",
      "2m 41s (- 2m 1s) (5700 56%) 2.2279\n",
      "2m 44s (- 1m 59s) (5800 57%) 2.1048\n",
      "2m 48s (- 1m 56s) (5900 59%) 2.3249\n",
      "2m 51s (- 1m 54s) (6000 60%) 2.0336\n",
      "2m 54s (- 1m 51s) (6100 61%) 2.2979\n",
      "2m 58s (- 1m 49s) (6200 62%) 2.1982\n",
      "3m 1s (- 1m 46s) (6300 63%) 2.1424\n",
      "3m 5s (- 1m 44s) (6400 64%) 2.1997\n",
      "3m 8s (- 1m 41s) (6500 65%) 2.3156\n",
      "3m 12s (- 1m 39s) (6600 66%) 2.0811\n",
      "3m 15s (- 1m 36s) (6700 67%) 2.2066\n",
      "3m 17s (- 1m 33s) (6800 68%) 2.3837\n",
      "3m 21s (- 1m 30s) (6900 69%) 2.3637\n",
      "3m 23s (- 1m 27s) (7000 70%) 2.2254\n",
      "3m 26s (- 1m 24s) (7100 71%) 2.0797\n",
      "3m 29s (- 1m 21s) (7200 72%) 2.0715\n",
      "3m 32s (- 1m 18s) (7300 73%) 2.1896\n",
      "3m 35s (- 1m 15s) (7400 74%) 2.1689\n",
      "3m 38s (- 1m 12s) (7500 75%) 2.0662\n",
      "3m 41s (- 1m 9s) (7600 76%) 2.2609\n",
      "3m 43s (- 1m 6s) (7700 77%) 2.0749\n",
      "3m 46s (- 1m 3s) (7800 78%) 2.1292\n",
      "3m 49s (- 1m 1s) (7900 79%) 2.0671\n",
      "3m 51s (- 0m 57s) (8000 80%) 2.0556\n",
      "3m 54s (- 0m 55s) (8100 81%) 2.3753\n",
      "3m 57s (- 0m 52s) (8200 82%) 2.1166\n",
      "3m 59s (- 0m 49s) (8300 83%) 2.1682\n",
      "4m 2s (- 0m 46s) (8400 84%) 2.2617\n",
      "4m 5s (- 0m 43s) (8500 85%) 2.0975\n",
      "4m 8s (- 0m 40s) (8600 86%) 2.0216\n",
      "4m 11s (- 0m 37s) (8700 87%) 1.9989\n",
      "4m 14s (- 0m 34s) (8800 88%) 2.1977\n",
      "4m 17s (- 0m 31s) (8900 89%) 2.0453\n",
      "4m 20s (- 0m 28s) (9000 90%) 1.9773\n",
      "4m 23s (- 0m 26s) (9100 91%) 2.1019\n",
      "4m 26s (- 0m 23s) (9200 92%) 2.0876\n",
      "4m 30s (- 0m 20s) (9300 93%) 2.1366\n",
      "4m 33s (- 0m 17s) (9400 94%) 2.0021\n",
      "4m 35s (- 0m 14s) (9500 95%) 1.9537\n",
      "4m 39s (- 0m 11s) (9600 96%) 2.1283\n",
      "4m 41s (- 0m 8s) (9700 97%) 2.1054\n",
      "4m 44s (- 0m 5s) (9800 98%) 1.9318\n",
      "4m 46s (- 0m 2s) (9900 99%) 2.2936\n",
      "4m 48s (- 0m 0s) (10000 100%) 1.9377\n"
     ]
    },
    {
     "data": {
      "text/plain": [
       "<Figure size 432x288 with 0 Axes>"
      ]
     },
     "metadata": {},
     "output_type": "display_data"
    },
    {
     "data": {
      "image/png": "[encoded data removed]",
      "text/plain": [
       "<Figure size 432x288 with 1 Axes>"
      ]
     },
     "metadata": {},
     "output_type": "display_data"
    }
   ],
   "source": [
    "run_training(encoder, decoder, n_iters, print_every=100)"
   ]
  },
  {
   "cell_type": "code",
   "execution_count": 85,
   "metadata": {},
   "outputs": [
    {
     "name": "stdout",
     "output_type": "stream",
     "text": [
      "> вы заблудились, да ?\n",
      "= you re lost, aren t you ?\n",
      "< you are you ?\n",
      "\n",
      "> я не силён .\n",
      "= i m not strong .\n",
      "< i m not a child .\n",
      "\n",
      "> мне жаль, что ты проиграл .\n",
      "= i m sorry you lost .\n",
      "< i m glad i did you .\n",
      "\n",
      "> я беру это .\n",
      "= i m taking this one .\n",
      "< i m going to go .\n",
      "\n",
      "> я даже не устала .\n",
      "= i m not even tired .\n",
      "< i m not going to help .\n",
      "\n",
      "> ты для этого слишком мал .\n",
      "= you re too young for that .\n",
      "< you re too old .\n",
      "\n",
      "> они приезжают .\n",
      "= they re coming .\n",
      "< they re rich .\n",
      "\n",
      "> я так же силён, как и раньше .\n",
      "= i m as strong as before .\n",
      "< i m so tired of his own .\n",
      "\n",
      "> ты врач .\n",
      "= you re the doctor .\n",
      "< you re a fraud .\n",
      "\n",
      "> я рад, что ты не пострадал .\n",
      "= i m glad you didn t get injured .\n",
      "< i m glad you asked that .\n",
      "\n"
     ]
    },
    {
     "name": "stderr",
     "output_type": "stream",
     "text": [
      "/home/alexey.kozinov/anaconda3/lib/python3.6/site-packages/torch/nn/functional.py:1320: UserWarning: nn.functional.tanh is deprecated. Use torch.tanh instead.\n",
      "  warnings.warn(\"nn.functional.tanh is deprecated. Use torch.tanh instead.\")\n"
     ]
    }
   ],
   "source": [
    "evaluate_randomly(encoder, decoder)"
   ]
  },
  {
   "cell_type": "code",
   "execution_count": 86,
   "metadata": {
    "scrolled": false
   },
   "outputs": [
    {
     "name": "stdout",
     "output_type": "stream",
     "text": [
      "input = я очень осторожна .\n",
      "output = i m very proud .\n",
      "input = они всё ещё живут со своими родителями .\n",
      "output = they re still doing this hope .\n"
     ]
    },
    {
     "name": "stderr",
     "output_type": "stream",
     "text": [
      "/home/alexey.kozinov/anaconda3/lib/python3.6/site-packages/torch/nn/functional.py:1320: UserWarning: nn.functional.tanh is deprecated. Use torch.tanh instead.\n",
      "  warnings.warn(\"nn.functional.tanh is deprecated. Use torch.tanh instead.\")\n"
     ]
    },
    {
     "data": {
      "image/png": "[encoded data removed]",
      "text/plain": [
       "<Figure size 432x288 with 2 Axes>"
      ]
     },
     "metadata": {},
     "output_type": "display_data"
    },
    {
     "data": {
      "image/png": "[encoded data removed]",
      "text/plain": [
       "<Figure size 432x288 with 2 Axes>"
      ]
     },
     "metadata": {},
     "output_type": "display_data"
    }
   ],
   "source": [
    "def showAttention(input_sentence, output_words, attentions):\n",
    "    # Set up figure with colorbar\n",
    "    fig = plt.figure()\n",
    "    ax = fig.add_subplot(111)\n",
    "    cax = ax.matshow(attentions.numpy(), cmap='bone')\n",
    "    fig.colorbar(cax)\n",
    "\n",
    "    # Set up axes\n",
    "    ax.set_yticklabels([''] + input_sentence.split(' ') +\n",
    "                       ['<EOS>'], rotation=90)\n",
    "    ax.set_xticklabels([''] + output_words)\n",
    "\n",
    "    # Show label at every tick\n",
    "    ax.xaxis.set_major_locator(ticker.MultipleLocator(1))\n",
    "    ax.yaxis.set_major_locator(ticker.MultipleLocator(1))\n",
    "\n",
    "    plt.show()\n",
    "\n",
    "\n",
    "def evaluateAndShowAttention(input_sentence):\n",
    "    output_words, attentions = evaluate(encoder, decoder, input_sentence)\n",
    "    attentions = torch.cat(attentions).squeeze().cpu()\n",
    "    print('input =', input_sentence)\n",
    "    print('output =', ' '.join(output_words))\n",
    "    showAttention(input_sentence, output_words, attentions)\n",
    "\n",
    "\n",
    "evaluateAndShowAttention(\"я очень осторожна .\")\n",
    "evaluateAndShowAttention(\"они всё ещё живут со своими родителями .\")"
   ]
  },
  {
   "cell_type": "code",
   "execution_count": null,
   "metadata": {},
   "outputs": [],
   "source": []
  },
  {
   "cell_type": "code",
   "execution_count": null,
   "metadata": {},
   "outputs": [],
   "source": []
  },
  {
   "cell_type": "code",
   "execution_count": null,
   "metadata": {},
   "outputs": [],
   "source": []
  }
 ],
 "metadata": {
  "kernelspec": {
   "display_name": "Python 3",
   "language": "python",
   "name": "python3"
  },
  "language_info": {
   "codemirror_mode": {
    "name": "ipython",
    "version": 3
   },
   "file_extension": ".py",
   "mimetype": "text/x-python",
   "name": "python",
   "nbconvert_exporter": "python",
   "pygments_lexer": "ipython3",
   "version": "3.6.5"
  }
 },
 "nbformat": 4,
 "nbformat_minor": 2
}
