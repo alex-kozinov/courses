{
 "cells": [
  {
   "cell_type": "code",
   "execution_count": 28,
   "metadata": {},
   "outputs": [],
   "source": [
    "import pickle\n",
    "import numpy as np\n",
    "import PIL.Image\n",
    "import itertools\n",
    "from IPython.core.display import Image, display\n",
    "import scipy.ndimage\n",
    "import random\n",
    "import numpy as np\n",
    "import matplotlib.pylab as plt\n",
    "import math\n",
    "import tqdm\n",
    "import time\n",
    "from sklearn import model_selection\n",
    "from sklearn.preprocessing import PolynomialFeatures, StandardScaler\n",
    "from sklearn.base import BaseEstimator, ClassifierMixin\n",
    "import zipfile\n",
    "\n",
    "%matplotlib inline"
   ]
  },
  {
   "cell_type": "markdown",
   "metadata": {
    "collapsed": true
   },
   "source": [
    "# Загружаем датасет"
   ]
  },
  {
   "cell_type": "code",
   "execution_count": 14,
   "metadata": {},
   "outputs": [
    {
     "name": "stdout",
     "output_type": "stream",
     "text": [
      "Warning: Your Kaggle API key is readable by other users on this system! To fix this, you can run 'chmod 600 /home/alex-kozinov/.kaggle/kaggle.json'\n",
      "01_Homework_Template.ipynb: Skipping, found more recently modified local copy (use --force to force download)\n",
      "sample_solution_random.csv: Skipping, found more recently modified local copy (use --force to force download)\n",
      "Downloading hw_1_test_no_lables.pickle.zip to /home/alex-kozinov/programming/studying/neural-networks/neural-networks/1-linear-models\n",
      "\n",
      "Downloading hw_1_train.pickle.zip to /home/alex-kozinov/programming/studying/neural-networks/neural-networks/1-linear-models\n",
      "\n",
      "Archive:  hw_1_train.pickle.zip\n",
      "  inflating: data/hw_1_train.pickle  \n",
      "Archive:  hw_1_test_no_lables.pickle.zip\n",
      "  inflating: data/hw_1_test_no_lables.pickle  \n"
     ]
    },
    {
     "name": "stderr",
     "output_type": "stream",
     "text": [
      "\r",
      "  0%|          | 0.00/531k [00:00<?, ?B/s]\r",
      "100%|██████████| 531k/531k [00:00<00:00, 3.06MB/s]\n",
      "\r",
      "  0%|          | 0.00/1.63M [00:00<?, ?B/s]\r",
      " 61%|██████▏   | 1.00M/1.63M [00:00<00:00, 3.93MB/s]\r",
      "100%|██████████| 1.63M/1.63M [00:00<00:00, 3.98MB/s]\n"
     ]
    }
   ],
   "source": [
    "%%bash\n",
    "kaggle competitions download -c 2019s-neuralnet-track\n",
    "unzip hw_1_train.pickle.zip          -d data/\n",
    "unzip hw_1_test_no_lables.pickle.zip -d data/"
   ]
  },
  {
   "cell_type": "code",
   "execution_count": 3,
   "metadata": {},
   "outputs": [],
   "source": [
    "with open('data/hw_1_train.pickle', 'rb') as f:\n",
    "    train = pickle.load(f)\n",
    "\n",
    "with open('data/hw_1_test_no_lables.pickle', 'rb') as f:\n",
    "    test_no_lables = pickle.load(f)"
   ]
  },
  {
   "cell_type": "code",
   "execution_count": 4,
   "metadata": {},
   "outputs": [
    {
     "data": {
      "image/png": "[encoded data removed]",
      "text/plain": [
       "<matplotlib.figure.Figure at 0x7f9ab60d5da0>"
      ]
     },
     "metadata": {},
     "output_type": "display_data"
    }
   ],
   "source": [
    "# Пример, как можно визуализировать данные\n",
    "plt.imshow(train['data'][5].reshape(28,28))\n",
    "plt.show()"
   ]
  },
  {
   "cell_type": "markdown",
   "metadata": {},
   "source": [
    "# Обучаем модель"
   ]
  },
  {
   "cell_type": "markdown",
   "metadata": {},
   "source": [
    "Реализуем класс логистической регрессии, который:\n",
    "* Нормирует входные данные (данную задачу не доверим пользователю)\n",
    "* Значение предсказаний равны 0 или 1 (Единица для первого класса)\n",
    "* Если задан параметр debug, то разделяет исходные данные на train и test. И функция fit возвращает сходимость функции потерь и точности, а именно четыре списка train_loss, train_acc, test_loss, train_acc"
   ]
  },
  {
   "cell_type": "code",
   "execution_count": 63,
   "metadata": {},
   "outputs": [
    {
     "data": {
      "text/plain": [
       "array([30])"
      ]
     },
     "execution_count": 63,
     "metadata": {},
     "output_type": "execute_result"
    }
   ],
   "source": [
    "A = np.arange(5)\n",
    "b = np.arange(5).reshape(1, -1)\n",
    "np.dot(A, b.T)"
   ]
  },
  {
   "cell_type": "code",
   "execution_count": 225,
   "metadata": {},
   "outputs": [],
   "source": [
    "class LogisticRegression():\n",
    "    def __init__(self, iter_num=10000, handle_step=100, grad_step=0.001, seed=113, tolerance=1e-15, eps=1e-5):\n",
    "        self._seed = seed\n",
    "        self._iter_num = iter_num\n",
    "        self._tolerance = tolerance\n",
    "        self._eps = eps\n",
    "        self._handle_step = handle_step\n",
    "        self._grad_step=grad_step\n",
    "        self._loss = [[], []]\n",
    "        self._acc = [[], []]\n",
    "        self._scalar = None\n",
    "        self._X = None\n",
    "        self._y = None\n",
    "        self._X_test = None\n",
    "        self._y_test = None\n",
    "        \n",
    "    def logistic_grad(self, w, i):\n",
    "        \"\"\"The gradient of the logistic loss function\n",
    "        \n",
    "        Keyword arguments:\n",
    "        \n",
    "        w --- point of coefficients\n",
    "        i --- magnitude of gradient on j-sample element\n",
    "        \"\"\"\n",
    "        assert(self._y.shape == (self._X.shape[0], 1))\n",
    "        assert(w.shape == (1, self._X.shape[1]))\n",
    "        \n",
    "        grad = 0\n",
    "        y = 2 * self._y - 1\n",
    "        grad = - y[i] * self._X[i] / \\\n",
    "                    ( 1 + np.exp( y[i] * np.dot(self._X[i], w.T)))\n",
    "\n",
    "        return grad\n",
    "    \n",
    "    def stochastic_gradint(self):\n",
    "        w = self._w\n",
    "        for i in range(self._iter_num):\n",
    "            j = np.random.randint(0, self._X.shape[0])\n",
    "\n",
    "            alpha = self._grad_step #/ np.sqrt(np.sqrt(i  + 1))\n",
    "            grad_step = alpha * self.logistic_grad(w, j)\n",
    "            if np.linalg.norm(grad_step) < self._tolerance:\n",
    "                break\n",
    "                \n",
    "            w = w - grad_step\n",
    "                \n",
    "            if i % self._handle_step == 0:\n",
    "                self.handle_coef(w)\n",
    "                \n",
    "        self.handle_coef(w)\n",
    "                \n",
    "    def set_coef(self):\n",
    "        np.random.seed(self._seed)\n",
    "        # TODO SMART FEATURES\n",
    "        self._w = np.random.normal(scale=0.001, size = (1, self._X.shape[1]))\n",
    "    \n",
    "    def normolize(self, X):\n",
    "        assert(self._scalar is not None)\n",
    "        return self._scalar.transform(X)\n",
    "        \n",
    "    def loss_function(self, y_count, y_real):\n",
    "        y_count = np.clip(y_count, self._eps, 1 - self._eps)\n",
    "        return -np.mean(y_real * np.log(y_count) + (1-y_real) * np.log(1-y_count))\n",
    "    \n",
    "    def acc_function(self, y_count, y_real):\n",
    "        return np.mean(y_count==y_real)\n",
    "    \n",
    "    def handle_coef(self, w):\n",
    "        assert(self._loss is not None)\n",
    "        assert(self._acc is not None)\n",
    "        self._w = w\n",
    "        \n",
    "        X_list = [self._X, self._X_test]\n",
    "        y_list = [self._y, self._y_test]\n",
    "        \n",
    "        for i in range(2):\n",
    "            proba = self.predict_proba(X_list[i], is_normolized=True)\n",
    "            classes = proba > .5\n",
    "            y = y_list[i]\n",
    "            self._loss[i].append(self.loss_function(proba, y))\n",
    "            self._acc[i].append(self.acc_function(classes, y))\n",
    "        \n",
    "    def fit(self, X, y):\n",
    "        self._X, self._X_test, \\\n",
    "            self._y, self._y_test = model_selection.train_test_split(X, y,\n",
    "                                                                    test_size=0.2,\n",
    "                                                                    random_state=42)\n",
    "        self._scalar = StandardScaler().fit(self._X)\n",
    "        self._X = self.normolize(self._X)\n",
    "        self._X_test = self.normolize(self._X_test)\n",
    "        \n",
    "        self._y_test = self._y_test.reshape((-1, 1))\n",
    "        self._y = self._y.reshape((-1, 1))\n",
    "        self.set_coef()\n",
    "        self.stochastic_gradint()\n",
    "        \n",
    "        return self._loss[0], self._acc[0], self._loss[1], self._acc[1]\n",
    "        \n",
    "    def predict_proba(self, X, is_normolized=False):\n",
    "        if not is_normolized:\n",
    "            X = self.normolize(X)\n",
    "        p = (1. / (1. + np.exp(-np.dot(X, self._w.T))))\n",
    "        return p\n",
    "    \n",
    "    def predict(self, X, threshold=0.5, is_normolized=False):\n",
    "        p = self.predict_proba(X, is_normolized)\n",
    "        \n",
    "        return p >= threshold"
   ]
  },
  {
   "cell_type": "code",
   "execution_count": 226,
   "metadata": {},
   "outputs": [],
   "source": [
    "X = train['data']\n",
    "y = np.where(train['labels'] == 6, 1, 0)\n",
    "args = {'iter_num' : 150000,  'handle_step' : 100, 'grad_step' : 0.0001}"
   ]
  },
  {
   "cell_type": "code",
   "execution_count": 227,
   "metadata": {},
   "outputs": [
    {
     "name": "stderr",
     "output_type": "stream",
     "text": [
      "/home/alex-kozinov/anaconda3/lib/python3.6/site-packages/sklearn/utils/validation.py:475: DataConversionWarning: Data with input dtype uint8 was converted to float64 by StandardScaler.\n",
      "  warnings.warn(msg, DataConversionWarning)\n"
     ]
    },
    {
     "name": "stdout",
     "output_type": "stream",
     "text": [
      "LOSS:\t0.043445 \n",
      "ACC:\t0.985500\n"
     ]
    }
   ],
   "source": [
    "sr = LogisticRegression(**args)\n",
    "\n",
    "train_loss, train_acc, test_loss, test_acc = sr.fit(X, y)\n",
    "print(\"LOSS:\\t%f\" % test_loss[-1],\n",
    "      \"\\nACC:\\t%f\" % test_acc[-1])"
   ]
  },
  {
   "cell_type": "markdown",
   "metadata": {},
   "source": [
    "# Оцениваем результат"
   ]
  },
  {
   "cell_type": "markdown",
   "metadata": {},
   "source": [
    "Обязательно отрисуйте 2 графика:\n",
    "- loss на обучающем и тестовом множесте\n",
    "- % правильно классифицированных примеров на тестовом и обучающем множестве"
   ]
  },
  {
   "cell_type": "code",
   "execution_count": 228,
   "metadata": {},
   "outputs": [
    {
     "data": {
      "image/png": "[encoded data removed]",
      "text/plain": [
       "<matplotlib.figure.Figure at 0x7f9ab5b835f8>"
      ]
     },
     "metadata": {},
     "output_type": "display_data"
    }
   ],
   "source": [
    "grid = np.arange(0, args['iter_num'] + args['handle_step'], args['handle_step'])\n",
    "\n",
    "\n",
    "plt.figure(figsize=(13, 7))\n",
    "plt.title('Train and Test losses')\n",
    "plt.xlabel('Nomber of iteration of stochastic gradient descent', fontsize=17)\n",
    "plt.ylabel('Loss', fontsize=17)\n",
    "plt.ylim(0, 0.2)\n",
    "\n",
    "plt.plot(grid, train_loss, label='train')\n",
    "plt.plot(grid, test_loss, label='test')\n",
    "plt.legend(fontsize=17)\n",
    "plt.show()"
   ]
  },
  {
   "cell_type": "code",
   "execution_count": 224,
   "metadata": {},
   "outputs": [
    {
     "data": {
      "image/png": "[encoded data removed]",
      "text/plain": [
       "<matplotlib.figure.Figure at 0x7f9aa93b3240>"
      ]
     },
     "metadata": {},
     "output_type": "display_data"
    }
   ],
   "source": [
    "plt.figure(figsize=(13, 7))\n",
    "plt.title('Train and Test access number')\n",
    "plt.xlabel('Nomber of iteration of stochastic gradient descent', fontsize=17)\n",
    "plt.ylabel('Сorrect predictions', fontsize=17)\n",
    "plt.ylim(0.90, 1)\n",
    "\n",
    "plt.plot(grid, train_acc, label='train')\n",
    "plt.plot(grid, test_acc, label='test')\n",
    "plt.legend(fontsize=17)\n",
    "plt.show()"
   ]
  },
  {
   "cell_type": "markdown",
   "metadata": {},
   "source": [
    "# Сохраняем данные для кагла"
   ]
  },
  {
   "cell_type": "markdown",
   "metadata": {},
   "source": [
    "https://www.kaggle.com/t/513ea517806348848dc78c4f41d44528"
   ]
  },
  {
   "cell_type": "markdown",
   "metadata": {},
   "source": [
    "Результат записывается в простой текстовый файл. Первая строчка \"Id,Prediction\", далее для каждого примера из валидационного множества записывается его Id (порядковый номер, с нуля) и вероятность принадлежности к классу '6', например '123,0.12'.\n",
    "\n",
    "Важно соблюдать тот же порядок следования элементов, что и в наборе данных. Нумерация id с 0"
   ]
  },
  {
   "cell_type": "code",
   "execution_count": 209,
   "metadata": {},
   "outputs": [
    {
     "name": "stderr",
     "output_type": "stream",
     "text": [
      "/home/alex-kozinov/anaconda3/lib/python3.6/site-packages/sklearn/utils/validation.py:475: DataConversionWarning: Data with input dtype uint8 was converted to float64 by StandardScaler.\n",
      "  warnings.warn(msg, DataConversionWarning)\n"
     ]
    },
    {
     "data": {
      "text/plain": [
       "(3189, 1)"
      ]
     },
     "execution_count": 209,
     "metadata": {},
     "output_type": "execute_result"
    }
   ],
   "source": [
    "X = test_no_lables['data']\n",
    "\n",
    "Y_pred = sr.predict_proba(X)\n",
    "Y_pred.shape"
   ]
  },
  {
   "cell_type": "code",
   "execution_count": 210,
   "metadata": {},
   "outputs": [
    {
     "name": "stderr",
     "output_type": "stream",
     "text": [
      "/home/alex-kozinov/anaconda3/lib/python3.6/site-packages/sklearn/utils/validation.py:475: DataConversionWarning: Data with input dtype uint8 was converted to float64 by StandardScaler.\n",
      "  warnings.warn(msg, DataConversionWarning)\n"
     ]
    }
   ],
   "source": [
    "X = test_no_lables['data']\n",
    "\n",
    "Y_pred = sr.predict_proba(X)\n",
    "\n",
    "with open('solution.csv', 'w') as fout:\n",
    "    print(\"Id,Prediction\", file=fout)\n",
    "    for i in range(len(test_no_lables['data'])):\n",
    "        print(i, Y_pred[i][0], sep=',', file=fout)"
   ]
  },
  {
   "cell_type": "markdown",
   "metadata": {},
   "source": [
    "# Сдача"
   ]
  },
  {
   "cell_type": "markdown",
   "metadata": {},
   "source": [
    "1. Регистрируетесь на конкурс https://www.kaggle.com/t/34e77301ef914c5792e4f4306144a6b3 \n",
    "1. Преодолеваете \"Pass level\" baseline\n",
    "1. После того, как вы преодолеете baseline, присылайте ноутбук с решение по адресу **voropaev@corp.mail.ru**\n",
    "\n",
    "# Внимание\n",
    "- Тему письма писать в формате \"[МФТИ][1] Фамилия\"\n",
    "- Внутри писма прикрепляете файл ноутбука с именем <ваша фамилия>.ipynb"
   ]
  }
 ],
 "metadata": {
  "kernelspec": {
   "display_name": "Python 3",
   "language": "python",
   "name": "python3"
  },
  "language_info": {
   "codemirror_mode": {
    "name": "ipython",
    "version": 3
   },
   "file_extension": ".py",
   "mimetype": "text/x-python",
   "name": "python",
   "nbconvert_exporter": "python",
   "pygments_lexer": "ipython3",
   "version": "3.6.4"
  }
 },
 "nbformat": 4,
 "nbformat_minor": 2
}
